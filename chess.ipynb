{
 "cells": [
  {
   "cell_type": "code",
   "execution_count": 14,
   "metadata": {
    "collapsed": true
   },
   "outputs": [],
   "source": [
    "using JuMP, NamedArrays"
   ]
  },
  {
   "cell_type": "markdown",
   "metadata": {},
   "source": [
    "## Stage 1"
   ]
  },
  {
   "cell_type": "markdown",
   "metadata": {},
   "source": [
    "#### Wining probability function"
   ]
  },
  {
   "cell_type": "code",
   "execution_count": 34,
   "metadata": {
    "collapsed": false
   },
   "outputs": [
    {
     "name": "stderr",
     "output_type": "stream",
     "text": [
      "WARNING: Method definition wp(Any, Any, Any) in module Main at In[26]:2 overwritten at In[34]:2.\n"
     ]
    },
    {
     "data": {
      "text/plain": [
       "wp (generic function with 1 method)"
      ]
     },
     "execution_count": 34,
     "metadata": {},
     "output_type": "execute_result"
    }
   ],
   "source": [
    "function wp(x, y, idx)\n",
    "    if x > y \n",
    "        return 1\n",
    "    elseif x < y\n",
    "        return -1\n",
    "    else \n",
    "        return 0\n",
    "    end  \n",
    "end"
   ]
  },
  {
   "cell_type": "markdown",
   "metadata": {},
   "source": [
    "#### Case 1: no order, check who fights whom"
   ]
  },
  {
   "cell_type": "code",
   "execution_count": 29,
   "metadata": {
    "collapsed": false
   },
   "outputs": [],
   "source": [
    "size = 3\n",
    "team1 = [1.5 2.5 3.5]\n",
    "team2 = [1 2 3] # our team\n",
    ";"
   ]
  },
  {
   "cell_type": "code",
   "execution_count": 30,
   "metadata": {
    "collapsed": false
   },
   "outputs": [
    {
     "name": "stdout",
     "output_type": "stream",
     "text": [
      "Strategy: \n",
      "1.5 - 3\n",
      "2.5 - 1\n",
      "3.5 - 2\n",
      "Score: 1.0\n"
     ]
    }
   ],
   "source": [
    "m = Model()\n",
    "\n",
    "@variable(m, x[1:size, 1:size], Bin)\n",
    "\n",
    "@constraint(m, supply[k in 1:size], sum(x[k, j] for j=1:size) == 1)\n",
    "@constraint(m, demand[k in 1:size], sum(x[i, k] for i=1:size) == 1)\n",
    "\n",
    "@objective(m, Max, sum(x[i, j] * wp(team2[i], team1[j], 1) for i=1:size, j=1:size))\n",
    "                                    \n",
    "solve(m)\n",
    "xopt = getvalue(x)\n",
    "println(\"Strategy: \", )\n",
    "for i in 1:size\n",
    "    for j in 1:size\n",
    "        if xopt[i, j] != 0\n",
    "            println(team1[i], \" - \", team2[j])\n",
    "        end\n",
    "    end\n",
    "end\n",
    "println(\"Score: \", getobjectivevalue(m))"
   ]
  },
  {
   "cell_type": "markdown",
   "metadata": {},
   "source": [
    "#### Case 2: order matters - fix team 1's plan"
   ]
  },
  {
   "cell_type": "code",
   "execution_count": 43,
   "metadata": {
    "collapsed": false
   },
   "outputs": [
    {
     "name": "stderr",
     "output_type": "stream",
     "text": [
      "WARNING: Method definition wp_order(Any, Any, Any) in module Main at In[41]:3 overwritten at In[43]:3.\n"
     ]
    },
    {
     "data": {
      "text/plain": [
       "wp_order (generic function with 1 method)"
      ]
     },
     "execution_count": 43,
     "metadata": {},
     "output_type": "execute_result"
    }
   ],
   "source": [
    "function wp_order(a, b, idx)\n",
    "    # first move => +0.5\n",
    "    x = a\n",
    "    y = b\n",
    "    if idx % 2 == 1\n",
    "        x = a + 0.75\n",
    "    else \n",
    "        y = b + 0.75\n",
    "    end\n",
    "    if x > y \n",
    "        return 1\n",
    "    elseif x < y\n",
    "        return -1\n",
    "    else \n",
    "        return 0\n",
    "    end  \n",
    "end"
   ]
  },
  {
   "cell_type": "code",
   "execution_count": 44,
   "metadata": {
    "collapsed": false
   },
   "outputs": [],
   "source": [
    "size = 3\n",
    "team1 = [1.5 2.5 3.5]\n",
    "team2 = [1 2 3] # our team\n",
    "plan1 = [1 2 3] # fixed plan\n",
    ";"
   ]
  },
  {
   "cell_type": "code",
   "execution_count": 47,
   "metadata": {
    "collapsed": false
   },
   "outputs": [
    {
     "name": "stdout",
     "output_type": "stream",
     "text": [
      "Strategy: \n",
      "1.5 - 3\n",
      "2.5 - 2\n",
      "3.5 - 1\n",
      "Score: 1.0\n"
     ]
    }
   ],
   "source": [
    "m = Model()\n",
    "\n",
    "@variable(m, x[1:size, 1:size], Bin)\n",
    "\n",
    "@constraint(m, supply[k in 1:size], sum(x[k, j] for j=1:size) == 1)\n",
    "@constraint(m, demand[k in 1:size], sum(x[i, k] for i=1:size) == 1)\n",
    "\n",
    "@objective(m, Max, sum(x[i, j] * wp_order(team2[j], team1[plan1[i]], i + 1) for i=1:size, j=1:size))\n",
    "                                    \n",
    "solve(m)\n",
    "xopt = getvalue(x)\n",
    "println(\"Strategy: \", )\n",
    "for i in 1:size\n",
    "    for j in 1:size\n",
    "        if xopt[i, j] != 0\n",
    "            println(team1[i], \" - \", team2[j])\n",
    "        end\n",
    "    end\n",
    "end\n",
    "println(\"Score: \", getobjectivevalue(m))"
   ]
  },
  {
   "cell_type": "markdown",
   "metadata": {},
   "source": [
    "#### Probabilistic model"
   ]
  },
  {
   "cell_type": "code",
   "execution_count": 118,
   "metadata": {
    "collapsed": false
   },
   "outputs": [
    {
     "name": "stderr",
     "output_type": "stream",
     "text": [
      "WARNING: Method definition win_prob(Any, Any, Any) in module Main at In[67]:4 overwritten at In[118]:4.\n"
     ]
    },
    {
     "data": {
      "text/plain": [
       "win_prob (generic function with 1 method)"
      ]
     },
     "execution_count": 118,
     "metadata": {},
     "output_type": "execute_result"
    }
   ],
   "source": [
    "#the positional advantage and the ratings difference\n",
    "# higher elo, first move better\n",
    "function win_prob(a, b, idx)\n",
    "    first = 0.28\n",
    "    if idx % 2 == 1\n",
    "        x = a - b + 35\n",
    "    else\n",
    "        x = a - b - 35\n",
    "    end\n",
    "    return 1/(1 + 10^(-x/400)) \n",
    "end"
   ]
  },
  {
   "cell_type": "code",
   "execution_count": 119,
   "metadata": {
    "collapsed": false
   },
   "outputs": [
    {
     "name": "stderr",
     "output_type": "stream",
     "text": [
      "WARNING: Method definition score(Any, Any, Any) in module Main at In[68]:2 overwritten at In[119]:2.\n"
     ]
    },
    {
     "data": {
      "text/plain": [
       "score (generic function with 1 method)"
      ]
     },
     "execution_count": 119,
     "metadata": {},
     "output_type": "execute_result"
    }
   ],
   "source": [
    "function score(self, opp, idx)\n",
    "    prob = win_prob(self, opp, idx)\n",
    "    return prob\n",
    "end"
   ]
  },
  {
   "cell_type": "code",
   "execution_count": 120,
   "metadata": {
    "collapsed": true
   },
   "outputs": [],
   "source": [
    "# Russia vs USA\n",
    "size = 4\n",
    "team1 = [2808 2769 2754 2740]\n",
    "team2 = [2808 2789 2782 2674] # our team\n",
    "plan1 = [2 1 4 3] # fixed plan\n",
    ";"
   ]
  },
  {
   "cell_type": "code",
   "execution_count": 121,
   "metadata": {
    "collapsed": false
   },
   "outputs": [
    {
     "name": "stdout",
     "output_type": "stream",
     "text": [
      "1.9744377523957244\n"
     ]
    }
   ],
   "source": [
    "plan2 = team2\n",
    "size = 4\n",
    "result = sum(score(team2[i], team1[plan1[i]], i + 1) for i=1:size)\n",
    "println(result)"
   ]
  },
  {
   "cell_type": "code",
   "execution_count": 122,
   "metadata": {
    "collapsed": false
   },
   "outputs": [
    {
     "name": "stdout",
     "output_type": "stream",
     "text": [
      "Strategy: \n",
      "2769 - 2674\n",
      "2808 - 2789\n",
      "2740 - 2808\n",
      "2754 - 2782\n",
      "Score: 1.9812246886886204\n"
     ]
    }
   ],
   "source": [
    "m = Model()\n",
    "\n",
    "@variable(m, x[1:size, 1:size], Bin)\n",
    "\n",
    "@constraint(m, supply[k in 1:size], sum(x[k, j] for j=1:size) == 1)\n",
    "@constraint(m, demand[k in 1:size], sum(x[i, k] for i=1:size) == 1)\n",
    "\n",
    "@objective(m, Max, sum(x[i, j] * score(team2[j], team1[plan1[i]], i + 1) for i=1:size, j=1:size))\n",
    "                                    \n",
    "solve(m)\n",
    "xopt = getvalue(x)\n",
    "println(\"Strategy: \", )\n",
    "for i in 1:size\n",
    "    for j in 1:size\n",
    "        if xopt[i, j] != 0\n",
    "            println(team1[plan1[i]], \" - \", team2[j])\n",
    "        end\n",
    "    end\n",
    "end\n",
    "println(\"Score: \", getobjectivevalue(m))"
   ]
  },
  {
   "cell_type": "markdown",
   "metadata": {},
   "source": [
    "## Stage 2 - Nash equilibrium"
   ]
  },
  {
   "cell_type": "markdown",
   "metadata": {},
   "source": [
    "Data - 2 fingers Morra"
   ]
  },
  {
   "cell_type": "code",
   "execution_count": 111,
   "metadata": {
    "collapsed": false
   },
   "outputs": [
    {
     "data": {
      "text/plain": [
       "2×2 Array{Int64,2}:\n",
       " -2   3\n",
       "  3  -4"
      ]
     },
     "execution_count": 111,
     "metadata": {},
     "output_type": "execute_result"
    }
   ],
   "source": [
    "size = 2\n",
    "# calculate matrix incidences (max of mine is min of theirs or zero-sum game)\n",
    "myProb = [2 -3; -3 4]\n",
    "oppProb = [-2 3; 3 -4]"
   ]
  },
  {
   "cell_type": "markdown",
   "metadata": {},
   "source": [
    "Model"
   ]
  },
  {
   "cell_type": "code",
   "execution_count": 113,
   "metadata": {
    "collapsed": false
   },
   "outputs": [
    {
     "name": "stdout",
     "output_type": "stream",
     "text": [
      "Max t\n",
      "Subject to\n",
      " p[1] + p[2] = 1\n",
      " 2 p[1] - 3 p[2] - t ≥ 0\n",
      " -3 p[1] + 4 p[2] - t ≥ 0\n",
      " 0 ≤ p[i] ≤ 1 ∀ i ∈ {1,2}\n",
      " t free\n",
      "\n",
      "Strategy: [0.583333,0.416667]\n",
      "E Score - Mine: -0.08333333333333359\n"
     ]
    }
   ],
   "source": [
    "# Our strategy P\n",
    "m = Model()\n",
    "\n",
    "@variable(m, 1>= p[1:size] >=0)\n",
    "@variable(m, t)\n",
    "\n",
    "@constraint(m, sum(p) == 1)\n",
    "@constraint(m, min_con[k in 1:size], sum(p[i] * myProb[i, k] for i=1:size) >= t)\n",
    "# Max min (g1, g2, ..., gn)\n",
    "@objective(m, Max, t)\n",
    "\n",
    "println(m)\n",
    "solve(m)\n",
    "\n",
    "popt = getvalue(p)\n",
    "println(\"Strategy: \", popt)\n",
    "println(\"E Score - Mine: \", getobjectivevalue(m))"
   ]
  },
  {
   "cell_type": "code",
   "execution_count": 114,
   "metadata": {
    "collapsed": false
   },
   "outputs": [
    {
     "name": "stdout",
     "output_type": "stream",
     "text": [
      "Max t\n",
      "Subject to\n",
      " p[1] + p[2] = 1\n",
      " -2 p[1] + 3 p[2] - t ≥ 0\n",
      " 3 p[1] - 4 p[2] - t ≥ 0\n",
      " 0 ≤ p[i] ≤ 1 ∀ i ∈ {1,2}\n",
      " t free\n",
      "\n",
      "Strategy: [0.583333,0.416667]\n",
      "O Score - theirs: 0.08333333333333359\n"
     ]
    }
   ],
   "source": [
    "# Oppponents's strategy Q\n",
    "m = Model()\n",
    "\n",
    "@variable(m, 1>= p[1:size] >=0)\n",
    "@variable(m, t)\n",
    "\n",
    "@constraint(m, sum(p) == 1)\n",
    "@constraint(m, min_con[k in 1:size], sum(p[i] * oppProb[i, k] for i=1:size) >= t)\n",
    "# Max min (g1, g2, ..., gn)\n",
    "@objective(m, Max, t)\n",
    "\n",
    "println(m)\n",
    "solve(m)\n",
    "\n",
    "popt = getvalue(p)\n",
    "println(\"Strategy: \", popt)\n",
    "println(\"O Score - theirs: \", getobjectivevalue(m))"
   ]
  },
  {
   "cell_type": "markdown",
   "metadata": {},
   "source": [
    "### Chess match"
   ]
  },
  {
   "cell_type": "code",
   "execution_count": 115,
   "metadata": {
    "collapsed": false
   },
   "outputs": [
    {
     "name": "stderr",
     "output_type": "stream",
     "text": [
      "WARNING: Method definition match_score(Any, Any, Any) in module Main at In[90]:2 overwritten at In[115]:2.\n"
     ]
    },
    {
     "data": {
      "text/plain": [
       "match_score (generic function with 1 method)"
      ]
     },
     "execution_count": 115,
     "metadata": {},
     "output_type": "execute_result"
    }
   ],
   "source": [
    "function match_score(myPlan, oppPlan, white)\n",
    "    length = size\n",
    "    return sum(score(team2[myPlan[i]], team1[oppPlan[i]], i + 1) for i=1:length)\n",
    "end"
   ]
  },
  {
   "cell_type": "markdown",
   "metadata": {},
   "source": [
    "#### Generate matrix"
   ]
  },
  {
   "cell_type": "code",
   "execution_count": 116,
   "metadata": {
    "collapsed": true
   },
   "outputs": [],
   "source": [
    "# one is enough!! No of games - 1's score = 2's score\n",
    "\n"
   ]
  },
  {
   "cell_type": "code",
   "execution_count": null,
   "metadata": {
    "collapsed": true
   },
   "outputs": [],
   "source": []
  }
 ],
 "metadata": {
  "kernelspec": {
   "display_name": "Julia 0.5.0",
   "language": "julia",
   "name": "julia-0.5"
  },
  "language_info": {
   "file_extension": ".jl",
   "mimetype": "application/julia",
   "name": "julia",
   "version": "0.5.0"
  }
 },
 "nbformat": 4,
 "nbformat_minor": 2
}
