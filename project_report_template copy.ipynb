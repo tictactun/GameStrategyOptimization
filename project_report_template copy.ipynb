{
 "cells": [
  {
   "cell_type": "markdown",
   "metadata": {},
   "source": [
    "$$\n",
    "\\begin{aligned}\n",
    "\\underset{\\Large{\\text{L.Lessard, Spring 2017}}}{\\large{\\text{Introduction to Optimization CS 524}}} \\\\\n",
    "\\end{aligned}\n",
    "$$\n",
    "\n",
    "$$\n",
    "\\begin{aligned}\n",
    "\\underset{\\Large{\\text{Due date: 11:00pm on Monday May 8, 2017}}}{\\Large{\\text{Determining Winning Strategies Using Game Theoretic Optimization}}} \\\\\n",
    "\\end{aligned}\n",
    "$$\n",
    "\n",
    "$$\n",
    "\\begin{aligned}\n",
    "\\underset{\\large{\\text{tuandinh@cs.wisc.edu}}}{\\large{\\text{Tuan Dinh}}} && \\underset{\\large{\\text{varun@cs.wisc.edu}}}{\\large{\\text{Varun Sah}}} \\\\\n",
    "\\end{aligned}\n",
    "$$\n",
    "\n",
    "*****\n",
    "\n",
    "<center> <h3>CS/ECE/ISyE 524 &mdash; Introduction to Optimization &mdash; Spring 2017 </h3> </center>\n",
    "\n",
    "<center> <h1>Determining Winning Strategies Using Game Theoretic Optimization</h1> </center>\n",
    "\n",
    "<center> <h4>Tuan Dinh (tuandinh@cs.wisc.edu) &mdash; Varun Sah (varun@cs.wisc.edu)</h4> </center>\n",
    "\n",
    "*****\n",
    "\n",
    "### Table of Contents\n",
    "\n",
    "1. [Introduction](#1.-Introduction)\n",
    "  1. [History and Background](#1.A.-History-and-Background)\n",
    "  1. [Jargon](#1.B.-Jargon)\n",
    "  1. [Outline](#1.C.-Outline)\n",
    "1. [The Chess Ecosystem](#2.-The-Chess-Ecosystem)\n",
    "  1. [Rules](#2.A.-Rules)\n",
    "  1. [Ranking and Scoring](#2.B.-Ranking-and-Scoring)\n",
    "  1. [Data](#2.C.-Data)\n",
    "1. [Naive Model](#3.-Naive-Model)\n",
    "  1. [Mathematical Model](#3.A.-Mathematical-model)\n",
    "  1. [Solution](#3.B.-Solution)\n",
    "  1. [Results and Discussion](#3.C.-Results-and-Discussion)\n",
    "1. [Maximin Model](#4.-Maximin-Model)\n",
    "  1. [Mathematical Model](#4.A.-Mathematical-model)\n",
    "  1. [Solution](#4.B.-Solution)\n",
    "  1. [Results and Discussion](#4.C.-Results-and-Discussion)\n",
    "1. [Nash Equilibrium Model](#5.-Nash-Equilibrium-Model)\n",
    "  1. [Mathematical Model](#5.A.-Mathematical-model)\n",
    "  1. [Solution](#5.B.-Solution)\n",
    "  1. [Results and Discussion](#5.C.-Results-and-Discussion)\n",
    "1. [Budget Trade-off Model](#6.-Budget-Trade-off-Model)\n",
    "  1. [Mathematical Model](#6.A.-Mathematical-model)\n",
    "  1. [Solution](#6.B.-Solution)\n",
    "  1. [Results and Discussion](#6.C.-Results-and-Discussion) \n",
    "1. [Results and Discussion](#7.-Results-and-Discussion)\n",
    "1. [Conclusion](#8.-Conclusion)\n",
    "1. [Appendix](#9.-Appendix)"
   ]
  },
  {
   "cell_type": "markdown",
   "metadata": {
    "collapsed": true
   },
   "source": [
    "## <center>1. Introduction</center> ##\n",
    "In team sports, strategy plays a vital role in determining which team emerges victorious since team clashes cannot always be won by relying on individual prowess alone. The importance of strategy gains even more significance when the sport involves a series of head-to-head individual games between team members like in the [Davis Cup](https://en.wikipedia.org/wiki/Davis_Cup), [Fed Cup](https://en.wikipedia.org/wiki/Fed_Cup) or the [Chess Olympiad](https://en.wikipedia.org/wiki/Chess_Olympiad) where a good match-up strategy (who plays whom) can lead to results that defy expectations. \n",
    "\n",
    "Our project aims to solve the problem of determining the best match-up strategy that a team should adopt to maximize chances of winning in a sequence of individual games. \n",
    "\n",
    "### 1.A. History and Background ###\n",
    "Historically, there have been several instances where team rubbers have been won purely on the basis of a match-up strategy (who plays whom), despite being at a disadvantage in terms of individual ability or expertise.\n",
    "<p>At the Chess Olympiad in 2014, the Indian contingent, despite being seeded $19^{th}$, managed to win the bronze medal in the tournament. According to experts, strategic planning was key to India's success, apart from great performances by the members of the team ([citation article](https://www.sportskeeda.com/chess/solid-play-strategic-planning-key-to-indias-success-at-chess-olympiad)). The Indian team had decided to adopt their success strategy of the Asian Nations Cup, fielding the strongest players at the lower boards and a mix of highly rated and lower-rated but solid players at the top two boards.\n",
    "</p>\n",
    "\n",
    "<p> The aforementioned example, along with other \n",
    "</p>\n",
    "\n",
    "### 1.B. Jargon ###\n",
    "Here, we define a set of technical terms that form the foundation of the concepts discussed in the report.\n",
    "<p><b>Rubber:</b> A rubber is a team contest consisting of a sequence of successive games that is won by the side that wins a majority of the individual games.\n",
    "</p>\n",
    "<p>\n",
    "<b>Strategy:</b> In game theory, a player's strategy is any of the options he or she can choose in a setting where the outcome depends not only on his own actions but on the action of others. A player's strategy will determine the action the player will take at any stage of the game. In the case of a team contest(rubber), we define a strategy as the assignment of each team member to a member of the opposition.\n",
    "</p>\n",
    "<p>\n",
    "<b>Pure Strategy:</b> A pure strategy is an unconditional, defined choice that a person makes in a situation or game. For example, in the game of Rock-Paper-Scissors,if a player would choose to only play scissors for each and every independent trial, regardless of the other player’s strategy, choosing scissors would be the player’s pure strategy. The probability for choosing scissors equal to 1 and all other options (paper and rock) is chosen with the probability of 0. The set of all options (i.e. rock, paper, and scissors) available in this game is known as the strategy set.\n",
    "In the case of a team contest like the Chess Olympiad, an example of a team's pure strategy would be to always assign players as illustrated in the following figure:\n",
    "</p>\n",
    "![mixed strategy][cb_1] \n",
    "![mixed strategy][cb_2] \n",
    "![mixed strategy][cb_3] \n",
    "![mixed strategy][cb_4] \n",
    "<p>\n",
    "<b>Mixed Strategy:</b> A mixed strategy is an assignment of a probability to each pure strategy. A mixed strategy is an assignment of probability to all choices in the strategy set. Using the example of Rock-Paper-Scissors, if a person’s probability of employing each pure strategy is equal, then the probability distribution of the strategy set would be 1/3 for each option, or approximately 33%. In other words, a person using a mixed strategy incorporates more than one pure strategy into a game. This allows for a player to randomly select a pure strategy. Since probabilities are continuous, there are infinitely many mixed strategies available to a player. A mixed strategy can simply be considered as the probability distribution one uses to randomly choose among available actions in order to avoid being predictable.\n",
    "\n",
    "Of course, one can regard a pure strategy as a degenerate case of a mixed strategy, in which that particular pure strategy is selected with probability 1 and every other strategy with probability 0.\n",
    "</p>\n",
    "![mixed strategy][cb_1] \n",
    "![mixed strategy][cb_2] \n",
    "![mixed strategy][cb_3] \n",
    "![mixed strategy][cb_4] \n",
    "<p>\n",
    "<b>Nash Equilibrium:</b>\n",
    "In game theory, the Nash equilibrium is a solution concept of a non-cooperative game involving two or more players in which each player is assumed to know the equilibrium strategies of the other players, and no player has anything to gain by changing only his or her own strategy.\n",
    "</p>\n",
    "\n",
    "### 1.C. Outline###\n",
    "<p>\n",
    "Our project attempts to use a combination of optimization and the aforementioned game theoretic concepts for determining the optimal match-up strategy for a team to maximize its probability of winning a rubber under a set of conditions that simulate a real world scenario. \n",
    "</p>\n",
    "<p>\n",
    "We go about this task by building a series of optimization models each more comprehensive than the previous one. We start with the simple case of designing a winning pure strategy when the opposition's strategy is known. We then remove the assumption of knowledge of opposition's strategy in the second model and replace it with the assumption of that the opposition team determines its strategy rationally. In the subsequent model, we relax the restriction to pure strategies. In this third model, we try to find the optimal mixed strategy from the perspective of both teams to determine if a Nash equilibrium exists. Finally, we add the complexity of determining a team's composition (from a set of available players) in addition to a team's strategy while having a budget trade-off in place.  \n",
    "</p>\n",
    "<p>\n",
    "Although we limit the discussion to clashes between Chess teams for the purpose of this project, the task at hand is extremely interesting because it is equally applicable to several other team sports such as tennis and boxing. The only prerequisite is the existence of an empirical or actual mathematical model to determine chances of winning individual matches or rounds for that sport. \n",
    "Moreover, the models developed within the project can also be used to develop strategies for online battle strategy games like Age of Empires and Clash of Clans as well as for determining squad composition and battle order in card and video games like Pokemon. \n",
    "</p>\n",
    "\n",
    "<!--The first few sentences should give a quick overview of the entire project. Then, elaborate with a description of the problem that will be solved, a brief history (with [citations](https://en.wikipedia.org/wiki/Citation)) of how the problem came about, why it's important/interesting, and any other interesting facts you'd like to talk about. You should address and explain where the problem data is coming from (research? the internet? synthetically generated?) Also give an outline of the rest of the report.\n",
    "\n",
    "This section should be 300-600 words long, and **should be accessible to a general audience** (don't assume your reader has taken the class!). Feel free to include images if you think it'll be helpful:\n",
    "\n",
    "For more help on using Markdown, see [this reference](https://github.com/adam-p/markdown-here/wiki/Markdown-Cheatsheet). -->\n",
    "\n",
    "[cb_1]: ./images/cb.jpg\n",
    "[cb_2]: ./images/cb_2.jpg\n",
    "[cb_3]: ./images/cb.jpg\n",
    "[cb_4]: ./images/cb_2.jpg\n",
    "[flow]: https://s-media-cache-ak0.pinimg.com/736x/f5/75/c5/f575c53b93724808c6f0211890a54900.jpg"
   ]
  },
  {
   "cell_type": "markdown",
   "metadata": {},
   "source": [
    "## <center>2. The Chess Ecosystem</center> ##\n",
    " \n",
    "### 2.A. Rules ###\n",
    "In tournaments like the [Chess Olympiad](https://en.wikipedia.org/wiki/Chess_Olympiad)) and the [World Team Chess Championship](https://en.wikipedia.org/wiki/World_Team_Chess_Championship), among others, each team clash (rubber) consists of 4 individual games.\n",
    "At the start of the first game, a coin toss determines which team gets the color white for that round. In each subsequent round, the color allocation alternates between the teams. This is done in order to eliminate the [first-move advantage](https://en.wikipedia.org/wiki/First-move_advantage_in_chess) described in the next section.  \n",
    "The winner of each game gets 1 point. Loser gets 0 and a draw results in both teams being allotted 0.5 points.\n"
   ]
  },
  {
   "cell_type": "markdown",
   "metadata": {},
   "source": [
    "### 2.B. Ranking and Scoring ###\n",
    "The [Elo rating system](https://en.wikipedia.org/wiki/Elo_rating_system) is a method for calculating the relative skill levels of players in competitor-versus-competitor games such as chess.\n",
    "\n",
    "We modeled the winning probability of a player based on the ELO rating of the player and his opponent. The model used was based on a [study](https://chessprogramming.wikispaces.com/Pawn+Advantage%2C+Win+Percentage%2C+and+ELO) by Sune Fischer and Pradu Kannan in Dec. 2007. Details of the model can be found here: [Elo-Rating & Win-Probability](https://chessprogramming.wikispaces.com/Match+Statistics)\n",
    "$score = \\frac{1}{1 + 10^{-\\frac{\\Delta}{400}}}$    \n",
    "\n",
    "The [first-move advantage](https://en.wikipedia.org/wiki/First-move_advantage_in_chess) in chess is the inherent advantage of the player (White) who makes the first move in chess. Chess players and theorists generally agree that White begins the game with some advantage. We have modeled this advantage by adding 35 to the Black side's player's ELO. [citation required]()  \n",
    "white = black + 35   (ELO)   \n",
    "\n",
    "\n",
    "Plus: weighted round: score of round k: $1 + \\frac{1}{100}(1 - \\frac{k}{N})$\n",
    "\n",
    "Game scoring: \n",
    "Team Match (Rubber) scoring:  "
   ]
  },
  {
   "cell_type": "code",
   "execution_count": 1,
   "metadata": {
    "collapsed": false
   },
   "outputs": [],
   "source": [
    "# naive score function; discrete points {0, 0.5, 1}; unrealistic \n",
    "function get_simple_score(player, opponent, order, round, elo)\n",
    "    x = elo[player] - elo[opponent] + 0.75 * (-1)^(order + 1)\n",
    "    if x > 0 \n",
    "        return 1\n",
    "    elseif x < 0\n",
    "        return 0\n",
    "    else \n",
    "        return 0.5\n",
    "    end  \n",
    "end;\n",
    "\n",
    "# expected score of a game (continuous); \n",
    "# each game identical; first-move advantage;\n",
    "function get_chess_score(player, opponent, order, round, elo)\n",
    "    x = elo[player] - elo[opponent] + 35*(-1)^(order + 1)\n",
    "    return 1/(1 + 10^(-x/400)) \n",
    "end;\n",
    "\n",
    "# expected score of a game; each game being distinct; first-move advantage;\n",
    "function get_chess_score2(player, opponent, order, round, elo)\n",
    "    x = elo[player] - elo[opponent] + 35*(-1)^(order % 2 + 1)      \n",
    "    return 1/(1 + 10^(-x/400)) * (1.01 - 0.01round/N_PLAYERS)\n",
    "end;\n",
    "\n",
    "# expected score of a game; \n",
    "# each game being distinct; selection from a pool of players \n",
    "function get_chess_score3(player, opponent, order, round, elo)\n",
    "    x = elo[player] - elo[opponent] + 35*(-1)^(order % 2 + 1)      \n",
    "    return 1/(1 + 10^(-x/400)) * (1.01 - 0.01round/N_POOL)\n",
    "end;\n",
    "\n",
    "# total expected score of match; each game ientical\n",
    "function get_match_score(team_player, team_opponent, order, elo)\n",
    "    sum(get_chess_score(team_player[i], team_opponent[i], \n",
    "            i + order + 1, elo) for i=1:length(team_player))\n",
    "end;\n",
    " \n",
    "# total expected score of match; each game distinct\n",
    "function get_match_score2(team_player, team_opponent, order, elo)\n",
    "    sum(get_chess_score2(team_player[i], team_opponent[i], \n",
    "            i + order + 1, i, elo) for i=1:length(team_player))\n",
    "end;"
   ]
  },
  {
   "cell_type": "markdown",
   "metadata": {},
   "source": [
    "### 2.C. Data ###\n",
    "\n"
   ]
  },
  {
   "cell_type": "code",
   "execution_count": 2,
   "metadata": {
    "collapsed": false
   },
   "outputs": [
    {
     "ename": "LoadError",
     "evalue": "ArgumentError: Module Images not found in current path.\nRun `Pkg.add(\"Images\")` to install the Images package.",
     "output_type": "error",
     "traceback": [
      "ArgumentError: Module Images not found in current path.\nRun `Pkg.add(\"Images\")` to install the Images package.",
      "",
      " in require(::Symbol) at ./loading.jl:365",
      " in require(::Symbol) at /Applications/Julia-0.5.app/Contents/Resources/julia/lib/julia/sys.dylib:?"
     ]
    }
   ],
   "source": [
    "# one is enough!! No of games - 1's score = 2's score\n",
    "#Pkg.add(\"Images\") # add images package if not already installed\n",
    "using JuMP, Clp, Cbc, NamedArrays, Images\n",
    "import Combinatorics\n",
    "elo = [2838, 2822, 2817, 2772, 2771, 2761, \n",
    "    2750, 2747, 2745, 2741, 2720, 2700, 2680]\n",
    "price = [1000, 950, 930, 900, 850, 700, 690, \n",
    "    650, 630, 600, 580, 570, 560] * 0.001 \n",
    "\n",
    "team_home = [2 4 7 8 11 12]\n",
    "team_visitor = [1 3 5 6 9 10]\n",
    "\n",
    "plan_visitor = [2 1 4 6 3 5] # fixed plan\n",
    "\n",
    "N_PLAYERS = 4\n",
    "N_CHOSEN = 4\n",
    "N_POOL = 10;"
   ]
  },
  {
   "cell_type": "code",
   "execution_count": 64,
   "metadata": {
    "collapsed": false
   },
   "outputs": [
    {
     "name": "stdout",
     "output_type": "stream",
     "text": [
      "Peter Svidler2755"
     ]
    }
   ],
   "source": [
    "raw = readcsv(\"./data/Chess.csv\")\n",
    "(m,n) = size(raw)\n",
    "\n",
    "players = raw[2:end, 2]\n",
    "elos = raw[2:end, 3]\n",
    "federations = raw[2:end, 6]\n",
    "worth = raw[2:end, 9] # in thousand dolaars\n",
    "num_players = length(players)\n",
    "\n",
    "player_elo = Dict(zip(players, elos))\n",
    "player_country = Dict(zip(players, federations))\n",
    "player_worth = Dict(zip(players, worth))\n",
    "\n",
    "player_pool_USA = []\n",
    "player_pool_Russia = []\n",
    "\n",
    "for i in 2: m\n",
    "    if raw[i, 6] == \"United States\"\n",
    "        push!(player_pool_USA, raw[i, 2])\n",
    "    elseif raw[i, 6] == \"Russia\"\n",
    "        push!(player_pool_Russia, raw[i, 2])\n",
    "    end\n",
    "end\n",
    "\n",
    "N_PLAYERS = 4\n",
    "team_USA = player_pool_USA[1:N_PLAYERS]\n",
    "team_Russia = player_pool_Russia[1:N_PLAYERS];\n",
    "\n",
    "print(team_Russia[3], player_elo[team_Russia[3]])\n",
    "\n",
    "# sticking to descending elo order\n",
    "plan_Russia = [1 2 3 4];\n",
    "pool = players;\n",
    "# N_POOL = length(pool)\n",
    "# N_CHOSEN = 4;"
   ]
  },
  {
   "cell_type": "markdown",
   "metadata": {},
   "source": [
    "## <center>3. Naive Model</center> ##\n",
    "\n",
    "We start by modelling the problem as a simple assignment problem.\n",
    "This model assumes the opposition's strategy is already fixed and known to the team a priori.\n",
    "\n",
    "### 3.A. Mathematical model ###\n",
    "This is a simple assignment problem  \n",
    "$Max \\sum_{i=1}^N\\sum_{j=1}^N x_{i,j} * score(a_i, b_j, j)$  \n",
    "s.t. \n",
    "- x: binary\n",
    "- $\\sum_{i=1}^{N}x_{i,k} = 1$  \n",
    "- $\\sum_{k=1}^{N}x_{i,k} = 1$ \n",
    "\n",
    "A discussion of the modeling assumptions made in the problem (e.g. is it from physics? economics? something else?). Explain the decision variables, the constraints, and the objective function. Finally, show the optimization problem written in standard form. Discuss the model type (LP, QP, MIP, etc.). Equations should be formatted in $\\LaTeX$ within the IJulia notebook.\n",
    "\n",
    "$$\n",
    "\\begin{aligned}\n",
    "\\underset{x \\in \\mathbb{R^n}}{\\text{maximize}}\\qquad& f_0(x) \\\\\n",
    "\\text{subject to:}\\qquad& f_i(x) \\le 0 && i=1,\\dots,m\\\\\n",
    "& h_j(x) = 0 && j=1,\\dots,r\n",
    "\\end{aligned}\n",
    "$$"
   ]
  },
  {
   "cell_type": "markdown",
   "metadata": {},
   "source": [
    "### 3.B. Solution ###"
   ]
  },
  {
   "cell_type": "code",
   "execution_count": 65,
   "metadata": {
    "collapsed": false
   },
   "outputs": [
    {
     "name": "stderr",
     "output_type": "stream",
     "text": [
      "WARNING: Method definition get_fixed_strategy(Any, Any, Any, Any, Any, Any) in module Main at In[50]:2 overwritten at In[65]:3.\n"
     ]
    }
   ],
   "source": [
    "function get_fixed_strategy(N_PLAYERS, team_home, \n",
    "        team_visitor, plan_visitor, get_score, elo)\n",
    "    simpleModel = Model(solver=CbcSolver())\n",
    "\n",
    "    @variable(simpleModel, x[1:N_PLAYERS, 1:N_PLAYERS], Bin)\n",
    "\n",
    "    @constraint(simpleModel, supply[k in 1:N_PLAYERS], \n",
    "                    sum(x[k, j] for j=1:N_PLAYERS) == 1)\n",
    "    @constraint(simpleModel, demand[k in 1:N_PLAYERS], \n",
    "                    sum(x[i, k] for i=1:N_PLAYERS) == 1)\n",
    "\n",
    "    @objective(simpleModel, Max, sum(x[i, k] * get_score(\n",
    "                team_home[i], team_visitor[plan_visitor[k]], k, k, elo) \n",
    "                for i=1:N_PLAYERS, k=1:N_PLAYERS))\n",
    "\n",
    "    solve(simpleModel)\n",
    "\n",
    "    xopt = getvalue(x)\n",
    "    \n",
    "    println(\"Strategy: \")\n",
    "    for k in 1:N_PLAYERS\n",
    "        for i in 1:N_PLAYERS\n",
    "            if xopt[i, k] != 0\n",
    "                @printf \"%20s (%d) vs (%d) %s\\n\" team_home[i] elo[team_home[i]] elo[team_visitor[plan_visitor[k]]] team_visitor[plan_visitor[k]]\n",
    "            end\n",
    "        end\n",
    "    end\n",
    "    println(\"Score: \", getobjectivevalue(simpleModel))\n",
    "end;"
   ]
  },
  {
   "cell_type": "markdown",
   "metadata": {},
   "source": [
    "### 3.C. Results and Discussion ###\n"
   ]
  },
  {
   "cell_type": "code",
   "execution_count": 66,
   "metadata": {
    "collapsed": false
   },
   "outputs": [
    {
     "name": "stdout",
     "output_type": "stream",
     "text": [
      "Strategy: \n",
      "  Alexander Onischuk (2685) vs (2811) Vladimir Kramnik\n",
      "           Wesley So (2815) vs (2783) Sergey Karjakin\n",
      "     Fabiano Caruana (2802) vs (2755) Peter Svidler\n",
      "     Hikaru Nakamura (2786) vs (2751) Ian Nepomniachtchi\n",
      "Score: 3.0\n"
     ]
    }
   ],
   "source": [
    "get_fixed_strategy(N_PLAYERS, \n",
    "    team_USA, team_Russia, plan_Russia, get_simple_score, player_elo);"
   ]
  },
  {
   "cell_type": "code",
   "execution_count": 6,
   "metadata": {
    "collapsed": false
   },
   "outputs": [
    {
     "name": "stdout",
     "output_type": "stream",
     "text": [
      "Strategy: \n",
      "Fabiano Caruana (2802)\t\t  vs.\tVladimir Kramnik (2811)\n",
      "Alexander Onischuk (2685)\t\t  vs.\tSergey Karjakin (2783)\n",
      "Hikaru Nakamura (2786)\t\t  vs.\tPeter Svidler (2755)\n",
      "Wesley So (2815)\t\t  vs.\tIan Nepomniachtchi (2751)\n",
      "Score: 1.990270019642662\n"
     ]
    }
   ],
   "source": [
    "get_fixed_strategy(N_PLAYERS, \n",
    "    team_USA, team_Russia, plan_Russia, get_chess_score, player_elo);"
   ]
  },
  {
   "cell_type": "code",
   "execution_count": 7,
   "metadata": {
    "collapsed": false
   },
   "outputs": [
    {
     "name": "stdout",
     "output_type": "stream",
     "text": [
      "Strategy: \n",
      "Wesley So (2815)\t\t  vs.\tVladimir Kramnik (2811)\n",
      "Alexander Onischuk (2685)\t\t  vs.\tSergey Karjakin (2783)\n",
      "Hikaru Nakamura (2786)\t\t  vs.\tPeter Svidler (2755)\n",
      "Fabiano Caruana (2802)\t\t  vs.\tIan Nepomniachtchi (2751)\n",
      "Score: 1.9974265169199144\n"
     ]
    }
   ],
   "source": [
    "get_fixed_strategy(N_PLAYERS, \n",
    "    team_USA, team_Russia,  plan_Russia, get_chess_score2, player_elo);"
   ]
  },
  {
   "cell_type": "markdown",
   "metadata": {},
   "source": [
    "We now relax the assumption of knowledge of opposition's strategy. "
   ]
  },
  {
   "cell_type": "markdown",
   "metadata": {},
   "source": [
    "## <center>4. Maximin Model</center> ##\n",
    "\n",
    "### 4.A. Mathematical model ###\n",
    "\n",
    "This is a 2-layer assignment problem: \n",
    "\n",
    "X site: $\\sum_{i=1}^{N}x_{i,k} = 1$ , $\\sum_{k=1}^{N}x_{i,k} = 1$    \n",
    "Y site: $\\sum_{j=1}^{N}y_{j,k} = 1$ , $\\sum_{k=1}^{N}y_{j,k} = 1$  \n",
    "\n",
    "$Max_x min_y f(x,y) = \\sum_{i=1}^N\\sum_{j=1}^N\\sum_{k=1}^N \n",
    "score(a_i, b_j, k) * x_{ik} * y_{jk}$   \n",
    "\n",
    "Solution:   \n",
    "(1) Consider an assignment of X as parameters of the function of y, f becomes:  \n",
    "$f(x) = min_y \\sum_{j=1}^N\\sum_{k=1}^N (\\sum_{i=1}^N \n",
    "score(a_i, b_j, k) * x_{ik}) * y_{jk}$  \n",
    "- $\\sum_{j=1}^{N}y_{j,k} = 1$ , $\\sum_{k=1}^{N}y_{j,k} = 1$ \n",
    "- $0 \\leq y \\leq 1$  \n",
    "\n",
    "The dual form of this is:  \n",
    "$Max_{p, q,r} \\sum_{j=1}^{N}{p_j} + \\sum_{k=1}^{N}{q_k} \n",
    "+ \\sum_{j=1}^{N}\\sum_{k=1}^{N}r_{jk}$  \n",
    "s.t.  \n",
    "- p, q: free  \n",
    "- $r_{jk} \\leq 0$  \n",
    "- $p_j + q_k + r_{jk} \\leq \\sum_{i=1}^N \n",
    "score(a_i, b_j, k) * x_{ik}$ for every j, k   \n",
    "\n",
    "Since this is a linear programing problem so that a strong duality always hold.    \n",
    "\n",
    "(2) Replace min function of y in f(x,y) with this dual form, we have the final model:  \n",
    "\n",
    "$Max_{x, p, q,r} \\sum_{j=1}^{N}{p_j} + \\sum_{k=1}^{N}{q_k} \n",
    "+ \\sum_{j=1}^{N}\\sum_{k=1}^{N}r_{jk}$   \n",
    "s.t.\n",
    "- $x_{ik}$: binary  for every i, k   \n",
    "- p, q: free  \n",
    "- $r_{jk} \\leq 0$ for every i, k   \n",
    "- $\\sum_{i=1}^{N}x_{i,k} = 1$ , $\\sum_{k=1}^{N}x_{i,k} = 1$  \n",
    "- $p_j + q_k + r_{jk} \\leq \\sum_{i=1}^N \n",
    "score(a_i, b_j, k) * x_{ik}$ for every j, k    \n",
    "\n"
   ]
  },
  {
   "cell_type": "markdown",
   "metadata": {},
   "source": [
    "### 4.B. Solution ###\n",
    "\n"
   ]
  },
  {
   "cell_type": "code",
   "execution_count": 57,
   "metadata": {
    "collapsed": false
   },
   "outputs": [
    {
     "name": "stderr",
     "output_type": "stream",
     "text": [
      "WARNING: Method definition get_team_pure_strategy_maximin(Any, Any, Any, Any, Any) in module Main at In[8]:2 overwritten at In[57]:3.\n",
      "WARNING: Method definition get_expected_opponent_pure_strategy_maximin(Any, Any, Any, Any, Any, Any) in module Main at In[8]:31 overwritten at In[57]:34.\n",
      "WARNING: Method definition print_pure_strategy(Any, Any, Any, Any, Any, Any) in module Main at In[8]:53 overwritten at In[57]:59.\n"
     ]
    }
   ],
   "source": [
    "function get_team_pure_strategy_maximin(N_PLAYERS, \n",
    "        team_home, team_visitor, get_score, elo)\n",
    "    nashModel = Model(solver=CbcSolver())\n",
    "\n",
    "    @variable(nashModel, x[1:N_PLAYERS, 1:N_PLAYERS], Bin)\n",
    "    @variable(nashModel, p[1:N_PLAYERS])\n",
    "    @variable(nashModel, q[1:N_PLAYERS])\n",
    "    @variable(nashModel, r[1:N_PLAYERS, 1:N_PLAYERS] <= 0)\n",
    "\n",
    "    @constraint(nashModel, supply[k in 1:N_PLAYERS], \n",
    "                    sum(x[k, j] for j=1:N_PLAYERS) == 1)\n",
    "    @constraint(nashModel, demand[k in 1:N_PLAYERS], \n",
    "                    sum(x[i, k] for i=1:N_PLAYERS) == 1)\n",
    "\n",
    "    @constraint(nashModel, mincons[j in 1:N_PLAYERS, k in 1:N_PLAYERS], \n",
    "        p[j] + q[k] + r[j, k] <= \n",
    "            sum(get_score(team_home[i], team_visitor[j], k, k, elo) * x[i, k] \n",
    "                                    for i=1:N_PLAYERS))\n",
    "\n",
    "    @objective(nashModel, Max, sum(p) + sum(q) + sum(r))        \n",
    "\n",
    "    solve(nashModel)\n",
    "\n",
    "    println(getobjectivevalue(nashModel))\n",
    "    xopt = getvalue(x)\n",
    "    solution_x = NamedArray(Int[xopt[i, k] for i=1:N_PLAYERS, k=1:N_PLAYERS])\n",
    "    println(solution_x)\n",
    "    get_expected_opponent_pure_strategy_maximin(N_PLAYERS, team_home, \n",
    "                                team_visitor, get_score, player_elo, xopt)\n",
    "end;\n",
    "\n",
    "function get_expected_opponent_pure_strategy_maximin(N_PLAYERS, \n",
    "                                team_home, team_visitor, get_score, elo, xopt)\n",
    "    ym = Model(solver=CbcSolver())\n",
    "\n",
    "    @variable(ym, y[1:N_PLAYERS, 1:N_PLAYERS], Bin)\n",
    "\n",
    "    @constraint(ym, supply[k in 1:N_PLAYERS], \n",
    "                                    sum(y[k, j] for j=1:N_PLAYERS) == 1)\n",
    "    @constraint(ym, demand[k in 1:N_PLAYERS], \n",
    "                                    sum(y[i, k] for i=1:N_PLAYERS) == 1)\n",
    "\n",
    "    @expression(ym, score, sum(get_score(team_home[i], \n",
    "                    team_visitor[j], k, k, elo) * xopt[i, k] * y[j, k] \n",
    "                    for i=1:N_PLAYERS, j in 1:N_PLAYERS, k in 1:N_PLAYERS))\n",
    "\n",
    "    @objective(ym, Min, score)\n",
    "\n",
    "    solve(ym)\n",
    "    println(getobjectivevalue(ym))\n",
    "    yopt = getvalue(y)\n",
    "    solution_y = NamedArray(Int[yopt[j, k] for j=1:N_PLAYERS, k=1:N_PLAYERS])\n",
    "    println(solution_y)\n",
    "    print_pure_strategy(N_PLAYERS, team_home, team_visitor, elo, xopt, yopt)\n",
    "end;\n",
    "                                    \n",
    "function print_pure_strategy(N_PLAYERS, \n",
    "                                team_home, team_visitor, elo, xopt, yopt)\n",
    "    println(\"Strategy: \")\n",
    "    for k in 1:N_PLAYERS # round\n",
    "        print(\"Round: \", k, \"\\t\" )\n",
    "        for i in 1:N_PLAYERS\n",
    "            if xopt[i, k] != 0\n",
    "                print(team_home[i], \" (\", elo[team_home[i]], \")\")\n",
    "            end\n",
    "        end\n",
    "        for j in 1:N_PLAYERS\n",
    "            if yopt[j, k] != 0\n",
    "                println(\"\\t\", \"\\t  vs.\\t\", \n",
    "                        team_visitor[j], \" (\",elo[team_visitor[j]], \")\")\n",
    "            end\n",
    "        end        \n",
    "    end\n",
    "end;"
   ]
  },
  {
   "cell_type": "markdown",
   "metadata": {},
   "source": [
    "Visitor (Minimax)"
   ]
  },
  {
   "cell_type": "code",
   "execution_count": 61,
   "metadata": {
    "collapsed": false
   },
   "outputs": [
    {
     "name": "stderr",
     "output_type": "stream",
     "text": [
      "WARNING: Method definition get_opponent_pure_strategy_minimax(Any, Any, Any, Any, Any) in module Main at In[58]:4 overwritten at In[61]:4.\n",
      "WARNING: Method definition get_expected_team_pure_strategy_minimax(Any, Any, Any, Any, Any, Any) in module Main at In[58]:35 overwritten at In[61]:35.\n"
     ]
    }
   ],
   "source": [
    "function get_opponent_pure_strategy_minimax(N_PLAYERS, team_home, \n",
    "        team_visitor, get_score, elo)\n",
    "    \n",
    "    nashModel = Model(solver=CbcSolver())\n",
    "\n",
    "    @variable(nashModel, y[1:N_PLAYERS, 1:N_PLAYERS], Bin)\n",
    "    @variable(nashModel, p[1:N_PLAYERS])\n",
    "    @variable(nashModel, q[1:N_PLAYERS])\n",
    "    @variable(nashModel, r[1:N_PLAYERS, 1:N_PLAYERS] >= 0)\n",
    "\n",
    "    @constraint(nashModel, supply[k in 1:N_PLAYERS], \n",
    "                    sum(y[k, j] for j=1:N_PLAYERS) == 1)\n",
    "    @constraint(nashModel, demand[k in 1:N_PLAYERS], \n",
    "                    sum(y[i, k] for i=1:N_PLAYERS) == 1)\n",
    "\n",
    "    @constraint(nashModel, mincons[i in 1:N_PLAYERS, k in 1:N_PLAYERS], \n",
    "        p[i] + q[k] + r[i, k] >= \n",
    "            sum(get_score(team_home[i], team_visitor[j], k, k, elo) * y[j, k] \n",
    "                                    for j=1:N_PLAYERS))\n",
    "\n",
    "    @objective(nashModel, Min, sum(p) + sum(q) + sum(r))        \n",
    "\n",
    "    solve(nashModel)\n",
    "\n",
    "    println(getobjectivevalue(nashModel))\n",
    "    yopt = getvalue(y)\n",
    "    solution_y = NamedArray([yopt[j, k] for j=1:N_PLAYERS, k=1:N_PLAYERS])\n",
    "    println(solution_y)\n",
    "    get_expected_team_pure_strategy_minimax(N_PLAYERS, \n",
    "                        team_home, team_visitor, get_score, player_elo, yopt)\n",
    "end;\n",
    "                                    \n",
    "function get_expected_team_pure_strategy_minimax(N_PLAYERS, \n",
    "                                team_home, team_visitor, get_score, elo, yopt)\n",
    "    xm = Model(solver=CbcSolver())\n",
    "\n",
    "    @variable(xm, x[1:N_PLAYERS, 1:N_PLAYERS], Bin)\n",
    "\n",
    "    @constraint(xm, supply[k in 1:N_PLAYERS], \n",
    "                                    sum(x[k, j] for j=1:N_PLAYERS) == 1)\n",
    "    @constraint(xm, demand[k in 1:N_PLAYERS], \n",
    "                                    sum(x[i, k] for i=1:N_PLAYERS) == 1)\n",
    "\n",
    "    @expression(xm, score, sum(get_score(team_home[i], \n",
    "                    team_visitor[j], k, k, elo) * yopt[j, k] * x[i, k] \n",
    "                    for i=1:N_PLAYERS, j in 1:N_PLAYERS, k in 1:N_PLAYERS))\n",
    "\n",
    "    @objective(xm, Max, score)\n",
    "\n",
    "    solve(xm)\n",
    "    println(getobjectivevalue(xm))\n",
    "    xopt = getvalue(x)\n",
    "    solution_x = NamedArray(Int[xopt[i, k] for i=1:N_PLAYERS, k=1:N_PLAYERS])\n",
    "    println(solution_x)\n",
    "    print_pure_strategy(N_PLAYERS, team_home, team_visitor, elo, xopt, yopt)\n",
    "end;"
   ]
  },
  {
   "cell_type": "markdown",
   "metadata": {},
   "source": [
    "\n",
    "### 4.C. Results and Discussion ###"
   ]
  },
  {
   "cell_type": "code",
   "execution_count": 59,
   "metadata": {
    "collapsed": false
   },
   "outputs": [
    {
     "name": "stdout",
     "output_type": "stream",
     "text": [
      "1.9927314745883487\n",
      "4×4 Named Array{Int64,2}\n",
      "A ╲ B │ 1  2  3  4\n",
      "──────┼───────────\n",
      "1     │ 0  1  0  0\n",
      "2     │ 1  0  0  0\n",
      "3     │ 0  0  1  0\n",
      "4     │ 0  0  0  1\n",
      "1.9927314745883484\n",
      "4×4 Named Array{Int64,2}\n",
      "A ╲ B │ 1  2  3  4\n",
      "──────┼───────────\n",
      "1     │ 0  1  0  0\n",
      "2     │ 0  0  1  0\n",
      "3     │ 1  0  0  0\n",
      "4     │ 0  0  0  1\n",
      "Strategy: \n",
      "Round: 1\tFabiano Caruana (2802)\t\t  vs.\tPeter Svidler (2755)\n",
      "Round: 2\tWesley So (2815)\t\t  vs.\tVladimir Kramnik (2811)\n",
      "Round: 3\tHikaru Nakamura (2786)\t\t  vs.\tSergey Karjakin (2783)\n",
      "Round: 4\tAlexander Onischuk (2685)\t\t  vs.\tIan Nepomniachtchi (2751)\n"
     ]
    }
   ],
   "source": [
    "get_team_pure_strategy_maximin(N_PLAYERS, \n",
    "    team_USA, team_Russia, get_chess_score2, player_elo);"
   ]
  },
  {
   "cell_type": "code",
   "execution_count": 62,
   "metadata": {
    "collapsed": false
   },
   "outputs": [
    {
     "name": "stdout",
     "output_type": "stream",
     "text": [
      "1.9944383641261818\n",
      "4×4 Named Array{Float64,2}\n",
      "A ╲ B │   1    2    3    4\n",
      "──────┼───────────────────\n",
      "1     │ 1.0  0.0  0.0  0.0\n",
      "2     │ 0.0  0.0  1.0  0.0\n",
      "3     │ 0.0  1.0  0.0  0.0\n",
      "4     │ 0.0  0.0  0.0  1.0\n",
      "1.9944383641261816\n",
      "4×4 Named Array{Int64,2}\n",
      "A ╲ B │ 1  2  3  4\n",
      "──────┼───────────\n",
      "1     │ 0  1  0  0\n",
      "2     │ 1  0  0  0\n",
      "3     │ 0  0  1  0\n",
      "4     │ 0  0  0  1\n",
      "Strategy: \n",
      "Round: 1\tFabiano Caruana (2802)\t\t  vs.\tVladimir Kramnik (2811)\n",
      "Round: 2\tWesley So (2815)\t\t  vs.\tPeter Svidler (2755)\n",
      "Round: 3\tHikaru Nakamura (2786)\t\t  vs.\tSergey Karjakin (2783)\n",
      "Round: 4\tAlexander Onischuk (2685)\t\t  vs.\tIan Nepomniachtchi (2751)\n"
     ]
    }
   ],
   "source": [
    "get_opponent_pure_strategy_minimax(N_PLAYERS, \n",
    "    team_USA, team_Russia, get_chess_score2, player_elo);"
   ]
  },
  {
   "cell_type": "markdown",
   "metadata": {},
   "source": [
    "Since the Maximin (USA) and Minimax (Russia) optimal strategies have different optimal values, a pure Nash equilibrium does not exist. We now consider mixed strategies in an attempt to find a Nash Equilibrium."
   ]
  },
  {
   "cell_type": "markdown",
   "metadata": {},
   "source": [
    "## <center>5. Nash Equilibrium Model</center> ##\n",
    "  \n",
    "### 5.A. Mathematical model ###\n",
    "\n",
    "#### Primal \n",
    "$Max_p min_j {g_j}$  \n",
    "s.t. \n",
    "- $p_i \\geq 0$ with i=1,..,N!\n",
    "- $\\sum_{i=1}^{N!} p_i = 1$  \n",
    "- $g_j = \\sum_{i=1}^{N!} p_i * score(s_{i}^A, s_j^B)$ for j=1,..,M   \n",
    "\n",
    "Suppose the probability of $a_i$ playing at position k is $x_{ik}$ \n",
    "- they are independent with strategies of b\n",
    "- $\\sum_{i=1}^{N}x_{i,k} = 1$ , $\\sum_{k=1}^{N}x_{i,k} = 1$    \n",
    "\n",
    "Consider a strategy of B: $s_j^B = [b_{j1}, b_{j2}, ..., b_{jM}]$, we have:  \n",
    "- Total score that $b_{jk}$ contributes to $g_j$ is: \n",
    "$\\sum_{i=1}^N score(i, j, k) * x_{ik}$       \n",
    "\n",
    "This can be modeled as a relaxed assignment problem.  \n",
    "Similar to solution of pure strategy using dual form, we can model this as:    \n",
    "$Max_{x, p, q,r} \\sum_{j=1}^{N}{p_j} + \\sum_{k=1}^{N}{q_k} \n",
    "+ \\sum_{j=1}^{N}\\sum_{k=1}^{N}r_{jk}$   \n",
    "s.t.\n",
    "- $0 \\leq x_{ik} \\leq 1$ for every i, k  (c0) \n",
    "- p, q: free  \n",
    "- $r_{jk} \\leq 0$ for every j, k   \n",
    "- $\\sum_{i=1}^{N}x_{i,k} = 1$ (c1)   \n",
    "- $\\sum_{k=1}^{N}x_{i,k} = 1$ (c2)   \n",
    "- $p_j + q_k + r_{jk} \\leq \\sum_{i=1}^N \n",
    "score(i, j, k) * x_{ik}$ for every j, k (c3)  \n",
    "\n",
    "#### Dual\n",
    "Now, we find the dual form of the model above:   \n",
    "$Min_{a, b, c, e} \\sum_{i=1}^{N}{b_ji} + \\sum_{k=1}^{N}{c_k} \n",
    "+ \\sum_{i=1}^{N}\\sum_{k=1}^{N}e_{ik}$   \n",
    "s.t.\n",
    "- $0 \\leq a_{jk} \\leq 1$ for every j, k   (for c3)   \n",
    "- b, c: free (for c1 & c2)  \n",
    "- $e_{ik} \\geq 0$ for every i, k (for c0)\n",
    "- $\\sum_{j=1}^{N}a_{j,k} = 1$ , $\\sum_{k=1}^{N}a_{j,k} = 1$  \n",
    "- $b_i + c_k + e_{ik} \\geq \\sum_{j=1}^N \n",
    "score(i, j, k) * a_{jk}$ for every i, k \n",
    "\n",
    "This is exactly same as the primal form of the Minimax:  \n",
    "#### Primal form of Opponent (Minimax)  :    \n",
    "$Min_{y, p, q,r} \\sum_{i=1}^{N}{p_i} + \\sum_{k=1}^{N}{q_k} \n",
    "+ \\sum_{i=1}^{N}\\sum_{k=1}^{N}r_{ik}$   \n",
    "s.t.\n",
    "- $0 \\leq y_{jk} \\leq 1$ for every j, k   \n",
    "- p, q: free  \n",
    "- $r_{ik} \\geq 0$ for every i, k   \n",
    "- $\\sum_{j=1}^{N}y_{j,k} = 1$     \n",
    "- $\\sum_{k=1}^{N}y_{j,k} = 1$    \n",
    "- $p_i + q_k + r_{ik} \\geq \\sum_{j=1}^N \n",
    "score(i, j, k) * y_{jk}$ for every i, k   "
   ]
  },
  {
   "cell_type": "markdown",
   "metadata": {},
   "source": [
    "### 5.B. Solution ###"
   ]
  },
  {
   "cell_type": "code",
   "execution_count": 12,
   "metadata": {
    "collapsed": false
   },
   "outputs": [],
   "source": [
    "function get_MSNE(N_PLAYERS, team_home, team_visitor, get_score, elo)\n",
    "    nashModel = Model(solver=ClpSolver())\n",
    "\n",
    "    @variable(nashModel, 1 >= x[1:N_PLAYERS, 1:N_PLAYERS] >= 0)\n",
    "    @variable(nashModel, p[1:N_PLAYERS])\n",
    "    @variable(nashModel, q[1:N_PLAYERS])\n",
    "    @variable(nashModel, r[1:N_PLAYERS, 1:N_PLAYERS] <= 0)\n",
    "\n",
    "    @constraint(nashModel, supply[k in 1:N_PLAYERS], \n",
    "                    sum(x[k, j] for j=1:N_PLAYERS) == 1)\n",
    "    @constraint(nashModel, demand[k in 1:N_PLAYERS], \n",
    "                    sum(x[i, k] for i=1:N_PLAYERS) == 1)\n",
    "\n",
    "    @constraint(nashModel, mincons[j in 1:N_PLAYERS, k in 1:N_PLAYERS], \n",
    "        p[j] + q[k] + r[j, k] <= \n",
    "            sum(get_score(team_home[i], team_visitor[j], k, k, elo) \n",
    "                                    * x[i, k] for i=1:N_PLAYERS))\n",
    "\n",
    "    @objective(nashModel, Max, sum(p) + sum(q) + sum(r))        \n",
    "\n",
    "    solve(nashModel)\n",
    "\n",
    "    println(getobjectivevalue(nashModel))\n",
    "    xopt = getvalue(x)\n",
    "    solution_x = NamedArray([xopt[i, k] for i=1:N_PLAYERS, k=1:N_PLAYERS])\n",
    "    println(solution_x)\n",
    "end;"
   ]
  },
  {
   "cell_type": "code",
   "execution_count": 13,
   "metadata": {
    "collapsed": false
   },
   "outputs": [],
   "source": [
    "function get_MSNE_opponent(N_PLAYERS, team_home, team_visitor, get_score, elo)\n",
    "    nashModel = Model(solver=ClpSolver())\n",
    "\n",
    "    @variable(nashModel, 0 <= y[1:N_PLAYERS, 1:N_PLAYERS] <= 1)\n",
    "    @variable(nashModel, p[1:N_PLAYERS])\n",
    "    @variable(nashModel, q[1:N_PLAYERS])\n",
    "    @variable(nashModel, r[1:N_PLAYERS, 1:N_PLAYERS] >= 0) # change\n",
    "\n",
    "    @constraint(nashModel, supply[k in 1:N_PLAYERS], \n",
    "                    sum(y[k, j] for j=1:N_PLAYERS) == 1)\n",
    "    @constraint(nashModel, demand[k in 1:N_PLAYERS], \n",
    "                    sum(y[i, k] for i=1:N_PLAYERS) == 1)\n",
    "\n",
    "    @constraint(nashModel, maxcons[i in 1:N_PLAYERS, k in 1:N_PLAYERS],\n",
    "        p[i] + q[k] + r[i, k] >= \n",
    "            sum(get_score(team_home[i], team_visitor[j], k%2, k, elo) \n",
    "                                    * y[j, k] for j=1:N_PLAYERS))\n",
    "\n",
    "    @objective(nashModel, Min, sum(p) + sum(q) + sum(r))        \n",
    "\n",
    "    solve(nashModel)\n",
    "\n",
    "    println(getobjectivevalue(nashModel))\n",
    "    yopt = getvalue(y)\n",
    "    solution_y = NamedArray([yopt[j, k] for j=1:N_PLAYERS, k=1:N_PLAYERS])\n",
    "    println(solution_y)\n",
    "end;"
   ]
  },
  {
   "cell_type": "markdown",
   "metadata": {},
   "source": [
    "### 5.C. Results and Discussion ###"
   ]
  },
  {
   "cell_type": "code",
   "execution_count": 14,
   "metadata": {
    "collapsed": false
   },
   "outputs": [
    {
     "name": "stdout",
     "output_type": "stream",
     "text": [
      "1.994211025995414\n",
      "4×4 Named Array{Float64,2}\n",
      "A ╲ B │        1         2         3         4\n",
      "──────┼───────────────────────────────────────\n",
      "1     │      0.0  0.714061       0.0  0.285939\n",
      "2     │ 0.794595       0.0  0.205405       0.0\n",
      "3     │ 0.205405       0.0  0.794595       0.0\n",
      "4     │      0.0  0.285939       0.0  0.714061\n"
     ]
    }
   ],
   "source": [
    "get_MSNE(N_PLAYERS, team_USA, team_Russia, get_chess_score2, player_elo);"
   ]
  },
  {
   "cell_type": "code",
   "execution_count": 15,
   "metadata": {
    "collapsed": false
   },
   "outputs": [
    {
     "name": "stdout",
     "output_type": "stream",
     "text": [
      "1.9942110259954142\n",
      "4×4 Named Array{Float64,2}\n",
      "A ╲ B │        1         2         3         4\n",
      "──────┼───────────────────────────────────────\n",
      "1     │ 0.430404       0.0  0.569596       0.0\n",
      "2     │ 0.461659  0.107937  0.430404       0.0\n",
      "3     │ 0.107937  0.892063       0.0       0.0\n",
      "4     │      0.0       0.0       0.0       1.0\n"
     ]
    }
   ],
   "source": [
    "get_MSNE_opponent(N_PLAYERS, team_USA, team_Russia, get_chess_score2, player_elo);"
   ]
  },
  {
   "cell_type": "markdown",
   "metadata": {},
   "source": [
    "## <center>6. Budget Trade-off Model</center> ##\n",
    "\n",
    "### 6.A. Mathematical model ###\n",
    "We have nPool players, selecting nchosen players.   \n",
    "\n",
    "Since x is probability, we use a binary variable z to represent connections. \n",
    "\n",
    "- $z_i = 0 \\implies x_i = 0: \\sum_{k=1}^{N}y_{i,k} \\leq 1 - \\sum_{k=1}^{N}z_{i,k}$    \n",
    "- $z_i = 1 \\implies y_i = 0: \\sum_{k=1}^{N}x_{i,k} \\leq \\sum_{k=1}^{N}z_{i,k}$   \n",
    "\n",
    "The model becomes:   \n",
    "$Max_{x, z, p, q, r} \\sum_{j=1}^{N}{p_j} (1 - \\sum_{k=1}^{N}z_{j,k}) \n",
    "+ \\sum_{k=1}^{N}{q_k} \n",
    "+ \\sum_{j=1}^{N}\\sum_{k=1}^{N}r_{jk}$   \n",
    "s.t.\n",
    "- $0 \\leq x_{ik} \\leq 1$ for every i, k   \n",
    "- z: binary\n",
    "- q: free  \n",
    "- $p_{j} \\leq 0$ for every j    \n",
    "- $r_{jk} \\leq 0$ for every i, k \n",
    "- $\\sum_{i=1}^{N}x_{i,k} = 1$ , $\\sum_{k=1}^{N}x_{i,k} \\leq 1$ (loose => 0)    \n",
    "- $\\sum_{i=1}^{N}z_{i,k} = 1$ , $\\sum_{k=1}^{N}z_{i,k} \\leq 1$  \n",
    "- $\\sum_{k=1}^{N}x_{i,k} \\leq \\sum_{k=1}^{N}z_{i,k}$   \n",
    "- $p_j + q_k + r_{jk} \\leq \\sum_{i=1}^N \n",
    "score(a_i, b_j, k) * x_{ik}$ for every j, k    \n",
    "\n",
    "Using epigraph, we can convert quadratic objective into linear:   \n",
    "$Max \\sum_{j=1}^{N}{p_j} (1 - \\sum_{k=1}^{N}z_{j,k}) = Max \\sum_{j=1}^{N}{t_j}$\n",
    "- $t_j \\leq 0$   \n",
    "- $t_j \\geq -\\infty * (1 - \\sum_{k=1}^{N}z_{j,k})$   \n",
    "- $t_j \\leq p_j + \\infty * \\sum_{k=1}^{N}z_{j,k}$\n"
   ]
  },
  {
   "cell_type": "markdown",
   "metadata": {},
   "source": [
    "### 6.B. Solution ###"
   ]
  },
  {
   "cell_type": "code",
   "execution_count": 16,
   "metadata": {
    "collapsed": false
   },
   "outputs": [],
   "source": [
    "function select_from_pool_mixed(N_POOL, N_CHOSEN, get_score, elo)\n",
    "    inf = -1000\n",
    "    sup = 1000 #dangerous\n",
    "\n",
    "    xm = Model(solver=CbcSolver())\n",
    "\n",
    "    @variable(xm, 0 <= x[1:N_POOL, 1:N_CHOSEN] <= 1)\n",
    "    @variable(xm, z[1:N_POOL, 1:N_CHOSEN], Bin)\n",
    "    @variable(xm, p[1:N_POOL] <= 0) #dual corresponding to <= 1\n",
    "    @variable(xm, q[1:N_CHOSEN])\n",
    "    @variable(xm, r[1:N_POOL, 1:N_CHOSEN] <= 0)\n",
    "    @variable(xm, t[1:N_POOL] <= 0)\n",
    "\n",
    "    @constraint(xm, supply[i in 1:N_POOL], \n",
    "                    sum(z[i, k] for k=1:N_CHOSEN) <= 1)\n",
    "    @constraint(xm, demand[k in 1:N_CHOSEN], \n",
    "                    sum(z[i, k] for i=1:N_POOL) == 1)\n",
    "                            \n",
    "    @constraint(xm, supplyProb[i in 1:N_POOL], \n",
    "                                sum(x[i, k] for k=1:N_CHOSEN) <= 1)\n",
    "    @constraint(xm, demandProb[k in 1:N_CHOSEN], \n",
    "                                sum(x[i, k] for i=1:N_POOL) == 1)\n",
    "\n",
    "    # This is not correct for mixed since x is prob\n",
    "    # z = 0 => x = 0\n",
    "    @constraint(xm, node[i in 1:N_POOL], \n",
    "            sum(x[i, k] for k=1:N_CHOSEN) <= sum(z[i, k] for k=1:N_CHOSEN))\n",
    "                                                                    \n",
    "    @constraint(xm, icons[j in 1:N_POOL], t[j] >= \n",
    "                                (1 - sum(z[j, k] for k=1:N_CHOSEN))*inf)\n",
    "        \n",
    "    @constraint(xm, ucons[j in 1:N_POOL], t[j] <= \n",
    "                                p[j] + sup*sum(z[j, k] for k=1:N_CHOSEN))\n",
    "\n",
    "    @constraint(xm, mincons[j in 1:N_POOL, k in 1:N_CHOSEN], \n",
    "        p[j] + q[k] + r[j, k]  <= sum(get_score(i, j, k, k, elo) \n",
    "                                                    * x[i, k] for i=1:N_POOL))\n",
    "\n",
    "    @objective(xm, Max, sum(t) + sum(q) + sum(r))        \n",
    "\n",
    "    solve(xm)\n",
    "    println(getobjectivevalue(xm))\n",
    "    xopt = getvalue(x)                                                                                                         \n",
    "    solution_x = NamedArray([xopt[i, k] for i=1:N_POOL, k=1:N_CHOSEN])\n",
    "    println(solution_x)\n",
    "    return xopt\n",
    "end;"
   ]
  },
  {
   "cell_type": "code",
   "execution_count": 17,
   "metadata": {
    "collapsed": false
   },
   "outputs": [],
   "source": [
    "function select_with_budget_mixed(lambda, N_POOL, N_CHOSEN, get_score, elo)\n",
    "    inf = -1000\n",
    "    sup = 1000 #dangerous\n",
    "\n",
    "    xm = Model(solver=CbcSolver())\n",
    "\n",
    "    @variable(xm, 0 <= x[1:N_POOL, 1:N_CHOSEN] <= 1)\n",
    "    @variable(xm, z[1:N_POOL, 1:N_CHOSEN], Bin)\n",
    "    @variable(xm, p[1:N_POOL] <= 0) #dual corresponding to <= 1\n",
    "    @variable(xm, q[1:N_CHOSEN])\n",
    "    @variable(xm, r[1:N_POOL, 1:N_CHOSEN] <= 0)\n",
    "    @variable(xm, t[1:N_POOL] <= 0)\n",
    "\n",
    "    @constraint(xm, supply[i in 1:N_POOL], \n",
    "        sum(z[i, k] for k=1:N_CHOSEN) <= 1)\n",
    "    @constraint(xm, demand[k in 1:N_CHOSEN], \n",
    "                    sum(z[i, k] for i=1:N_POOL) == 1)\n",
    "                            \n",
    "    @constraint(xm, supplyProb[i in 1:N_POOL], \n",
    "                                sum(x[i, k] for k=1:N_CHOSEN) <= 1)\n",
    "    @constraint(xm, demandProb[k in 1:N_CHOSEN], \n",
    "                                sum(x[i, k] for i=1:N_POOL) == 1)\n",
    "\n",
    "    # This is not correct for mixed since x is prob\n",
    "    # z = 0 => x = 0\n",
    "    @constraint(xm, node[i in 1:N_POOL], \n",
    "            sum(x[i, k] for k=1:N_CHOSEN) <= sum(z[i, k] for k=1:N_CHOSEN))\n",
    "                                                                    \n",
    "    @constraint(xm, icons[j in 1:N_POOL], t[j] >= \n",
    "                                (1 - sum(z[j, k] for k=1:N_CHOSEN))*inf)\n",
    "        \n",
    "    @constraint(xm, ucons[j in 1:N_POOL], t[j] <= \n",
    "                                p[j] + sup*sum(z[j, k] for k=1:N_CHOSEN))\n",
    "\n",
    "    @constraint(xm, mincons[j in 1:N_POOL, k in 1:N_CHOSEN], \n",
    "        p[j] + q[k] + r[j, k]  <= sum(get_score(i, j, k, k, elo) \n",
    "                                                    * x[i, k] for i=1:N_POOL))\n",
    "    @expression(xm, playercost,  lambda * \n",
    "                sum(sum(z[i, k] for k=1:N_CHOSEN)* price[i] for i=1:N_POOL))\n",
    "    @objective(xm, Max, sum(t) + sum(q) + sum(r) - playercost)        \n",
    "\n",
    "    solve(xm)\n",
    "    println(getobjectivevalue(xm))\n",
    "    xopt = getvalue(x)                                                                                                         \n",
    "    solution_x = NamedArray([xopt[i, k] for i=1:N_POOL, k=1:N_CHOSEN])\n",
    "    println(solution_x)\n",
    "    return xopt\n",
    "end;"
   ]
  },
  {
   "cell_type": "markdown",
   "metadata": {},
   "source": [
    "### 6.C. Results and Discussion ###"
   ]
  },
  {
   "cell_type": "code",
   "execution_count": 18,
   "metadata": {
    "collapsed": false
   },
   "outputs": [
    {
     "ename": "LoadError",
     "evalue": "UndefVarError: N_POOL not defined",
     "output_type": "error",
     "traceback": [
      "UndefVarError: N_POOL not defined",
      ""
     ]
    }
   ],
   "source": [
    "xopt = select_from_pool_mixed(N_POOL, N_CHOSEN,  get_chess_score3, elo);"
   ]
  },
  {
   "cell_type": "code",
   "execution_count": 19,
   "metadata": {
    "collapsed": false
   },
   "outputs": [
    {
     "ename": "LoadError",
     "evalue": "UndefVarError: N_POOL not defined",
     "output_type": "error",
     "traceback": [
      "UndefVarError: N_POOL not defined",
      ""
     ]
    }
   ],
   "source": [
    "xopt = select_with_budget_mixed(0.5, N_POOL, N_CHOSEN, get_chess_score3, elo);"
   ]
  },
  {
   "cell_type": "markdown",
   "metadata": {},
   "source": [
    "## <center>7. Results and Discussion</center> ##\n",
    "\n",
    "\n",
    "<!-- Here, you display and discuss the results. Show figures, plots, images, trade-off curves, or whatever else you can think of to best illustrate your results. The discussion should explain what the results mean, and how to interpret them. You should also explain the limitations of your approach/model and how sensitive your results are to the assumptions you made.\n",
    "\n",
    "Use plots (see `PyPlot` examples from class), or you can display results in a table like this:\n",
    "-->\n",
    "\n",
    "| Tables        | Are           | Cool  |\n",
    "| ------------- |:-------------:| -----:|\n",
    "| col 3 is      | right-aligned |\\$1600 |\n",
    "| col 2 is      | centered      |  \\$12 |\n",
    "| zebra stripes | are neat      |   \\$1 |\n"
   ]
  },
  {
   "cell_type": "markdown",
   "metadata": {},
   "source": [
    "## <center>8. Conclusion</center> ##\n",
    "\n",
    "<p> In this project, we have illustrated how optimization techniques can be leveraged to determine the best strategy for a team to use in order to maximize winning chances in chess clashes. We also illustrated how to determine the best chess team composition to maximize probability of winning under budget constraints.</p>\n",
    "<p> The optimization models built as part of this project project can be applied, without modification, to determine optimal strategies for any team sports with rubbers that are non-cooperative in nature. The Davis cup and the Fed Cup are examples of tournaments in the realm of tennis where these models can potentially prove to be extremely effective for maximizing winning probabilities.</p>\n",
    "The models built in this project, however, are not applicable to all team sports. Since they do not account for the element of cooperation between team members, they would require modification in order to determine strategies for team sports like soccer and basketball. An interesting future direction for this project would be to extend the models to include cooperative team sports as well.    \n",
    "\n",
    "Summarize your findings and your results, and talk about at least one possible future direction; something that might be interesting to pursue as a follow-up to your project."
   ]
  },
  {
   "cell_type": "markdown",
   "metadata": {},
   "source": [
    "## <center>9. Appendix</center> ##"
   ]
  },
  {
   "cell_type": "markdown",
   "metadata": {},
   "source": [
    "### Nash Equilibrium by enumeration of strategy set ##"
   ]
  },
  {
   "cell_type": "code",
   "execution_count": 20,
   "metadata": {
    "collapsed": false
   },
   "outputs": [],
   "source": [
    "import Combinatorics\n",
    "function get_MSNE_by_enumeration(score_matrix::Array)\n",
    "    n = size(scores_matrix)[1]\n",
    "    # for primal - P person\n",
    "    m = Model(solver=ClpSolver())\n",
    "\n",
    "    @variable(m, 1>= p[1:n] >=0)\n",
    "    @variable(m, t)\n",
    "\n",
    "    @constraint(m, sum(p) == 1)\n",
    "    @constraint(m, min_const[k in 1:n], \n",
    "        sum(p[i] * score_matrix[i, k] for i=1:n) >= t)\n",
    "    # Max min (g1, g2, ..., gn)\n",
    "    @objective(m, Max, t)\n",
    "    solve(m)\n",
    "                \n",
    "    popt = getvalue(p)\n",
    "#     println(popt)\n",
    "    println(\"Optimal Score: \", getobjectivevalue(m))\n",
    "    return popt\n",
    "end;\n",
    "function get_MSNE_dual_by_enumeration(score_matrix::Array)\n",
    "    n = size(scores_matrix)[2]\n",
    "    # for primal - P person\n",
    "    m = Model(solver=ClpSolver())\n",
    "\n",
    "    @variable(m, 1>= q[1:n] >=0)\n",
    "    @variable(m, t)\n",
    "\n",
    "    @constraint(m, sum(q) == 1)\n",
    "    @constraint(m, max_const[k in 1:n], \n",
    "        sum(q[i] * score_matrix[k, i] for i=1:n) <= t)\n",
    "    # Max min (g1, g2, ..., gn)\n",
    "    @objective(m, Min, t)\n",
    "    solve(m)\n",
    "                \n",
    "    qopt = getvalue(q)\n",
    "#     println(qopt)\n",
    "    println(\"Optimal Score: \", getobjectivevalue(m))\n",
    "    return qopt\n",
    "end;            "
   ]
  },
  {
   "cell_type": "code",
   "execution_count": 21,
   "metadata": {
    "collapsed": false
   },
   "outputs": [],
   "source": [
    "# score_matrix function from 2 lists\n",
    "function get_score_matrix(list1::Array, list2::Array, players_dict, \n",
    "        get_match)\n",
    "    # assume that team 1 plays firstly\n",
    "    dim1 = length(list1)\n",
    "    dim2 = length(list2)\n",
    "    scores = Matrix(dim1, dim2)\n",
    "    for i in 1:dim1\n",
    "        for j in 1:dim2\n",
    "            scores[i, j] = get_match(list1[i], list2[j], 1, players_dict)\n",
    "        end\n",
    "    end\n",
    "    return scores\n",
    "end;\n",
    "# ordered combination: return a list of nplayers obtained from a pool\n",
    "function get_combinations(list_players::Array, nchosen::Int)\n",
    "    return collect(combinations(list_players, nchosen))\n",
    "end;\n",
    "\n",
    "function get_permutations(list_players::Array)\n",
    "    return collect(permutations(list_players, N_PLAYERS))\n",
    "end;"
   ]
  },
  {
   "cell_type": "code",
   "execution_count": 22,
   "metadata": {
    "collapsed": false
   },
   "outputs": [
    {
     "ename": "LoadError",
     "evalue": "UndefVarError: team_home not defined",
     "output_type": "error",
     "traceback": [
      "UndefVarError: team_home not defined",
      ""
     ]
    }
   ],
   "source": [
    "home_combinations = get_combinations(team_home, N_PLAYERS)\n",
    "visitor_combinations = get_combinations(team_visitor, N_PLAYERS)\n",
    "\n",
    "list_home = get_permutations(team_USA[1:N_PLAYERS])\n",
    "list_visitor = get_permutations(team_Russia[1:N_PLAYERS])\n",
    "\n",
    "println(length(list_home))\n",
    "println(length(list_visitor))\n",
    "## Map to ELO\n",
    "scores_matrix = get_score_matrix(list_home, list_visitor, \n",
    "    player_elo, get_match_score2);\n",
    "\n",
    "using PyPlot\n",
    "#plot(scores_matrix);"
   ]
  },
  {
   "cell_type": "code",
   "execution_count": 23,
   "metadata": {
    "collapsed": false
   },
   "outputs": [
    {
     "ename": "LoadError",
     "evalue": "UndefVarError: scores_matrix not defined",
     "output_type": "error",
     "traceback": [
      "UndefVarError: scores_matrix not defined",
      ""
     ]
    }
   ],
   "source": [
    "popt = get_MSNE_by_enumeration(scores_matrix);"
   ]
  },
  {
   "cell_type": "code",
   "execution_count": 24,
   "metadata": {
    "collapsed": false
   },
   "outputs": [
    {
     "ename": "LoadError",
     "evalue": "UndefVarError: scores_matrix not defined",
     "output_type": "error",
     "traceback": [
      "UndefVarError: scores_matrix not defined",
      ""
     ]
    }
   ],
   "source": [
    "popt = get_MSNE_dual_by_enumeration(scores_matrix);"
   ]
  },
  {
   "cell_type": "code",
   "execution_count": null,
   "metadata": {
    "collapsed": true
   },
   "outputs": [],
   "source": []
  }
 ],
 "metadata": {
  "kernelspec": {
   "display_name": "Julia 0.5.0",
   "language": "julia",
   "name": "julia-0.5"
  },
  "language_info": {
   "file_extension": ".jl",
   "mimetype": "application/julia",
   "name": "julia",
   "version": "0.5.0"
  }
 },
 "nbformat": 4,
 "nbformat_minor": 0
}
