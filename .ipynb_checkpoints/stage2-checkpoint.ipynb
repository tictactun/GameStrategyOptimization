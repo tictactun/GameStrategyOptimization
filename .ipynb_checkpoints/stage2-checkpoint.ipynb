{
 "cells": [
  {
   "cell_type": "markdown",
   "metadata": {},
   "source": [
    "# Stage 2: Nash equilibrium"
   ]
  },
  {
   "cell_type": "code",
   "execution_count": 2,
   "metadata": {
    "collapsed": true
   },
   "outputs": [],
   "source": [
    "using JuMP"
   ]
  },
  {
   "cell_type": "markdown",
   "metadata": {},
   "source": [
    "### Score function"
   ]
  },
  {
   "cell_type": "markdown",
   "metadata": {},
   "source": [
    "### Demo data (2 fingers Morra)"
   ]
  },
  {
   "cell_type": "code",
   "execution_count": 1,
   "metadata": {
    "collapsed": false
   },
   "outputs": [
    {
     "data": {
      "text/plain": [
       "2×2 Array{Int64,2}:\n",
       " -2   3\n",
       "  3  -4"
      ]
     },
     "execution_count": 1,
     "metadata": {},
     "output_type": "execute_result"
    }
   ],
   "source": [
    "size = 2\n",
    "# calculate matrix incidences (max of mine is min of theirs or zero-sum game)\n",
    "myProb = [2 -3; -3 4]\n",
    "oppProb = [-2 3; 3 -4]"
   ]
  },
  {
   "cell_type": "code",
   "execution_count": 113,
   "metadata": {
    "collapsed": false
   },
   "outputs": [
    {
     "name": "stdout",
     "output_type": "stream",
     "text": [
      "Max t\n",
      "Subject to\n",
      " p[1] + p[2] = 1\n",
      " 2 p[1] - 3 p[2] - t ≥ 0\n",
      " -3 p[1] + 4 p[2] - t ≥ 0\n",
      " 0 ≤ p[i] ≤ 1 ∀ i ∈ {1,2}\n",
      " t free\n",
      "\n",
      "Strategy: [0.583333,0.416667]\n",
      "E Score - Mine: -0.08333333333333359\n"
     ]
    }
   ],
   "source": [
    "# Our strategy P\n",
    "m = Model()\n",
    "\n",
    "@variable(m, 1>= p[1:size] >=0)\n",
    "@variable(m, t)\n",
    "\n",
    "@constraint(m, sum(p) == 1)\n",
    "@constraint(m, min_con[k in 1:size], sum(p[i] * myProb[i, k] for i=1:size) >= t)\n",
    "# Max min (g1, g2, ..., gn)\n",
    "@objective(m, Max, t)\n",
    "\n",
    "println(m)\n",
    "solve(m)\n",
    "\n",
    "popt = getvalue(p)\n",
    "println(\"Strategy: \", popt)\n",
    "println(\"E Score - Mine: \", getobjectivevalue(m))"
   ]
  },
  {
   "cell_type": "code",
   "execution_count": 114,
   "metadata": {
    "collapsed": false
   },
   "outputs": [
    {
     "name": "stdout",
     "output_type": "stream",
     "text": [
      "Max t\n",
      "Subject to\n",
      " p[1] + p[2] = 1\n",
      " -2 p[1] + 3 p[2] - t ≥ 0\n",
      " 3 p[1] - 4 p[2] - t ≥ 0\n",
      " 0 ≤ p[i] ≤ 1 ∀ i ∈ {1,2}\n",
      " t free\n",
      "\n",
      "Strategy: [0.583333,0.416667]\n",
      "O Score - theirs: 0.08333333333333359\n"
     ]
    }
   ],
   "source": [
    "# Oppponents's strategy Q\n",
    "m = Model()\n",
    "\n",
    "@variable(m, 1>= p[1:size] >=0)\n",
    "@variable(m, t)\n",
    "\n",
    "@constraint(m, sum(p) == 1)\n",
    "@constraint(m, min_con[k in 1:size], sum(p[i] * oppProb[i, k] for i=1:size) >= t)\n",
    "# Max min (g1, g2, ..., gn)\n",
    "@objective(m, Max, t)\n",
    "\n",
    "println(m)\n",
    "solve(m)\n",
    "\n",
    "popt = getvalue(p)\n",
    "println(\"Strategy: \", popt)\n",
    "println(\"O Score - theirs: \", getobjectivevalue(m))"
   ]
  },
  {
   "cell_type": "markdown",
   "metadata": {},
   "source": [
    "### Chess match"
   ]
  },
  {
   "cell_type": "code",
   "execution_count": 115,
   "metadata": {
    "collapsed": false
   },
   "outputs": [
    {
     "name": "stderr",
     "output_type": "stream",
     "text": [
      "WARNING: Method definition match_score(Any, Any, Any) in module Main at In[90]:2 overwritten at In[115]:2.\n"
     ]
    },
    {
     "data": {
      "text/plain": [
       "match_score (generic function with 1 method)"
      ]
     },
     "execution_count": 115,
     "metadata": {},
     "output_type": "execute_result"
    }
   ],
   "source": [
    "function match_score(myPlan, oppPlan, white)\n",
    "    length = size\n",
    "    return sum(score(team_host[myPlan[i]], team_guest[oppPlan[i]], i + 1) for i=1:length)\n",
    "end"
   ]
  },
  {
   "cell_type": "markdown",
   "metadata": {},
   "source": [
    "#### Generate matrix"
   ]
  },
  {
   "cell_type": "code",
   "execution_count": 116,
   "metadata": {
    "collapsed": true
   },
   "outputs": [],
   "source": [
    "# one is enough!! No of games - 1's score = 2's score\n",
    "\n"
   ]
  },
  {
   "cell_type": "code",
   "execution_count": null,
   "metadata": {
    "collapsed": true
   },
   "outputs": [],
   "source": []
  }
 ],
 "metadata": {
  "kernelspec": {
   "display_name": "Julia 0.5.0",
   "language": "julia",
   "name": "julia-0.5"
  },
  "language_info": {
   "file_extension": ".jl",
   "mimetype": "application/julia",
   "name": "julia",
   "version": "0.5.0"
  }
 },
 "nbformat": 4,
 "nbformat_minor": 2
}
