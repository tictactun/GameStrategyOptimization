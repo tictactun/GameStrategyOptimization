{
 "cells": [
  {
   "cell_type": "code",
   "execution_count": 2,
   "metadata": {
    "collapsed": true
   },
   "outputs": [],
   "source": [
    "using JuMP"
   ]
  },
  {
   "cell_type": "markdown",
   "metadata": {},
   "source": [
    "# I. Stage 1"
   ]
  },
  {
   "cell_type": "code",
   "execution_count": 2,
   "metadata": {
    "collapsed": true
   },
   "outputs": [],
   "source": [
    "using JuMP"
   ]
  },
  {
   "cell_type": "markdown",
   "metadata": {},
   "source": [
    "## 1.\tAssignment problem without order (only 3 values: win, lose, draw)\n"
   ]
  },
  {
   "cell_type": "markdown",
   "metadata": {},
   "source": [
    "### Score function"
   ]
  },
  {
   "cell_type": "code",
   "execution_count": 25,
   "metadata": {
    "collapsed": false
   },
   "outputs": [],
   "source": [
    "function get_score_11(player, opponent)\n",
    "    if player > opponent \n",
    "        return 1\n",
    "    elseif player < opponent\n",
    "        return -1\n",
    "    else \n",
    "        return 0\n",
    "    end  \n",
    "end\n",
    ";"
   ]
  },
  {
   "cell_type": "markdown",
   "metadata": {},
   "source": [
    "### Demo data"
   ]
  },
  {
   "cell_type": "code",
   "execution_count": 4,
   "metadata": {
    "collapsed": false
   },
   "outputs": [],
   "source": [
    "size = 3\n",
    "team_guest = [1.5 2.5 3.5]\n",
    "team_host = [1 2 3] # our team\n",
    ";"
   ]
  },
  {
   "cell_type": "markdown",
   "metadata": {},
   "source": [
    "### Model"
   ]
  },
  {
   "cell_type": "code",
   "execution_count": 26,
   "metadata": {
    "collapsed": false
   },
   "outputs": [
    {
     "name": "stdout",
     "output_type": "stream",
     "text": [
      "Strategy: \n",
      "2808 - 2789\n",
      "2769 - 2782\n",
      "2754 - 2674\n",
      "2740 - 2808\n",
      "Score: 2.0\n"
     ]
    }
   ],
   "source": [
    "m = Model()\n",
    "\n",
    "@variable(m, x[1:size, 1:size], Bin)\n",
    "\n",
    "@constraint(m, supply[k in 1:size], sum(x[k, j] for j=1:size) == 1)\n",
    "@constraint(m, demand[k in 1:size], sum(x[i, k] for i=1:size) == 1)\n",
    "\n",
    "@objective(m, Max, sum(x[i, j] * get_score_11(team_host[i], team_guest[j]) for i=1:size, j=1:size))\n",
    "                                    \n",
    "solve(m)\n",
    "xopt = getvalue(x)\n",
    "println(\"Strategy: \", )\n",
    "for i in 1:size\n",
    "    for j in 1:size\n",
    "        if xopt[i, j] != 0\n",
    "            println(team_guest[i], \" - \", team_host[j])\n",
    "        end\n",
    "    end\n",
    "end\n",
    "println(\"Score: \", getobjectivevalue(m))"
   ]
  },
  {
   "cell_type": "markdown",
   "metadata": {},
   "source": [
    "## 2.\tAssignment problem with order, fix opponent’s plan\n"
   ]
  },
  {
   "cell_type": "markdown",
   "metadata": {},
   "source": [
    "### Score function   \n",
    "(1, 0, -1) && 0.75 point for advantage"
   ]
  },
  {
   "cell_type": "code",
   "execution_count": 28,
   "metadata": {
    "collapsed": false
   },
   "outputs": [
    {
     "name": "stderr",
     "output_type": "stream",
     "text": [
      "WARNING: Method definition get_score_12(Any, Any, Any) in module Main at In[27]:3 overwritten at In[28]:3.\n"
     ]
    }
   ],
   "source": [
    "function get_score_12(player, opponent, is_first)\n",
    "    # first move => +0.5\n",
    "    x = player\n",
    "    y = opponent\n",
    "    if is_first\n",
    "        x = player + 0.75\n",
    "    else \n",
    "        y = opponent + 0.75\n",
    "    end\n",
    "    if x > y \n",
    "        return 1\n",
    "    elseif x < y\n",
    "        return -1\n",
    "    else \n",
    "        return 0\n",
    "    end  \n",
    "end\n",
    ";"
   ]
  },
  {
   "cell_type": "markdown",
   "metadata": {},
   "source": [
    "### Demo data"
   ]
  },
  {
   "cell_type": "code",
   "execution_count": 12,
   "metadata": {
    "collapsed": false
   },
   "outputs": [],
   "source": [
    "size = 3\n",
    "team_guest = [1.5 2.5 3.5]\n",
    "team_host = [1 2 3] # our team\n",
    "plan_guest = [1 2 3] # fixed plan\n",
    ";"
   ]
  },
  {
   "cell_type": "markdown",
   "metadata": {},
   "source": [
    "### Model"
   ]
  },
  {
   "cell_type": "code",
   "execution_count": 29,
   "metadata": {
    "collapsed": false
   },
   "outputs": [
    {
     "name": "stdout",
     "output_type": "stream",
     "text": [
      "Strategy: \n",
      "2808 - 2789\n",
      "2769 - 2808\n",
      "2754 - 2674\n",
      "2740 - 2782\n",
      "Score: 2.0\n"
     ]
    }
   ],
   "source": [
    "m = Model()\n",
    "\n",
    "@variable(m, x[1:size, 1:size], Bin)\n",
    "\n",
    "@constraint(m, supply[k in 1:size], sum(x[k, j] for j=1:size) == 1)\n",
    "@constraint(m, demand[k in 1:size], sum(x[i, k] for i=1:size) == 1)\n",
    "\n",
    "@objective(m, Max, sum(x[i, j] \n",
    "                * get_score_12(team_host[j], \n",
    "                                team_guest[plan_guest[i]], \n",
    "                                i % 2 == 0) \n",
    "                                for i=1:size, j=1:size))\n",
    "                                    \n",
    "solve(m)\n",
    "xopt = getvalue(x)\n",
    "println(\"Strategy: \", )\n",
    "for i in 1:size\n",
    "    for j in 1:size\n",
    "        if xopt[i, j] != 0\n",
    "            println(team_guest[i], \" - \", team_host[j])\n",
    "        end\n",
    "    end\n",
    "end\n",
    "println(\"Score: \", getobjectivevalue(m))"
   ]
  },
  {
   "cell_type": "markdown",
   "metadata": {},
   "source": [
    "## 3.\tProbabilistic model for score, fix opponent’s plan"
   ]
  },
  {
   "cell_type": "markdown",
   "metadata": {},
   "source": [
    "### Score function"
   ]
  },
  {
   "cell_type": "code",
   "execution_count": 30,
   "metadata": {
    "collapsed": false
   },
   "outputs": [],
   "source": [
    "# the positional advantage and the ratings difference\n",
    "# higher elo, first move better\n",
    "function get_score_13(player, opponent, is_first)\n",
    "    if is_first\n",
    "        x = player - opponent + 35\n",
    "    else\n",
    "        x = player - opponent - 35\n",
    "    end\n",
    "    return 1/(1 + 10^(-x/400)) \n",
    "end\n",
    ";"
   ]
  },
  {
   "cell_type": "markdown",
   "metadata": {},
   "source": [
    "### Demo data"
   ]
  },
  {
   "cell_type": "code",
   "execution_count": 18,
   "metadata": {
    "collapsed": true
   },
   "outputs": [],
   "source": [
    "# Russia vs USA\n",
    "size = 4\n",
    "team_guest = [2808 2769 2754 2740]\n",
    "team_host = [2808 2789 2782 2674] # our team\n",
    "plan_guest = [2 1 4 3] # fixed plan\n",
    ";"
   ]
  },
  {
   "cell_type": "markdown",
   "metadata": {},
   "source": [
    "Check the score function with real data"
   ]
  },
  {
   "cell_type": "code",
   "execution_count": 31,
   "metadata": {
    "collapsed": false
   },
   "outputs": [
    {
     "name": "stdout",
     "output_type": "stream",
     "text": [
      "1.9744377523957244\n"
     ]
    }
   ],
   "source": [
    "result = sum(score_13(team_host[i], \n",
    "        team_guest[plan_guest[i]], i % 2 == 0) for i=1:size)\n",
    "println(result)"
   ]
  },
  {
   "cell_type": "markdown",
   "metadata": {},
   "source": [
    "### Model"
   ]
  },
  {
   "cell_type": "code",
   "execution_count": 32,
   "metadata": {
    "collapsed": false
   },
   "outputs": [
    {
     "name": "stdout",
     "output_type": "stream",
     "text": [
      "Strategy: \n",
      "2769 - 2674\n",
      "2808 - 2789\n",
      "2740 - 2808\n",
      "2754 - 2782\n",
      "Score: 1.9812246886886204\n"
     ]
    }
   ],
   "source": [
    "m = Model()\n",
    "\n",
    "@variable(m, x[1:size, 1:size], Bin)\n",
    "\n",
    "@constraint(m, supply[k in 1:size], sum(x[k, j] for j=1:size) == 1)\n",
    "@constraint(m, demand[k in 1:size], sum(x[i, k] for i=1:size) == 1)\n",
    "\n",
    "@objective(m, Max, sum(x[i, j] * score_13(team_host[j], \n",
    "                                    team_guest[plan_guest[i]], \n",
    "                                    i % 2 == 0) for i=1:size, j=1:size))\n",
    "                                    \n",
    "solve(m)\n",
    "xopt = getvalue(x)\n",
    "println(\"Strategy: \", )\n",
    "for i in 1:size\n",
    "    for j in 1:size\n",
    "        if xopt[i, j] != 0\n",
    "            println(team_guest[plan_guest[i]], \" - \", team_host[j])\n",
    "        end\n",
    "    end\n",
    "end\n",
    "println(\"Score: \", getobjectivevalue(m))"
   ]
  }
 ],
 "metadata": {
  "kernelspec": {
   "display_name": "Julia 0.5.0",
   "language": "julia",
   "name": "julia-0.5"
  },
  "language_info": {
   "file_extension": ".jl",
   "mimetype": "application/julia",
   "name": "julia",
   "version": "0.5.0"
  }
 },
 "nbformat": 4,
 "nbformat_minor": 2
}
