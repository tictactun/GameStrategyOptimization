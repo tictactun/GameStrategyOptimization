{
 "cells": [
  {
   "cell_type": "markdown",
   "metadata": {},
   "source": [
    "# Stage 2: Nash equilibrium"
   ]
  },
  {
   "cell_type": "code",
   "execution_count": 24,
   "metadata": {
    "collapsed": true
   },
   "outputs": [],
   "source": [
    "using JuMP\n",
    "import Combinatorics"
   ]
  },
  {
   "cell_type": "code",
   "execution_count": 148,
   "metadata": {
    "collapsed": false
   },
   "outputs": [
    {
     "name": "stderr",
     "output_type": "stream",
     "text": [
      "WARNING: Method definition get_nash_primal(Array) in module Main at In[144]:2 overwritten at In[148]:2.\n"
     ]
    }
   ],
   "source": [
    "function get_nash_primal(score_matrix::Array)\n",
    "    size = ndims(score_matrix)\n",
    "    # for primal - P person\n",
    "    m = Model()\n",
    "\n",
    "    @variable(m, 1>= p[1:size] >=0)\n",
    "    @variable(m, t)\n",
    "\n",
    "    @constraint(m, sum(p) == 1)\n",
    "    @constraint(m, min_const[k in 1:size], \n",
    "        sum(p[i] * score_matrix[i, k] for i=1:size) >= t)\n",
    "    # Max min (g1, g2, ..., gn)\n",
    "    @objective(m, Max, t)\n",
    "    solve(m)\n",
    "                \n",
    "    popt = getvalue(p)\n",
    "    println(\"E Optimal Score: \", getobjectivevalue(m))\n",
    "    return findmax(popt)\n",
    "end\n",
    ";"
   ]
  },
  {
   "cell_type": "markdown",
   "metadata": {},
   "source": [
    "## 1. Morra problem"
   ]
  },
  {
   "cell_type": "markdown",
   "metadata": {},
   "source": [
    "### Score function"
   ]
  },
  {
   "cell_type": "markdown",
   "metadata": {},
   "source": [
    "### Demo data (2 fingers Morra)"
   ]
  },
  {
   "cell_type": "code",
   "execution_count": 8,
   "metadata": {
    "collapsed": false
   },
   "outputs": [],
   "source": [
    "size = 2\n",
    "# calculate matrix incidences (max of mine is min of theirs or zero-sum game)\n",
    "matrix_host = [2 -3; -3 4]\n",
    "matrix_guest = [-2 3; 3 -4]\n",
    ";"
   ]
  },
  {
   "cell_type": "markdown",
   "metadata": {},
   "source": [
    "### Model"
   ]
  },
  {
   "cell_type": "markdown",
   "metadata": {},
   "source": [
    "#### Host "
   ]
  },
  {
   "cell_type": "code",
   "execution_count": 149,
   "metadata": {
    "collapsed": false
   },
   "outputs": [
    {
     "name": "stdout",
     "output_type": "stream",
     "text": [
      "E Optimal Score: -0.08333333333333359\n"
     ]
    },
    {
     "data": {
      "text/plain": [
       "(0.5833333333333334,1)"
      ]
     },
     "execution_count": 149,
     "metadata": {},
     "output_type": "execute_result"
    }
   ],
   "source": [
    "# Our strategy P\n",
    "get_nash_primal(matrix_host)"
   ]
  },
  {
   "cell_type": "markdown",
   "metadata": {},
   "source": [
    "#### Guest"
   ]
  },
  {
   "cell_type": "code",
   "execution_count": 10,
   "metadata": {
    "collapsed": false
   },
   "outputs": [
    {
     "name": "stdout",
     "output_type": "stream",
     "text": [
      "E Optimal Score: 0.08333333333333359\n"
     ]
    },
    {
     "data": {
      "text/plain": [
       "(0.5833333333333334,1)"
      ]
     },
     "execution_count": 10,
     "metadata": {},
     "output_type": "execute_result"
    }
   ],
   "source": [
    "get_nash_primal(matrix_guest)"
   ]
  },
  {
   "cell_type": "markdown",
   "metadata": {},
   "source": [
    "## 2. Chess "
   ]
  },
  {
   "cell_type": "markdown",
   "metadata": {},
   "source": [
    "### Game score function"
   ]
  },
  {
   "cell_type": "code",
   "execution_count": 11,
   "metadata": {
    "collapsed": true
   },
   "outputs": [],
   "source": [
    "# the positional advantage and the ratings difference\n",
    "# higher elo, first move better\n",
    "function get_score_chess_game(player, opponent, is_first)\n",
    "    if is_first\n",
    "        x = player - opponent + 35\n",
    "    else\n",
    "        x = player - opponent - 35\n",
    "    end\n",
    "    return 1/(1 + 10^(-x/400)) \n",
    "end\n",
    ";"
   ]
  },
  {
   "cell_type": "markdown",
   "metadata": {},
   "source": [
    "### Match score function"
   ]
  },
  {
   "cell_type": "code",
   "execution_count": 190,
   "metadata": {
    "collapsed": false
   },
   "outputs": [],
   "source": [
    "function get_match_score(team_player, team_opponent, is_first, players_dict)\n",
    "    len = length(team_player)\n",
    "    if is_first\n",
    "        return sum(get_score_chess_game(players_dict[team_player[i]], \n",
    "            players_dict[team_opponent[i]], i % 2 == 1) for i=1:len)\n",
    "    else\n",
    "        return sum(get_score_chess_game(players_dict[team_player[i]], \n",
    "            players_dict[team_opponent[i]], i % 2 == 0) for i=1:len)\n",
    "    end\n",
    "end\n",
    ";"
   ]
  },
  {
   "cell_type": "markdown",
   "metadata": {},
   "source": [
    "### Generate score matrices for all players\n",
    "Suppose that we have 10 players, choose 4 of them to establish our team, 6 other players become our opponents"
   ]
  },
  {
   "cell_type": "code",
   "execution_count": 191,
   "metadata": {
    "collapsed": false
   },
   "outputs": [
    {
     "data": {
      "text/plain": [
       "get_score_matrix (generic function with 3 methods)"
      ]
     },
     "execution_count": 191,
     "metadata": {},
     "output_type": "execute_result"
    }
   ],
   "source": [
    "# score_matrix function from 2 lists\n",
    "function get_score_matrix(list1::Array, list2::Array, players_dict::Array)\n",
    "    # assume that team 1 plays firstly\n",
    "    dim1 = length(list1)\n",
    "    dim2 = length(list2)\n",
    "    scores = Matrix(dim1, dim2)\n",
    "    for i in 1:dim1\n",
    "        for j in 1:dim2\n",
    "            scores[i, j] = get_match_score(list1[i], list2[j], true, players_dict)\n",
    "        end\n",
    "    end\n",
    "    return scores\n",
    "end"
   ]
  },
  {
   "cell_type": "code",
   "execution_count": 99,
   "metadata": {
    "collapsed": false
   },
   "outputs": [
    {
     "data": {
      "text/plain": [
       "get_combinations (generic function with 5 methods)"
      ]
     },
     "execution_count": 99,
     "metadata": {},
     "output_type": "execute_result"
    }
   ],
   "source": [
    "# ordered combination: return a list of nplayers obtained from a pool\n",
    "function get_combinations(list_players::Array, nchosen::Int)\n",
    "    return collect(combinations(list_players, nchosen))\n",
    "end"
   ]
  },
  {
   "cell_type": "code",
   "execution_count": 100,
   "metadata": {
    "collapsed": false
   },
   "outputs": [
    {
     "name": "stderr",
     "output_type": "stream",
     "text": [
      "WARNING: Method definition get_permutations(Array) in module Main at In[84]:2 overwritten at In[100]:2.\n"
     ]
    },
    {
     "data": {
      "text/plain": [
       "get_permutations (generic function with 1 method)"
      ]
     },
     "execution_count": 100,
     "metadata": {},
     "output_type": "execute_result"
    }
   ],
   "source": [
    "function get_permutations(list_players::Array)\n",
    "    return collect(permutations(list_players))\n",
    "end"
   ]
  },
  {
   "cell_type": "code",
   "execution_count": 200,
   "metadata": {
    "collapsed": false
   },
   "outputs": [
    {
     "name": "stderr",
     "output_type": "stream",
     "text": [
      "WARNING: Method definition get_difference(Array, Array) in module Main at In[92]:2 overwritten at In[200]:2.\n"
     ]
    },
    {
     "data": {
      "text/plain": [
       "get_difference (generic function with 1 method)"
      ]
     },
     "execution_count": 200,
     "metadata": {},
     "output_type": "execute_result"
    }
   ],
   "source": [
    "function get_difference(list_main::Array, list_1::Array)\n",
    "    lst = Array[]\n",
    "    for i in list_main\n",
    "        if !(i in list_1)\n",
    "            push!(lst, i)\n",
    "        end\n",
    "    end\n",
    "    return lst\n",
    "end"
   ]
  },
  {
   "cell_type": "markdown",
   "metadata": {
    "collapsed": true
   },
   "source": [
    "### Nash equilibrium"
   ]
  },
  {
   "cell_type": "code",
   "execution_count": 42,
   "metadata": {
    "collapsed": false
   },
   "outputs": [],
   "source": [
    "# one is enough!! No of games - 1's score = 2's score\n",
    "elo = [2838, 2822, 2817, 2772, 2771, 2761, 2750, 2747, 2745, 2741]\n",
    ";"
   ]
  },
  {
   "cell_type": "code",
   "execution_count": 189,
   "metadata": {
    "collapsed": false
   },
   "outputs": [
    {
     "data": {
      "text/plain": [
       "1×4 Array{Int64,2}:\n",
       " 2  4  6  8"
      ]
     },
     "execution_count": 189,
     "metadata": {},
     "output_type": "execute_result"
    }
   ],
   "source": [
    "team_host = [1 3 7 9]\n",
    "team_guest = [2 4 6 8]"
   ]
  },
  {
   "cell_type": "code",
   "execution_count": 193,
   "metadata": {
    "collapsed": false
   },
   "outputs": [
    {
     "name": "stdout",
     "output_type": "stream",
     "text": [
      "E Optimal Score: 2.068696485117872\n"
     ]
    },
    {
     "data": {
      "text/plain": [
       "(1.0,1)"
      ]
     },
     "execution_count": 193,
     "metadata": {},
     "output_type": "execute_result"
    }
   ],
   "source": [
    "list_host = get_permutations(team_host)\n",
    "list_guest = get_permutations(team_guest)\n",
    "## Map to ELO\n",
    "scores_matrix = get_score_matrix(list_host, list_guest, elo)\n",
    "get_nash_primal(scores_matrix)"
   ]
  },
  {
   "cell_type": "markdown",
   "metadata": {},
   "source": [
    "# Stage 3 - Trade off"
   ]
  },
  {
   "cell_type": "code",
   "execution_count": 229,
   "metadata": {
    "collapsed": false
   },
   "outputs": [
    {
     "name": "stderr",
     "output_type": "stream",
     "text": [
      "WARNING: Method definition get_optimal_score(Array, Array) in module Main at In[202]:4 overwritten at In[229]:2.\n"
     ]
    },
    {
     "data": {
      "text/plain": [
       "get_optimal_score (generic function with 2 methods)"
      ]
     },
     "execution_count": 229,
     "metadata": {},
     "output_type": "execute_result"
    }
   ],
   "source": [
    "function get_optimal_score(s::Array, list_players::Array)\n",
    "    team_host = []\n",
    "    list_players_rest = []\n",
    "    for i in 1:length(s)\n",
    "        if s[i] == 1\n",
    "            push!(team_host, list_players[i])\n",
    "        else\n",
    "            push!(list_players_rest, list_players[i])\n",
    "        end\n",
    "    end\n",
    "    coms_rest = get_combinations(list_players_rest, k_chosen)\n",
    "    list_host = get_permutations(team_host)\n",
    "    list_guest = Array[]\n",
    "    for team_guest in coms_rest\n",
    "        perms = get_permutations(team_guest)\n",
    "        append!(list_guest, perms)\n",
    "    end\n",
    "    scores_matrix = get_score_matrix(list_host, list_guest)\n",
    "    return get_nash_primal(scores_matrix)\n",
    "end"
   ]
  },
  {
   "cell_type": "code",
   "execution_count": 236,
   "metadata": {
    "collapsed": false
   },
   "outputs": [
    {
     "name": "stderr",
     "output_type": "stream",
     "text": [
      "WARNING: Method definition get_budget(Array, Array) in module Main at In[204]:2 overwritten at In[236]:2.\n"
     ]
    },
    {
     "data": {
      "text/plain": [
       "get_budget (generic function with 3 methods)"
      ]
     },
     "execution_count": 236,
     "metadata": {},
     "output_type": "execute_result"
    }
   ],
   "source": [
    "function get_budget(s::Array, price::Array)\n",
    "    total = 0\n",
    "    for i in 1:length(s)\n",
    "        if s[i] == 1\n",
    "            total = total + price[i]\n",
    "        end\n",
    "    end\n",
    "    return total\n",
    "end"
   ]
  },
  {
   "cell_type": "code",
   "execution_count": 205,
   "metadata": {
    "collapsed": true
   },
   "outputs": [],
   "source": [
    "price = [1000, 900, 850, 700, 690, 650, 600, 580, 570, 560, 550]\n",
    "elo = [2838, 2822, 2817, 2772, 2771, 2761, 2750, 2747, 2745, 2741]\n",
    ";"
   ]
  },
  {
   "cell_type": "code",
   "execution_count": 232,
   "metadata": {
    "collapsed": false
   },
   "outputs": [
    {
     "data": {
      "text/html": [
       "10"
      ],
      "text/plain": [
       "10"
      ]
     },
     "execution_count": 232,
     "metadata": {},
     "output_type": "execute_result"
    }
   ],
   "source": [
    "nplayers = 5\n",
    "k_chosen = 2\n",
    "list_players = [1:nplayers;]\n",
    "coms_all = get_combinations(list_players, k_chosen)"
   ]
  },
  {
   "cell_type": "code",
   "execution_count": 239,
   "metadata": {
    "collapsed": false
   },
   "outputs": [
    {
     "ename": "LoadError",
     "evalue": "MethodError: no method matching zero(::Type{Any})\u001b[0m\nClosest candidates are:\n  zero(\u001b[1m\u001b[31m::Type{Base.LibGit2.Oid}\u001b[0m) at libgit2/oid.jl:88\n  zero(\u001b[1m\u001b[31m::Type{Base.Pkg.Resolve.VersionWeights.VWPreBuildItem}\u001b[0m) at pkg/resolve/versionweight.jl:80\n  zero(\u001b[1m\u001b[31m::Type{Base.Pkg.Resolve.VersionWeights.VWPreBuild}\u001b[0m) at pkg/resolve/versionweight.jl:120\n  ...\u001b[0m",
     "output_type": "error",
     "traceback": [
      "MethodError: no method matching zero(::Type{Any})\u001b[0m\nClosest candidates are:\n  zero(\u001b[1m\u001b[31m::Type{Base.LibGit2.Oid}\u001b[0m) at libgit2/oid.jl:88\n  zero(\u001b[1m\u001b[31m::Type{Base.Pkg.Resolve.VersionWeights.VWPreBuildItem}\u001b[0m) at pkg/resolve/versionweight.jl:80\n  zero(\u001b[1m\u001b[31m::Type{Base.Pkg.Resolve.VersionWeights.VWPreBuild}\u001b[0m) at pkg/resolve/versionweight.jl:120\n  ...\u001b[0m",
      "",
      " in mr_empty(::Base.#identity, ::Base.#+, ::Type{T}) at ./reduce.jl:130",
      " in mr_empty(::Base.#identity, ::Base.#+, ::Type{T}) at /Applications/Julia-0.5.app/Contents/Resources/julia/lib/julia/sys.dylib:?",
      " in mapfoldl(::Base.#identity, ::Function, ::Base.Generator{UnitRange{Int64},##26#28{Array{Any,1},Array{Any,1}}}) at ./reduce.jl:60",
      " in get_match_score(::Array{Any,1}, ::Array{Any,1}, ::Bool) at ./In[122]:4",
      " in get_score_matrix(::Array{Array{Any,1},1}, ::Array{Array,1}) at ./In[185]:10",
      " in get_optimal_score(::Array{JuMP.Variable,1}, ::Array{Int64,1}) at ./In[229]:18"
     ]
    }
   ],
   "source": [
    "# tradeoff\n",
    "alpha = 0\n",
    "\n",
    "m = Model()\n",
    "# for each combination: how about n bin variables for n players\n",
    "@variable(m, s[1:nplayers], Bin)\n",
    "\n",
    "@constraint(m, sum(s) == k_chosen)\n",
    "\n",
    "@expression(m, max_score, get_optimal_score(s, list_players))\n",
    "# @expression(m, min_budget, get_budget(s, price))\n",
    "\n",
    "# @objective(m, Max, max_score - alpha * min_budget)\n",
    "@objective(m, Max, max_score)\n",
    "\n",
    "\n",
    "solve(m)\n",
    "\n",
    "sopt = getvalue(s)\n",
    "println(\"Team: \", sopt)\n",
    "println(\"Optimal tradeoff: \", getobjectivevalue(m))"
   ]
  },
  {
   "cell_type": "code",
   "execution_count": null,
   "metadata": {
    "collapsed": true
   },
   "outputs": [],
   "source": []
  }
 ],
 "metadata": {
  "kernelspec": {
   "display_name": "Julia 0.5.0",
   "language": "julia",
   "name": "julia-0.5"
  },
  "language_info": {
   "file_extension": ".jl",
   "mimetype": "application/julia",
   "name": "julia",
   "version": "0.5.0"
  }
 },
 "nbformat": 4,
 "nbformat_minor": 2
}
