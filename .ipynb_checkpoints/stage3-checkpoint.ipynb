{
 "cells": [
  {
   "cell_type": "markdown",
   "metadata": {},
   "source": [
    "# Stage 3: Combine"
   ]
  },
  {
   "cell_type": "code",
   "execution_count": 1,
   "metadata": {
    "collapsed": true
   },
   "outputs": [],
   "source": [
    "using JuMP\n",
    "import Combinatorics"
   ]
  },
  {
   "cell_type": "code",
   "execution_count": null,
   "metadata": {
    "collapsed": false
   },
   "outputs": [],
   "source": [
    "function get_nash_primal(score_matrix::Array)\n",
    "    size = ndims(score_matrix)\n",
    "    # for primal - P person\n",
    "    m = Model()\n",
    "\n",
    "    @variable(m, 1>= p[1:size] >=0)\n",
    "    @variable(m, t)\n",
    "\n",
    "    @constraint(m, sum(p) == 1)\n",
    "    @constraint(m, min_const[k in 1:size], \n",
    "        sum(p[i] * score_matrix[i, k] for i=1:size) >= t)\n",
    "    # Max min (g1, g2, ..., gn)\n",
    "    @objective(m, Max, t)\n",
    "    solve(m)\n",
    "                \n",
    "    popt = getvalue(p)\n",
    "    println(\"E Optimal Score: \", getobjectivevalue(m))\n",
    "    return findmax(popt)\n",
    "end\n",
    ";"
   ]
  },
  {
   "cell_type": "markdown",
   "metadata": {},
   "source": [
    "### Game score function"
   ]
  },
  {
   "cell_type": "code",
   "execution_count": null,
   "metadata": {
    "collapsed": true
   },
   "outputs": [],
   "source": [
    "# the positional advantage and the ratings difference\n",
    "# higher elo, first move better\n",
    "function get_score_chess_game(player, opponent, is_first)\n",
    "    if is_first\n",
    "        x = player - opponent + 35\n",
    "    else\n",
    "        x = player - opponent - 35\n",
    "    end\n",
    "    return 1/(1 + 10^(-x/400)) \n",
    "end\n",
    ";"
   ]
  },
  {
   "cell_type": "markdown",
   "metadata": {},
   "source": [
    "### Match score function"
   ]
  },
  {
   "cell_type": "code",
   "execution_count": null,
   "metadata": {
    "collapsed": false
   },
   "outputs": [],
   "source": [
    "function get_match_score(team_player, team_opponent, is_first, players_dict)\n",
    "    len = length(team_player)\n",
    "    if is_first\n",
    "        return sum(get_score_chess_game(players_dict[team_player[i]], \n",
    "            players_dict[team_opponent[i]], i % 2 == 1) for i=1:len)\n",
    "    else\n",
    "        return sum(get_score_chess_game(players_dict[team_player[i]], \n",
    "            players_dict[team_opponent[i]], i % 2 == 0) for i=1:len)\n",
    "    end\n",
    "end\n",
    ";"
   ]
  },
  {
   "cell_type": "markdown",
   "metadata": {},
   "source": [
    "### Generate score matrices for all players\n",
    "Suppose that we have 10 players, choose 4 of them to establish our team, 6 other players become our opponents"
   ]
  },
  {
   "cell_type": "code",
   "execution_count": null,
   "metadata": {
    "collapsed": false
   },
   "outputs": [],
   "source": [
    "# score_matrix function from 2 lists\n",
    "function get_score_matrix(list1::Array, list2::Array, players_dict::Array)\n",
    "    # assume that team 1 plays firstly\n",
    "    dim1 = length(list1)\n",
    "    dim2 = length(list2)\n",
    "    scores = Matrix(dim1, dim2)\n",
    "    for i in 1:dim1\n",
    "        for j in 1:dim2\n",
    "            scores[i, j] = get_match_score(list1[i], list2[j], true, players_dict)\n",
    "        end\n",
    "    end\n",
    "    return scores\n",
    "end"
   ]
  },
  {
   "cell_type": "code",
   "execution_count": null,
   "metadata": {
    "collapsed": false
   },
   "outputs": [],
   "source": [
    "# ordered combination: return a list of nplayers obtained from a pool\n",
    "function get_combinations(list_players::Array, nchosen::Int)\n",
    "    return collect(combinations(list_players, nchosen))\n",
    "end"
   ]
  },
  {
   "cell_type": "code",
   "execution_count": null,
   "metadata": {
    "collapsed": false
   },
   "outputs": [],
   "source": [
    "function get_permutations(list_players::Array)\n",
    "    return collect(permutations(list_players))\n",
    "end"
   ]
  },
  {
   "cell_type": "code",
   "execution_count": null,
   "metadata": {
    "collapsed": false
   },
   "outputs": [],
   "source": [
    "function get_difference(list_main::Array, list_1::Array)\n",
    "    lst = Array[]\n",
    "    for i in list_main\n",
    "        if !(i in list_1)\n",
    "            push!(lst, i)\n",
    "        end\n",
    "    end\n",
    "    return lst\n",
    "end"
   ]
  },
  {
   "cell_type": "markdown",
   "metadata": {
    "collapsed": true
   },
   "source": [
    "### Nash equilibrium"
   ]
  },
  {
   "cell_type": "code",
   "execution_count": null,
   "metadata": {
    "collapsed": false
   },
   "outputs": [],
   "source": [
    "# one is enough!! No of games - 1's score = 2's score\n",
    "elo = [2838, 2822, 2817, 2772, 2771, 2761, 2750, 2747, 2745, 2741]\n",
    ";"
   ]
  },
  {
   "cell_type": "code",
   "execution_count": null,
   "metadata": {
    "collapsed": false
   },
   "outputs": [],
   "source": [
    "team_host = [1 3 7 9]\n",
    "team_guest = [2 4 6 8]"
   ]
  },
  {
   "cell_type": "code",
   "execution_count": null,
   "metadata": {
    "collapsed": false
   },
   "outputs": [],
   "source": [
    "list_host = get_permutations(team_host)\n",
    "list_guest = get_permutations(team_guest)\n",
    "## Map to ELO\n",
    "scores_matrix = get_score_matrix(list_host, list_guest, elo)\n",
    "get_nash_primal(scores_matrix)"
   ]
  },
  {
   "cell_type": "markdown",
   "metadata": {},
   "source": [
    "# Stage 3 - Trade off"
   ]
  },
  {
   "cell_type": "code",
   "execution_count": null,
   "metadata": {
    "collapsed": false
   },
   "outputs": [],
   "source": [
    "function get_optimal_score(s::Array, list_players::Array)\n",
    "    team_host = []\n",
    "    list_players_rest = []\n",
    "    for i in 1:length(s)\n",
    "        if s[i] == 1\n",
    "            push!(team_host, list_players[i])\n",
    "        else\n",
    "            push!(list_players_rest, list_players[i])\n",
    "        end\n",
    "    end\n",
    "    coms_rest = get_combinations(list_players_rest, k_chosen)\n",
    "    list_host = get_permutations(team_host)\n",
    "    list_guest = Array[]\n",
    "    for team_guest in coms_rest\n",
    "        perms = get_permutations(team_guest)\n",
    "        append!(list_guest, perms)\n",
    "    end\n",
    "    scores_matrix = get_score_matrix(list_host, list_guest)\n",
    "    return get_nash_primal(scores_matrix)\n",
    "end"
   ]
  },
  {
   "cell_type": "code",
   "execution_count": 9,
   "metadata": {
    "collapsed": false
   },
   "outputs": [
    {
     "data": {
      "text/plain": [
       "get_budget (generic function with 1 method)"
      ]
     },
     "execution_count": 9,
     "metadata": {},
     "output_type": "execute_result"
    }
   ],
   "source": [
    "function get_budget(s, price::Array)\n",
    "    total = 0\n",
    "    for i in 1:length(s)\n",
    "        if s[i]\n",
    "            total = total + price[i]\n",
    "        end\n",
    "    end\n",
    "    return total\n",
    "end"
   ]
  },
  {
   "cell_type": "code",
   "execution_count": 10,
   "metadata": {
    "collapsed": false
   },
   "outputs": [
    {
     "ename": "LoadError",
     "evalue": "UndefVarError: get_combinations not defined",
     "output_type": "error",
     "traceback": [
      "UndefVarError: get_combinations not defined",
      ""
     ]
    }
   ],
   "source": [
    "price = [1000, 900, 850, 700, 690, 650, 600, 580, 570, 560, 550]\n",
    "elo = [2838, 2822, 2817, 2772, 2771, 2761, 2750, 2747, 2745, 2741]\n",
    ";\n",
    "coms_all = get_combinations(list_players, k_chosen)"
   ]
  },
  {
   "cell_type": "code",
   "execution_count": 11,
   "metadata": {
    "collapsed": false
   },
   "outputs": [
    {
     "data": {
      "text/plain": [
       "5-element Array{Int64,1}:\n",
       " 1\n",
       " 2\n",
       " 3\n",
       " 4\n",
       " 5"
      ]
     },
     "execution_count": 11,
     "metadata": {},
     "output_type": "execute_result"
    }
   ],
   "source": [
    "nplayers = 5\n",
    "k_chosen = 2\n",
    "list_players = [1:nplayers;]"
   ]
  },
  {
   "cell_type": "code",
   "execution_count": 22,
   "metadata": {
    "collapsed": false
   },
   "outputs": [
    {
     "name": "stderr",
     "output_type": "stream",
     "text": [
      "WARNING: Method definition get_index(Any) in module Main at In[20]:2 overwritten at In[22]:2.\n"
     ]
    },
    {
     "data": {
      "text/plain": [
       "get_index (generic function with 1 method)"
      ]
     },
     "execution_count": 22,
     "metadata": {},
     "output_type": "execute_result"
    }
   ],
   "source": [
    "function get_index(s)\n",
    "    sum = 0\n",
    "    println(s)\n",
    "    for i in 1:length(s)\n",
    "        if s[i] == 1.0\n",
    "            println(s[i])\n",
    "            sum = sum + i\n",
    "        end\n",
    "    end\n",
    "    return sum\n",
    "end"
   ]
  },
  {
   "cell_type": "code",
   "execution_count": 25,
   "metadata": {
    "collapsed": false
   },
   "outputs": [
    {
     "name": "stdout",
     "output_type": "stream",
     "text": [
      "Team: [0.0,0.0,0.0,1.0,1.0]\n",
      "Optimal tradeoff: 9.0\n"
     ]
    }
   ],
   "source": [
    "# tradeoff\n",
    "alpha = 0\n",
    "\n",
    "m = Model()\n",
    "# for each combination: how about n bin variables for n players\n",
    "@variable(m, s[1:nplayers], Bin)\n",
    "\n",
    "@constraint(m, sum(s) == k_chosen)\n",
    "\n",
    "# @expression(m, max_score, get_optimal_score(s, list_players))\n",
    "# @expression(m, min_budget, get_budget(s, price))\n",
    "\n",
    "# @objective(m, Max, max_score - alpha * min_budget)\n",
    "@objective(m, Max, sum(i * s[i] for i=1:nplayers))\n",
    "\n",
    "solve(m)\n",
    "\n",
    "sopt = getvalue(s)\n",
    "println(\"Team: \", sopt)\n",
    "println(\"Optimal tradeoff: \", getobjectivevalue(m))"
   ]
  },
  {
   "cell_type": "code",
   "execution_count": null,
   "metadata": {
    "collapsed": true
   },
   "outputs": [],
   "source": []
  }
 ],
 "metadata": {
  "kernelspec": {
   "display_name": "Julia 0.5.0",
   "language": "julia",
   "name": "julia-0.5"
  },
  "language_info": {
   "file_extension": ".jl",
   "mimetype": "application/julia",
   "name": "julia",
   "version": "0.5.0"
  }
 },
 "nbformat": 4,
 "nbformat_minor": 2
}
