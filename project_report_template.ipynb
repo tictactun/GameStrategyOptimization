{
 "cells": [
  {
   "cell_type": "markdown",
   "metadata": {},
   "source": [
    "$$\n",
    "\\begin{aligned}\n",
    "\\underset{\\Large{\\text{L.Lessard, Spring 2017}}}{\\large{\\text{Introduction to Optimization CS 524}}} \\\\\n",
    "\\end{aligned}\n",
    "$$\n",
    "\n",
    "$$\n",
    "\\begin{aligned}\n",
    "\\underset{\\Large{\\text{Due date: 11:00pm on Monday May 8, 2017}}}{\\Large{\\text{Determining Winning Strategies Using Game Theoretic Optimization}}} \\\\\n",
    "\\end{aligned}\n",
    "$$\n",
    "\n",
    "$$\n",
    "\\begin{aligned}\n",
    "\\underset{\\large{\\text{tuandinh@cs.wisc.edu}}}{\\large{\\text{Tuan Dinh}}} && \\underset{\\large{\\text{varun@cs.wisc.edu}}}{\\large{\\text{Varun Sah}}} \\\\\n",
    "\\end{aligned}\n",
    "$$\n",
    "\n",
    "*****\n",
    "\n",
    "<center> <h3>CS/ECE/ISyE 524 &mdash; Introduction to Optimization &mdash; Spring 2017 </h3> </center>\n",
    "\n",
    "<center> <h1>Determining Winning Strategies Using Game Theoretic Optimization</h1> </center>\n",
    "\n",
    "<center> <h4>Tuan Dinh (tuandinh@cs.wisc.edu) &mdash; Varun Sah (varun@cs.wisc.edu)</h4> </center>\n",
    "\n",
    "*****\n",
    "\n",
    "### Table of Contents\n",
    "\n",
    "1. [Introduction](#1.-Introduction)\n",
    "  1. [History and Background](#1.A.-History-and-Background)\n",
    "  1. [Jargon](#1.B.-Jargon)\n",
    "  1. [Outline](#1.C.-Outline)\n",
    "1. [The Chess Ecosystem](#2.-The-Chess-Ecosystem)\n",
    "  1. [Rules](#2.A.-Rules)\n",
    "  1. [Ranking and Scoring](#2.B.-Ranking-and-Scoring)\n",
    "  1. [Data](#2.C.-Data)\n",
    "1. [Naive Model](#3.-Naive-Model)\n",
    "  1. [Mathematical Model](#3.A.-Mathematical-model)\n",
    "  1. [Solution](#3.B.-Solution)\n",
    "  1. [Results and Discussion](#3.C.-Results-and-Discussion)\n",
    "1. [Maximin Model](#4.-Maximin-Model)\n",
    "  1. [Mathematical Model](#4.A.-Mathematical-model)\n",
    "  1. [Solution](#4.B.-Solution)\n",
    "  1. [Results and Discussion](#4.C.-Results-and-Discussion)\n",
    "1. [Nash Equilibrium Model](#5.-Nash-Equilibrium-Model)\n",
    "  1. [Mathematical Model](#5.A.-Mathematical-model)\n",
    "  1. [Solution](#5.B.-Solution)\n",
    "  1. [Results and Discussion](#5.C.-Results-and-Discussion)\n",
    "1. [Budget Trade-off Model](#6.-Budget-Trade-off-Model)\n",
    "  1. [Mathematical Model](#6.A.-Mathematical-model)\n",
    "  1. [Solution](#6.B.-Solution)\n",
    "  1. [Results and Discussion](#6.C.-Results-and-Discussion) \n",
    "1. [Results and Discussion](#7.-Results-and-Discussion)\n",
    "1. [Conclusion](#8.-Conclusion)\n",
    "1. [Appendix](#9.-Appendix)"
   ]
  },
  {
   "cell_type": "markdown",
   "metadata": {
    "collapsed": true
   },
   "source": [
    "## <center>1. Introduction</center> ##\n",
    "In team sports, strategy plays a vital role in determining which team emerges victorious since team clashes cannot always be won by relying on individual prowess alone. The importance of strategy gains even more significance when the sport involves a series of head-to-head individual games between team members like in the [Davis Cup](https://en.wikipedia.org/wiki/Davis_Cup), [Fed Cup](https://en.wikipedia.org/wiki/Fed_Cup) or the [Chess Olympiad](https://en.wikipedia.org/wiki/Chess_Olympiad) where a good match-up strategy (who plays whom) can lead to results that defy expectations. \n",
    "\n",
    "Our project aims to solve the problem of determining the best match-up strategy that a team should adopt to maximize chances of winning in a sequence of individual games. \n",
    "\n",
    "### 1.A. History and Background ###\n",
    "Historically, there have been several instances where team rubbers have been won purely on the basis of a match-up strategy (who plays whom), despite being at a disadvantage in terms of individual ability or expertise.\n",
    "<p>At the Chess Olympiad in 2014, the Indian contingent, despite being seeded $19^{th}$, managed to win the bronze medal in the tournament. According to experts, strategic planning was key to India's success, apart from great performances by the members of the team ([citation article](https://www.sportskeeda.com/chess/solid-play-strategic-planning-key-to-indias-success-at-chess-olympiad)). The Indian team had decided to adopt their success strategy of the Asian Nations Cup, fielding the strongest players at the lower boards and a mix of highly rated and lower-rated but solid players at the top two boards.\n",
    "</p>\n",
    "\n",
    "<p> The aforementioned example, along with other \n",
    "</p>\n",
    "\n",
    "### 1.B. Jargon ###\n",
    "Here, we define a set of technical terms that form the foundation of the concepts discussed in the report.\n",
    "<p><b>Rubber:</b> A rubber is a team contest consisting of a sequence of successive games that is won by the side that wins a majority of the individual games.\n",
    "</p>\n",
    "<p>\n",
    "<b>Strategy:</b> In game theory, a player's strategy is any of the options he or she can choose in a setting where the outcome depends not only on his own actions but on the action of others. A player's strategy will determine the action the player will take at any stage of the game. In the case of a team contest(rubber), we define a strategy as the assignment of each team member to a member of the opposition.\n",
    "</p>\n",
    "<p>\n",
    "<b>Pure Strategy:</b> A pure strategy is an unconditional, defined choice that a person makes in a situation or game. For example, in the game of Rock-Paper-Scissors,if a player would choose to only play scissors for each and every independent trial, regardless of the other player’s strategy, choosing scissors would be the player’s pure strategy. The probability for choosing scissors equal to 1 and all other options (paper and rock) is chosen with the probability of 0. The set of all options (i.e. rock, paper, and scissors) available in this game is known as the strategy set.\n",
    "In the case of a team contest like the Chess Olympiad, an example of a team's pure strategy would be to always assign players as illustrated in the following figure:\n",
    "</p>\n",
    "![mixed strategy][cb_1] \n",
    "![mixed strategy][cb_2] \n",
    "![mixed strategy][cb_3] \n",
    "![mixed strategy][cb_4] \n",
    "<p>\n",
    "<b>Mixed Strategy:</b> A mixed strategy is an assignment of a probability to each pure strategy. A mixed strategy is an assignment of probability to all choices in the strategy set. Using the example of Rock-Paper-Scissors, if a person’s probability of employing each pure strategy is equal, then the probability distribution of the strategy set would be 1/3 for each option, or approximately 33%. In other words, a person using a mixed strategy incorporates more than one pure strategy into a game. This allows for a player to randomly select a pure strategy. Since probabilities are continuous, there are infinitely many mixed strategies available to a player. A mixed strategy can simply be considered as the probability distribution one uses to randomly choose among available actions in order to avoid being predictable.\n",
    "\n",
    "Of course, one can regard a pure strategy as a degenerate case of a mixed strategy, in which that particular pure strategy is selected with probability 1 and every other strategy with probability 0.\n",
    "</p>\n",
    "![mixed strategy][cb_1] \n",
    "![mixed strategy][cb_2] \n",
    "![mixed strategy][cb_3] \n",
    "![mixed strategy][cb_4] \n",
    "<p>\n",
    "<b>Nash Equilibrium:</b>\n",
    "In game theory, the Nash equilibrium is a solution concept of a non-cooperative game involving two or more players in which each player is assumed to know the equilibrium strategies of the other players, and no player has anything to gain by changing only his or her own strategy.\n",
    "</p>\n",
    "\n",
    "### 1.C. Outline###\n",
    "<p>\n",
    "Our project attempts to use a combination of optimization and the aforementioned game theoretic concepts for determining the optimal match-up strategy for a team to maximize its probability of winning a rubber under a set of conditions that simulate a real world scenario. \n",
    "</p>\n",
    "<p>\n",
    "We go about this task by building a series of optimization models each more comprehensive than the previous one. We start with the simple case of designing a winning pure strategy when the opposition's strategy is known. We then remove the assumption of knowledge of opposition's strategy in the second model and replace it with the assumption of that the opposition team determines its strategy rationally. In the subsequent model, we relax the restriction to pure strategies. In this third model, we try to find the optimal mixed strategy from the perspective of both teams to determine if a Nash equilibrium exists. Finally, we add the complexity of determining a team's composition (from a set of available players) in addition to a team's strategy while having a budget trade-off in place.  \n",
    "</p>\n",
    "<p>\n",
    "Although we limit the discussion to clashes between Chess teams for the purpose of this project, the task at hand is extremely interesting because it is equally applicable to several other team sports such as tennis and boxing. The only prerequisite is the existence of an empirical or actual mathematical model to determine chances of winning individual matches or rounds for that sport. \n",
    "Moreover, the models developed within the project can also be used to develop strategies for online battle strategy games like Age of Empires and Clash of Clans as well as for determining squad composition and battle order in card and video games like Pokemon. \n",
    "</p>\n",
    "\n",
    "<!--The first few sentences should give a quick overview of the entire project. Then, elaborate with a description of the problem that will be solved, a brief history (with [citations](https://en.wikipedia.org/wiki/Citation)) of how the problem came about, why it's important/interesting, and any other interesting facts you'd like to talk about. You should address and explain where the problem data is coming from (research? the internet? synthetically generated?) Also give an outline of the rest of the report.\n",
    "\n",
    "This section should be 300-600 words long, and **should be accessible to a general audience** (don't assume your reader has taken the class!). Feel free to include images if you think it'll be helpful:\n",
    "\n",
    "For more help on using Markdown, see [this reference](https://github.com/adam-p/markdown-here/wiki/Markdown-Cheatsheet). -->\n",
    "\n",
    "[cb_1]: ./images/cb.jpg\n",
    "[cb_2]: ./images/cb_2.jpg\n",
    "[cb_3]: ./images/cb.jpg\n",
    "[cb_4]: ./images/cb_2.jpg\n",
    "[flow]: https://s-media-cache-ak0.pinimg.com/736x/f5/75/c5/f575c53b93724808c6f0211890a54900.jpg"
   ]
  },
  {
   "cell_type": "markdown",
   "metadata": {},
   "source": [
    "## <center>2. The Chess Ecosystem</center> ##\n",
    " \n",
    "### 2.A. Rules ###\n",
    "In tournaments like the [Chess Olympiad](https://en.wikipedia.org/wiki/Chess_Olympiad)) and the [World Team Chess Championship](https://en.wikipedia.org/wiki/World_Team_Chess_Championship), among others, each team clash (rubber) consists of 4 individual games.\n",
    "At the start of the first game, a coin toss determines which team gets the color white for that round. In each subsequent round, the color allocation alternates between the teams. This is done in order to eliminate the [first-move advantage](https://en.wikipedia.org/wiki/First-move_advantage_in_chess) described in the next section.  \n",
    "The winner of each game gets 1 point. Loser gets 0 and a draw results in both teams being allotted 0.5 points.\n"
   ]
  },
  {
   "cell_type": "markdown",
   "metadata": {},
   "source": [
    "### 2.B. Ranking and Scoring ###\n",
    "The [Elo rating system](https://en.wikipedia.org/wiki/Elo_rating_system) is a method for calculating the relative skill levels of players in competitor-versus-competitor games such as chess.\n",
    "\n",
    "We modeled the winning probability of a player based on the ELO rating of the player and his opponent. The model used was based on a [study](https://chessprogramming.wikispaces.com/Pawn+Advantage%2C+Win+Percentage%2C+and+ELO) by Sune Fischer and Pradu Kannan in Dec. 2007. Details of the model can be found here: [Elo-Rating & Win-Probability](https://chessprogramming.wikispaces.com/Match+Statistics)\n",
    "$score = \\frac{1}{1 + 10^{-\\frac{\\Delta}{400}}}$    \n",
    "\n",
    "The [first-move advantage](https://en.wikipedia.org/wiki/First-move_advantage_in_chess) in chess is the inherent advantage of the player (White) who makes the first move in chess. Chess players and theorists generally agree that White begins the game with some advantage. We have modeled this advantage by adding 35 to the Black side's player's ELO. [citation required]()  \n",
    "white = black + 35   (ELO)   \n",
    "\n",
    "\n",
    "Plus: weighted round: score of round k: $1 + \\frac{1}{100}(1 - \\frac{k}{N})$\n",
    "\n",
    "Game scoring: \n",
    "Team Match (Rubber) scoring:  "
   ]
  },
  {
   "cell_type": "code",
   "execution_count": 1,
   "metadata": {
    "collapsed": false
   },
   "outputs": [],
   "source": [
    "# naive score function; discrete points {0, 0.5, 1}; unrealistic \n",
    "function get_simple_score(player, opponent, order, round, elo)\n",
    "    x = elo[player] - elo[opponent] + 0.75 * (-1)^(order + 1)\n",
    "    if x > 0 \n",
    "        return 1\n",
    "    elseif x < 0\n",
    "        return 0\n",
    "    else \n",
    "        return 0.5\n",
    "    end  \n",
    "end;\n",
    "\n",
    "# expected score of a game (continuous); \n",
    "# each game identical; first-move advantage;\n",
    "function get_chess_score(player, opponent, order, round, elo)\n",
    "    x = elo[player] - elo[opponent] + 35*(-1)^(order + 1)\n",
    "    return 1/(1 + 10^(-x/400)) \n",
    "end;\n",
    "\n",
    "# expected score of a game; each game being distinct; first-move advantage;\n",
    "function get_chess_score2(player, opponent, order, round, elo)\n",
    "    x = elo[player] - elo[opponent] + 35*(-1)^(order % 2 + 1)      \n",
    "    return 1/(1 + 10^(-x/400)) * (1.01 - 0.01round/N_PLAYERS)\n",
    "end;\n",
    "\n",
    "# expected score of a game; \n",
    "# each game being distinct; selection from a pool of players \n",
    "function get_chess_score3(player, opponent, order, round, elo)\n",
    "    x = elo[player] - elo[opponent] + 35*(-1)^(order % 2 + 1)      \n",
    "    return 1/(1 + 10^(-x/400)) * (1.01 - 0.01round/N_POOL)\n",
    "end;\n",
    "\n",
    "# total expected score of match; each game ientical\n",
    "function get_match_score(team_player, team_opponent, order, elo)\n",
    "    sum(get_chess_score(team_player[i], team_opponent[i], \n",
    "            i + order + 1, elo) for i=1:length(team_player))\n",
    "end;\n",
    " \n",
    "# total expected score of match; each game distinct\n",
    "function get_match_score2(team_player, team_opponent, order, elo)\n",
    "    sum(get_chess_score2(team_player[i], team_opponent[i], \n",
    "            i + order + 1, i, elo) for i=1:length(team_player))\n",
    "end;"
   ]
  },
  {
   "cell_type": "markdown",
   "metadata": {},
   "source": [
    "### 2.C. Data ###\n",
    "\n"
   ]
  },
  {
   "cell_type": "code",
   "execution_count": 29,
   "metadata": {
    "collapsed": false
   },
   "outputs": [],
   "source": [
    "using JuMP, Clp, Cbc, NamedArrays #, Images\n",
    "import Combinatorics"
   ]
  },
  {
   "cell_type": "code",
   "execution_count": 3,
   "metadata": {
    "collapsed": false
   },
   "outputs": [
    {
     "name": "stdout",
     "output_type": "stream",
     "text": [
      "Peter Svidler2755"
     ]
    }
   ],
   "source": [
    "raw = readcsv(\"./data/Chess.csv\")\n",
    "(m,n) = size(raw)\n",
    "\n",
    "players = raw[2:end, 2]\n",
    "elos = raw[2:end, 3]\n",
    "federations = raw[2:end, 6]\n",
    "worth = raw[2:end, 9] # in thousand dollars\n",
    "num_players = length(players)\n",
    "\n",
    "player_elo = Dict(zip(players, elos))\n",
    "player_country = Dict(zip(players, federations))\n",
    "player_worth = Dict(zip(players, worth))\n",
    "\n",
    "player_pool_USA = []\n",
    "player_pool_Russia = []\n",
    "\n",
    "for i in 2: m\n",
    "    if raw[i, 6] == \"United States\"\n",
    "        push!(player_pool_USA, raw[i, 2])\n",
    "    elseif raw[i, 6] == \"Russia\"\n",
    "        push!(player_pool_Russia, raw[i, 2])\n",
    "    end\n",
    "end\n",
    "\n",
    "N_PLAYERS = 4\n",
    "team_USA = player_pool_USA[1:N_PLAYERS]\n",
    "team_Russia = player_pool_Russia[1:N_PLAYERS];\n",
    "\n",
    "print(team_Russia[3], player_elo[team_Russia[3]])\n",
    "\n",
    "# sticking to descending elo order\n",
    "plan_Russia = [1 2 3 4];\n",
    "pool = players;\n",
    "N_POOL = length(pool)\n",
    "N_POOL = 10;\n",
    "N_CHOSEN = 4;"
   ]
  },
  {
   "cell_type": "code",
   "execution_count": 4,
   "metadata": {
    "code_folding": [],
    "collapsed": false
   },
   "outputs": [],
   "source": [
    "function print_fixed_strategy(xopt, N_PLAYERS, \n",
    "        team_home, team_visitor, plan_visitor, elo)   \n",
    "    println(\"Strategy: \")\n",
    "    for k in 1:N_PLAYERS\n",
    "        for i in 1:N_PLAYERS\n",
    "            if xopt[i, k] != 0\n",
    "                @printf \"%20s (%d) vs (%d) %s\\n\" team_home[i] elo[team_home[i]] elo[team_visitor[plan_visitor[k]]] team_visitor[plan_visitor[k]]\n",
    "            end\n",
    "        end\n",
    "    end\n",
    "end\n",
    ";"
   ]
  },
  {
   "cell_type": "markdown",
   "metadata": {},
   "source": [
    "## <center>3. Naive Model</center> ##\n",
    "\n",
    "We start by modelling the problem as a simple assignment problem.\n",
    "This model assumes the opposition's strategy is already fixed and known to the team a priori.\n",
    "\n",
    "### 3.A. Mathematical model ###\n",
    "Consider each table (fixed) as a position, our problem is to assign each player into exactly a position so that we can get the greatest score.  \n",
    "This is a simple assignment problem:\n",
    "</p>\n",
    "![fixed_strategy][cb_1]  \n",
    "</p>  \n",
    "Suppose:  \n",
    "- $x_{i,k}$: binary variable indicating the weight of connection from node i of layer 1 to node k of layer 2\n",
    "- $score(i, j, j)$: expected score of the match between player i of team home and player j of team visitor at table number j   \n",
    "Our problem becomes:  \n",
    "$$\n",
    "\\begin{aligned}\n",
    "\\underset{x \\in \\mathbb{(0, 1)}}{\\text{maximize}}\n",
    "\\qquad& \\sum_{i=1}^N\\sum_{j=1}^N x_{i,j} * score(i, j, j) \\\\    \n",
    "\\text{subject to:} \n",
    "\\qquad& \\sum_{i=1}^{N}x_{i,k} = 1 && k=1,\\dots,N\\\\  \n",
    "\\qquad& \\sum_{j=1}^{N}x_{k,j} = 1 && k=1,\\dots,N\n",
    "\\end{aligned}\n",
    "$$ \n",
    "\n",
    "A discussion of the modeling assumptions made in the problem (e.g. is it from physics? economics? something else?). Explain the decision variables, the constraints, and the objective function. Finally, show the optimization problem written in standard form. Discuss the model type (LP, QP, MIP, etc.). Equations should be formatted in $\\LaTeX$ within the IJulia notebook.\n",
    "\n",
    "$$\n",
    "\\begin{aligned}\n",
    "\\underset{x \\in \\mathbb{R^n}}{\\text{maximize}}\\qquad& f_0(x) \\\\\n",
    "\\text{subject to:}\\qquad& f_i(x) \\le 0 && i=1,\\dots,m\\\\\n",
    "& h_j(x) = 0 && j=1,\\dots,r\n",
    "\\end{aligned}\n",
    "$$\n",
    "<!-- daf -->\n",
    "[cb_1]: ./images/simple_assignment.jpg"
   ]
  },
  {
   "cell_type": "markdown",
   "metadata": {},
   "source": [
    "### 3.B. Solution ###"
   ]
  },
  {
   "cell_type": "code",
   "execution_count": 5,
   "metadata": {
    "collapsed": false
   },
   "outputs": [],
   "source": [
    "function get_fixed_strategy(N_PLAYERS, team_home, \n",
    "        team_visitor, plan_visitor, get_score, elo)\n",
    "    simpleModel = Model(solver=CbcSolver())\n",
    "\n",
    "    @variable(simpleModel, x[1:N_PLAYERS, 1:N_PLAYERS], Bin)\n",
    "\n",
    "    @constraint(simpleModel, supply[k in 1:N_PLAYERS], \n",
    "                    sum(x[k, j] for j=1:N_PLAYERS) == 1)\n",
    "    @constraint(simpleModel, demand[k in 1:N_PLAYERS], \n",
    "                    sum(x[i, k] for i=1:N_PLAYERS) == 1)\n",
    "\n",
    "    @objective(simpleModel, Max, sum(x[i, k] * get_score(\n",
    "                team_home[i], team_visitor[plan_visitor[k]], k, k, elo) \n",
    "                for i=1:N_PLAYERS, k=1:N_PLAYERS))\n",
    "\n",
    "    solve(simpleModel)\n",
    "    println(\"Score: \", getobjectivevalue(simpleModel))\n",
    "    xopt = getvalue(x)\n",
    "    return xopt\n",
    "end;"
   ]
  },
  {
   "cell_type": "markdown",
   "metadata": {},
   "source": [
    "### 3.C. Results and Discussion ###\n"
   ]
  },
  {
   "cell_type": "code",
   "execution_count": 6,
   "metadata": {
    "collapsed": false
   },
   "outputs": [
    {
     "name": "stdout",
     "output_type": "stream",
     "text": [
      "Score: 3.0\n",
      "Strategy: \n",
      "  Alexander Onischuk (2685) vs (2811) Vladimir Kramnik\n",
      "           Wesley So (2815) vs (2783) Sergey Karjakin\n",
      "     Fabiano Caruana (2802) vs (2755) Peter Svidler\n",
      "     Hikaru Nakamura (2786) vs (2751) Ian Nepomniachtchi\n"
     ]
    }
   ],
   "source": [
    "xopt = get_fixed_strategy(N_PLAYERS, \n",
    "    team_USA, team_Russia, plan_Russia, get_simple_score, player_elo);\n",
    "print_fixed_strategy(xopt, N_PLAYERS, \n",
    "    team_USA, team_Russia, plan_Russia, player_elo)"
   ]
  },
  {
   "cell_type": "code",
   "execution_count": 7,
   "metadata": {
    "collapsed": false
   },
   "outputs": [
    {
     "name": "stdout",
     "output_type": "stream",
     "text": [
      "Score: 1.990270019642662\n",
      "Strategy: \n",
      "     Fabiano Caruana (2802) vs (2811) Vladimir Kramnik\n",
      "  Alexander Onischuk (2685) vs (2783) Sergey Karjakin\n",
      "     Hikaru Nakamura (2786) vs (2755) Peter Svidler\n",
      "           Wesley So (2815) vs (2751) Ian Nepomniachtchi\n"
     ]
    }
   ],
   "source": [
    "xopt = get_fixed_strategy(N_PLAYERS, \n",
    "    team_USA, team_Russia, plan_Russia, get_chess_score, player_elo);\n",
    "print_fixed_strategy(xopt, N_PLAYERS, \n",
    "    team_USA, team_Russia, plan_Russia, player_elo)"
   ]
  },
  {
   "cell_type": "code",
   "execution_count": 8,
   "metadata": {
    "collapsed": false
   },
   "outputs": [
    {
     "name": "stdout",
     "output_type": "stream",
     "text": [
      "Score: 1.9974265169199144\n",
      "Strategy: \n",
      "           Wesley So (2815) vs (2811) Vladimir Kramnik\n",
      "  Alexander Onischuk (2685) vs (2783) Sergey Karjakin\n",
      "     Hikaru Nakamura (2786) vs (2755) Peter Svidler\n",
      "     Fabiano Caruana (2802) vs (2751) Ian Nepomniachtchi\n"
     ]
    }
   ],
   "source": [
    "xopt = get_fixed_strategy(N_PLAYERS, \n",
    "    team_USA, team_Russia,  plan_Russia, get_chess_score2, player_elo);\n",
    "print_fixed_strategy(xopt, N_PLAYERS, \n",
    "    team_USA, team_Russia, plan_Russia, player_elo)"
   ]
  },
  {
   "cell_type": "markdown",
   "metadata": {},
   "source": [
    "We now relax the assumption of knowledge of opposition's strategy. "
   ]
  },
  {
   "cell_type": "markdown",
   "metadata": {},
   "source": [
    "## <center>4. Maximin Model</center> ##\n",
    "\n",
    "### 4.A. Mathematical model ###\n",
    "\n",
    "Both home team and visitor try to assign their players to each table so that they can maximize their expected return, which means:\n",
    "- Home team (X side) maximizes expected score.  \n",
    "- Visitor team (Y side) minimizes expected score.    \n",
    "This can be modeled as an 2-layer assignment problem: \n",
    "<p>\n",
    "![maximin][2layer]\n",
    "</p>\n",
    "\n",
    "Suppose:  \n",
    "- $x_{i,k}$: binary variable indicating the weight of connection from node i of home layer to node k of table layer\n",
    "- $y_{j,k}$: binary variable indicating the weight of connection from node j of visitor layer to node k of table layer\n",
    "- $score(i, j, k)$: expected score of the match between player i of team home and player j of team visitor at table number k \n",
    "\n",
    "Our problem becomes:    \n",
    "$$\n",
    "\\begin{aligned}\n",
    "\\underset{x \\in \\mathbb{(0, 1)}}{\\text{max}}\\underset{y \\in \\mathbb{(0, 1)}}{\\text{min}}\\qquad& \\sum_{i=1}^N\\sum_{j=1}^N\\sum_{k=1}^N score(i, j, k) * x_{ik} * y_{jk} \\\\\n",
    "\\text{subject to:}\n",
    "\\qquad& \\sum_{i=1}^{N}x_{i,k} = 1 \\qquad k=1,\\dots,N \\qquad& \\sum_{k=1}^{N}x_{i,k} = 1 \\qquad i=1,\\dots,N\\\\\n",
    "\\qquad& \\sum_{j=1}^{N}y_{j,k} = 1 \\qquad k=1,\\dots,N \\qquad& \\sum_{k=1}^{N}y_{j,k} = 1 \\qquad j=1,\\dots,N\n",
    "\\end{aligned}\n",
    "$$\n",
    "\n",
    "To solve this model, we convert inside model (Min model) into its dual form so that our maximin becomes a max problem.   \n",
    "Consider an assignment of X as a parameter, rewrite the objective as a function of variable y:  \n",
    "$$f(y) = \\sum_{j=1}^N\\sum_{k=1}^N (\\sum_{i=1}^N score(i, j, k) * x_{ik}) * y_{jk}$$\n",
    "Then, our model is: \n",
    "$$\n",
    "\\begin{aligned}\n",
    "\\underset{y \\in \\mathbb{(0, 1)}}{\\text{min}} f(y)\\\\\n",
    "\\text{subject to:}\n",
    "\\qquad& y_{j, k} \\in {0, 1} && j,k=1,\\dots,N\\\\\n",
    "\\qquad& \\sum_{j=1}^{N}y_{j,k} = 1 && k=1,\\dots,N\\\\\n",
    "\\qquad& \\sum_{k=1}^{N}y_{j,k} = 1 && j=1,\\dots,N\n",
    "\\end{aligned}\n",
    "$$\n",
    "\n",
    "Notice that this model is an 1-layer assignemnt problem with the incidence matrix being totally unimodular. Hence, a strong duality always hold. Therefore, the converted model has the same optimal solution as the former one.  \n",
    "\n",
    "Dual form of this model is:  \n",
    "$$\n",
    "\\begin{aligned}\n",
    "\\underset{p,q,r \\in \\mathbb{R}}{\\text{maximize}} \\sum_{j=1}^{N}{p_j} + \\sum_{k=1}^{N}{q_k} \n",
    "+ \\sum_{j=1}^{N}\\sum_{k=1}^{N}r_{jk}\\\\\n",
    "\\text{subject to:} \n",
    "\\qquad& p_j, q_k: free && j,k=1,\\dots,N \\\\\n",
    "\\qquad& r_{jk} \\leq 0 && j,k=1,\\dots,N \\\\\n",
    "\\qquad& p_j + q_k + r_{jk} \\leq \\sum_{i=1}^N score(i, j, k) * x_{i,k} && i,j,k=1,\\dots,N\n",
    "\\end{aligned}\n",
    "$$\n",
    "\n",
    "Replace this dual form to the main model, we have the final model:   \n",
    "$$\n",
    "\\begin{aligned}\n",
    "\\underset{p,q,r \\in \\mathbb{R}, x \\in \\{0,1\\}}{\\text{Max}} \\sum_{j=1}^{N}{p_j} + \\sum_{k=1}^{N}{q_k} \n",
    "+ \\sum_{j=1}^{N}\\sum_{k=1}^{N}r_{jk}\\\\\n",
    "\\text{subject to:} \n",
    "\\qquad& p_j, q_k: free && j,k=1,\\dots,N \\\\\n",
    "\\qquad& r_{jk} \\leq 0 && j,k=1,\\dots,N \\\\\n",
    "\\qquad& \\sum_{i=1}^{N}x_{i,k} = 1 && k=1,\\dots,N\\\\\n",
    "\\qquad& \\sum_{k=1}^{N}x_{i,k} = 1 && i=1,\\dots,N\\\\\n",
    "\\qquad& p_j + q_k + r_{jk} \\leq \\sum_{i=1}^N score(i, j, k) * x_{i,k} && i,j,k=1,\\dots,N\\\\\n",
    "\\end{aligned}\n",
    "$$\n",
    "\n",
    "This is an equivalent model of previous Maximin model.  \n",
    "\n",
    "Similarly, we can construct an equivalent model of the Minimax model (for team visitor): \n",
    "$$\n",
    "\\begin{aligned}\n",
    "\\underset{p,q,r \\in \\mathbb{R}, y \\in \\{0,1\\}}{\\text{Max}} \\sum_{i=1}^{N}{p_i} + \\sum_{k=1}^{N}{q_k} \\qquad&\n",
    "+ \\sum_{i=1}^{N}\\sum_{k=1}^{N}r_{ik}\\\\\n",
    "\\text{subject to:} \n",
    "\\qquad& p_i, q_k: free && i,k=1,\\dots,N \\\\\n",
    "\\qquad& r_{ik} \\geq 0 && i,k=1,\\dots,N \\\\\n",
    "\\qquad& \\sum_{j=1}^{N}y_{j,k} = 1 && k=1,\\dots,N\\\\\n",
    "\\qquad& \\sum_{k=1}^{N}y_{j,k} = 1 && j=1,\\dots,N\\\\\n",
    "\\qquad& p_i + q_k + r_{ik} \\geq \\sum_{j=1}^N score(i, j, k) * y_{j,k} && i,j,k=1,\\dots,N\\\\\n",
    "\\end{aligned}\n",
    "$$\n",
    "\n",
    "[2layer]: ./images/2layer_assignment.jpg"
   ]
  },
  {
   "cell_type": "markdown",
   "metadata": {},
   "source": [
    "### 4.B. Solution ###\n",
    "\n"
   ]
  },
  {
   "cell_type": "code",
   "execution_count": 9,
   "metadata": {
    "collapsed": false
   },
   "outputs": [],
   "source": [
    "function get_team_pure_strategy_maximin(N_PLAYERS, \n",
    "        team_home, team_visitor, get_score, elo)\n",
    "    nashModel = Model(solver=CbcSolver())\n",
    "\n",
    "    @variable(nashModel, x[1:N_PLAYERS, 1:N_PLAYERS], Bin)\n",
    "    @variable(nashModel, p[1:N_PLAYERS])\n",
    "    @variable(nashModel, q[1:N_PLAYERS])\n",
    "    @variable(nashModel, r[1:N_PLAYERS, 1:N_PLAYERS] <= 0)\n",
    "\n",
    "    @constraint(nashModel, supply[k in 1:N_PLAYERS], \n",
    "                    sum(x[k, j] for j=1:N_PLAYERS) == 1)\n",
    "    @constraint(nashModel, demand[k in 1:N_PLAYERS], \n",
    "                    sum(x[i, k] for i=1:N_PLAYERS) == 1)\n",
    "\n",
    "    @constraint(nashModel, mincons[j in 1:N_PLAYERS, k in 1:N_PLAYERS], \n",
    "        p[j] + q[k] + r[j, k] <= \n",
    "            sum(get_score(team_home[i], team_visitor[j], k, k, elo) * x[i, k] \n",
    "                                    for i=1:N_PLAYERS))\n",
    "\n",
    "    @objective(nashModel, Max, sum(p) + sum(q) + sum(r))        \n",
    "\n",
    "    solve(nashModel)\n",
    "\n",
    "    println(getobjectivevalue(nashModel))\n",
    "    xopt = getvalue(x)\n",
    "    solution_x = NamedArray(Int[xopt[i, k] for i=1:N_PLAYERS, k=1:N_PLAYERS])\n",
    "    println(solution_x)\n",
    "    get_expected_opponent_pure_strategy_maximin(N_PLAYERS, team_home, \n",
    "                                team_visitor, get_score, player_elo, xopt)\n",
    "end;\n",
    "\n",
    "function get_expected_opponent_pure_strategy_maximin(N_PLAYERS, \n",
    "                                team_home, team_visitor, get_score, elo, xopt)\n",
    "    ym = Model(solver=CbcSolver())\n",
    "\n",
    "    @variable(ym, y[1:N_PLAYERS, 1:N_PLAYERS], Bin)\n",
    "\n",
    "    @constraint(ym, supply[k in 1:N_PLAYERS], \n",
    "                                    sum(y[k, j] for j=1:N_PLAYERS) == 1)\n",
    "    @constraint(ym, demand[k in 1:N_PLAYERS], \n",
    "                                    sum(y[i, k] for i=1:N_PLAYERS) == 1)\n",
    "\n",
    "    @expression(ym, score, sum(get_score(team_home[i], \n",
    "                    team_visitor[j], k, k, elo) * xopt[i, k] * y[j, k] \n",
    "                    for i=1:N_PLAYERS, j in 1:N_PLAYERS, k in 1:N_PLAYERS))\n",
    "\n",
    "    @objective(ym, Min, score)\n",
    "\n",
    "    solve(ym)\n",
    "    println(getobjectivevalue(ym))\n",
    "    yopt = getvalue(y)\n",
    "    solution_y = NamedArray(Int[yopt[j, k] for j=1:N_PLAYERS, k=1:N_PLAYERS])\n",
    "    println(solution_y)\n",
    "    print_pure_strategy(N_PLAYERS, team_home, team_visitor, elo, xopt, yopt)\n",
    "end;\n",
    "                                    \n",
    "function print_pure_strategy(N_PLAYERS, \n",
    "                                team_home, team_visitor, elo, xopt, yopt)\n",
    "    println(\"Strategy: \")\n",
    "    for k in 1:N_PLAYERS # round\n",
    "        print(\"Round: \", k, \"\\t\" )\n",
    "        for i in 1:N_PLAYERS\n",
    "            if xopt[i, k] != 0\n",
    "                print(team_home[i], \" (\", elo[team_home[i]], \")\")\n",
    "            end\n",
    "        end\n",
    "        for j in 1:N_PLAYERS\n",
    "            if yopt[j, k] != 0\n",
    "                println(\"\\t\", \"\\t  vs.\\t\", \n",
    "                        team_visitor[j], \" (\",elo[team_visitor[j]], \")\")\n",
    "            end\n",
    "        end        \n",
    "    end\n",
    "end;"
   ]
  },
  {
   "cell_type": "markdown",
   "metadata": {},
   "source": [
    "Visitor (Minimax)"
   ]
  },
  {
   "cell_type": "code",
   "execution_count": 10,
   "metadata": {
    "collapsed": false
   },
   "outputs": [],
   "source": [
    "function get_opponent_pure_strategy_minimax(N_PLAYERS, team_home, \n",
    "        team_visitor, get_score, elo)\n",
    "    \n",
    "    nashModel = Model(solver=CbcSolver())\n",
    "\n",
    "    @variable(nashModel, y[1:N_PLAYERS, 1:N_PLAYERS], Bin)\n",
    "    @variable(nashModel, p[1:N_PLAYERS])\n",
    "    @variable(nashModel, q[1:N_PLAYERS])\n",
    "    @variable(nashModel, r[1:N_PLAYERS, 1:N_PLAYERS] >= 0)\n",
    "\n",
    "    @constraint(nashModel, supply[k in 1:N_PLAYERS], \n",
    "                    sum(y[k, j] for j=1:N_PLAYERS) == 1)\n",
    "    @constraint(nashModel, demand[k in 1:N_PLAYERS], \n",
    "                    sum(y[i, k] for i=1:N_PLAYERS) == 1)\n",
    "\n",
    "    @constraint(nashModel, mincons[i in 1:N_PLAYERS, k in 1:N_PLAYERS], \n",
    "        p[i] + q[k] + r[i, k] >= \n",
    "            sum(get_score(team_home[i], team_visitor[j], k, k, elo) * y[j, k] \n",
    "                                    for j=1:N_PLAYERS))\n",
    "\n",
    "    @objective(nashModel, Min, sum(p) + sum(q) + sum(r))        \n",
    "\n",
    "    solve(nashModel)\n",
    "\n",
    "    println(getobjectivevalue(nashModel))\n",
    "    yopt = getvalue(y)\n",
    "    solution_y = NamedArray([yopt[j, k] for j=1:N_PLAYERS, k=1:N_PLAYERS])\n",
    "    println(solution_y)\n",
    "    get_expected_team_pure_strategy_minimax(N_PLAYERS, \n",
    "                        team_home, team_visitor, get_score, player_elo, yopt)\n",
    "end;\n",
    "                                    \n",
    "function get_expected_team_pure_strategy_minimax(N_PLAYERS, \n",
    "                                team_home, team_visitor, get_score, elo, yopt)\n",
    "    xm = Model(solver=CbcSolver())\n",
    "\n",
    "    @variable(xm, x[1:N_PLAYERS, 1:N_PLAYERS], Bin)\n",
    "\n",
    "    @constraint(xm, supply[k in 1:N_PLAYERS], \n",
    "                                    sum(x[k, j] for j=1:N_PLAYERS) == 1)\n",
    "    @constraint(xm, demand[k in 1:N_PLAYERS], \n",
    "                                    sum(x[i, k] for i=1:N_PLAYERS) == 1)\n",
    "\n",
    "    @expression(xm, score, sum(get_score(team_home[i], \n",
    "                    team_visitor[j], k, k, elo) * yopt[j, k] * x[i, k] \n",
    "                    for i=1:N_PLAYERS, j in 1:N_PLAYERS, k in 1:N_PLAYERS))\n",
    "\n",
    "    @objective(xm, Max, score)\n",
    "\n",
    "    solve(xm)\n",
    "    println(getobjectivevalue(xm))\n",
    "    xopt = getvalue(x)\n",
    "    solution_x = NamedArray(Int[xopt[i, k] for i=1:N_PLAYERS, k=1:N_PLAYERS])\n",
    "    println(solution_x)\n",
    "    print_pure_strategy(N_PLAYERS, team_home, team_visitor, elo, xopt, yopt)\n",
    "end;"
   ]
  },
  {
   "cell_type": "markdown",
   "metadata": {},
   "source": [
    "\n",
    "### 4.C. Results and Discussion ###"
   ]
  },
  {
   "cell_type": "code",
   "execution_count": 11,
   "metadata": {
    "collapsed": false
   },
   "outputs": [
    {
     "name": "stdout",
     "output_type": "stream",
     "text": [
      "1.9927314745883487\n",
      "4×4 Named Array{Int64,2}\n",
      "A ╲ B │ 1  2  3  4\n",
      "──────┼───────────\n",
      "1     │ 0  1  0  0\n",
      "2     │ 1  0  0  0\n",
      "3     │ 0  0  1  0\n",
      "4     │ 0  0  0  1\n",
      "1.9927314745883484\n",
      "4×4 Named Array{Int64,2}\n",
      "A ╲ B │ 1  2  3  4\n",
      "──────┼───────────\n",
      "1     │ 0  1  0  0\n",
      "2     │ 0  0  1  0\n",
      "3     │ 1  0  0  0\n",
      "4     │ 0  0  0  1\n",
      "Strategy: \n",
      "Round: 1\tFabiano Caruana (2802)\t\t  vs.\tPeter Svidler (2755)\n",
      "Round: 2\tWesley So (2815)\t\t  vs.\tVladimir Kramnik (2811)\n",
      "Round: 3\tHikaru Nakamura (2786)\t\t  vs.\tSergey Karjakin (2783)\n",
      "Round: 4\tAlexander Onischuk (2685)\t\t  vs.\tIan Nepomniachtchi (2751)\n"
     ]
    }
   ],
   "source": [
    "get_team_pure_strategy_maximin(N_PLAYERS, \n",
    "    team_USA, team_Russia, get_chess_score2, player_elo);"
   ]
  },
  {
   "cell_type": "code",
   "execution_count": 56,
   "metadata": {
    "collapsed": false
   },
   "outputs": [
    {
     "data": {
      "text/plain": [
       "(1.9927314745883484,7)"
      ]
     },
     "execution_count": 56,
     "metadata": {},
     "output_type": "execute_result"
    }
   ],
   "source": [
    "get_nash_pure(scores_matrix, true)"
   ]
  },
  {
   "cell_type": "code",
   "execution_count": null,
   "metadata": {
    "collapsed": true
   },
   "outputs": [],
   "source": [
    "list_home(7)"
   ]
  },
  {
   "cell_type": "code",
   "execution_count": 12,
   "metadata": {
    "collapsed": false
   },
   "outputs": [
    {
     "name": "stdout",
     "output_type": "stream",
     "text": [
      "1.9944383641261818\n",
      "4×4 Named Array{Float64,2}\n",
      "A ╲ B │   1    2    3    4\n",
      "──────┼───────────────────\n",
      "1     │ 1.0  0.0  0.0  0.0\n",
      "2     │ 0.0  0.0  1.0  0.0\n",
      "3     │ 0.0  1.0  0.0  0.0\n",
      "4     │ 0.0  0.0  0.0  1.0\n",
      "1.9944383641261816\n",
      "4×4 Named Array{Int64,2}\n",
      "A ╲ B │ 1  2  3  4\n",
      "──────┼───────────\n",
      "1     │ 0  1  0  0\n",
      "2     │ 1  0  0  0\n",
      "3     │ 0  0  1  0\n",
      "4     │ 0  0  0  1\n",
      "Strategy: \n",
      "Round: 1\tFabiano Caruana (2802)\t\t  vs.\tVladimir Kramnik (2811)\n",
      "Round: 2\tWesley So (2815)\t\t  vs.\tPeter Svidler (2755)\n",
      "Round: 3\tHikaru Nakamura (2786)\t\t  vs.\tSergey Karjakin (2783)\n",
      "Round: 4\tAlexander Onischuk (2685)\t\t  vs.\tIan Nepomniachtchi (2751)\n"
     ]
    }
   ],
   "source": [
    "get_opponent_pure_strategy_minimax(N_PLAYERS, \n",
    "    team_USA, team_Russia, get_chess_score2, player_elo);"
   ]
  },
  {
   "cell_type": "code",
   "execution_count": 58,
   "metadata": {
    "collapsed": false
   },
   "outputs": [
    {
     "data": {
      "text/plain": [
       "(1.9944383641261816,3)"
      ]
     },
     "execution_count": 58,
     "metadata": {},
     "output_type": "execute_result"
    }
   ],
   "source": [
    "get_nash_pure(scores_matrix, false)"
   ]
  },
  {
   "cell_type": "markdown",
   "metadata": {},
   "source": [
    "Since the Maximin (USA) and Minimax (Russia) optimal strategies have different optimal values, a pure Nash equilibrium does not exist. We now consider mixed strategies in an attempt to find a Nash Equilibrium."
   ]
  },
  {
   "cell_type": "markdown",
   "metadata": {},
   "source": [
    "## <center>5. Nash Equilibrium Model</center> ##\n",
    "  \n",
    "### 5.A. Mathematical model ###  \n",
    "Since pure strategy doesn't have Nash equilibrium, in this part, we will solve this problem using mixed strategy and try to model it by a relaxed assignment problem. We start from the formal model of mixed strategy. \n",
    "\n",
    "#### Primal   \n",
    "As explained in the previous parts, mixed strategy optimization can be modeled as: \n",
    "$$\n",
    "\\begin{aligned}\n",
    "\\underset{p \\in \\mathbb{R}}{\\text{max}}\\underset{j \\in \\{1,..,M\\}}{\\text{min}}\n",
    "g_j = \\sum_{i=1}^M p_i * match_score(h_i, v_j)\\\\\n",
    "\\text{subject to:} \n",
    "\\qquad& 0 \\leq p_i \\leq 1 && i=1,\\dots,N\\\\\n",
    "\\qquad& \\sum_{i=1}^{N} p_i = 1  \n",
    "\\end{aligned}\n",
    "$$\n",
    "With: \n",
    "- $p_i$ is the probability of strategy i of home team\n",
    "- $match_score(h_i, v_j)$ is the expected match score when home team uses strategy $h_i$ and visitor uses strategy $v_j$ \n",
    "\n",
    "(1) Now, suppose $x_{ik}$ is probability of player i of home team playing at table k, we have:   \n",
    "- $x_{ik}$ is independent with all strategies of visitor\n",
    "- $\\sum_{i=1}^{N}x_{i,k} = 1$ \n",
    "- $\\sum_{k=1}^{N}x_{i,k} = 1$ \n",
    "\n",
    "(2) Consider a strategy of visitor: $v_j = [v_{j1}, v_{j2}, ..., v_{jM}]$, then total score in $g_j$ to which $v_{jk}$ contributes is:  \\$\\sum_{i=1}^N score(i, j, k) * x_{ik}$       \n",
    "\n",
    "From (1) & (2), we see that mixed strategy can be modeled as a relaxed assignment problem.\n",
    "\n",
    "Using the similar approch for pure strategy, we can model this as:    \n",
    "$$\n",
    "\\begin{aligned}\n",
    "\\underset{p,q,r,x \\in \\mathbb{R}}{\\text{maximize}} \\sum_{j=1}^{N}{p_j} + \\sum_{k=1}^{N}{q_k} \n",
    "+ \\sum_{j=1}^{N}\\sum_{k=1}^{N}r_{jk}\\\\\n",
    "\\text{subject to:} \n",
    "\\qquad& 0 \\leq x_{i,k} \\leq 1 && i=1,\\dots,N  (constraint 0) \\\\\n",
    "\\qquad& p_j, q_k: free && j,k=1,\\dots,N \\\\\n",
    "\\qquad& r_{jk} \\leq 0 && j,k=1,\\dots,N \\\\\n",
    "\\qquad& \\sum_{i=1}^{N}x_{i,k} = 1 && k=1,\\dots,N (constraint 1)\\\\\n",
    "\\qquad& \\sum_{k=1}^{N}x_{i,k} = 1 && i=1,\\dots,N (constraint 2)\\\\\n",
    "\\qquad& p_j + q_k + r_{jk} \\leq \\sum_{i=1}^N score(i, j, k) * x_{i,k} && i,i,k=1,\\dots,N (constraint 3)\\\\\n",
    "\\end{aligned}\n",
    "$$\n",
    "\n",
    "To prove that Nash equilibrium is obtained, we find the dual form of the model above: \n",
    "#### Dual\n",
    "$$\n",
    "\\begin{aligned}\n",
    "\\underset{b,c,e,a \\in \\mathbb{R}}{\\text{minimize}} \\sum_{i=1}^{N}{b_i} + \\sum_{k=1}^{N}{c_k} \n",
    "+ \\sum_{i=1}^{N}\\sum_{k=1}^{N}e_{ik}\\\\\n",
    "\\text{subject to:} \n",
    "\\qquad& 0 \\leq a_{j,k} \\leq 1 && j=1,\\dots,N (~ constraint 3)\\\\\n",
    "\\qquad& b_j, c_k: free && i,k=1,\\dots,N (~ constraint 1, 2)\\\\\n",
    "\\qquad& e_{ik} \\geq 0 && i,k=1,\\dots,N (~ constraint 0)\\\\\n",
    "\\qquad& \\sum_{j=1}^{N}a_{j,k} = 1 && k=1,\\dots,N\\\\\n",
    "\\qquad& \\sum_{k=1}^{N}a_{j,k} = 1 && j=1,\\dots,N\\\\\n",
    "\\qquad& b_i + c_k + e_{ik} \\geq \\sum_{j=1}^N score(i, j, k) * a_{j,k} && i,j,k=1,\\dots,N\\\\\n",
    "\\end{aligned}\n",
    "$$\n",
    "This model is also the primal form of the Minimax model: \n",
    "\n",
    "#### Primal form of visitor team (Minimax)  :  \n",
    "(With a similar approach, we can model the primal form of our visitor)\n",
    "$$\n",
    "\\begin{aligned}\n",
    "\\underset{p,q,r,y \\in \\mathbb{R}}{\\text{minimize}} \\sum_{i=1}^{N}{p_i} + \\sum_{k=1}^{N}{q_k} \n",
    "+ \\sum_{i=1}^{N}\\sum_{k=1}^{N}r_{ik}\\\\\n",
    "\\text{subject to:} \n",
    "\\qquad& 0 \\leq y_{j,k} \\leq 1 && j=1,\\dots,N \\\\\n",
    "\\qquad& p_j, q_k: free && i,k=1,\\dots,N \\\\\n",
    "\\qquad& r_{ik} \\geq 0 && i,k=1,\\dots,N \\\\\n",
    "\\qquad& \\sum_{j=1}^{N}y_{j,k} = 1 && k=1,\\dots,N\\\\\n",
    "\\qquad& \\sum_{k=1}^{N}y_{j,k} = 1 && j=1,\\dots,N\\\\\n",
    "\\qquad& p_i + q_k + r_{ik} \\geq \\sum_{j=1}^N score(i, j, k) * y_{j,k} && i,j,k=1,\\dots,N\\\\\n",
    "\\end{aligned}\n",
    "$$"
   ]
  },
  {
   "cell_type": "markdown",
   "metadata": {},
   "source": [
    "### 5.B. Solution ###"
   ]
  },
  {
   "cell_type": "code",
   "execution_count": 13,
   "metadata": {
    "collapsed": false
   },
   "outputs": [],
   "source": [
    "function get_MSNE(N_PLAYERS, team_home, team_visitor, get_score, elo)\n",
    "    nashModel = Model(solver=ClpSolver())\n",
    "\n",
    "    @variable(nashModel, 1 >= x[1:N_PLAYERS, 1:N_PLAYERS] >= 0)\n",
    "    @variable(nashModel, p[1:N_PLAYERS])\n",
    "    @variable(nashModel, q[1:N_PLAYERS])\n",
    "    @variable(nashModel, r[1:N_PLAYERS, 1:N_PLAYERS] <= 0)\n",
    "\n",
    "    @constraint(nashModel, supply[k in 1:N_PLAYERS], \n",
    "                    sum(x[k, j] for j=1:N_PLAYERS) == 1)\n",
    "    @constraint(nashModel, demand[k in 1:N_PLAYERS], \n",
    "                    sum(x[i, k] for i=1:N_PLAYERS) == 1)\n",
    "\n",
    "    @constraint(nashModel, mincons[j in 1:N_PLAYERS, k in 1:N_PLAYERS], \n",
    "        p[j] + q[k] + r[j, k] <= \n",
    "            sum(get_score(team_home[i], team_visitor[j], k, k, elo) \n",
    "                                    * x[i, k] for i=1:N_PLAYERS))\n",
    "\n",
    "    @objective(nashModel, Max, sum(p) + sum(q) + sum(r))        \n",
    "\n",
    "    solve(nashModel)\n",
    "\n",
    "    println(getobjectivevalue(nashModel))\n",
    "    xopt = getvalue(x)\n",
    "    solution_x = NamedArray([xopt[i, k] for i=1:N_PLAYERS, k=1:N_PLAYERS])\n",
    "    println(solution_x)\n",
    "end;"
   ]
  },
  {
   "cell_type": "code",
   "execution_count": 14,
   "metadata": {
    "collapsed": false
   },
   "outputs": [],
   "source": [
    "function get_MSNE_opponent(N_PLAYERS, team_home, team_visitor, get_score, elo)\n",
    "    nashModel = Model(solver=ClpSolver())\n",
    "\n",
    "    @variable(nashModel, 0 <= y[1:N_PLAYERS, 1:N_PLAYERS] <= 1)\n",
    "    @variable(nashModel, p[1:N_PLAYERS])\n",
    "    @variable(nashModel, q[1:N_PLAYERS])\n",
    "    @variable(nashModel, r[1:N_PLAYERS, 1:N_PLAYERS] >= 0) # change\n",
    "\n",
    "    @constraint(nashModel, supply[k in 1:N_PLAYERS], \n",
    "                    sum(y[k, j] for j=1:N_PLAYERS) == 1)\n",
    "    @constraint(nashModel, demand[k in 1:N_PLAYERS], \n",
    "                    sum(y[i, k] for i=1:N_PLAYERS) == 1)\n",
    "\n",
    "    @constraint(nashModel, maxcons[i in 1:N_PLAYERS, k in 1:N_PLAYERS],\n",
    "        p[i] + q[k] + r[i, k] >= \n",
    "            sum(get_score(team_home[i], team_visitor[j], k%2, k, elo) \n",
    "                                    * y[j, k] for j=1:N_PLAYERS))\n",
    "\n",
    "    @objective(nashModel, Min, sum(p) + sum(q) + sum(r))        \n",
    "\n",
    "    solve(nashModel)\n",
    "\n",
    "    println(getobjectivevalue(nashModel))\n",
    "    yopt = getvalue(y)\n",
    "    solution_y = NamedArray([yopt[j, k] for j=1:N_PLAYERS, k=1:N_PLAYERS])\n",
    "    println(solution_y)\n",
    "end;"
   ]
  },
  {
   "cell_type": "markdown",
   "metadata": {},
   "source": [
    "### 5.C. Results and Discussion ###"
   ]
  },
  {
   "cell_type": "code",
   "execution_count": 15,
   "metadata": {
    "collapsed": false
   },
   "outputs": [
    {
     "name": "stdout",
     "output_type": "stream",
     "text": [
      "1.994211025995414\n",
      "4×4 Named Array{Float64,2}\n",
      "A ╲ B │        1         2         3         4\n",
      "──────┼───────────────────────────────────────\n",
      "1     │      0.0  0.714061       0.0  0.285939\n",
      "2     │ 0.794595       0.0  0.205405       0.0\n",
      "3     │ 0.205405       0.0  0.794595       0.0\n",
      "4     │      0.0  0.285939       0.0  0.714061\n"
     ]
    }
   ],
   "source": [
    "get_MSNE(N_PLAYERS, team_USA, team_Russia, get_chess_score2, player_elo);"
   ]
  },
  {
   "cell_type": "code",
   "execution_count": 16,
   "metadata": {
    "collapsed": false,
    "scrolled": true
   },
   "outputs": [
    {
     "name": "stdout",
     "output_type": "stream",
     "text": [
      "1.9942110259954142\n",
      "4×4 Named Array{Float64,2}\n",
      "A ╲ B │        1         2         3         4\n",
      "──────┼───────────────────────────────────────\n",
      "1     │ 0.430404       0.0  0.569596       0.0\n",
      "2     │ 0.461659  0.107937  0.430404       0.0\n",
      "3     │ 0.107937  0.892063       0.0       0.0\n",
      "4     │      0.0       0.0       0.0       1.0\n"
     ]
    }
   ],
   "source": [
    "get_MSNE_opponent(N_PLAYERS, team_USA, team_Russia, get_chess_score2, player_elo);"
   ]
  },
  {
   "cell_type": "markdown",
   "metadata": {},
   "source": [
    "## <center>6. Budget Trade-off Model</center> ##\n",
    "\n",
    "<strong> Problem definition: </strong> \n",
    "Our problem now is to answer the question: how to buy a good team while not using too much money. One more interesting thing is that other players whom we don't buy could become our opponents. This becomes a trade-off problem between increasing expected match score and decreasing the amount of money.  \n",
    "We steadily solve this problem by solving 2 sub problems:  \n",
    "- (1) Selecting a team composition from a pool to maximize expected score.  \n",
    "- (2) Selecting a team composition with a budget trade-off.\n",
    "\n",
    "\n",
    "### 6.A. Mathematical model ###\n",
    "\n",
    "(1) Selecting a team composition of N players from a pool of M players\n",
    "\n",
    "<p>\n",
    "![tradeoff][pool]\n",
    "</p>\n",
    "\n",
    "We can think this problem based from the perspective of a 2-team game. Home team selects nChosen players from the pool to maximize its expected score while the visitor team selects a team from the rest players to minimize the score. We modify the Nash equilibrium model above to solve this.\n",
    "\n",
    "A remarkably different point from Nash equilibrium model is that if a player is selected from home team, he cannot play for the visitor team. To represent this \"if-then\" relationship, we introduce a binary variable z: $z_i = 1 \\equiv$ player i is selected for home team: \n",
    "- $z_i = 0 \\implies x_i = 0: \\sum_{k=1}^{N}y_{i,k} \\leq 1 - \\sum_{k=1}^{N}z_{i,k}$    \n",
    "- $z_i = 1 \\implies y_i = 0: \\sum_{k=1}^{N}x_{i,k} \\leq \\sum_{k=1}^{N}z_{i,k}$   \n",
    "\n",
    "Using the similar approach to convert the inside model into its dual form, our model now becomes:   \n",
    "$$\n",
    "\\begin{aligned}\n",
    "\\underset{p,q,r,x,z \\in \\mathbb{R}}{\\text{maximize}}\\sum_{j=1}^{M} p_j (1-\\sum_{k=1}^N z_{j,k})+\\sum_{k=1}^N q_k +\\sum_{j=1}^M\\sum_{k=1}^N r_{jk}\\\\\n",
    "\\text{subject to:} \n",
    "\\qquad& 0 \\leq x_{i,k} \\leq 1 \\qquad& i=1,\\dots,M \\qquad k=1,\\dots,N  \\\\\n",
    "\\qquad& z_i: binary \\qquad& i=1,\\dots,M \\\\\n",
    "\\qquad& p_j \\leq 0 \\qquad& j=1,\\dots,M \\\\\n",
    "\\qquad& q_k: free \\qquad& k=1,\\dots,N \\\\\n",
    "\\qquad& r_{jk} \\leq 0 \\qquad& j=1,\\dots,M \\qquad k=1,\\dots,N  \\\\\n",
    "\\qquad& \\sum_{i=1}^{M}x_{i,k} = 1 \\qquad k=1,\\dots,M \\qquad& \\sum_{k=1}^{N}x_{i,k} \\leq 1 \\qquad i=1,\\dots,N\\\\\n",
    "\\qquad& \\sum_{i=1}^{M}z_{i,k} = 1 \\qquad k=1,\\dots,M \\qquad& \\sum_{k=1}^{N}z_{i,k} \\leq 1 \\qquad i=1,\\dots,N\\\\ \n",
    "\\qquad& \\sum_{k=1}^{N}x_{i,k} \\leq \\sum_{k=1}^{N}z_{i,k} \\qquad& i=1,\\dots,N\\\\\n",
    "\\qquad& p_j + q_k + r_{jk} \\leq \\sum_{i=1}^M score(i, j, k) * x_{i,k} \\qquad& i,j=1,\\dots,M \\qquad k=1,\\dots,N\\\\\n",
    "\\end{aligned}\n",
    "$$\n",
    "\n",
    "Using epigraph, we can convert quadratic term in the objective into a linear function:   \n",
    "$$\n",
    "\\begin{aligned}\n",
    "\\underset{p,z \\in \\mathbb{R}}{\\text{maximize}}\\sum_{j=1}^{M} p_j (1-\\sum_{k=1}^N z_{j,k}) = \n",
    "\\underset{t \\in \\mathbb{R}}{\\text{maximize}}\\sum_{j=1}^{M} t_j \\\\\n",
    "\\text{subject to:} \n",
    "\\qquad& t_j \\leq 0 && j=1,\\dots,M \\\\\n",
    "\\qquad& t_j \\geq -\\infty * (1 - \\sum_{k=1}^{N}z_{j,k}) && j=1,\\dots,M \\\\\n",
    "\\qquad& t_j \\leq p_j + \\infty * \\sum_{k=1}^{N}z_{j,k} && j=1,\\dots,M\n",
    "\\end{aligned}\n",
    "$$\n",
    "\n",
    "Then, combine this transformation into the previous model, we have the final solution. \n",
    "\n",
    "(2) Selecting with a budget trade-off \n",
    "\n",
    "To solve this trade off, we only need to introduce a new value representing the cost of selected players for home team. With $price(i)$ being the price of player $i^{th}$ in the pool and $z0$ being a selection, we have:   \n",
    "$$\n",
    "\\begin{aligned}\n",
    "cost(z0) = \\sum_{i=1}^M (\\sum_{k=1}^{N}z_{i,k}) * price(i)\n",
    "\\end{aligned}\n",
    "$$\n",
    "\n",
    "Then, our objective function becomes: \n",
    "$$\n",
    "\\begin{aligned}\n",
    "\\underset{p,q,r,x,z \\in \\mathbb{R}}{\\text{maximize}}\\sum_{j=1}^{M} p_j (1-\\sum_{k=1}^N z_{j,k})+\\sum_{k=1}^N q_k +\\sum_{j=1}^M\\sum_{k=1}^N r_{jk} - cost(z)\\\\\n",
    "\\end{aligned}\n",
    "$$\n",
    "\n",
    "[pool]: ./images/pool.jpg"
   ]
  },
  {
   "cell_type": "markdown",
   "metadata": {},
   "source": [
    "### 6.B. Solution ###"
   ]
  },
  {
   "cell_type": "code",
   "execution_count": 17,
   "metadata": {
    "code_folding": [
     0
    ],
    "collapsed": false
   },
   "outputs": [],
   "source": [
    "function select_from_pool_mixed(N_POOL, N_CHOSEN, get_score, elo)\n",
    "    inf = -1000\n",
    "    sup = 1000 #dangerous\n",
    "\n",
    "    xm = Model(solver=CbcSolver())\n",
    "\n",
    "    @variable(xm, 0 <= x[1:N_POOL, 1:N_CHOSEN] <= 1)\n",
    "    @variable(xm, z[1:N_POOL, 1:N_CHOSEN], Bin)\n",
    "    @variable(xm, p[1:N_POOL] <= 0) #dual corresponding to <= 1\n",
    "    @variable(xm, q[1:N_CHOSEN])\n",
    "    @variable(xm, r[1:N_POOL, 1:N_CHOSEN] <= 0)\n",
    "    @variable(xm, t[1:N_POOL] <= 0)\n",
    "\n",
    "    @constraint(xm, supply[i in 1:N_POOL], \n",
    "                    sum(z[i, k] for k=1:N_CHOSEN) <= 1)\n",
    "    @constraint(xm, demand[k in 1:N_CHOSEN], \n",
    "                    sum(z[i, k] for i=1:N_POOL) == 1)\n",
    "                            \n",
    "    @constraint(xm, supplyProb[i in 1:N_POOL], \n",
    "                                sum(x[i, k] for k=1:N_CHOSEN) <= 1)\n",
    "    @constraint(xm, demandProb[k in 1:N_CHOSEN], \n",
    "                                sum(x[i, k] for i=1:N_POOL) == 1)\n",
    "\n",
    "    # This is not correct for mixed since x is prob\n",
    "    # z = 0 => x = 0\n",
    "    @constraint(xm, node[i in 1:N_POOL], \n",
    "            sum(x[i, k] for k=1:N_CHOSEN) <= sum(z[i, k] for k=1:N_CHOSEN))\n",
    "                                                                    \n",
    "    @constraint(xm, icons[j in 1:N_POOL], t[j] >= \n",
    "                                (1 - sum(z[j, k] for k=1:N_CHOSEN))*inf)\n",
    "        \n",
    "    @constraint(xm, ucons[j in 1:N_POOL], t[j] <= \n",
    "                                p[j] + sup*sum(z[j, k] for k=1:N_CHOSEN))\n",
    "\n",
    "    @constraint(xm, mincons[j in 1:N_POOL, k in 1:N_CHOSEN], \n",
    "        p[j] + q[k] + r[j, k]  <= sum(get_score(i, j, k, k, elo) \n",
    "                                                    * x[i, k] for i=1:N_POOL))\n",
    "\n",
    "    @objective(xm, Max, sum(t) + sum(q) + sum(r))        \n",
    "\n",
    "    solve(xm)\n",
    "    println(getobjectivevalue(xm))\n",
    "    xopt = getvalue(x)                                                                                                         \n",
    "    solution_x = NamedArray([xopt[i, k] for i=1:N_POOL, k=1:N_CHOSEN])\n",
    "    println(solution_x)\n",
    "    return xopt\n",
    "end;"
   ]
  },
  {
   "cell_type": "code",
   "execution_count": 18,
   "metadata": {
    "code_folding": [],
    "collapsed": false
   },
   "outputs": [],
   "source": [
    "function select_with_budget_mixed(lambda, N_POOL, N_CHOSEN, \n",
    "        get_score, elo, worth)\n",
    "    inf = -1000\n",
    "    sup = 1000 #dangerous\n",
    "\n",
    "    xm = Model(solver=CbcSolver())\n",
    "\n",
    "    @variable(xm, 0 <= x[1:N_POOL, 1:N_CHOSEN] <= 1)\n",
    "    @variable(xm, z[1:N_POOL, 1:N_CHOSEN], Bin)\n",
    "    @variable(xm, p[1:N_POOL] <= 0) #dual corresponding to <= 1\n",
    "    @variable(xm, q[1:N_CHOSEN])\n",
    "    @variable(xm, r[1:N_POOL, 1:N_CHOSEN] <= 0)\n",
    "    @variable(xm, t[1:N_POOL] <= 0)\n",
    "\n",
    "    @constraint(xm, supply[i in 1:N_POOL], \n",
    "        sum(z[i, k] for k=1:N_CHOSEN) <= 1)\n",
    "    @constraint(xm, demand[k in 1:N_CHOSEN], \n",
    "                    sum(z[i, k] for i=1:N_POOL) == 1)\n",
    "                            \n",
    "    @constraint(xm, supplyProb[i in 1:N_POOL], \n",
    "                                sum(x[i, k] for k=1:N_CHOSEN) <= 1)\n",
    "    @constraint(xm, demandProb[k in 1:N_CHOSEN], \n",
    "                                sum(x[i, k] for i=1:N_POOL) == 1)\n",
    "\n",
    "    # z = 0 => x = 0\n",
    "    @constraint(xm, node[i in 1:N_POOL], \n",
    "            sum(x[i, k] for k=1:N_CHOSEN) <= sum(z[i, k] for k=1:N_CHOSEN))\n",
    "                                                                    \n",
    "    @constraint(xm, icons[j in 1:N_POOL], t[j] >= \n",
    "                                (1 - sum(z[j, k] for k=1:N_CHOSEN))*inf)\n",
    "        \n",
    "    @constraint(xm, ucons[j in 1:N_POOL], t[j] <= \n",
    "                                p[j] + sup*sum(z[j, k] for k=1:N_CHOSEN))\n",
    "\n",
    "    @constraint(xm, mincons[j in 1:N_POOL, k in 1:N_CHOSEN], \n",
    "        p[j] + q[k] + r[j, k]  <= sum(get_score(i, j, k, k, elo) \n",
    "                                                    * x[i, k] for i=1:N_POOL))\n",
    "    @expression(xm, playercost,  lambda * \n",
    "                sum(sum(z[i, k] for k=1:N_CHOSEN) \n",
    "                        * worth[i] for i=1:N_POOL))\n",
    "    @objective(xm, Max, sum(t) + sum(q) + sum(r) - playercost)        \n",
    "\n",
    "    solve(xm)\n",
    "#     println(getobjectivevalue(xm))\n",
    "    xopt = getvalue(x)                                                                                                         \n",
    "#     solution_x = NamedArray([xopt[i, k] for i=1:N_POOL, k=1:N_CHOSEN])\n",
    "#     println(solution_x)\n",
    "    return [xopt, getobjectivevalue(xm), getvalue(playercost)] \n",
    "end;"
   ]
  },
  {
   "cell_type": "markdown",
   "metadata": {},
   "source": [
    "### Pareto"
   ]
  },
  {
   "cell_type": "code",
   "execution_count": 19,
   "metadata": {
    "collapsed": false
   },
   "outputs": [
    {
     "data": {
      "text/plain": [
       "get_pareto (generic function with 1 method)"
      ]
     },
     "execution_count": 19,
     "metadata": {},
     "output_type": "execute_result"
    }
   ],
   "source": [
    "function get_pareto()\n",
    "    # compute optimal tradeoff curve (this may take a few seconds)\n",
    "    N = 50\n",
    "    lambda_values = logspace(0,0.1,N)\n",
    "    cost = zeros(N)\n",
    "    score = zeros(N)\n",
    "    for (i, lambda) in enumerate(lambda_values)\n",
    "        result = select_with_budget_mixed(lambda, N_POOL, N_CHOSEN, \n",
    "            get_chess_score3, elos, worth * 0.001)\n",
    "        cost[i] = result[3]\n",
    "        score[i] = result[2] + lambda * result[3]\n",
    "    end\n",
    "    \n",
    "    # plot tradeoff curve\n",
    "    plot(cost, score,\"b-\")\n",
    "    xlabel(\"cost (millions)\")\n",
    "    ylabel(\"expected score\")\n",
    "    # axis([1.5,4.5,0,.4]);\n",
    "    tight_layout()\n",
    "end"
   ]
  },
  {
   "cell_type": "markdown",
   "metadata": {},
   "source": [
    "### 6.C. Results and Discussion ###"
   ]
  },
  {
   "cell_type": "code",
   "execution_count": 20,
   "metadata": {
    "collapsed": false
   },
   "outputs": [
    {
     "ename": "LoadError",
     "evalue": "UndefVarError: N_POOL not defined",
     "output_type": "error",
     "traceback": [
      "UndefVarError: N_POOL not defined",
      ""
     ]
    }
   ],
   "source": [
    "xopt = select_from_pool_mixed(N_POOL, N_CHOSEN,  get_chess_score3, elo);"
   ]
  },
  {
   "cell_type": "code",
   "execution_count": 21,
   "metadata": {
    "collapsed": false
   },
   "outputs": [
    {
     "ename": "LoadError",
     "evalue": "UndefVarError: N_POOL not defined",
     "output_type": "error",
     "traceback": [
      "UndefVarError: N_POOL not defined",
      ""
     ]
    }
   ],
   "source": [
    "result = select_with_budget_mixed(0.01, N_POOL, N_CHOSEN, \n",
    "    get_chess_score3, elos, worth * 0.001)"
   ]
  },
  {
   "cell_type": "markdown",
   "metadata": {},
   "source": [
    "## <center>7. Results and Discussion</center> ##\n",
    "\n",
    "\n",
    "<!-- Here, you display and discuss the results. Show figures, plots, images, trade-off curves, or whatever else you can think of to best illustrate your results. The discussion should explain what the results mean, and how to interpret them. You should also explain the limitations of your approach/model and how sensitive your results are to the assumptions you made.\n",
    "\n",
    "Use plots (see `PyPlot` examples from class), or you can display results in a table like this:\n",
    "-->\n",
    "\n",
    "| Tables        | Are           | Cool  |\n",
    "| ------------- |:-------------:| -----:|\n",
    "| col 3 is      | right-aligned |\\$1600 |\n",
    "| col 2 is      | centered      |  \\$12 |\n",
    "| zebra stripes | are neat      |   \\$1 |\n"
   ]
  },
  {
   "cell_type": "markdown",
   "metadata": {},
   "source": [
    "## <center>8. Conclusion</center> ##\n",
    "\n",
    "<p> In this project, we have illustrated how optimization techniques can be leveraged to determine the best strategy for a team to use in order to maximize winning chances in chess clashes. We also illustrated how to determine the best chess team composition to maximize probability of winning under budget constraints.</p>\n",
    "<p> The optimization models built as part of this project project can be applied, without modification, to determine optimal strategies for any team sports with rubbers that are non-cooperative in nature. The Davis cup and the Fed Cup are examples of tournaments in the realm of tennis where these models can potentially prove to be extremely effective for maximizing winning probabilities.</p>\n",
    "The models built in this project, however, are not applicable to all team sports. Since they do not account for the element of cooperation between team members, they would require modification in order to determine strategies for team sports like soccer and basketball. An interesting future direction for this project would be to extend the models to include cooperative team sports as well.    \n",
    "\n",
    "Summarize your findings and your results, and talk about at least one possible future direction; something that might be interesting to pursue as a follow-up to your project."
   ]
  },
  {
   "cell_type": "markdown",
   "metadata": {},
   "source": [
    "## <center>9. Appendix</center> ##"
   ]
  },
  {
   "cell_type": "markdown",
   "metadata": {},
   "source": [
    "### Nash Equilibrium by enumeration of strategy set ##"
   ]
  },
  {
   "cell_type": "code",
   "execution_count": 22,
   "metadata": {
    "collapsed": false
   },
   "outputs": [],
   "source": [
    "import Combinatorics\n",
    "function get_MSNE_by_enumeration(score_matrix::Array)\n",
    "    n = size(scores_matrix)[1]\n",
    "    # for primal - P person\n",
    "    m = Model(solver=ClpSolver())\n",
    "\n",
    "    @variable(m, 1>= p[1:n] >=0)\n",
    "    @variable(m, t)\n",
    "\n",
    "    @constraint(m, sum(p) == 1)\n",
    "    @constraint(m, min_const[k in 1:n], \n",
    "        sum(p[i] * score_matrix[i, k] for i=1:n) >= t)\n",
    "    # Max min (g1, g2, ..., gn)\n",
    "    @objective(m, Max, t)\n",
    "    solve(m)\n",
    "                \n",
    "    popt = getvalue(p)\n",
    "#     println(popt)\n",
    "    println(\"Optimal Score: \", getobjectivevalue(m))\n",
    "    return popt\n",
    "end;\n",
    "function get_MSNE_dual_by_enumeration(score_matrix::Array)\n",
    "    n = size(scores_matrix)[2]\n",
    "    # for primal - P person\n",
    "    m = Model(solver=ClpSolver())\n",
    "\n",
    "    @variable(m, 1>= q[1:n] >=0)\n",
    "    @variable(m, t)\n",
    "\n",
    "    @constraint(m, sum(q) == 1)\n",
    "    @constraint(m, max_const[k in 1:n], \n",
    "        sum(q[i] * score_matrix[k, i] for i=1:n) <= t)\n",
    "    # Max min (g1, g2, ..., gn)\n",
    "    @objective(m, Min, t)\n",
    "    solve(m)\n",
    "                \n",
    "    qopt = getvalue(q)\n",
    "#     println(qopt)\n",
    "    println(\"Optimal Score: \", getobjectivevalue(m))\n",
    "    return qopt\n",
    "end;            "
   ]
  },
  {
   "cell_type": "code",
   "execution_count": 55,
   "metadata": {
    "collapsed": false
   },
   "outputs": [
    {
     "name": "stderr",
     "output_type": "stream",
     "text": [
      "WARNING: Method definition get_nash_pure(Array) in module Main at In[46]:3 overwritten at In[55]:2.\n",
      "WARNING: Method definition get_nash_pure(Array, Any) in module Main at In[46]:3 overwritten at In[55]:2.\n"
     ]
    }
   ],
   "source": [
    "function get_nash_pure(score_matrix::Array, maxPlayer=true)\n",
    "    n = size(scores_matrix)[1]\n",
    "    t = zeros(n)\n",
    "    if maxPlayer             \n",
    "        for k in 1:n\n",
    "            t[k] = findmin(score_matrix[k, 1:n])[1]\n",
    "        end\n",
    "        return findmax(t)\n",
    "    else\n",
    "        for k in 1:n\n",
    "            t[k] = findmax(score_matrix[1:n, k])[1]\n",
    "        end\n",
    "        return findmin(t)\n",
    "    end\n",
    "end\n",
    ";"
   ]
  },
  {
   "cell_type": "code",
   "execution_count": 31,
   "metadata": {
    "collapsed": false
   },
   "outputs": [
    {
     "name": "stderr",
     "output_type": "stream",
     "text": [
      "WARNING: Method definition get_score_matrix(Array, Array, Any, Any) in module Main at In[24]:4 overwritten at In[31]:4.\n",
      "WARNING: Method definition get_combinations(Array, Int64) in module Main at In[24]:16 overwritten at In[31]:16.\n",
      "WARNING: Method definition get_permutations(Array, Int64) in module Main at In[24]:20 overwritten at In[31]:20.\n"
     ]
    }
   ],
   "source": [
    "# score_matrix function from 2 lists\n",
    "function get_score_matrix(list1::Array, list2::Array, get_match, elo)\n",
    "    # assume that team 1 plays firstly\n",
    "    dim1 = length(list1)\n",
    "    dim2 = length(list2)\n",
    "    scores = Matrix(dim1, dim2)\n",
    "    for i in 1:dim1\n",
    "        for j in 1:dim2\n",
    "            scores[i, j] = get_match(list1[i], list2[j], 1, elo)\n",
    "        end\n",
    "    end\n",
    "    return scores\n",
    "end;\n",
    "# ordered combination: return a list of nplayers obtained from a pool\n",
    "function get_combinations(list_players::Array, nchosen::Int)\n",
    "    return collect(combinations(list_players, nchosen))\n",
    "end;\n",
    "\n",
    "function get_permutations(list_players::Array, N_PLAYERS::Int)\n",
    "    return collect(permutations(list_players, N_PLAYERS))\n",
    "end;"
   ]
  },
  {
   "cell_type": "code",
   "execution_count": 33,
   "metadata": {
    "collapsed": false
   },
   "outputs": [],
   "source": [
    "# home_combinations = get_combinations(team_home, N_PLAYERS)\n",
    "# visitor_combinations = get_combinations(team_visitor, N_PLAYERS)\n",
    "\n",
    "list_home = get_permutations(team_USA[1:N_PLAYERS], N_PLAYERS)\n",
    "list_visitor = get_permutations(team_Russia[1:N_PLAYERS], N_PLAYERS)\n",
    "\n",
    "## Map to ELO\n",
    "scores_matrix = get_score_matrix(list_home, list_visitor, get_match_score2, \n",
    "    player_elo);"
   ]
  },
  {
   "cell_type": "code",
   "execution_count": 34,
   "metadata": {
    "collapsed": false
   },
   "outputs": [
    {
     "name": "stdout",
     "output_type": "stream",
     "text": [
      "Optimal Score: 1.9942110259954138\n"
     ]
    }
   ],
   "source": [
    "popt = get_MSNE_by_enumeration(scores_matrix);"
   ]
  },
  {
   "cell_type": "code",
   "execution_count": 35,
   "metadata": {
    "collapsed": false
   },
   "outputs": [
    {
     "name": "stdout",
     "output_type": "stream",
     "text": [
      "Optimal Score: 1.9942110259954136\n"
     ]
    }
   ],
   "source": [
    "popt = get_MSNE_dual_by_enumeration(scores_matrix);"
   ]
  },
  {
   "cell_type": "code",
   "execution_count": 28,
   "metadata": {
    "collapsed": false
   },
   "outputs": [
    {
     "data": {
      "text/plain": [
       "_plot_heatmap (generic function with 1 method)"
      ]
     },
     "execution_count": 28,
     "metadata": {},
     "output_type": "execute_result"
    }
   ],
   "source": [
    "function _plot_heatmap()\n",
    "    idxU = Dict()\n",
    "    for (i, k) in enumerate(team_USA)\n",
    "        idxU[k] = i\n",
    "    end\n",
    "    xlabels = []\n",
    "    for l in list_home\n",
    "        push!(xlabels, [idxU[name] for name in l])\n",
    "    end\n",
    "\n",
    "    idxR = Dict()\n",
    "    for (i, k) in enumerate(team_Russia)\n",
    "        idxR[k] = i\n",
    "    end\n",
    "    ylabels = []\n",
    "    for l in list_visitor\n",
    "        push!(ylabels, [idxR[name] for name in l])\n",
    "    end\n",
    "\n",
    "    clf()\n",
    "    fig, ax = subplots(figsize=(7, 5))\n",
    "    imshow(scores_matrix, cmap=\"jet\", aspect=\"auto\", interpolation=\"nearest\")\n",
    "    # pcolormesh(scores_matrix, cmap=\"jet\")\n",
    "    colorbar()\n",
    "    plt[:xlabel](\"Team USA\")\n",
    "    plt[:ylabel](\"Team Russia\")\n",
    "    ax[:set_xticklabels](xlabels, rotation=45, ha=\"center\", fontsize=7)\n",
    "    ax[:set_yticklabels](ylabels, ha=\"center\", minor=false, fontsize=7)\n",
    "end"
   ]
  }
 ],
 "metadata": {
  "kernelspec": {
   "display_name": "Julia 0.5.0",
   "language": "julia",
   "name": "julia-0.5"
  },
  "language_info": {
   "file_extension": ".jl",
   "mimetype": "application/julia",
   "name": "julia",
   "version": "0.5.0"
  },
  "toc": {
   "colors": {
    "hover_highlight": "#DAA520",
    "running_highlight": "#FF0000",
    "selected_highlight": "#FFD700"
   },
   "moveMenuLeft": true,
   "nav_menu": {
    "height": "512px",
    "width": "252px"
   },
   "navigate_menu": true,
   "number_sections": true,
   "sideBar": true,
   "threshold": 4,
   "toc_cell": false,
   "toc_position": {
    "height": "532px",
    "left": "0px",
    "right": "1068px",
    "top": "106px",
    "width": "163px"
   },
   "toc_section_display": "block",
   "toc_window_display": true,
   "widenNotebook": false
  }
 },
 "nbformat": 4,
 "nbformat_minor": 0
}
