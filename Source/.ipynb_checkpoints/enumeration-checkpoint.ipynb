{
 "cells": [
  {
   "cell_type": "markdown",
   "metadata": {},
   "source": [
    "# Stage 2: Nash equilibrium"
   ]
  },
  {
   "cell_type": "code",
   "execution_count": 1,
   "metadata": {
    "collapsed": true
   },
   "outputs": [],
   "source": [
    "using JuMP, Cbc, NamedArrays\n",
    "import Combinatorics"
   ]
  },
  {
   "cell_type": "code",
   "execution_count": 2,
   "metadata": {
    "collapsed": false
   },
   "outputs": [],
   "source": [
    "function get_nash_primal(score_matrix::Array)\n",
    "    size = ndims(score_matrix)\n",
    "    # for primal - P person\n",
    "    m = Model()\n",
    "\n",
    "    @variable(m, 1>= p[1:size] >=0)\n",
    "    @variable(m, t)\n",
    "\n",
    "    @constraint(m, sum(p) == 1)\n",
    "    @constraint(m, min_const[k in 1:size], \n",
    "        sum(p[i] * score_matrix[i, k] for i=1:size) >= t)\n",
    "    # Max min (g1, g2, ..., gn)\n",
    "    @objective(m, Max, t)\n",
    "    solve(m)\n",
    "                \n",
    "    popt = getvalue(p)\n",
    "    println(\"E Optimal Score: \", getobjectivevalue(m))\n",
    "    return findmax(popt)\n",
    "end\n",
    ";"
   ]
  },
  {
   "cell_type": "code",
   "execution_count": 27,
   "metadata": {
    "collapsed": false
   },
   "outputs": [
    {
     "name": "stderr",
     "output_type": "stream",
     "text": [
      "WARNING: Method definition get_nash_pure(Array) in module Main at In[2]:2 overwritten at In[27]:2.\n"
     ]
    }
   ],
   "source": [
    "function get_nash_pure(score_matrix::Array)\n",
    "    n = size(scores_matrix)[1]\n",
    "    m = Model(solver = CbcSolver())\n",
    "\n",
    "    @variable(m, t[1:n])\n",
    "    addSOS1(m, t)\n",
    "    \n",
    "    for k in 1:n\n",
    "        @constraint(m, min_const[i in 1:n], score_matrix[k, i] >= t[k])\n",
    "    end\n",
    "\n",
    "    @objective(m, Max, sum(t))\n",
    "    solve(m)\n",
    "                \n",
    "    topt = getvalue(t)\n",
    "    println(topt)\n",
    "    println(\"Optimal Score: \", getobjectivevalue(m))\n",
    "    return findmax(topt)\n",
    "end\n",
    ";"
   ]
  },
  {
   "cell_type": "markdown",
   "metadata": {},
   "source": [
    "## 1. Morra problem"
   ]
  },
  {
   "cell_type": "markdown",
   "metadata": {},
   "source": [
    "### Score function"
   ]
  },
  {
   "cell_type": "markdown",
   "metadata": {},
   "source": [
    "### Demo data (2 fingers Morra)"
   ]
  },
  {
   "cell_type": "code",
   "execution_count": 3,
   "metadata": {
    "collapsed": false
   },
   "outputs": [],
   "source": [
    "# calculate matrix incidences (max of mine is min of theirs or zero-sum game)\n",
    "matrix_host = [2 -3; -3 4]\n",
    "matrix_guest = [-2 3; 3 -4]\n",
    ";"
   ]
  },
  {
   "cell_type": "markdown",
   "metadata": {},
   "source": [
    "### Model"
   ]
  },
  {
   "cell_type": "markdown",
   "metadata": {},
   "source": [
    "#### Host "
   ]
  },
  {
   "cell_type": "code",
   "execution_count": null,
   "metadata": {
    "collapsed": false
   },
   "outputs": [],
   "source": [
    "# Our strategy P\n",
    "get_nash_primal(matrix_host)"
   ]
  },
  {
   "cell_type": "markdown",
   "metadata": {},
   "source": [
    "#### Guest"
   ]
  },
  {
   "cell_type": "code",
   "execution_count": null,
   "metadata": {
    "collapsed": false
   },
   "outputs": [],
   "source": [
    "get_nash_primal(matrix_guest)"
   ]
  },
  {
   "cell_type": "markdown",
   "metadata": {},
   "source": [
    "## 2. Chess "
   ]
  },
  {
   "cell_type": "markdown",
   "metadata": {},
   "source": [
    "### Game score function"
   ]
  },
  {
   "cell_type": "code",
   "execution_count": 4,
   "metadata": {
    "collapsed": true
   },
   "outputs": [],
   "source": [
    "# the positional advantage and the ratings difference\n",
    "# higher elo, first move better\n",
    "function get_score_chess_game(player, opponent, is_first)\n",
    "    x = player - opponent + 35*(-1)^(is_first + 1)\n",
    "    return 1/(1 + 10^(-x/400)) \n",
    "end\n",
    ";"
   ]
  },
  {
   "cell_type": "markdown",
   "metadata": {},
   "source": [
    "### Match score function"
   ]
  },
  {
   "cell_type": "code",
   "execution_count": 5,
   "metadata": {
    "collapsed": false
   },
   "outputs": [],
   "source": [
    "function get_match_score(team_player, team_opponent, is_first, players_dict)\n",
    "    len = length(team_player)\n",
    "    if is_first\n",
    "        return sum(get_score_chess_game(players_dict[team_player[i]], \n",
    "            players_dict[team_opponent[i]], i % 2) for i=1:len)\n",
    "    else\n",
    "        return sum(get_score_chess_game(players_dict[team_player[i]], \n",
    "            players_dict[team_opponent[i]], i % 2) for i=1:len)\n",
    "    end\n",
    "end\n",
    ";"
   ]
  },
  {
   "cell_type": "markdown",
   "metadata": {},
   "source": [
    "### Generate score matrices for all players\n",
    "Suppose that we have 10 players, choose 4 of them to establish our team, 6 other players become our opponents"
   ]
  },
  {
   "cell_type": "code",
   "execution_count": 6,
   "metadata": {
    "collapsed": false
   },
   "outputs": [
    {
     "data": {
      "text/plain": [
       "get_score_matrix (generic function with 1 method)"
      ]
     },
     "execution_count": 6,
     "metadata": {},
     "output_type": "execute_result"
    }
   ],
   "source": [
    "# score_matrix function from 2 lists\n",
    "function get_score_matrix(list1::Array, list2::Array, players_dict::Array)\n",
    "    # assume that team 1 plays firstly\n",
    "    dim1 = length(list1)\n",
    "    dim2 = length(list2)\n",
    "    scores = Matrix(dim1, dim2)\n",
    "    for i in 1:dim1\n",
    "        for j in 1:dim2\n",
    "            scores[i, j] = get_match_score(list1[i], list2[j], true, players_dict)\n",
    "        end\n",
    "    end\n",
    "    return scores\n",
    "end"
   ]
  },
  {
   "cell_type": "code",
   "execution_count": 7,
   "metadata": {
    "collapsed": false
   },
   "outputs": [
    {
     "data": {
      "text/plain": [
       "get_combinations (generic function with 1 method)"
      ]
     },
     "execution_count": 7,
     "metadata": {},
     "output_type": "execute_result"
    }
   ],
   "source": [
    "# ordered combination: return a list of nplayers obtained from a pool\n",
    "function get_combinations(list_players::Array, nchosen::Int)\n",
    "    return collect(combinations(list_players, nchosen))\n",
    "end"
   ]
  },
  {
   "cell_type": "code",
   "execution_count": 8,
   "metadata": {
    "collapsed": false
   },
   "outputs": [
    {
     "data": {
      "text/plain": [
       "get_permutations (generic function with 1 method)"
      ]
     },
     "execution_count": 8,
     "metadata": {},
     "output_type": "execute_result"
    }
   ],
   "source": [
    "function get_permutations(list_players::Array)\n",
    "    return collect(permutations(list_players))\n",
    "end"
   ]
  },
  {
   "cell_type": "markdown",
   "metadata": {
    "collapsed": true
   },
   "source": [
    "### Nash equilibrium"
   ]
  },
  {
   "cell_type": "code",
   "execution_count": 9,
   "metadata": {
    "collapsed": false
   },
   "outputs": [],
   "source": [
    "# one is enough!! No of games - 1's score = 2's score\n",
    "elo = [2838, 2822, 2817, 2772, 2771, 2761, 2750, 2747, 2745, 2741]\n",
    ";"
   ]
  },
  {
   "cell_type": "code",
   "execution_count": 10,
   "metadata": {
    "collapsed": false
   },
   "outputs": [
    {
     "data": {
      "text/plain": [
       "1×5 Array{Int64,2}:\n",
       " 2  4  7  8  9"
      ]
     },
     "execution_count": 10,
     "metadata": {},
     "output_type": "execute_result"
    }
   ],
   "source": [
    "team_host = [1 3 5 6 10]\n",
    "team_guest = [2 4 7 8 9]"
   ]
  },
  {
   "cell_type": "code",
   "execution_count": 11,
   "metadata": {
    "collapsed": false
   },
   "outputs": [
    {
     "name": "stdout",
     "output_type": "stream",
     "text": [
      "E Optimal Score: 2.6814690889974906\n"
     ]
    }
   ],
   "source": [
    "list_host = get_permutations(team_host)\n",
    "list_guest = get_permutations(team_guest)\n",
    "## Map to ELO\n",
    "scores_matrix = get_score_matrix(list_host, list_guest, elo)\n",
    "get_nash_primal(scores_matrix)\n",
    ";"
   ]
  },
  {
   "cell_type": "code",
   "execution_count": 38,
   "metadata": {
    "collapsed": false
   },
   "outputs": [
    {
     "name": "stdout",
     "output_type": "stream",
     "text": [
      "Cbc3007W No integer variables - nothing to do\n",
      "[0.0,0.0,0.0,0.0,0.0,0.0,0.0,0.0,0.0,0.0,0.0,0.0,0.0,0.0,0.0,0.0,0.0,0.0,0.0,0.0,0.0,0.0,0.0,0.0,0.0,0.0,0.0,0.0,0.0,0.0,0.0,0.0,0.0,0.0,0.0,0.0,0.0,0.0,0.0,0.0,0.0,0.0,0.0,0.0,0.0,0.0,0.0,0.0,0.0,0.0,0.0,0.0,0.0,0.0,0.0,0.0,0.0,0.0,0.0,0.0,0.0,0.0,0.0,0.0,0.0,0.0,0.0,0.0,0.0,0.0,0.0,0.0,0.0,0.0,0.0,0.0,0.0,0.0,0.0,0.0,0.0,0.0,2.68105,0.0,0.0,0.0,0.0,0.0,0.0,0.0,0.0,0.0,0.0,0.0,0.0,0.0,0.0,0.0,0.0,0.0,0.0,0.0,0.0,0.0,0.0,0.0,0.0,0.0,0.0,0.0,0.0,0.0,0.0,0.0,0.0,0.0,0.0,0.0,0.0,0.0]\n",
      "Optimal Score: 2.681054561455067\n"
     ]
    },
    {
     "data": {
      "text/plain": [
       "(2.681054561455067,83)"
      ]
     },
     "execution_count": 38,
     "metadata": {},
     "output_type": "execute_result"
    }
   ],
   "source": [
    "get_nash_pure(scores_matrix)"
   ]
  },
  {
   "cell_type": "code",
   "execution_count": 39,
   "metadata": {
    "collapsed": false
   },
   "outputs": [
    {
     "data": {
      "text/plain": [
       "5-element Array{Int64,1}:\n",
       "  6\n",
       "  3\n",
       " 10\n",
       "  1\n",
       "  5"
      ]
     },
     "execution_count": 39,
     "metadata": {},
     "output_type": "execute_result"
    }
   ],
   "source": [
    "list_host[83]"
   ]
  },
  {
   "cell_type": "code",
   "execution_count": 17,
   "metadata": {
    "collapsed": false
   },
   "outputs": [
    {
     "data": {
      "text/plain": [
       "f (generic function with 1 method)"
      ]
     },
     "execution_count": 17,
     "metadata": {},
     "output_type": "execute_result"
    }
   ],
   "source": [
    "function f(i::Int, j::Int, k::Int)\n",
    "    return get_score_chess_game(elo[team_host[i]], elo[team_guest[j]], k % 2)\n",
    "end"
   ]
  },
  {
   "cell_type": "code",
   "execution_count": 40,
   "metadata": {
    "collapsed": false
   },
   "outputs": [
    {
     "name": "stdout",
     "output_type": "stream",
     "text": [
      "2.681054561455067\n",
      "5×5 Named Array{Int64,2}\n",
      "A ╲ B │ 1  2  3  4  5\n",
      "──────┼──────────────\n",
      "1     │ 0  0  0  1  0\n",
      "2     │ 0  1  0  0  0\n",
      "3     │ 0  0  1  0  0\n",
      "4     │ 1  0  0  0  0\n",
      "5     │ 0  0  0  0  1\n",
      "p: [0.433968,0.50554,0.537131,0.541369,0.544171]\n",
      "q: [0.0286842,0.00871989,0.0427243,0.0385311,0.000216323]\n",
      "r: [0.0 0.0 0.0 0.0 0.0; 0.0 0.0 0.0 0.0 0.0; 0.0 0.0 0.0 0.0 0.0; 0.0 0.0 0.0 0.0 0.0; 0.0 0.0 0.0 0.0 0.0]\n"
     ]
    }
   ],
   "source": [
    "n = 5\n",
    "m = Model()\n",
    "\n",
    "@variable(m, x[1:n, 1:n], Bin)\n",
    "@variable(m, p[1:n])\n",
    "@variable(m, q[1:n])\n",
    "@variable(m, r[1:n, 1:n] <= 0)\n",
    "\n",
    "@constraint(m, supply[k in 1:n], sum(x[k, j] for j=1:n) == 1)\n",
    "@constraint(m, demand[k in 1:n], sum(x[i, k] for i=1:n) == 1)\n",
    "                        \n",
    "@constraint(m, mincons[j in 1:n, k in 1:n], \n",
    "    p[j] + q[k] + r[j, k] - sum(f(i, j, k) * x[i, k] for i=1:n) <= 0)\n",
    "@objective(m, Max, sum(p) + sum(q) + sum(r))        \n",
    "\n",
    "solve(m)\n",
    "println(getobjectivevalue(m))\n",
    "xopt = getvalue(x)\n",
    "solution_x = NamedArray(Int[xopt[i, k] for i=1:n, k=1:n])\n",
    "println(solution_x)\n",
    "println(\"p: \", getvalue(p))\n",
    "println(\"q: \", getvalue(q))\n",
    "println(\"r: \", getvalue(r))"
   ]
  },
  {
   "cell_type": "code",
   "execution_count": 41,
   "metadata": {
    "collapsed": false
   },
   "outputs": [
    {
     "data": {
      "text/html": [
       "2.681054813"
      ],
      "text/plain": [
       "2.681054813"
      ]
     },
     "execution_count": 41,
     "metadata": {},
     "output_type": "execute_result"
    }
   ],
   "source": [
    "sum([0.433968,0.50554,0.537131,0.541369,0.544171]) + sum([0.0286842,0.00871989,0.0427243,0.0385311,0.000216323])"
   ]
  },
  {
   "cell_type": "code",
   "execution_count": 43,
   "metadata": {
    "collapsed": false
   },
   "outputs": [
    {
     "name": "stdout",
     "output_type": "stream",
     "text": [
      "2.6810545614550674\n",
      "5×5 Named Array{Int64,2}\n",
      "A ╲ B │ 1  2  3  4  5\n",
      "──────┼──────────────\n",
      "1     │ 0  1  0  0  0\n",
      "2     │ 0  0  0  0  1\n",
      "3     │ 1  0  0  0  0\n",
      "4     │ 0  0  0  1  0\n",
      "5     │ 0  0  1  0  0\n"
     ]
    }
   ],
   "source": [
    "n = 5\n",
    "m = Model()\n",
    "\n",
    "@variable(m, y[1:n, 1:n], Bin)\n",
    "\n",
    "@constraint(m, supply[k in 1:n], sum(y[k, j] for j=1:n) == 1)\n",
    "@constraint(m, demand[k in 1:n], sum(y[i, k] for i=1:n) == 1)\n",
    "                        \n",
    "@objective(m, Min,  sum(f(i, j, k) * xopt[i, k] * y[j, k] for i=1:n, j in 1:n, k in 1:n))        \n",
    "\n",
    "solve(m)\n",
    "println(getobjectivevalue(m))\n",
    "yopt = getvalue(y)\n",
    "solution_y = NamedArray(Int[yopt[i, k] for i=1:n, k=1:n])\n",
    "println(solution_y)"
   ]
  },
  {
   "cell_type": "code",
   "execution_count": 44,
   "metadata": {
    "collapsed": false
   },
   "outputs": [
    {
     "data": {
      "text/html": [
       "2.681054561455067"
      ],
      "text/plain": [
       "2.681054561455067"
      ]
     },
     "execution_count": 44,
     "metadata": {},
     "output_type": "execute_result"
    }
   ],
   "source": [
    "get_match_score([6, 3, 5, 1, 10], [7, 2, 9, 8, 4], true, elo)"
   ]
  },
  {
   "cell_type": "code",
   "execution_count": null,
   "metadata": {
    "collapsed": true
   },
   "outputs": [],
   "source": []
  }
 ],
 "metadata": {
  "kernelspec": {
   "display_name": "Julia 0.5.0",
   "language": "julia",
   "name": "julia-0.5"
  },
  "language_info": {
   "file_extension": ".jl",
   "mimetype": "application/julia",
   "name": "julia",
   "version": "0.5.0"
  }
 },
 "nbformat": 4,
 "nbformat_minor": 2
}
