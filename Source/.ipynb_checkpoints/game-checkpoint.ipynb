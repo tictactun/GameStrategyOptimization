{
 "cells": [
  {
   "cell_type": "markdown",
   "metadata": {
    "toc": "true"
   },
   "source": [
    "# Table of Contents\n",
    " <p><div class=\"lev1 toc-item\"><a href=\"#Data-and-support-functions\" data-toc-modified-id=\"Data-and-support-functions-1\"><span class=\"toc-item-num\">1&nbsp;&nbsp;</span>Data and support functions</a></div><div class=\"lev2 toc-item\"><a href=\"#Demo-data\" data-toc-modified-id=\"Demo-data-11\"><span class=\"toc-item-num\">1.1&nbsp;&nbsp;</span>Demo data</a></div><div class=\"lev2 toc-item\"><a href=\"#Support-functions\" data-toc-modified-id=\"Support-functions-12\"><span class=\"toc-item-num\">1.2&nbsp;&nbsp;</span>Support functions</a></div><div class=\"lev3 toc-item\"><a href=\"#Score-function\" data-toc-modified-id=\"Score-function-121\"><span class=\"toc-item-num\">1.2.1&nbsp;&nbsp;</span>Score function</a></div><div class=\"lev3 toc-item\"><a href=\"#Match-score-function\" data-toc-modified-id=\"Match-score-function-122\"><span class=\"toc-item-num\">1.2.2&nbsp;&nbsp;</span>Match score function</a></div><div class=\"lev1 toc-item\"><a href=\"#Choosing-team's-strategy\" data-toc-modified-id=\"Choosing-team's-strategy-2\"><span class=\"toc-item-num\">2&nbsp;&nbsp;</span>Choosing team's strategy</a></div><div class=\"lev2 toc-item\"><a href=\"#Fixed-opponent's-strategy\" data-toc-modified-id=\"Fixed-opponent's-strategy-21\"><span class=\"toc-item-num\">2.1&nbsp;&nbsp;</span>Fixed opponent's strategy</a></div><div class=\"lev3 toc-item\"><a href=\"#Model-1:-Simple-score-function\" data-toc-modified-id=\"Model-1:-Simple-score-function-211\"><span class=\"toc-item-num\">2.1.1&nbsp;&nbsp;</span>Model 1: Simple score function</a></div><div class=\"lev3 toc-item\"><a href=\"#Model-2:-Probabilistic-score-function\" data-toc-modified-id=\"Model-2:-Probabilistic-score-function-212\"><span class=\"toc-item-num\">2.1.2&nbsp;&nbsp;</span>Model 2: Probabilistic score function</a></div><div class=\"lev2 toc-item\"><a href=\"#Minimax-solution---pure-strategy\" data-toc-modified-id=\"Minimax-solution---pure-strategy-22\"><span class=\"toc-item-num\">2.2&nbsp;&nbsp;</span>Minimax solution - pure strategy</a></div><div class=\"lev3 toc-item\"><a href=\"#Optimize-our-strategy\" data-toc-modified-id=\"Optimize-our-strategy-221\"><span class=\"toc-item-num\">2.2.1&nbsp;&nbsp;</span>Optimize our strategy</a></div><div class=\"lev3 toc-item\"><a href=\"#Get-opponent's-best-strategy\" data-toc-modified-id=\"Get-opponent's-best-strategy-222\"><span class=\"toc-item-num\">2.2.2&nbsp;&nbsp;</span>Get opponent's best strategy</a></div><div class=\"lev2 toc-item\"><a href=\"#Nash-equilibrium---Mixed-strategy\" data-toc-modified-id=\"Nash-equilibrium---Mixed-strategy-23\"><span class=\"toc-item-num\">2.3&nbsp;&nbsp;</span>Nash equilibrium - Mixed strategy</a></div><div class=\"lev3 toc-item\"><a href=\"#Nash-equilibrium---primal\" data-toc-modified-id=\"Nash-equilibrium---primal-231\"><span class=\"toc-item-num\">2.3.1&nbsp;&nbsp;</span>Nash equilibrium - primal</a></div><div class=\"lev3 toc-item\"><a href=\"#Nash-equilibrium---dual\" data-toc-modified-id=\"Nash-equilibrium---dual-232\"><span class=\"toc-item-num\">2.3.2&nbsp;&nbsp;</span>Nash equilibrium - dual</a></div><div class=\"lev3 toc-item\"><a href=\"#Enumeration\" data-toc-modified-id=\"Enumeration-233\"><span class=\"toc-item-num\">2.3.3&nbsp;&nbsp;</span>Enumeration</a></div><div class=\"lev1 toc-item\"><a href=\"#Team-Selection-and-Trade-off\" data-toc-modified-id=\"Team-Selection-and-Trade-off-3\"><span class=\"toc-item-num\">3&nbsp;&nbsp;</span>Team Selection and Trade off</a></div><div class=\"lev2 toc-item\"><a href=\"#Model-1:-Selecting-from-a-pool\" data-toc-modified-id=\"Model-1:-Selecting-from-a-pool-31\"><span class=\"toc-item-num\">3.1&nbsp;&nbsp;</span>Model 1: Selecting from a pool</a></div><div class=\"lev3 toc-item\"><a href=\"#Optimize-our-strategy\" data-toc-modified-id=\"Optimize-our-strategy-311\"><span class=\"toc-item-num\">3.1.1&nbsp;&nbsp;</span>Optimize our strategy</a></div><div class=\"lev3 toc-item\"><a href=\"#Get-opponent's-best-strategy\" data-toc-modified-id=\"Get-opponent's-best-strategy-312\"><span class=\"toc-item-num\">3.1.2&nbsp;&nbsp;</span>Get opponent's best strategy</a></div><div class=\"lev2 toc-item\"><a href=\"#Model-2---Selecting-with-a-small-budget\" data-toc-modified-id=\"Model-2---Selecting-with-a-small-budget-32\"><span class=\"toc-item-num\">3.2&nbsp;&nbsp;</span>Model 2 - Selecting with a small budget</a></div><div class=\"lev3 toc-item\"><a href=\"#Optimize-our-strategy\" data-toc-modified-id=\"Optimize-our-strategy-321\"><span class=\"toc-item-num\">3.2.1&nbsp;&nbsp;</span>Optimize our strategy</a></div><div class=\"lev3 toc-item\"><a href=\"#Get-opponent's-best-strategy\" data-toc-modified-id=\"Get-opponent's-best-strategy-322\"><span class=\"toc-item-num\">3.2.2&nbsp;&nbsp;</span>Get opponent's best strategy</a></div>"
   ]
  },
  {
   "cell_type": "code",
   "execution_count": 1,
   "metadata": {
    "collapsed": true
   },
   "outputs": [],
   "source": [
    "using JuMP\n",
    "using NamedArrays"
   ]
  },
  {
   "cell_type": "markdown",
   "metadata": {},
   "source": [
    "<strong> Questions for this project:   </strong>\n",
    "1. How to choose a team's strategy  \n",
    "a. Knowing opponent's strategy  \n",
    "b. Nash equilibrium: optimize for both 2 teams  \n",
    "\n",
    "\n",
    "2. Players selection: how to buy some qualified players with a small budget   \n",
    "a. Establish teams from scratch  \n",
    "b. Pre-season transfer  "
   ]
  },
  {
   "cell_type": "markdown",
   "metadata": {},
   "source": [
    "# Data and support functions"
   ]
  },
  {
   "cell_type": "markdown",
   "metadata": {},
   "source": [
    "## Demo data"
   ]
  },
  {
   "cell_type": "code",
   "execution_count": 97,
   "metadata": {
    "collapsed": false
   },
   "outputs": [],
   "source": [
    "# one is enouxgh!! No of games - 1's score = 2's score\n",
    "elo = [2838, 2822, 2817, 2772, 2771, 2761, \n",
    "    2750, 2747, 2745, 2741, 2720, 2700, 2680]\n",
    "price = [1000, 900, 850, 700, 690, 650, 600, 580, 570, 560] * 0.001 \n",
    "\n",
    "team_host = [2 4 7 8 11 12]\n",
    "team_guest = [1 3 5 6 9 10]\n",
    "\n",
    "plan_guest = [2 1 4 3] # fixed plan\n",
    "\n",
    "N_PLAYERS = 10\n",
    "N_CHOSEN = 4\n",
    "N_POOL = 10\n",
    ";"
   ]
  },
  {
   "cell_type": "markdown",
   "metadata": {},
   "source": [
    "## Support functions"
   ]
  },
  {
   "cell_type": "markdown",
   "metadata": {},
   "source": [
    "### Score function"
   ]
  },
  {
   "cell_type": "code",
   "execution_count": 3,
   "metadata": {
    "collapsed": false
   },
   "outputs": [],
   "source": [
    "function get_simple_score(player, opponent, order, elo)\n",
    "    # first move => +0.75\n",
    "    x = elo[player] - elo[opponent] + 0.75 * (-1)^(order + 1)\n",
    "    if x > 0 \n",
    "        return 1\n",
    "    elseif x < 0\n",
    "        return 0\n",
    "    else \n",
    "        return 0.5\n",
    "    end  \n",
    "end\n",
    ";"
   ]
  },
  {
   "cell_type": "code",
   "execution_count": 4,
   "metadata": {
    "collapsed": false
   },
   "outputs": [],
   "source": [
    "# the positional advantage and the ratings difference\n",
    "# higher elo, first move better\n",
    "# order: 1 or 0 with 1 being first\n",
    "function get_score_chess_game(player, opponent, order, elo)\n",
    "    x = elo[player] - elo[opponent] + 35*(-1)^(order + 1)\n",
    "    return 1/(1 + 10^(-x/400)) \n",
    "end\n",
    ";"
   ]
  },
  {
   "cell_type": "code",
   "execution_count": 58,
   "metadata": {
    "collapsed": false
   },
   "outputs": [
    {
     "name": "stderr",
     "output_type": "stream",
     "text": [
      "WARNING: Method definition get_chess_score2(Any, Any, Any, Any, Any) in module Main at In[53]:3 overwritten at In[58]:3.\n"
     ]
    }
   ],
   "source": [
    "# order matters\n",
    "function get_chess_score2(player, opponent, order, round, elo)\n",
    "    x = elo[player] - elo[opponent] + 35*(-1)^(order % 2 + 1)      \n",
    "    return 1/(1 + 10^(-x/400)) * (1.01 - 0.01round/N_PLAYERS)\n",
    "end\n",
    ";"
   ]
  },
  {
   "cell_type": "markdown",
   "metadata": {},
   "source": [
    "### Match score function"
   ]
  },
  {
   "cell_type": "code",
   "execution_count": 5,
   "metadata": {
    "collapsed": false
   },
   "outputs": [],
   "source": [
    "function get_match_score(team_player, team_opponent, order, elo)\n",
    "    sum(get_score_chess_game(team_player[i], team_opponent[i], \n",
    "            i + order + 1, elo) for i=1:length(team_player))\n",
    "end\n",
    ";"
   ]
  },
  {
   "cell_type": "code",
   "execution_count": 63,
   "metadata": {
    "collapsed": false
   },
   "outputs": [],
   "source": [
    "function get_match_score2(team_player, team_opponent, order, elo)\n",
    "    sum(get_chess_score2(team_player[i], team_opponent[i], \n",
    "            i + order + 1, i, elo) for i=1:length(team_player))\n",
    "end\n",
    ";"
   ]
  },
  {
   "cell_type": "markdown",
   "metadata": {},
   "source": [
    "# Choosing team's strategy"
   ]
  },
  {
   "cell_type": "markdown",
   "metadata": {},
   "source": [
    "## Fixed opponent's strategy"
   ]
  },
  {
   "cell_type": "markdown",
   "metadata": {},
   "source": [
    "### Model 1: Simple score function"
   ]
  },
  {
   "cell_type": "code",
   "execution_count": 6,
   "metadata": {
    "collapsed": false
   },
   "outputs": [
    {
     "name": "stdout",
     "output_type": "stream",
     "text": [
      "Strategy: \n",
      "2 - 3\n",
      "4 - 1\n",
      "7 - 6\n",
      "8 - 5\n",
      "Score: 4.0\n"
     ]
    }
   ],
   "source": [
    "simpleModel = Model()\n",
    "\n",
    "@variable(simpleModel, x[1:N_PLAYERS, 1:N_PLAYERS], Bin)\n",
    "\n",
    "@constraint(simpleModel, supply[k in 1:N_PLAYERS], \n",
    "                sum(x[k, j] for j=1:N_PLAYERS) == 1)\n",
    "@constraint(simpleModel, demand[k in 1:N_PLAYERS], \n",
    "                sum(x[i, k] for i=1:N_PLAYERS) == 1)\n",
    "\n",
    "@objective(simpleModel, Max, sum(x[i, j] * get_simple_score(\n",
    "            team_host[j], team_guest[plan_guest[i]], i % 2, elo) \n",
    "            for i=1:N_PLAYERS, j=1:N_PLAYERS))\n",
    "                                    \n",
    "solve(simpleModel)\n",
    "                                    \n",
    "xopt = getvalue(x)\n",
    "println(\"Strategy: \")\n",
    "for i in 1:N_PLAYERS\n",
    "    for j in 1:N_PLAYERS\n",
    "        if xopt[i, j] != 0\n",
    "            println(team_guest[i], \" - \", team_host[j])\n",
    "        end\n",
    "    end\n",
    "end\n",
    "println(\"Score: \", getobjectivevalue(simpleModel))"
   ]
  },
  {
   "cell_type": "markdown",
   "metadata": {},
   "source": [
    "### Model 2: Probabilistic score function"
   ]
  },
  {
   "cell_type": "code",
   "execution_count": 7,
   "metadata": {
    "collapsed": false
   },
   "outputs": [
    {
     "name": "stdout",
     "output_type": "stream",
     "text": [
      "Strategy: \n",
      "4 - 3\n",
      "2 - 6\n",
      "8 - 5\n",
      "7 - 1\n",
      "Score: 2.1381813962909337\n"
     ]
    }
   ],
   "source": [
    "probModel = Model()\n",
    "\n",
    "@variable(probModel, x[1:N_PLAYERS, 1:N_PLAYERS], Bin)\n",
    "\n",
    "@constraint(probModel, supply[k in 1:N_PLAYERS], \n",
    "                sum(x[k, j] for j=1:N_PLAYERS) == 1)\n",
    "@constraint(probModel, demand[k in 1:N_PLAYERS], \n",
    "                sum(x[i, k] for i=1:N_PLAYERS) == 1)\n",
    "\n",
    "@objective(probModel, Max, sum(x[i, j] * get_score_chess_game(team_host[j], \n",
    "                            team_guest[plan_guest[i]], i % 2, elo) \n",
    "                            for i=1:N_PLAYERS, j=1:N_PLAYERS))\n",
    "                                    \n",
    "solve(probModel)\n",
    "                                    \n",
    "xopt = getvalue(x)\n",
    "println(\"Strategy: \", )\n",
    "for i in 1:N_PLAYERS\n",
    "    for j in 1:N_PLAYERS\n",
    "        if xopt[i, j] != 0\n",
    "            println(team_guest[plan_guest[i]], \" - \", team_host[j])\n",
    "        end\n",
    "    end\n",
    "end\n",
    "println(\"Score: \", getobjectivevalue(probModel))"
   ]
  },
  {
   "cell_type": "markdown",
   "metadata": {},
   "source": [
    "## Minimax solution - pure strategy"
   ]
  },
  {
   "cell_type": "markdown",
   "metadata": {},
   "source": [
    "### Optimize our strategy"
   ]
  },
  {
   "cell_type": "code",
   "execution_count": 8,
   "metadata": {
    "collapsed": false
   },
   "outputs": [
    {
     "name": "stdout",
     "output_type": "stream",
     "text": [
      "2.1368277781896134\n",
      "4×4 Named Array{Int64,2}\n",
      "A ╲ B │ 1  2  3  4\n",
      "──────┼───────────\n",
      "1     │ 0  0  0  1\n",
      "2     │ 0  1  0  0\n",
      "3     │ 1  0  0  0\n",
      "4     │ 0  0  1  0\n",
      "p: [0.472524,0.544223,0.575687,0.5799]\n",
      "q: [0.0042012,-0.0298361,-0.00987175,0.0]\n",
      "r: [0.0 0.0 0.0 0.0; 0.0 0.0 0.0 0.0; 0.0 0.0 0.0 0.0; 0.0 0.0 0.0 0.0]\n"
     ]
    }
   ],
   "source": [
    "nashModel = Model()\n",
    "\n",
    "@variable(nashModel, x[1:N_PLAYERS, 1:N_PLAYERS], Bin)\n",
    "@variable(nashModel, p[1:N_PLAYERS])\n",
    "@variable(nashModel, q[1:N_PLAYERS])\n",
    "@variable(nashModel, r[1:N_PLAYERS, 1:N_PLAYERS] <= 0)\n",
    "\n",
    "@constraint(nashModel, supply[k in 1:N_PLAYERS], \n",
    "                sum(x[k, j] for j=1:N_PLAYERS) == 1)\n",
    "@constraint(nashModel, demand[k in 1:N_PLAYERS], \n",
    "                sum(x[i, k] for i=1:N_PLAYERS) == 1)\n",
    "                        \n",
    "@constraint(nashModel, mincons[j in 1:N_PLAYERS, k in 1:N_PLAYERS], \n",
    "    p[j] + q[k] + r[j, k] <= \n",
    "        sum(get_score_chess_game(team_host[i], team_guest[j], k, elo) \n",
    "                                * x[i, k] for i=1:N_PLAYERS))\n",
    "                                    \n",
    "@objective(nashModel, Max, sum(p) + sum(q) + sum(r))        \n",
    "\n",
    "solve(nashModel)\n",
    "                                    \n",
    "println(getobjectivevalue(nashModel))\n",
    "xopt = getvalue(x)\n",
    "solution_x = NamedArray(Int[xopt[i, k] for i=1:N_PLAYERS, k=1:N_PLAYERS])\n",
    "println(solution_x)\n",
    "println(\"p: \", getvalue(p))\n",
    "println(\"q: \", getvalue(q))\n",
    "println(\"r: \", getvalue(r))"
   ]
  },
  {
   "cell_type": "code",
   "execution_count": 12,
   "metadata": {
    "collapsed": false
   },
   "outputs": [
    {
     "name": "stdout",
     "output_type": "stream",
     "text": [
      "2.137135523262585\n",
      "4×4 Named Array{Int64,2}\n",
      "A ╲ B │ 1  2  3  4\n",
      "──────┼───────────\n",
      "1     │ 0  1  0  0\n",
      "2     │ 0  0  0  1\n",
      "3     │ 1  0  0  0\n",
      "4     │ 0  0  1  0\n",
      "p: [0.544495,0.514387,0.451004,0.436955]\n",
      "q: [0.128896,-0.0716988,0.133097,0.0]\n",
      "r: [0.0 0.0 0.0 0.0; 0.0 0.0 0.0 0.0; 0.0 0.0 0.0 0.0; 0.0 0.0 0.0 0.0]\n"
     ]
    }
   ],
   "source": [
    "nashModel = Model()\n",
    "\n",
    "@variable(nashModel, y[1:N_PLAYERS, 1:N_PLAYERS], Bin)\n",
    "@variable(nashModel, p[1:N_PLAYERS])\n",
    "@variable(nashModel, q[1:N_PLAYERS])\n",
    "@variable(nashModel, r[1:N_PLAYERS, 1:N_PLAYERS] >= 0) # change\n",
    "\n",
    "@constraint(nashModel, supply[k in 1:N_PLAYERS], \n",
    "                sum(y[k, j] for j=1:N_PLAYERS) == 1)\n",
    "@constraint(nashModel, demand[k in 1:N_PLAYERS], \n",
    "                sum(y[i, k] for i=1:N_PLAYERS) == 1)\n",
    "                        \n",
    "@constraint(nashModel, maxcons[i in 1:N_PLAYERS, k in 1:N_PLAYERS],  # change\n",
    "    p[i] + q[k] + r[i, k] >= \n",
    "        sum(get_score_chess_game(team_host[i], team_guest[j], k, elo) \n",
    "                                * y[j, k] for j=1:N_PLAYERS))\n",
    "                                    \n",
    "@objective(nashModel, Min, sum(p) + sum(q) + sum(r))        \n",
    "\n",
    "solve(nashModel)\n",
    "                                    \n",
    "println(getobjectivevalue(nashModel))\n",
    "yopt = getvalue(y)\n",
    "solution_y = NamedArray(Int[yopt[j, k] for j=1:N_PLAYERS, k=1:N_PLAYERS])\n",
    "println(solution_y)\n",
    "println(\"p: \", getvalue(p))\n",
    "println(\"q: \", getvalue(q))\n",
    "println(\"r: \", getvalue(r))"
   ]
  },
  {
   "cell_type": "markdown",
   "metadata": {},
   "source": [
    "###  Get opponent's best strategy"
   ]
  },
  {
   "cell_type": "code",
   "execution_count": 89,
   "metadata": {
    "collapsed": false
   },
   "outputs": [
    {
     "name": "stdout",
     "output_type": "stream",
     "text": [
      "2.1368277781896134\n",
      "4×4 Named Array{Int64,2}\n",
      "A ╲ B │ 1  2  3  4\n",
      "──────┼───────────\n",
      "1     │ 0  0  1  0\n",
      "2     │ 0  1  0  0\n",
      "3     │ 0  0  0  1\n",
      "4     │ 1  0  0  0\n"
     ]
    }
   ],
   "source": [
    "ym = Model()\n",
    "\n",
    "@variable(ym, y[1:N_PLAYERS, 1:N_PLAYERS], Bin)\n",
    "\n",
    "@constraint(ym, supply[k in 1:N_PLAYERS], sum(y[k, j] for j=1:N_PLAYERS) == 1)\n",
    "@constraint(ym, demand[k in 1:N_PLAYERS], sum(y[i, k] for i=1:N_PLAYERS) == 1)\n",
    "\n",
    "@expression(ym, score, sum(get_score_chess_game(team_host[i], \n",
    "                    team_guest[j], k, elo) * xopt[i, k] * y[j, k] \n",
    "                    for i=1:N_PLAYERS, j in 1:N_PLAYERS, k in 1:N_PLAYERS))\n",
    "                                    \n",
    "@objective(ym, Min, score)\n",
    "            \n",
    "solve(ym)\n",
    "println(getobjectivevalue(ym))\n",
    "yopt = getvalue(y)\n",
    "solution_y = NamedArray(Int[yopt[i, k] for i=1:N_PLAYERS, k=1:N_PLAYERS])\n",
    "println(solution_y)"
   ]
  },
  {
   "cell_type": "markdown",
   "metadata": {},
   "source": [
    "## Nash equilibrium - Mixed strategy"
   ]
  },
  {
   "cell_type": "markdown",
   "metadata": {},
   "source": [
    "### Nash equilibrium - primal"
   ]
  },
  {
   "cell_type": "code",
   "execution_count": 70,
   "metadata": {
    "collapsed": false
   },
   "outputs": [
    {
     "name": "stdout",
     "output_type": "stream",
     "text": [
      "2.7822310091717943\n",
      "6×6 Named Array{Float64,2}\n",
      "A ╲ B │         1          2          3          4          5          6\n",
      "──────┼─────────────────────────────────────────────────────────────────\n",
      "1     │ 0.0197966    0.58135        0.0   0.398854        0.0        0.0\n",
      "2     │   0.49271        0.0   0.297308   0.209983        0.0        0.0\n",
      "3     │       0.0        0.0        0.0        0.0        1.0        0.0\n",
      "4     │  0.134012        0.0   0.601364        0.0        0.0   0.264624\n",
      "5     │  0.264624        0.0        0.0        0.0        0.0   0.735376\n",
      "6     │ 0.0888574    0.41865   0.101329   0.391163        0.0        0.0\n",
      "p: [0.292198,0.322012,0.388181,0.402152,0.424597,0.430225]\n",
      "q: [0.135428,0.0662519,0.134051,0.0543133,0.132823,0.0]\n",
      "r: [0.0 0.0 0.0 0.0 0.0 0.0; 0.0 0.0 0.0 0.0 0.0 0.0; 0.0 0.0 0.0 0.0 0.0 0.0; 0.0 0.0 0.0 0.0 0.0 0.0; 0.0 0.0 0.0 0.0 0.0 0.0; 0.0 0.0 0.0 0.0 0.0 0.0]\n"
     ]
    }
   ],
   "source": [
    "nashModel = Model()\n",
    "\n",
    "@variable(nashModel, 1 >= x[1:N_PLAYERS, 1:N_PLAYERS] >= 0)\n",
    "@variable(nashModel, p[1:N_PLAYERS])\n",
    "@variable(nashModel, q[1:N_PLAYERS])\n",
    "@variable(nashModel, r[1:N_PLAYERS, 1:N_PLAYERS] <= 0)\n",
    "\n",
    "@constraint(nashModel, supply[k in 1:N_PLAYERS], \n",
    "                sum(x[k, j] for j=1:N_PLAYERS) == 1)\n",
    "@constraint(nashModel, demand[k in 1:N_PLAYERS], \n",
    "                sum(x[i, k] for i=1:N_PLAYERS) == 1)\n",
    "                        \n",
    "@constraint(nashModel, mincons[j in 1:N_PLAYERS, k in 1:N_PLAYERS], \n",
    "    p[j] + q[k] + r[j, k] <= \n",
    "        sum(get_chess_score2(team_host[i], team_guest[j], k % 2, k, elo) \n",
    "                                * x[i, k] for i=1:N_PLAYERS))\n",
    "                                    \n",
    "@objective(nashModel, Max, sum(p) + sum(q) + sum(r))        \n",
    "\n",
    "solve(nashModel)\n",
    "                                    \n",
    "println(getobjectivevalue(nashModel))\n",
    "xopt = getvalue(x)\n",
    "solution_x = NamedArray([xopt[i, k] for i=1:N_PLAYERS, k=1:N_PLAYERS])\n",
    "println(solution_x)\n",
    "println(\"p: \", getvalue(p))\n",
    "println(\"q: \", getvalue(q))\n",
    "println(\"r: \", getvalue(r))"
   ]
  },
  {
   "cell_type": "code",
   "execution_count": 90,
   "metadata": {
    "collapsed": false
   },
   "outputs": [
    {
     "data": {
      "text/plain": [
       "6-element Array{Int64,1}:\n",
       " 2\n",
       " 1\n",
       " 4\n",
       " 6\n",
       " 3\n",
       " 5"
      ]
     },
     "execution_count": 90,
     "metadata": {},
     "output_type": "execute_result"
    }
   ],
   "source": [
    "plst = get_permutations([1:N_PLAYERS;])\n",
    "maxv = -1\n",
    "idx = 0\n",
    "for k in 1:length(plst)\n",
    "    s = 1\n",
    "    for i in 1:N_PLAYERS\n",
    "        s = s * xopt[plst[k][i], i]\n",
    "    end\n",
    "    if s > maxv\n",
    "        maxv = s\n",
    "        idx = k\n",
    "    end\n",
    "end\n",
    ";\n",
    "plst[idx]"
   ]
  },
  {
   "cell_type": "markdown",
   "metadata": {},
   "source": [
    "### Nash equilibrium - dual"
   ]
  },
  {
   "cell_type": "code",
   "execution_count": 81,
   "metadata": {
    "collapsed": false
   },
   "outputs": [
    {
     "name": "stdout",
     "output_type": "stream",
     "text": [
      "2.7822310091717943\n",
      "6×6 Named Array{Float64,2}\n",
      "A ╲ B │         1          2          3          4          5          6\n",
      "──────┼─────────────────────────────────────────────────────────────────\n",
      "1     │  0.510466        0.0   0.224474        0.0    0.26506        0.0\n",
      "2     │  0.269789        0.0   0.679817        0.0   0.050394        0.0\n",
      "3     │  0.219745        0.0  0.0957091        0.0   0.684546        0.0\n",
      "4     │       0.0   0.724338        0.0   0.275662        0.0        0.0\n",
      "5     │       0.0        0.0        0.0   0.257223        0.0   0.742777\n",
      "6     │       0.0   0.275662        0.0   0.467115        0.0   0.257223\n",
      "p: [0.561924,0.490019,0.458408,0.45412,0.415941,0.388301]\n",
      "q: [-0.00122942,-0.0130941,-0.00242038,-0.00355799,0.0338198,0.0]\n",
      "r: [0.0 0.0 0.0 0.0 0.0 0.0; 0.0 0.0 0.0 0.0 0.0 0.0; 0.0 0.0 0.0 0.0 0.0 0.0; 0.0 0.0 0.0 0.0 0.0 0.0; 0.0 0.0 0.0 0.0 0.0 0.0; 0.0 0.0 0.0 0.0 0.0 0.0]\n"
     ]
    }
   ],
   "source": [
    "nashModel = Model()\n",
    "\n",
    "@variable(nashModel, 0 <= y[1:N_PLAYERS, 1:N_PLAYERS] <= 1)\n",
    "@variable(nashModel, p[1:N_PLAYERS])\n",
    "@variable(nashModel, q[1:N_PLAYERS])\n",
    "@variable(nashModel, r[1:N_PLAYERS, 1:N_PLAYERS] >= 0) # change\n",
    "\n",
    "@constraint(nashModel, supply[k in 1:N_PLAYERS], \n",
    "                sum(y[k, j] for j=1:N_PLAYERS) == 1)\n",
    "@constraint(nashModel, demand[k in 1:N_PLAYERS], \n",
    "                sum(y[i, k] for i=1:N_PLAYERS) == 1)\n",
    "                        \n",
    "@constraint(nashModel, maxcons[i in 1:N_PLAYERS, k in 1:N_PLAYERS],  # change\n",
    "    p[i] + q[k] + r[i, k] >= \n",
    "        sum(get_chess_score2(team_host[i], team_guest[j], k%2, k, elo) \n",
    "                                * y[j, k] for j=1:N_PLAYERS))\n",
    "                                    \n",
    "@objective(nashModel, Min, sum(p) + sum(q) + sum(r))        \n",
    "\n",
    "solve(nashModel)\n",
    "                                    \n",
    "println(getobjectivevalue(nashModel))\n",
    "yopt = getvalue(y)\n",
    "solution_y = NamedArray([yopt[j, k] for j=1:N_PLAYERS, k=1:N_PLAYERS])\n",
    "println(solution_y)\n",
    "println(\"p: \", getvalue(p))\n",
    "println(\"q: \", getvalue(q))\n",
    "println(\"r: \", getvalue(r))"
   ]
  },
  {
   "cell_type": "code",
   "execution_count": 86,
   "metadata": {
    "collapsed": false
   },
   "outputs": [
    {
     "data": {
      "text/plain": [
       "6-element Array{Int64,1}:\n",
       " 1\n",
       " 2\n",
       " 3\n",
       " 4\n",
       " 5\n",
       " 6"
      ]
     },
     "execution_count": 86,
     "metadata": {},
     "output_type": "execute_result"
    }
   ],
   "source": [
    "plst = get_permutations([1:N_PLAYERS;])\n",
    "minv = 1000\n",
    "idx = 0\n",
    "for k in 1:length(plst)\n",
    "    s = 1\n",
    "    for i in 1:N_PLAYERS\n",
    "        s = s * yopt[plst[k][i], i]\n",
    "    end\n",
    "    if s < minv\n",
    "        minv = s\n",
    "        idx = k\n",
    "    end\n",
    "end\n",
    ";\n",
    "plst[idx]"
   ]
  },
  {
   "cell_type": "markdown",
   "metadata": {},
   "source": [
    "### Enumeration"
   ]
  },
  {
   "cell_type": "code",
   "execution_count": 16,
   "metadata": {
    "collapsed": true
   },
   "outputs": [],
   "source": [
    "import Combinatorics"
   ]
  },
  {
   "cell_type": "code",
   "execution_count": 17,
   "metadata": {
    "collapsed": true
   },
   "outputs": [],
   "source": [
    "function get_nash_primal(score_matrix::Array)\n",
    "    n = size(scores_matrix)[1]\n",
    "    # for primal - P person\n",
    "    m = Model()\n",
    "\n",
    "    @variable(m, 1>= p[1:n] >=0)\n",
    "    @variable(m, t)\n",
    "\n",
    "    @constraint(m, sum(p) == 1)\n",
    "    @constraint(m, min_const[k in 1:n], \n",
    "        sum(p[i] * score_matrix[i, k] for i=1:n) >= t)\n",
    "    # Max min (g1, g2, ..., gn)\n",
    "    @objective(m, Max, t)\n",
    "    solve(m)\n",
    "                \n",
    "    popt = getvalue(p)\n",
    "#     println(popt)\n",
    "    println(\"Optimal Score: \", getobjectivevalue(m))\n",
    "    return popt\n",
    "end\n",
    ";"
   ]
  },
  {
   "cell_type": "code",
   "execution_count": 18,
   "metadata": {
    "collapsed": true
   },
   "outputs": [],
   "source": [
    "function get_nash_dual(score_matrix::Array)\n",
    "    n = size(scores_matrix)[2]\n",
    "    # for primal - P person\n",
    "    m = Model()\n",
    "\n",
    "    @variable(m, 1>= q[1:n] >=0)\n",
    "    @variable(m, t)\n",
    "\n",
    "    @constraint(m, sum(q) == 1)\n",
    "    @constraint(m, max_const[k in 1:n], \n",
    "        sum(q[i] * score_matrix[k, i] for i=1:n) <= t)\n",
    "    # Max min (g1, g2, ..., gn)\n",
    "    @objective(m, Min, t)\n",
    "    solve(m)\n",
    "                \n",
    "    qopt = getvalue(q)\n",
    "#     println(popt)\n",
    "    println(\"Optimal Score: \", getobjectivevalue(m))\n",
    "    return qopt\n",
    "end\n",
    ";"
   ]
  },
  {
   "cell_type": "code",
   "execution_count": 62,
   "metadata": {
    "collapsed": false
   },
   "outputs": [
    {
     "name": "stderr",
     "output_type": "stream",
     "text": [
      "WARNING: Method definition get_score_matrix(Array, Array, Array) in module Main at In[20]:4 overwritten at In[62]:4.\n"
     ]
    },
    {
     "data": {
      "text/plain": [
       "get_score_matrix (generic function with 1 method)"
      ]
     },
     "execution_count": 62,
     "metadata": {},
     "output_type": "execute_result"
    }
   ],
   "source": [
    "# score_matrix function from 2 lists\n",
    "function get_score_matrix(list1::Array, list2::Array, players_dict::Array)\n",
    "    # assume that team 1 plays firstly\n",
    "    dim1 = length(list1)\n",
    "    dim2 = length(list2)\n",
    "    scores = Matrix(dim1, dim2)\n",
    "    for i in 1:dim1\n",
    "        for j in 1:dim2\n",
    "            scores[i, j] = get_match_score2(list1[i], list2[j], 1, players_dict)\n",
    "        end\n",
    "    end\n",
    "    return scores\n",
    "end"
   ]
  },
  {
   "cell_type": "code",
   "execution_count": 22,
   "metadata": {
    "collapsed": false
   },
   "outputs": [
    {
     "name": "stderr",
     "output_type": "stream",
     "text": [
      "WARNING: Method definition get_combinations(Array, Int64) in module Main at In[21]:3 overwritten at In[22]:3.\n"
     ]
    },
    {
     "data": {
      "text/plain": [
       "get_permutations (generic function with 1 method)"
      ]
     },
     "execution_count": 22,
     "metadata": {},
     "output_type": "execute_result"
    }
   ],
   "source": [
    "# ordered combination: return a list of nplayers obtained from a pool\n",
    "function get_combinations(list_players::Array, nchosen::Int)\n",
    "    return collect(combinations(list_players, nchosen))\n",
    "end\n",
    "function get_permutations(list_players::Array)\n",
    "    return collect(permutations(list_players))\n",
    "end"
   ]
  },
  {
   "cell_type": "code",
   "execution_count": 65,
   "metadata": {
    "collapsed": false
   },
   "outputs": [],
   "source": [
    "list_host = get_permutations(team_host)\n",
    "list_guest = get_permutations(team_guest)\n",
    "## Map to ELO\n",
    "scores_matrix = get_score_matrix(list_host, list_guest, elo)\n",
    ";"
   ]
  },
  {
   "cell_type": "code",
   "execution_count": 66,
   "metadata": {
    "collapsed": false
   },
   "outputs": [
    {
     "name": "stdout",
     "output_type": "stream",
     "text": [
      "Optimal Score: 2.782231009171794\n"
     ]
    }
   ],
   "source": [
    "popt = get_nash_primal(scores_matrix);"
   ]
  },
  {
   "cell_type": "code",
   "execution_count": 68,
   "metadata": {
    "collapsed": false
   },
   "outputs": [
    {
     "data": {
      "text/plain": [
       "6-element Array{Int64,1}:\n",
       "  4\n",
       "  2\n",
       "  8\n",
       " 12\n",
       "  7\n",
       " 11"
      ]
     },
     "execution_count": 68,
     "metadata": {},
     "output_type": "execute_result"
    }
   ],
   "source": [
    "list_host[findmax(popt)[2]]"
   ]
  },
  {
   "cell_type": "code",
   "execution_count": 88,
   "metadata": {
    "collapsed": false
   },
   "outputs": [
    {
     "name": "stdout",
     "output_type": "stream",
     "text": [
      "Optimal Score: 2.7822310091717943\n"
     ]
    }
   ],
   "source": [
    "qopt = get_nash_dual(scores_matrix);"
   ]
  },
  {
   "cell_type": "code",
   "execution_count": 89,
   "metadata": {
    "collapsed": false
   },
   "outputs": [
    {
     "data": {
      "text/plain": [
       "6-element Array{Int64,1}:\n",
       "  1\n",
       "  3\n",
       "  5\n",
       "  6\n",
       "  9\n",
       " 10"
      ]
     },
     "execution_count": 89,
     "metadata": {},
     "output_type": "execute_result"
    }
   ],
   "source": [
    "list_guest[findmin(qopt)[2]]"
   ]
  },
  {
   "cell_type": "markdown",
   "metadata": {},
   "source": [
    "# Team Selection and Trade off\n",
    "\n",
    "We don't know other's strategy, hence, we use the general solution (Nash)   \n",
    "Oppenents select their teams from the rest players"
   ]
  },
  {
   "cell_type": "markdown",
   "metadata": {},
   "source": [
    "## Model 1: Selecting from a pool"
   ]
  },
  {
   "cell_type": "markdown",
   "metadata": {},
   "source": [
    "### Optimize our strategy"
   ]
  },
  {
   "cell_type": "code",
   "execution_count": 104,
   "metadata": {
    "collapsed": false
   },
   "outputs": [
    {
     "name": "stdout",
     "output_type": "stream",
     "text": [
      "3.6390742916521144\n",
      "10×4 Named Array{Float64,2}\n",
      "A ╲ B │         1          2          3          4\n",
      "──────┼───────────────────────────────────────────\n",
      "1     │ 0.0141835   0.266097        0.0   0.208425\n",
      "2     │       0.0   0.465849        0.0        0.0\n",
      "3     │       0.0   0.235152        0.0   0.223509\n",
      "4     │  0.307702  0.0329017        0.0  0.0529714\n",
      "5     │       0.0        0.0        0.0    0.39213\n",
      "6     │       0.0        0.0   0.377703        0.0\n",
      "7     │       0.0        0.0   0.361922        0.0\n",
      "8     │ 0.0972457        0.0   0.260375        0.0\n",
      "9     │  0.354765        0.0        0.0        0.0\n",
      "10    │  0.226103        0.0        0.0   0.122965\n",
      "p: [-0.488706,-0.465849,-0.458661,-0.393575,-0.39213,-0.377703,-0.361922,-0.35762,-0.354765,-0.349068]\n",
      "q: [0.922524,0.921385,0.920779,0.874386]\n",
      "r: [0.0 0.0 0.0 0.0; 0.0 0.0 0.0 0.0; 0.0 0.0 0.0 0.0; 0.0 0.0 0.0 0.0; 0.0 0.0 0.0 0.0; 0.0 0.0 0.0 0.0; 0.0 0.0 0.0 0.0; 0.0 0.0 0.0 0.0; 0.0 0.0 0.0 0.0; 0.0 0.0 0.0 0.0]\n"
     ]
    }
   ],
   "source": [
    "inf = -100000\n",
    "sup = 1 #dangerous\n",
    "\n",
    "xm = Model()\n",
    "\n",
    "@variable(xm, 0 <= x[1:N_POOL, 1:N_CHOSEN] <= 1)\n",
    "@variable(xm, p[1:N_POOL] <= 0) #dual corresponding to <= 1\n",
    "@variable(xm, q[1:N_CHOSEN])\n",
    "@variable(xm, r[1:N_POOL, 1:N_CHOSEN] <= 0)\n",
    "@variable(xm, t[1:N_POOL] <= 0)\n",
    "\n",
    "@constraint(xm, supply[i in 1:N_POOL], sum(x[i, k] for k=1:N_CHOSEN) <= 1)\n",
    "@constraint(xm, demand[k in 1:N_CHOSEN], sum(x[i, k] for i=1:N_POOL) == 1)\n",
    "                        \n",
    "@constraint(xm, icons[j in 1:N_POOL], t[j] >= \n",
    "                            (1 - sum(x[j, k] for k=1:N_CHOSEN)) * inf)\n",
    "@constraint(xm, ucons[j in 1:N_POOL], t[j] <= \n",
    "                            p[j] + sup*sum(x[j, k] for k=1:N_CHOSEN))\n",
    "                        \n",
    "@constraint(xm, mincons[j in 1:N_POOL, k in 1:N_CHOSEN], \n",
    "    p[j] + q[k] + r[j, k]  <= sum(get_chess_score2(i, j, k%2, k, elo) \n",
    "                                                * x[i, k] for i=1:N_POOL))\n",
    "                                                    \n",
    "@objective(xm, Max, sum(t) + sum(q) + sum(r))        \n",
    "\n",
    "solve(xm)\n",
    "println(getobjectivevalue(xm))\n",
    "xopt = getvalue(x)\n",
    "solution_x = NamedArray([xopt[i, k] for i=1:N_POOL, k=1:N_CHOSEN])\n",
    "println(solution_x)\n",
    "println(\"p: \", getvalue(p))\n",
    "println(\"q: \", getvalue(q))\n",
    "println(\"r: \", getvalue(r))"
   ]
  },
  {
   "cell_type": "markdown",
   "metadata": {},
   "source": [
    "###  Get opponent's best strategy"
   ]
  },
  {
   "cell_type": "code",
   "execution_count": 101,
   "metadata": {
    "collapsed": false
   },
   "outputs": [
    {
     "name": "stdout",
     "output_type": "stream",
     "text": [
      "2.3286384418391486\n",
      "10×4 Named Array{Float64,2}\n",
      "A ╲ B │   1    2    3    4\n",
      "──────┼───────────────────\n",
      "1     │ 0.0  0.0  0.0  0.0\n",
      "2     │ 0.0  0.0  0.0  0.0\n",
      "3     │ 0.0  0.0  0.0  0.0\n",
      "4     │ 0.0  0.0  0.0  0.0\n",
      "5     │ 0.0  0.0  0.0  1.0\n",
      "6     │ 0.0  1.0  0.0  0.0\n",
      "7     │ 0.0  0.0  1.0  0.0\n",
      "8     │ 1.0  0.0  0.0  0.0\n",
      "9     │ 0.0  0.0  0.0  0.0\n",
      "10    │ 0.0  0.0  0.0  0.0\n"
     ]
    }
   ],
   "source": [
    "ym = Model()\n",
    "\n",
    "@variable(ym, y[1:N_POOL, 1:N_CHOSEN], Bin)\n",
    "\n",
    "@constraint(ym, supply[j in 1:N_POOL], sum(y[j, k] for k=1:N_CHOSEN) \n",
    "            <= 1 - sum(xopt[j, k] for k=1:N_CHOSEN))\n",
    "@constraint(ym, demand[k in 1:N_CHOSEN], \n",
    "                        sum(y[i, k] for i=1:N_POOL) == 1)\n",
    "                        \n",
    "@objective(ym, Min, sum(get_chess_score2(i, j, k, k, elo) \n",
    "                        * xopt[i, k] * y[j, k] \n",
    "                        for i=1:N_POOL, j=1:N_POOL, k=1:N_CHOSEN))        \n",
    "solve(ym)\n",
    "                                            \n",
    "println(getobjectivevalue(ym))\n",
    "yopt = getvalue(y)\n",
    "solution_y = NamedArray([yopt[i, k] for i=1:N_POOL, k=1:N_CHOSEN])\n",
    "println(solution_y)"
   ]
  },
  {
   "cell_type": "markdown",
   "metadata": {},
   "source": [
    "## Model 2 - Selecting with a small budget\n",
    "Problem:   \n",
    "- opponent doesn't care about our budget => different objective \n",
    "- assume that opponent is very rich   "
   ]
  },
  {
   "cell_type": "markdown",
   "metadata": {},
   "source": [
    "### Optimize our strategy"
   ]
  },
  {
   "cell_type": "code",
   "execution_count": 92,
   "metadata": {
    "collapsed": false
   },
   "outputs": [
    {
     "name": "stdout",
     "output_type": "stream",
     "text": [
      "0.5882920809665445\n",
      "10×4 Named Array{Float64,2}\n",
      "A ╲ B │   1    2    3    4\n",
      "──────┼───────────────────\n",
      "1     │ 0.0  0.0  0.0  1.0\n",
      "2     │ 0.0  1.0  0.0  0.0\n",
      "3     │ 1.0  0.0  0.0  0.0\n",
      "4     │ 0.0  0.0  0.0  0.0\n",
      "5     │ 0.0  0.0  1.0  0.0\n",
      "6     │ 0.0  0.0  0.0  0.0\n",
      "7     │ 0.0  0.0  0.0  0.0\n",
      "8     │ 0.0  0.0  0.0  0.0\n",
      "9     │ 0.0  0.0  0.0  0.0\n",
      "10    │ 0.0  0.0  0.0  0.0\n",
      "p: [-1000.0,-1000.0,-1000.0,-0.0351106,-1000.0,-0.019455,-0.00395577,0.0,0.0,0.0]\n",
      "q: [0.221669,0.106684,0.238856,0.0796052]\n",
      "r: [0.0 0.0 0.0 0.0; 0.0 0.0 0.0 0.0; 0.0 0.0 0.0 0.0; 0.0 0.0 0.0 0.0; 0.0 0.0 0.0 0.0; 0.0 0.0 0.0 0.0; 0.0 0.0 0.0 0.0; 0.0 0.0 0.0 0.0; 0.0 0.0 0.0 0.0; 0.0 0.0 0.0 0.0]\n"
     ]
    }
   ],
   "source": [
    "inf = -1000\n",
    "sup = 1000\n",
    "lambda = 0.5\n",
    "\n",
    "xm = Model()\n",
    "\n",
    "@variable(xm, x[1:N_POOL, 1:N_CHOSEN], Bin)\n",
    "@variable(xm, p[1:N_POOL] <= 0) #dual corresponding to <= 1\n",
    "@variable(xm, q[1:N_CHOSEN])\n",
    "@variable(xm, r[1:N_POOL, 1:N_CHOSEN] <= 0)\n",
    "@variable(xm, t[1:N_POOL] <= 0)\n",
    "\n",
    "@constraint(xm, supply[i in 1:N_POOL], sum(x[i, k] for k=1:N_CHOSEN) <= 1)\n",
    "@constraint(xm, demand[k in 1:N_CHOSEN], sum(x[i, k] for i=1:N_POOL) == 1)\n",
    "                        \n",
    "@constraint(xm, icons[j in 1:N_POOL], t[j] >= \n",
    "                            (1 - sum(x[j, k] for k=1:N_CHOSEN)) * inf)\n",
    "@constraint(xm, ucons[j in 1:N_POOL], t[j] <= \n",
    "                            p[j] + sup * sum(x[j, k] for k=1:N_CHOSEN))\n",
    "                        \n",
    "@constraint(xm, mincons[j in 1:N_POOL, k in 1:N_CHOSEN], \n",
    "    p[j] + q[k] + r[j, k]  <= sum((get_score_chess_game(i, j, k, elo) \n",
    "                         - lambda * price[i]) * x[i, k] for i=1:N_POOL))\n",
    "                                                    \n",
    "@objective(xm, Max, sum(t) + sum(q) + sum(r))        \n",
    "\n",
    "solve(xm)\n",
    "println(getobjectivevalue(xm))\n",
    "xopt = getvalue(x)\n",
    "solution_x = NamedArray([xopt[i, k] for i=1:N_POOL, k=1:N_CHOSEN])\n",
    "println(solution_x)\n",
    "println(\"p: \", getvalue(p))\n",
    "println(\"q: \", getvalue(q))\n",
    "println(\"r: \", getvalue(r))"
   ]
  },
  {
   "cell_type": "markdown",
   "metadata": {},
   "source": [
    "###  Get opponent's best strategy"
   ]
  },
  {
   "cell_type": "code",
   "execution_count": 93,
   "metadata": {
    "collapsed": false
   },
   "outputs": [
    {
     "name": "stdout",
     "output_type": "stream",
     "text": [
      "0.5882920809665444\n",
      "Price: 2.3082920809665444\n",
      "10×4 Named Array{Int64,2}\n",
      "A ╲ B │ 1  2  3  4\n",
      "──────┼───────────\n",
      "1     │ 0  0  0  0\n",
      "2     │ 0  0  0  0\n",
      "3     │ 0  0  0  0\n",
      "4     │ 0  1  0  0\n",
      "5     │ 0  0  0  0\n",
      "6     │ 0  0  0  1\n",
      "7     │ 0  0  1  0\n",
      "8     │ 1  0  0  0\n",
      "9     │ 0  0  0  0\n",
      "10    │ 0  0  0  0\n"
     ]
    }
   ],
   "source": [
    "ym = Model()\n",
    "\n",
    "@variable(ym, y[1:N_POOL, 1:N_CHOSEN], Bin)\n",
    "\n",
    "@constraint(ym, supply[j in 1:N_POOL], sum(y[j, k] for k=1:N_CHOSEN) \n",
    "            <= 1 - sum(xopt[j, k] for k=1:N_CHOSEN))\n",
    "@constraint(ym, demand[k in 1:N_CHOSEN], \n",
    "                        sum(y[i, k] for i=1:N_POOL) == 1)\n",
    "                                \n",
    "# prices of x players are constant for y \n",
    "@expression(ym, score, sum(get_score_chess_game(i, j, k, elo) * xopt[i, k] * y[j, k] \n",
    "                        for i=1:N_POOL, j=1:N_POOL, k=1:N_CHOSEN))\n",
    "                                            \n",
    "@objective(ym, Min, sum((get_score_chess_game(i, j, k, elo) \n",
    "                - lambda * price[i]) * xopt[i, k] * y[j, k] \n",
    "                        for i=1:N_POOL, j=1:N_POOL, k=1:N_CHOSEN))        \n",
    "solve(ym)\n",
    "                                            \n",
    "println(getobjectivevalue(ym))\n",
    "println(\"Price: \", getvalue(score))\n",
    "yopt = getvalue(y)\n",
    "solution_y = NamedArray(Int[yopt[i, k] for i=1:N_POOL, k=1:N_CHOSEN])\n",
    "println(solution_y)"
   ]
  },
  {
   "cell_type": "code",
   "execution_count": 103,
   "metadata": {
    "collapsed": false
   },
   "outputs": [
    {
     "data": {
      "text/html": [
       "2.3082920809665444"
      ],
      "text/plain": [
       "2.3082920809665444"
      ]
     },
     "execution_count": 103,
     "metadata": {},
     "output_type": "execute_result"
    }
   ],
   "source": [
    "score = get_match_score([3, 2, 5, 1], [8, 4, 7, 6], 1, elo)"
   ]
  }
 ],
 "metadata": {
  "kernelspec": {
   "display_name": "Julia 0.5.0",
   "language": "julia",
   "name": "julia-0.5"
  },
  "language_info": {
   "file_extension": ".jl",
   "mimetype": "application/julia",
   "name": "julia",
   "version": "0.5.0"
  },
  "toc": {
   "colors": {
    "hover_highlight": "#DAA520",
    "running_highlight": "#FF0000",
    "selected_highlight": "#FFD700"
   },
   "moveMenuLeft": true,
   "nav_menu": {
    "height": "354px",
    "width": "252px"
   },
   "navigate_menu": true,
   "number_sections": true,
   "sideBar": true,
   "threshold": 4,
   "toc_cell": true,
   "toc_section_display": "block",
   "toc_window_display": true,
   "widenNotebook": false
  }
 },
 "nbformat": 4,
 "nbformat_minor": 2
}
