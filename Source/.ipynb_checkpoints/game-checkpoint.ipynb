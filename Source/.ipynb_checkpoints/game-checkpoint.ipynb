{
 "cells": [
  {
   "cell_type": "code",
   "execution_count": 56,
   "metadata": {
    "collapsed": true
   },
   "outputs": [],
   "source": [
    "using JuMP\n",
    "using NamedArrays"
   ]
  },
  {
   "cell_type": "markdown",
   "metadata": {},
   "source": [
    "<strong> Questions for this project:   </strong>\n",
    "1. How to choose a team's strategy  \n",
    "a. Knowning opponent's strategy  \n",
    "b. Nash equilibrium: optimize for both 2 teams  \n",
    "\n",
    "\n",
    "2. Players selection: how to buy some qualified players with a small budget   \n",
    "a. Establish teams from scratch  \n",
    "b. Pre-season transfer  "
   ]
  },
  {
   "cell_type": "markdown",
   "metadata": {},
   "source": [
    "# Data and support functions"
   ]
  },
  {
   "cell_type": "markdown",
   "metadata": {},
   "source": [
    "## Demo data"
   ]
  },
  {
   "cell_type": "code",
   "execution_count": 43,
   "metadata": {
    "collapsed": true
   },
   "outputs": [],
   "source": [
    "# one is enouxgh!! No of games - 1's score = 2's score\n",
    "elo = [2838, 2822, 2817, 2772, 2771, 2761, 2750, 2747, 2745, 2741]\n",
    "price = [1000, 900, 850, 700, 690, 650, 600, 580, 570, 560] * 0.001 \n",
    "\n",
    "team_host = [1 3 5 6]\n",
    "team_guest = [2 4 7 8]\n",
    "\n",
    "plan_guest = [2 1 4 3] # fixed plan\n",
    "\n",
    "N_PLAYERS = 4\n",
    "N_CHOSEN = 4\n",
    "N_POOL = 10\n",
    ";"
   ]
  },
  {
   "cell_type": "markdown",
   "metadata": {},
   "source": [
    "## Support functions"
   ]
  },
  {
   "cell_type": "markdown",
   "metadata": {},
   "source": [
    "### Score function"
   ]
  },
  {
   "cell_type": "code",
   "execution_count": 17,
   "metadata": {
    "collapsed": false
   },
   "outputs": [],
   "source": [
    "function get_simple_score(player, opponent, order, elo)\n",
    "    # first move => +0.75\n",
    "    x = elo[player] - elo[opponent] + 0.75 * (-1)^(order + 1)\n",
    "    if x > 0 \n",
    "        return 1\n",
    "    elseif x < 0\n",
    "        return 0\n",
    "    else \n",
    "        return 0.5\n",
    "    end  \n",
    "end\n",
    ";"
   ]
  },
  {
   "cell_type": "code",
   "execution_count": 85,
   "metadata": {
    "collapsed": false
   },
   "outputs": [
    {
     "name": "stderr",
     "output_type": "stream",
     "text": [
      "WARNING: Method definition get_score_chess_game(Any, Any, Any, Any) in module Main at In[82]:5 overwritten at In[85]:5.\n"
     ]
    }
   ],
   "source": [
    "# the positional advantage and the ratings difference\n",
    "# higher elo, first move better\n",
    "# order: 1 or 0 with 1 being first\n",
    "function get_score_chess_game(player, opponent, order, elo)\n",
    "    x = elo[player] - elo[opponent] + 35*(-1)^(order + 1)\n",
    "    return 1/(1 + 10^(-x/400)) \n",
    "end\n",
    ";"
   ]
  },
  {
   "cell_type": "markdown",
   "metadata": {},
   "source": [
    "### Match score function"
   ]
  },
  {
   "cell_type": "code",
   "execution_count": 98,
   "metadata": {
    "collapsed": false
   },
   "outputs": [
    {
     "name": "stderr",
     "output_type": "stream",
     "text": [
      "WARNING: Method definition get_match_score(Any, Any, Any, Any) in module Main at In[86]:2 overwritten at In[98]:2.\n"
     ]
    }
   ],
   "source": [
    "function get_match_score(team_player, team_opponent, order, elo)\n",
    "    sum(get_score_chess_game(team_player[i], team_opponent[i], \n",
    "            (i + order + 1) % 2, elo) for i=1:length(team_player))\n",
    "end\n",
    ";"
   ]
  },
  {
   "cell_type": "markdown",
   "metadata": {},
   "source": [
    "# Choosing team's strategy"
   ]
  },
  {
   "cell_type": "markdown",
   "metadata": {},
   "source": [
    "## Case 1: Fixed opponent's strategy"
   ]
  },
  {
   "cell_type": "markdown",
   "metadata": {},
   "source": [
    "### Model 1: Simple score function"
   ]
  },
  {
   "cell_type": "code",
   "execution_count": 18,
   "metadata": {
    "collapsed": false
   },
   "outputs": [
    {
     "name": "stdout",
     "output_type": "stream",
     "text": [
      "Strategy: \n",
      "2 - 3\n",
      "4 - 1\n",
      "7 - 6\n",
      "8 - 5\n",
      "Score: 4.0\n"
     ]
    }
   ],
   "source": [
    "simpleModel = Model()\n",
    "\n",
    "@variable(simpleModel, x[1:N_PLAYERS, 1:N_PLAYERS], Bin)\n",
    "\n",
    "@constraint(simpleModel, supply[k in 1:N_PLAYERS], \n",
    "                sum(x[k, j] for j=1:N_PLAYERS) == 1)\n",
    "@constraint(simpleModel, demand[k in 1:N_PLAYERS], \n",
    "                sum(x[i, k] for i=1:N_PLAYERS) == 1)\n",
    "\n",
    "@objective(simpleModel, Max, sum(x[i, j] * get_simple_score(\n",
    "            team_host[j], team_guest[plan_guest[i]], i % 2, elo) \n",
    "            for i=1:N_PLAYERS, j=1:N_PLAYERS))\n",
    "                                    \n",
    "solve(simpleModel)\n",
    "                                    \n",
    "xopt = getvalue(x)\n",
    "println(\"Strategy: \")\n",
    "for i in 1:N_PLAYERS\n",
    "    for j in 1:N_PLAYERS\n",
    "        if xopt[i, j] != 0\n",
    "            println(team_guest[i], \" - \", team_host[j])\n",
    "        end\n",
    "    end\n",
    "end\n",
    "println(\"Score: \", getobjectivevalue(simpleModel))"
   ]
  },
  {
   "cell_type": "markdown",
   "metadata": {},
   "source": [
    "### Model 2: Probabilistic score function"
   ]
  },
  {
   "cell_type": "code",
   "execution_count": 87,
   "metadata": {
    "collapsed": false
   },
   "outputs": [
    {
     "name": "stdout",
     "output_type": "stream",
     "text": [
      "Strategy: \n",
      "4 - 3\n",
      "2 - 6\n",
      "8 - 5\n",
      "7 - 1\n",
      "Score: 2.1381813962909337\n"
     ]
    }
   ],
   "source": [
    "probModel = Model()\n",
    "\n",
    "@variable(probModel, x[1:N_PLAYERS, 1:N_PLAYERS], Bin)\n",
    "\n",
    "@constraint(probModel, supply[k in 1:N_PLAYERS], \n",
    "                sum(x[k, j] for j=1:N_PLAYERS) == 1)\n",
    "@constraint(probModel, demand[k in 1:N_PLAYERS], \n",
    "                sum(x[i, k] for i=1:N_PLAYERS) == 1)\n",
    "\n",
    "@objective(probModel, Max, sum(x[i, j] * get_score_chess_game(team_host[j], \n",
    "                            team_guest[plan_guest[i]], i % 2, elo) \n",
    "                            for i=1:N_PLAYERS, j=1:N_PLAYERS))\n",
    "                                    \n",
    "solve(probModel)\n",
    "                                    \n",
    "xopt = getvalue(x)\n",
    "println(\"Strategy: \", )\n",
    "for i in 1:N_PLAYERS\n",
    "    for j in 1:N_PLAYERS\n",
    "        if xopt[i, j] != 0\n",
    "            println(team_guest[plan_guest[i]], \" - \", team_host[j])\n",
    "        end\n",
    "    end\n",
    "end\n",
    "println(\"Score: \", getobjectivevalue(probModel))"
   ]
  },
  {
   "cell_type": "markdown",
   "metadata": {},
   "source": [
    "## Nash equilibrium: no information about opponent's strategy"
   ]
  },
  {
   "cell_type": "markdown",
   "metadata": {},
   "source": [
    "### Optimize our strategy"
   ]
  },
  {
   "cell_type": "code",
   "execution_count": 88,
   "metadata": {
    "collapsed": false
   },
   "outputs": [
    {
     "name": "stdout",
     "output_type": "stream",
     "text": [
      "2.1368277781896134\n",
      "4×4 Named Array{Int64,2}\n",
      "A ╲ B │ 1  2  3  4\n",
      "──────┼───────────\n",
      "1     │ 0  0  0  1\n",
      "2     │ 0  1  0  0\n",
      "3     │ 1  0  0  0\n",
      "4     │ 0  0  1  0\n",
      "p: [0.472524,0.544223,0.575687,0.5799]\n",
      "q: [0.0042012,-0.0298361,-0.00987175,0.0]\n",
      "r: [0.0 0.0 0.0 0.0; 0.0 0.0 0.0 0.0; 0.0 0.0 0.0 0.0; 0.0 0.0 0.0 0.0]\n"
     ]
    }
   ],
   "source": [
    "nashModel = Model()\n",
    "\n",
    "@variable(nashModel, x[1:N_PLAYERS, 1:N_PLAYERS], Bin)\n",
    "@variable(nashModel, p[1:N_PLAYERS])\n",
    "@variable(nashModel, q[1:N_PLAYERS])\n",
    "@variable(nashModel, r[1:N_PLAYERS, 1:N_PLAYERS] <= 0)\n",
    "\n",
    "@constraint(nashModel, supply[k in 1:N_PLAYERS], \n",
    "                sum(x[k, j] for j=1:N_PLAYERS) == 1)\n",
    "@constraint(nashModel, demand[k in 1:N_PLAYERS], \n",
    "                sum(x[i, k] for i=1:N_PLAYERS) == 1)\n",
    "                        \n",
    "@constraint(nashModel, mincons[j in 1:N_PLAYERS, k in 1:N_PLAYERS], \n",
    "    p[j] + q[k] + r[j, k] <= \n",
    "        sum(get_score_chess_game(team_host[i], team_guest[j], k, elo) \n",
    "                                * x[i, k] for i=1:N_PLAYERS))\n",
    "                                    \n",
    "@objective(nashModel, Max, sum(p) + sum(q) + sum(r))        \n",
    "\n",
    "solve(nashModel)\n",
    "                                    \n",
    "println(getobjectivevalue(nashModel))\n",
    "xopt = getvalue(x)\n",
    "solution_x = NamedArray(Int[xopt[i, k] for i=1:N_PLAYERS, k=1:N_PLAYERS])\n",
    "println(solution_x)\n",
    "println(\"p: \", getvalue(p))\n",
    "println(\"q: \", getvalue(q))\n",
    "println(\"r: \", getvalue(r))"
   ]
  },
  {
   "cell_type": "markdown",
   "metadata": {},
   "source": [
    "###  Get opponent's best strategy"
   ]
  },
  {
   "cell_type": "code",
   "execution_count": 89,
   "metadata": {
    "collapsed": false
   },
   "outputs": [
    {
     "name": "stdout",
     "output_type": "stream",
     "text": [
      "2.1368277781896134\n",
      "4×4 Named Array{Int64,2}\n",
      "A ╲ B │ 1  2  3  4\n",
      "──────┼───────────\n",
      "1     │ 0  0  1  0\n",
      "2     │ 0  1  0  0\n",
      "3     │ 0  0  0  1\n",
      "4     │ 1  0  0  0\n"
     ]
    }
   ],
   "source": [
    "ym = Model()\n",
    "\n",
    "@variable(ym, y[1:N_PLAYERS, 1:N_PLAYERS], Bin)\n",
    "\n",
    "@constraint(ym, supply[k in 1:N_PLAYERS], sum(y[k, j] for j=1:N_PLAYERS) == 1)\n",
    "@constraint(ym, demand[k in 1:N_PLAYERS], sum(y[i, k] for i=1:N_PLAYERS) == 1)\n",
    "\n",
    "@expression(ym, score, sum(get_score_chess_game(team_host[i], \n",
    "                    team_guest[j], k, elo) * xopt[i, k] * y[j, k] \n",
    "                    for i=1:N_PLAYERS, j in 1:N_PLAYERS, k in 1:N_PLAYERS))\n",
    "                                    \n",
    "@objective(ym, Min, score)\n",
    "            \n",
    "solve(ym)\n",
    "println(getobjectivevalue(ym))\n",
    "yopt = getvalue(y)\n",
    "solution_y = NamedArray(Int[yopt[i, k] for i=1:N_PLAYERS, k=1:N_PLAYERS])\n",
    "println(solution_y)"
   ]
  },
  {
   "cell_type": "markdown",
   "metadata": {},
   "source": [
    "# Team Selection and Trade off\n",
    "\n",
    "We don't know other's strategy, hence, we use the general solution (Nash)   \n",
    "Oppenents select their teams from the rest players"
   ]
  },
  {
   "cell_type": "markdown",
   "metadata": {},
   "source": [
    "## Model 1: Selecting from a pool"
   ]
  },
  {
   "cell_type": "markdown",
   "metadata": {},
   "source": [
    "### Optimize our strategy"
   ]
  },
  {
   "cell_type": "code",
   "execution_count": 90,
   "metadata": {
    "collapsed": false
   },
   "outputs": [
    {
     "name": "stdout",
     "output_type": "stream",
     "text": [
      "2.3111300532279953\n",
      "10×4 Named Array{Float64,2}\n",
      "A ╲ B │   1    2    3    4\n",
      "──────┼───────────────────\n",
      "1     │ 0.0  1.0  0.0  0.0\n",
      "2     │ 0.0  0.0  0.0  1.0\n",
      "3     │ 0.0  0.0  1.0  0.0\n",
      "4     │ 1.0  0.0  0.0  0.0\n",
      "5     │ 0.0  0.0  0.0  0.0\n",
      "6     │ 0.0  0.0  0.0  0.0\n",
      "7     │ 0.0  0.0  0.0  0.0\n",
      "8     │ 0.0  0.0  0.0  0.0\n",
      "9     │ 0.0  0.0  0.0  0.0\n",
      "10    │ 0.0  0.0  0.0  0.0\n",
      "p: [-1000.0,-1000.0,-1000.0,-1000.0,-0.0365883,-0.0223096,-0.00682331,-0.0026261,0.0,0.0]\n",
      "q: [0.588125,0.58251,0.649295,0.559657]\n",
      "r: [0.0 0.0 0.0 0.0; 0.0 0.0 0.0 0.0; 0.0 0.0 0.0 0.0; 0.0 0.0 0.0 0.0; 0.0 0.0 0.0 -5.89756e-5; 0.0 -5.05318e-5 0.0 0.0; 0.0 0.0 0.0 0.0; 0.0 0.0 0.0 0.0; 0.0 0.0 0.0 0.0; 0.0 0.0 0.0 0.0]\n"
     ]
    }
   ],
   "source": [
    "inf = -1000\n",
    "sup = 1000\n",
    "\n",
    "xm = Model()\n",
    "\n",
    "@variable(xm, x[1:N_POOL, 1:N_CHOSEN], Bin)\n",
    "@variable(xm, p[1:N_POOL] <= 0) #dual corresponding to <= 1\n",
    "@variable(xm, q[1:N_CHOSEN])\n",
    "@variable(xm, r[1:N_POOL, 1:N_CHOSEN] <= 0)\n",
    "@variable(xm, t[1:N_POOL] <= 0)\n",
    "\n",
    "@constraint(xm, supply[i in 1:N_POOL], sum(x[i, k] for k=1:N_CHOSEN) <= 1)\n",
    "@constraint(xm, demand[k in 1:N_CHOSEN], sum(x[i, k] for i=1:N_POOL) == 1)\n",
    "                        \n",
    "@constraint(xm, icons[j in 1:N_POOL], t[j] >= \n",
    "                            (1 - sum(x[j, k] for k=1:N_CHOSEN)) * inf)\n",
    "@constraint(xm, ucons[j in 1:N_POOL], t[j] <= \n",
    "                            p[j] + sup*sum(x[j, k] for k=1:N_CHOSEN))\n",
    "                        \n",
    "@constraint(xm, mincons[j in 1:N_POOL, k in 1:N_CHOSEN], \n",
    "    p[j] + q[k] + r[j, k]  <= sum(get_score_chess_game(i, j, k, elo) \n",
    "                                                * x[i, k] for i=1:N_POOL))\n",
    "                                                    \n",
    "@objective(xm, Max, sum(t) + sum(q) + sum(r))        \n",
    "\n",
    "solve(xm)\n",
    "println(getobjectivevalue(xm))\n",
    "xopt = getvalue(x)\n",
    "solution_x = NamedArray([xopt[i, k] for i=1:N_POOL, k=1:N_CHOSEN])\n",
    "println(solution_x)\n",
    "println(\"p: \", getvalue(p))\n",
    "println(\"q: \", getvalue(q))\n",
    "println(\"r: \", getvalue(r))"
   ]
  },
  {
   "cell_type": "markdown",
   "metadata": {},
   "source": [
    "###  Get opponent's best strategy"
   ]
  },
  {
   "cell_type": "code",
   "execution_count": 91,
   "metadata": {
    "collapsed": false
   },
   "outputs": [
    {
     "name": "stdout",
     "output_type": "stream",
     "text": [
      "2.311130053223995\n",
      "10×4 Named Array{Int64,2}\n",
      "A ╲ B │ 1  2  3  4\n",
      "──────┼───────────\n",
      "1     │ 0  0  0  0\n",
      "2     │ 0  0  0  0\n",
      "3     │ 0  0  0  0\n",
      "4     │ 0  0  0  0\n",
      "5     │ 0  0  0  1\n",
      "6     │ 0  1  0  0\n",
      "7     │ 1  0  0  0\n",
      "8     │ 0  0  1  0\n",
      "9     │ 0  0  0  0\n",
      "10    │ 0  0  0  0\n"
     ]
    }
   ],
   "source": [
    "ym = Model()\n",
    "\n",
    "@variable(ym, y[1:N_POOL, 1:N_CHOSEN], Bin)\n",
    "\n",
    "@constraint(ym, supply[j in 1:N_POOL], sum(y[j, k] for k=1:N_CHOSEN) \n",
    "            <= 1 - sum(xopt[j, k] for k=1:N_CHOSEN))\n",
    "@constraint(ym, demand[k in 1:N_CHOSEN], \n",
    "                        sum(y[i, k] for i=1:N_POOL) == 1)\n",
    "                        \n",
    "@objective(ym, Min, sum(get_score_chess_game(i, j, k, elo) \n",
    "                        * xopt[i, k] * y[j, k] \n",
    "                        for i=1:N_POOL, j=1:N_POOL, k=1:N_CHOSEN))        \n",
    "solve(ym)\n",
    "                                            \n",
    "println(getobjectivevalue(ym))\n",
    "yopt = getvalue(y)\n",
    "solution_y = NamedArray(Int[yopt[i, k] for i=1:N_POOL, k=1:N_CHOSEN])\n",
    "println(solution_y)"
   ]
  },
  {
   "cell_type": "markdown",
   "metadata": {},
   "source": [
    "## Model 2 - Selecting with a small budget\n",
    "Problem:   \n",
    "- opponent doesn't care about our budget => different objective \n",
    "- assume that opponent is very rich   "
   ]
  },
  {
   "cell_type": "markdown",
   "metadata": {},
   "source": [
    "### Optimize our strategy"
   ]
  },
  {
   "cell_type": "code",
   "execution_count": 92,
   "metadata": {
    "collapsed": false
   },
   "outputs": [
    {
     "name": "stdout",
     "output_type": "stream",
     "text": [
      "0.5882920809665445\n",
      "10×4 Named Array{Float64,2}\n",
      "A ╲ B │   1    2    3    4\n",
      "──────┼───────────────────\n",
      "1     │ 0.0  0.0  0.0  1.0\n",
      "2     │ 0.0  1.0  0.0  0.0\n",
      "3     │ 1.0  0.0  0.0  0.0\n",
      "4     │ 0.0  0.0  0.0  0.0\n",
      "5     │ 0.0  0.0  1.0  0.0\n",
      "6     │ 0.0  0.0  0.0  0.0\n",
      "7     │ 0.0  0.0  0.0  0.0\n",
      "8     │ 0.0  0.0  0.0  0.0\n",
      "9     │ 0.0  0.0  0.0  0.0\n",
      "10    │ 0.0  0.0  0.0  0.0\n",
      "p: [-1000.0,-1000.0,-1000.0,-0.0351106,-1000.0,-0.019455,-0.00395577,0.0,0.0,0.0]\n",
      "q: [0.221669,0.106684,0.238856,0.0796052]\n",
      "r: [0.0 0.0 0.0 0.0; 0.0 0.0 0.0 0.0; 0.0 0.0 0.0 0.0; 0.0 0.0 0.0 0.0; 0.0 0.0 0.0 0.0; 0.0 0.0 0.0 0.0; 0.0 0.0 0.0 0.0; 0.0 0.0 0.0 0.0; 0.0 0.0 0.0 0.0; 0.0 0.0 0.0 0.0]\n"
     ]
    }
   ],
   "source": [
    "inf = -1000\n",
    "sup = 1000\n",
    "lambda = 0.5\n",
    "\n",
    "xm = Model()\n",
    "\n",
    "@variable(xm, x[1:N_POOL, 1:N_CHOSEN], Bin)\n",
    "@variable(xm, p[1:N_POOL] <= 0) #dual corresponding to <= 1\n",
    "@variable(xm, q[1:N_CHOSEN])\n",
    "@variable(xm, r[1:N_POOL, 1:N_CHOSEN] <= 0)\n",
    "@variable(xm, t[1:N_POOL] <= 0)\n",
    "\n",
    "@constraint(xm, supply[i in 1:N_POOL], sum(x[i, k] for k=1:N_CHOSEN) <= 1)\n",
    "@constraint(xm, demand[k in 1:N_CHOSEN], sum(x[i, k] for i=1:N_POOL) == 1)\n",
    "                        \n",
    "@constraint(xm, icons[j in 1:N_POOL], t[j] >= \n",
    "                            (1 - sum(x[j, k] for k=1:N_CHOSEN)) * inf)\n",
    "@constraint(xm, ucons[j in 1:N_POOL], t[j] <= \n",
    "                            p[j] + sup * sum(x[j, k] for k=1:N_CHOSEN))\n",
    "                        \n",
    "@constraint(xm, mincons[j in 1:N_POOL, k in 1:N_CHOSEN], \n",
    "    p[j] + q[k] + r[j, k]  <= sum((get_score_chess_game(i, j, k, elo) \n",
    "                         - lambda * price[i]) * x[i, k] for i=1:N_POOL))\n",
    "                                                    \n",
    "@objective(xm, Max, sum(t) + sum(q) + sum(r))        \n",
    "\n",
    "solve(xm)\n",
    "println(getobjectivevalue(xm))\n",
    "xopt = getvalue(x)\n",
    "solution_x = NamedArray([xopt[i, k] for i=1:N_POOL, k=1:N_CHOSEN])\n",
    "println(solution_x)\n",
    "println(\"p: \", getvalue(p))\n",
    "println(\"q: \", getvalue(q))\n",
    "println(\"r: \", getvalue(r))"
   ]
  },
  {
   "cell_type": "markdown",
   "metadata": {},
   "source": [
    "###  Get opponent's best strategy"
   ]
  },
  {
   "cell_type": "code",
   "execution_count": 93,
   "metadata": {
    "collapsed": false
   },
   "outputs": [
    {
     "name": "stdout",
     "output_type": "stream",
     "text": [
      "0.5882920809665444\n",
      "Price: 2.3082920809665444\n",
      "10×4 Named Array{Int64,2}\n",
      "A ╲ B │ 1  2  3  4\n",
      "──────┼───────────\n",
      "1     │ 0  0  0  0\n",
      "2     │ 0  0  0  0\n",
      "3     │ 0  0  0  0\n",
      "4     │ 0  1  0  0\n",
      "5     │ 0  0  0  0\n",
      "6     │ 0  0  0  1\n",
      "7     │ 0  0  1  0\n",
      "8     │ 1  0  0  0\n",
      "9     │ 0  0  0  0\n",
      "10    │ 0  0  0  0\n"
     ]
    }
   ],
   "source": [
    "ym = Model()\n",
    "\n",
    "@variable(ym, y[1:N_POOL, 1:N_CHOSEN], Bin)\n",
    "\n",
    "@constraint(ym, supply[j in 1:N_POOL], sum(y[j, k] for k=1:N_CHOSEN) \n",
    "            <= 1 - sum(xopt[j, k] for k=1:N_CHOSEN))\n",
    "@constraint(ym, demand[k in 1:N_CHOSEN], \n",
    "                        sum(y[i, k] for i=1:N_POOL) == 1)\n",
    "                                \n",
    "# prices of x players are constant for y \n",
    "@expression(ym, score, sum(get_score_chess_game(i, j, k, elo) * xopt[i, k] * y[j, k] \n",
    "                        for i=1:N_POOL, j=1:N_POOL, k=1:N_CHOSEN))\n",
    "                                            \n",
    "@objective(ym, Min, sum((get_score_chess_game(i, j, k, elo) \n",
    "                - lambda * price[i]) * xopt[i, k] * y[j, k] \n",
    "                        for i=1:N_POOL, j=1:N_POOL, k=1:N_CHOSEN))        \n",
    "solve(ym)\n",
    "                                            \n",
    "println(getobjectivevalue(ym))\n",
    "println(\"Price: \", getvalue(score))\n",
    "yopt = getvalue(y)\n",
    "solution_y = NamedArray(Int[yopt[i, k] for i=1:N_POOL, k=1:N_CHOSEN])\n",
    "println(solution_y)"
   ]
  },
  {
   "cell_type": "code",
   "execution_count": 103,
   "metadata": {
    "collapsed": false
   },
   "outputs": [
    {
     "data": {
      "text/html": [
       "2.3082920809665444"
      ],
      "text/plain": [
       "2.3082920809665444"
      ]
     },
     "execution_count": 103,
     "metadata": {},
     "output_type": "execute_result"
    }
   ],
   "source": [
    "score = get_match_score([3, 2, 5, 1], [8, 4, 7, 6], 1, elo)"
   ]
  }
 ],
 "metadata": {
  "kernelspec": {
   "display_name": "Julia 0.5.0",
   "language": "julia",
   "name": "julia-0.5"
  },
  "language_info": {
   "file_extension": ".jl",
   "mimetype": "application/julia",
   "name": "julia",
   "version": "0.5.0"
  },
  "toc": {
   "colors": {
    "hover_highlight": "#DAA520",
    "running_highlight": "#FF0000",
    "selected_highlight": "#FFD700"
   },
   "moveMenuLeft": true,
   "nav_menu": {
    "height": "354px",
    "width": "252px"
   },
   "navigate_menu": true,
   "number_sections": true,
   "sideBar": true,
   "threshold": 4,
   "toc_cell": false,
   "toc_section_display": "block",
   "toc_window_display": false,
   "widenNotebook": false
  }
 },
 "nbformat": 4,
 "nbformat_minor": 2
}
