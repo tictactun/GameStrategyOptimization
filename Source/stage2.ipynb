{
 "cells": [
  {
   "cell_type": "markdown",
   "metadata": {},
   "source": [
    "# Stage 2: Nash equilibrium"
   ]
  },
  {
   "cell_type": "code",
   "execution_count": 2,
   "metadata": {
    "collapsed": true
   },
   "outputs": [],
   "source": [
    "using JuMP, Cbc, NamedArrays\n",
    "import Combinatorics"
   ]
  },
  {
   "cell_type": "markdown",
   "metadata": {},
   "source": [
    "### Game score function"
   ]
  },
  {
   "cell_type": "code",
   "execution_count": 3,
   "metadata": {
    "collapsed": true
   },
   "outputs": [],
   "source": [
    "# the positional advantage and the ratings difference\n",
    "# higher elo, first move better\n",
    "# order: 1 or 0 with 1 being first\n",
    "function get_score_chess_game(player, opponent, order)\n",
    "    x = player - opponent + 35*(-1)^(order + 1)\n",
    "    return 1/(1 + 10^(-x/400)) \n",
    "end\n",
    ";"
   ]
  },
  {
   "cell_type": "markdown",
   "metadata": {},
   "source": [
    "### Match score function"
   ]
  },
  {
   "cell_type": "code",
   "execution_count": 4,
   "metadata": {
    "collapsed": false
   },
   "outputs": [],
   "source": [
    "function get_match_score(team_player, team_opponent, order, players_dict)\n",
    "    return sum(get_score_chess_game(players_dict[team_player[i]], \n",
    "            players_dict[team_opponent[i]], (i + order + 1) % 2) for i=1:length(team_player))\n",
    "end\n",
    ";"
   ]
  },
  {
   "cell_type": "markdown",
   "metadata": {},
   "source": [
    "### Generate score matrices for all players\n",
    "Suppose that we have 10 players, choose 4 of them to establish our team, 6 other players become our opponents"
   ]
  },
  {
   "cell_type": "markdown",
   "metadata": {
    "collapsed": true
   },
   "source": [
    "### Nash equilibrium"
   ]
  },
  {
   "cell_type": "code",
   "execution_count": 5,
   "metadata": {
    "collapsed": false
   },
   "outputs": [],
   "source": [
    "# one is enough!! No of games - 1's score = 2's score\n",
    "elo = [2838, 2822, 2817, 2772, 2771, 2761, 2750, 2747, 2745, 2741]\n",
    "team_host = [1 3 5 6 10]\n",
    "team_guest = [2 4 7 8 9]\n",
    ";"
   ]
  },
  {
   "cell_type": "code",
   "execution_count": 6,
   "metadata": {
    "collapsed": false
   },
   "outputs": [
    {
     "data": {
      "text/plain": [
       "f (generic function with 1 method)"
      ]
     },
     "execution_count": 6,
     "metadata": {},
     "output_type": "execute_result"
    }
   ],
   "source": [
    "function f(i::Int, j::Int, k::Int)\n",
    "    return get_score_chess_game(elo[team_host[i]], elo[team_guest[j]], k % 2)\n",
    "end"
   ]
  },
  {
   "cell_type": "code",
   "execution_count": 13,
   "metadata": {
    "collapsed": false
   },
   "outputs": [
    {
     "name": "stdout",
     "output_type": "stream",
     "text": [
      "2.681054561455067\n",
      "5×5 Named Array{Int64,2}\n",
      "A ╲ B │ 1  2  3  4  5\n",
      "──────┼──────────────\n",
      "1     │ 0  0  0  1  0\n",
      "2     │ 0  1  0  0  0\n",
      "3     │ 0  0  1  0  0\n",
      "4     │ 1  0  0  0  0\n",
      "5     │ 0  0  0  0  1\n",
      "p: [0.433968,0.50554,0.537131,0.541369,0.544171]\n",
      "q: [0.0286842,0.00871989,0.0427243,0.0385311,0.000216323]\n",
      "r: [0.0 0.0 0.0 0.0 0.0; 0.0 0.0 0.0 0.0 0.0; 0.0 0.0 0.0 0.0 0.0; 0.0 0.0 0.0 0.0 0.0; 0.0 0.0 0.0 0.0 0.0]\n"
     ]
    }
   ],
   "source": [
    "n = 5\n",
    "m = Model()\n",
    "\n",
    "@variable(m, x[1:n, 1:n], Bin)\n",
    "@variable(m, p[1:n])\n",
    "@variable(m, q[1:n])\n",
    "@variable(m, r[1:n, 1:n] <= 0)\n",
    "\n",
    "@constraint(m, supply[k in 1:n], sum(x[k, j] for j=1:n) == 1)\n",
    "@constraint(m, demand[k in 1:n], sum(x[i, k] for i=1:n) == 1)\n",
    "                        \n",
    "@constraint(m, mincons[j in 1:n, k in 1:n], \n",
    "    p[j] + q[k] + r[j, k] - sum(f(i, j, k) * x[i, k] for i=1:n) <= 0)\n",
    "@objective(m, Max, sum(p) + sum(q) + sum(r))        \n",
    "\n",
    "solve(m)\n",
    "println(getobjectivevalue(m))\n",
    "xopt = getvalue(x)\n",
    "solution_x = NamedArray(Int[xopt[i, k] for i=1:n, k=1:n])\n",
    "println(solution_x)\n",
    "println(\"p: \", getvalue(p))\n",
    "println(\"q: \", getvalue(q))\n",
    "println(\"r: \", getvalue(r))"
   ]
  },
  {
   "cell_type": "code",
   "execution_count": 9,
   "metadata": {
    "collapsed": false
   },
   "outputs": [
    {
     "name": "stdout",
     "output_type": "stream",
     "text": [
      "2.6810545614550674\n",
      "5×5 Named Array{Int64,2}\n",
      "A ╲ B │ 1  2  3  4  5\n",
      "──────┼──────────────\n",
      "1     │ 0  1  0  0  0\n",
      "2     │ 0  0  0  0  1\n",
      "3     │ 1  0  0  0  0\n",
      "4     │ 0  0  0  1  0\n",
      "5     │ 0  0  1  0  0\n"
     ]
    }
   ],
   "source": [
    "ym = Model()\n",
    "\n",
    "@variable(ym, y[1:n, 1:n], Bin)\n",
    "\n",
    "@constraint(ym, supply[k in 1:n], sum(y[k, j] for j=1:n) == 1)\n",
    "@constraint(ym, demand[k in 1:n], sum(y[i, k] for i=1:n) == 1)\n",
    "                        \n",
    "@objective(ym, Min,  sum(f(i, j, k) * xopt[i, k] * y[j, k] for i=1:n, j in 1:n, k in 1:n))        \n",
    "\n",
    "solve(ym)\n",
    "println(getobjectivevalue(ym))\n",
    "yopt = getvalue(y)\n",
    "solution_y = NamedArray(Int[yopt[i, k] for i=1:n, k=1:n])\n",
    "println(solution_y)"
   ]
  },
  {
   "cell_type": "markdown",
   "metadata": {
    "collapsed": true
   },
   "source": [
    "### Prob"
   ]
  },
  {
   "cell_type": "markdown",
   "metadata": {},
   "source": [
    "The problems: only permutations are taken into account. \n"
   ]
  },
  {
   "cell_type": "code",
   "execution_count": 25,
   "metadata": {
    "collapsed": false
   },
   "outputs": [
    {
     "name": "stdout",
     "output_type": "stream",
     "text": [
      "2.6814989464276873\n",
      "5×5 Named Array{Float64,2}\n",
      "A ╲ B │        1         2         3         4         5\n",
      "──────┼─────────────────────────────────────────────────\n",
      "1     │      0.0       0.5       0.0       0.5       0.0\n",
      "2     │      0.0       0.5       0.0       0.5       0.0\n",
      "3     │ 0.333333       0.0  0.333333       0.0  0.333333\n",
      "4     │ 0.333333       0.0  0.333333       0.0  0.333333\n",
      "5     │ 0.333333       0.0  0.333333       0.0  0.333333\n",
      "p: [0.457686,0.529441,0.560804,0.565048,0.567871]\n",
      "q: [0.000216323,1.23691e-12,0.000216323,1.23169e-12,0.000216323]\n",
      "r: [0.0 0.0 0.0 0.0 0.0; 0.0 0.0 0.0 0.0 0.0; 0.0 0.0 0.0 0.0 0.0; 0.0 0.0 0.0 0.0 0.0; 0.0 0.0 0.0 0.0 0.0]\n"
     ]
    }
   ],
   "source": [
    "n = 5\n",
    "m = Model()\n",
    "\n",
    "@variable(m, 0 <= x[1:n, 1:n] <= 1)\n",
    "@variable(m, z[1:n, 1:n], Bin)\n",
    "\n",
    "@variable(m, p[1:n])\n",
    "@variable(m, q[1:n])\n",
    "@variable(m, r[1:n, 1:n] <= 0)\n",
    "\n",
    "@constraint(m, imply[i in 1:n, j in 1:n], x[i, j] <= z[i, j])\n",
    "@constraint(m, zeros[k in 1:n], sum(z[i, k] for i=1:n) <= n - 1)\n",
    "\n",
    "@constraint(m, demand[k in 1:n], sum(x[i, k] for i=1:n) == 1)\n",
    "@constraint(m, supply[k in 1:n], sum(x[k, j] for j=1:n) == 1)\n",
    "            \n",
    "@constraint(m, mincons[j in 1:n, k in 1:n], \n",
    "    p[j] + q[k] + r[j, k] - sum(f(i, j, k) * x[i, k] for i=1:n) <= 0)\n",
    "@objective(m, Max, sum(p) + sum(q) + sum(r))        \n",
    "\n",
    "solve(m)\n",
    "println(getobjectivevalue(m))\n",
    "xopt = getvalue(x)\n",
    "solution_x = NamedArray([xopt[i, k] for i=1:n, k=1:n])\n",
    "println(solution_x)\n",
    "println(\"p: \", getvalue(p))\n",
    "println(\"q: \", getvalue(q))\n",
    "println(\"r: \", getvalue(r))"
   ]
  },
  {
   "cell_type": "code",
   "execution_count": 22,
   "metadata": {
    "collapsed": false
   },
   "outputs": [
    {
     "data": {
      "text/html": [
       "0.00925925926671702"
      ],
      "text/plain": [
       "0.00925925926671702"
      ]
     },
     "execution_count": 22,
     "metadata": {},
     "output_type": "execute_result"
    }
   ],
   "source": [
    "xopt[3,1] * xopt[1, 2]*xopt[4, 3]*xopt[2, 4]*xopt[5,5]"
   ]
  },
  {
   "cell_type": "code",
   "execution_count": 20,
   "metadata": {
    "collapsed": false
   },
   "outputs": [
    {
     "data": {
      "text/html": [
       "2.6538527819752744e-8"
      ],
      "text/plain": [
       "2.6538527819752744e-8"
      ]
     },
     "execution_count": 20,
     "metadata": {},
     "output_type": "execute_result"
    }
   ],
   "source": [
    "2.6814989842282766 - 2.6814989576897488"
   ]
  },
  {
   "cell_type": "code",
   "execution_count": null,
   "metadata": {
    "collapsed": true
   },
   "outputs": [],
   "source": []
  },
  {
   "cell_type": "code",
   "execution_count": null,
   "metadata": {
    "collapsed": true
   },
   "outputs": [],
   "source": []
  },
  {
   "cell_type": "code",
   "execution_count": null,
   "metadata": {
    "collapsed": true
   },
   "outputs": [],
   "source": []
  },
  {
   "cell_type": "code",
   "execution_count": null,
   "metadata": {
    "collapsed": true
   },
   "outputs": [],
   "source": []
  },
  {
   "cell_type": "markdown",
   "metadata": {},
   "source": [
    "## Selection from the pool"
   ]
  },
  {
   "cell_type": "code",
   "execution_count": 18,
   "metadata": {
    "collapsed": true
   },
   "outputs": [],
   "source": [
    "price2 = [1000, 900, 580, 570, 560] \n",
    "elo2 = [2838, 2822, 2750, 2747, 2745]\n",
    ";"
   ]
  },
  {
   "cell_type": "code",
   "execution_count": 72,
   "metadata": {
    "collapsed": false
   },
   "outputs": [
    {
     "name": "stderr",
     "output_type": "stream",
     "text": [
      "WARNING: Method definition foo2(Int64, Int64, Int64) in module Main at In[35]:2 overwritten at In[72]:2.\n"
     ]
    },
    {
     "data": {
      "text/plain": [
       "foo2 (generic function with 1 method)"
      ]
     },
     "execution_count": 72,
     "metadata": {},
     "output_type": "execute_result"
    }
   ],
   "source": [
    "function foo2(i::Int, j::Int, k::Int)\n",
    "    return get_score_chess_game(elo2[i], elo2[j], k % 2)\n",
    "end"
   ]
  },
  {
   "cell_type": "markdown",
   "metadata": {},
   "source": [
    "Question: \n",
    "x: choose 2 from 5   \n",
    "y: choose 2 from the rest 3   (dural p <= 0)\n",
    "budget"
   ]
  },
  {
   "cell_type": "code",
   "execution_count": 74,
   "metadata": {
    "collapsed": false
   },
   "outputs": [
    {
     "name": "stdout",
     "output_type": "stream",
     "text": [
      "1.2289041195972994\n",
      "5×2 Named Array{Float64,2}\n",
      "A ╲ B │   1    2\n",
      "──────┼─────────\n",
      "1     │ 0.0  1.0\n",
      "2     │ 1.0  0.0\n",
      "3     │ 0.0  0.0\n",
      "4     │ 0.0  0.0\n",
      "5     │ 0.0  0.0\n",
      "p: [-1.0,-1.0,-0.00392222,0.0,0.0]\n",
      "q: [0.653217,0.579609]\n",
      "r: [0.0 0.0; 0.0 0.0; 0.0 0.0; 0.0 0.0; 0.0 0.0]\n"
     ]
    }
   ],
   "source": [
    "n = 5\n",
    "n_chosen = 2\n",
    "inf = -1000\n",
    "up = 1000\n",
    "# using Gurobi\n",
    "\n",
    "# m = Model(solver = GurobiSolver((OutputFlag=0)))\n",
    "m = Model()\n",
    "\n",
    "@variable(m, x[1:n, 1:n_chosen], Bin)\n",
    "@variable(m, p[1:n] <= 0) #dual corresponding to <= 1\n",
    "@variable(m, q[1:n_chosen])\n",
    "@variable(m, r[1:n, 1:n_chosen] <= 0)\n",
    "# @variable(m, s[1:n, 1:n_chosen] >= 0)\n",
    "@variable(m, t[1:n] <= 0)\n",
    "\n",
    "@constraint(m, supply[i in 1:n], sum(x[i, k] for k=1:n_chosen) <= 1)\n",
    "@constraint(m, demand[k in 1:n_chosen], sum(x[i, k] for i=1:n) == 1)\n",
    "                        \n",
    "@constraint(m, icons[j in 1:n], t[j] >= (1 - sum(x[j, k] for k=1:n_chosen)) * inf)\n",
    "@constraint(m, ucons[j in 1:n], t[j] <= p[j] + sum(x[j, k] for k=1:n_chosen))\n",
    "# @constraint(m, t <= sum(p[j] * (1 - sum(x[j, k] for k=1:n_chosen)) for j=1:n))\n",
    "                        \n",
    "@constraint(m, mincons[j in 1:n, k in 1:n_chosen], \n",
    "    p[j] + q[k] + r[j, k]  <= sum(foo2(i, j, k) * x[i, k] for i=1:n))\n",
    "                                                    \n",
    "@objective(m, Max, sum(t) + sum(q) + sum(r))        \n",
    "\n",
    "# println(m)\n",
    "solve(m)\n",
    "println(getobjectivevalue(m))\n",
    "xopt = getvalue(x)\n",
    "solution_x = NamedArray([xopt[i, k] for i=1:n, k=1:n_chosen])\n",
    "println(solution_x)\n",
    "println(\"p: \", getvalue(p))\n",
    "println(\"q: \", getvalue(q))\n",
    "println(\"r: \", getvalue(r))"
   ]
  },
  {
   "cell_type": "code",
   "execution_count": 75,
   "metadata": {
    "collapsed": false
   },
   "outputs": [
    {
     "name": "stdout",
     "output_type": "stream",
     "text": [
      "1.2289041195952994\n",
      "5×2 Named Array{Int64,2}\n",
      "A ╲ B │ 1  2\n",
      "──────┼─────\n",
      "1     │ 0  0\n",
      "2     │ 0  0\n",
      "3     │ 0  1\n",
      "4     │ 1  0\n",
      "5     │ 0  0\n"
     ]
    }
   ],
   "source": [
    "ym = Model()\n",
    "\n",
    "@variable(ym, y[1:n, 1:n_chosen], Bin)\n",
    "\n",
    "@constraint(ym, supply[j in 1:n], sum(y[j, k] for k=1:n_chosen) <= 1 - sum(xopt[j, k] for k=1:n_chosen))\n",
    "@constraint(ym, demand[k in 1:n_chosen], sum(y[i, k] for i=1:n) == 1)\n",
    "                        \n",
    "@objective(ym, Min, sum(foo2(i, j, k) * xopt[i, k] * y[j, k] for i=1:n, j=1:n, k=1:n_chosen))        \n",
    "\n",
    "# println(ym)\n",
    "solve(ym)\n",
    "println(getobjectivevalue(ym))\n",
    "yopt = getvalue(y)\n",
    "solution_y = NamedArray(Int[yopt[i, k] for i=1:n, k=1:n_chosen])\n",
    "println(solution_y)"
   ]
  },
  {
   "cell_type": "markdown",
   "metadata": {},
   "source": [
    "## Trade off"
   ]
  },
  {
   "cell_type": "code",
   "execution_count": 81,
   "metadata": {
    "collapsed": true
   },
   "outputs": [],
   "source": [
    "price2 = [1, 0.9, 0.58, 0.57, 0.56] \n",
    "elo2 = [2838, 2822, 2750, 2747, 2745]\n",
    ";"
   ]
  },
  {
   "cell_type": "code",
   "execution_count": 77,
   "metadata": {
    "collapsed": false
   },
   "outputs": [
    {
     "data": {
      "text/plain": [
       "budget (generic function with 1 method)"
      ]
     },
     "execution_count": 77,
     "metadata": {},
     "output_type": "execute_result"
    }
   ],
   "source": [
    "function budget(i::Int) \n",
    "    return price2[i]\n",
    "end"
   ]
  },
  {
   "cell_type": "code",
   "execution_count": 82,
   "metadata": {
    "collapsed": false
   },
   "outputs": [
    {
     "name": "stdout",
     "output_type": "stream",
     "text": [
      "0.27890411959529937\n",
      "5×2 Named Array{Float64,2}\n",
      "A ╲ B │   1    2\n",
      "──────┼─────────\n",
      "1     │ 0.0  1.0\n",
      "2     │ 1.0  0.0\n",
      "3     │ 0.0  0.0\n",
      "4     │ 0.0  0.0\n",
      "5     │ 0.0  0.0\n",
      "p: [-1.0,-1.0,-0.00392222,0.0,0.0]\n",
      "q: [0.203217,0.0796092]\n",
      "r: [0.0 0.0; 0.0 0.0; 0.0 0.0; 0.0 0.0; 0.0 0.0]\n"
     ]
    }
   ],
   "source": [
    "n = 5\n",
    "n_chosen = 2\n",
    "inf = -1000\n",
    "up = 1000\n",
    "lambda = 0.5\n",
    "# using Gurobi\n",
    "\n",
    "# m = Model(solver = GurobiSolver((OutputFlag=0)))\n",
    "m = Model()\n",
    "\n",
    "@variable(m, x[1:n, 1:n_chosen], Bin)\n",
    "@variable(m, p[1:n] <= 0) #dual corresponding to <= 1\n",
    "@variable(m, q[1:n_chosen])\n",
    "@variable(m, r[1:n, 1:n_chosen] <= 0)\n",
    "# @variable(m, s[1:n, 1:n_chosen] >= 0)\n",
    "@variable(m, t[1:n] <= 0)\n",
    "\n",
    "@constraint(m, supply[i in 1:n], sum(x[i, k] for k=1:n_chosen) <= 1)\n",
    "@constraint(m, demand[k in 1:n_chosen], sum(x[i, k] for i=1:n) == 1)\n",
    "                        \n",
    "@constraint(m, icons[j in 1:n], t[j] >= (1 - sum(x[j, k] for k=1:n_chosen)) * inf)\n",
    "@constraint(m, ucons[j in 1:n], t[j] <= p[j] + sum(x[j, k] for k=1:n_chosen))\n",
    "# @constraint(m, t <= sum(p[j] * (1 - sum(x[j, k] for k=1:n_chosen)) for j=1:n))\n",
    "                        \n",
    "@constraint(m, mincons[j in 1:n, k in 1:n_chosen], \n",
    "    p[j] + q[k] + r[j, k]  <= sum((foo2(i, j, k) - lambda * budget(i))* x[i, k] for i=1:n))\n",
    "                                                    \n",
    "@objective(m, Max, sum(t) + sum(q) + sum(r))        \n",
    "\n",
    "# println(m)\n",
    "solve(m)\n",
    "println(getobjectivevalue(m))\n",
    "xopt = getvalue(x)\n",
    "solution_x = NamedArray([xopt[i, k] for i=1:n, k=1:n_chosen])\n",
    "println(solution_x)\n",
    "println(\"p: \", getvalue(p))\n",
    "println(\"q: \", getvalue(q))\n",
    "println(\"r: \", getvalue(r))"
   ]
  },
  {
   "cell_type": "code",
   "execution_count": 83,
   "metadata": {
    "collapsed": false
   },
   "outputs": [
    {
     "name": "stdout",
     "output_type": "stream",
     "text": [
      "0.27890411959529937\n",
      "5×2 Named Array{Int64,2}\n",
      "A ╲ B │ 1  2\n",
      "──────┼─────\n",
      "1     │ 0  0\n",
      "2     │ 0  0\n",
      "3     │ 0  1\n",
      "4     │ 1  0\n",
      "5     │ 0  0\n"
     ]
    }
   ],
   "source": [
    "ym = Model()\n",
    "\n",
    "@variable(ym, y[1:n, 1:n_chosen], Bin)\n",
    "\n",
    "@constraint(ym, supply[j in 1:n], sum(y[j, k] for k=1:n_chosen) <= 1 - sum(xopt[j, k] for k=1:n_chosen))\n",
    "@constraint(ym, demand[k in 1:n_chosen], sum(y[i, k] for i=1:n) == 1)\n",
    "                        \n",
    "@objective(ym, Min, sum((foo2(i, j, k) - lambda * budget(i)) * xopt[i, k] * y[j, k] for i=1:n, j=1:n, k=1:n_chosen))        \n",
    "\n",
    "# println(ym)\n",
    "solve(ym)\n",
    "println(getobjectivevalue(ym))\n",
    "yopt = getvalue(y)\n",
    "solution_y = NamedArray(Int[yopt[i, k] for i=1:n, k=1:n_chosen])\n",
    "println(solution_y)"
   ]
  },
  {
   "cell_type": "code",
   "execution_count": null,
   "metadata": {
    "collapsed": true
   },
   "outputs": [],
   "source": []
  }
 ],
 "metadata": {
  "kernelspec": {
   "display_name": "Julia 0.5.0",
   "language": "julia",
   "name": "julia-0.5"
  },
  "language_info": {
   "file_extension": ".jl",
   "mimetype": "application/julia",
   "name": "julia",
   "version": "0.5.0"
  }
 },
 "nbformat": 4,
 "nbformat_minor": 2
}
