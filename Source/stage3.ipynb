{
 "cells": [
  {
   "cell_type": "markdown",
   "metadata": {},
   "source": [
    "# Stage 3: Tradeoff"
   ]
  },
  {
   "cell_type": "code",
   "execution_count": 2,
   "metadata": {
    "collapsed": true
   },
   "outputs": [],
   "source": [
    "using JuMP\n",
    "import Combinatorics"
   ]
  },
  {
   "cell_type": "code",
   "execution_count": 50,
   "metadata": {
    "code_folding": [],
    "collapsed": false
   },
   "outputs": [
    {
     "name": "stderr",
     "output_type": "stream",
     "text": [
      "WARNING: Method definition get_nash_primal(Array) in module Main at In[3]:2 overwritten at In[50]:2.\n"
     ]
    }
   ],
   "source": [
    "function get_nash_primal(score_matrix::Array)\n",
    "    size = ndims(score_matrix)\n",
    "    # for primal - P person\n",
    "    m = Model()\n",
    "\n",
    "    @variable(m, 1>= p[1:size] >=0)\n",
    "    @variable(m, t)\n",
    "\n",
    "    @constraint(m, sum(p) == 1)\n",
    "    @constraint(m, min_const[k in 1:size], \n",
    "        sum(p[i] * score_matrix[i, k] for i=1:size) >= t)\n",
    "    # Max min (g1, g2, ..., gn)\n",
    "    @objective(m, Max, t)\n",
    "    solve(m)\n",
    "                \n",
    "    popt = getvalue(p)\n",
    "#     println(\"E Optimal Score: \", getobjectivevalue(m))\n",
    "    return getobjectivevalue(m)        \n",
    "#     return findmax(popt)\n",
    "end\n",
    ";"
   ]
  },
  {
   "cell_type": "markdown",
   "metadata": {},
   "source": [
    "### Game score function"
   ]
  },
  {
   "cell_type": "code",
   "execution_count": 4,
   "metadata": {
    "code_folding": [
     0,
     9
    ],
    "collapsed": false
   },
   "outputs": [],
   "source": [
    "function get_score_chess_game(player, opponent, is_first)\n",
    "    if is_first\n",
    "        x = player - opponent + 35\n",
    "    else\n",
    "        x = player - opponent - 35\n",
    "    end\n",
    "    return 1/(1 + 10^(-x/400)) \n",
    "end\n",
    ";\n",
    "function get_match_score(team_player, team_opponent, is_first, players_dict)\n",
    "    len = length(team_player)\n",
    "    if is_first\n",
    "        return sum(get_score_chess_game(players_dict[team_player[i]], \n",
    "            players_dict[team_opponent[i]], i % 2 == 1) for i=1:len)\n",
    "    else\n",
    "        return sum(get_score_chess_game(players_dict[team_player[i]], \n",
    "            players_dict[team_opponent[i]], i % 2 == 0) for i=1:len)\n",
    "    end\n",
    "end\n",
    ";"
   ]
  },
  {
   "cell_type": "markdown",
   "metadata": {},
   "source": [
    "### Generate score matrices for all players\n",
    "Suppose that we have 10 players, choose 4 of them to establish our team, 6 other players become our opponents"
   ]
  },
  {
   "cell_type": "code",
   "execution_count": 5,
   "metadata": {
    "code_folding": [
     0
    ],
    "collapsed": false
   },
   "outputs": [
    {
     "data": {
      "text/plain": [
       "get_score_matrix (generic function with 1 method)"
      ]
     },
     "execution_count": 5,
     "metadata": {},
     "output_type": "execute_result"
    }
   ],
   "source": [
    "function get_score_matrix(list1::Array, list2::Array, players_dict::Array)\n",
    "    # assume that team 1 plays firstly\n",
    "    dim1 = length(list1)\n",
    "    dim2 = length(list2)\n",
    "    scores = Matrix(dim1, dim2)\n",
    "    for i in 1:dim1\n",
    "        for j in 1:dim2\n",
    "            scores[i, j] = get_match_score(list1[i], list2[j], true, players_dict)\n",
    "        end\n",
    "    end\n",
    "    return scores\n",
    "end"
   ]
  },
  {
   "cell_type": "code",
   "execution_count": 6,
   "metadata": {
    "code_folding": [
     1
    ],
    "collapsed": false
   },
   "outputs": [
    {
     "data": {
      "text/plain": [
       "get_permutations (generic function with 1 method)"
      ]
     },
     "execution_count": 6,
     "metadata": {},
     "output_type": "execute_result"
    }
   ],
   "source": [
    "function get_combinations(list_players::Array, nchosen::Int)\n",
    "    return collect(combinations(list_players, nchosen))\n",
    "end\n",
    "function get_permutations(list_players::Array)\n",
    "    return collect(permutations(list_players))\n",
    "end"
   ]
  },
  {
   "cell_type": "code",
   "execution_count": 7,
   "metadata": {
    "code_folding": [
     0
    ],
    "collapsed": false
   },
   "outputs": [
    {
     "data": {
      "text/plain": [
       "get_difference (generic function with 1 method)"
      ]
     },
     "execution_count": 7,
     "metadata": {},
     "output_type": "execute_result"
    }
   ],
   "source": [
    "function get_difference(list_main::Array, list_1::Array)\n",
    "    lst = Array[]\n",
    "    for i in list_main\n",
    "        if !(i in list_1)\n",
    "            push!(lst, i)\n",
    "        end\n",
    "    end\n",
    "    return lst\n",
    "end"
   ]
  },
  {
   "cell_type": "code",
   "execution_count": 14,
   "metadata": {
    "code_folding": [
     0
    ],
    "collapsed": false
   },
   "outputs": [
    {
     "name": "stderr",
     "output_type": "stream",
     "text": [
      "WARNING: Method definition get_best_rest(Array, Array, Int64) in module Main at In[8]:2 overwritten at In[14]:2.\n"
     ]
    },
    {
     "data": {
      "text/plain": [
       "get_best_rest (generic function with 1 method)"
      ]
     },
     "execution_count": 14,
     "metadata": {},
     "output_type": "execute_result"
    }
   ],
   "source": [
    "function get_best_rest(list_main::Array, list_1::Array, num::Int)\n",
    "    lst = []\n",
    "    for i in 1:length(list_main)\n",
    "        if !(list_main[i] in list_1)\n",
    "            push!(lst, list_main[i])\n",
    "            if length(lst) == num\n",
    "                break\n",
    "            end\n",
    "        end\n",
    "    end\n",
    "    return lst\n",
    "end"
   ]
  },
  {
   "cell_type": "markdown",
   "metadata": {
    "collapsed": true
   },
   "source": [
    "### Nash equilibrium"
   ]
  },
  {
   "cell_type": "code",
   "execution_count": 9,
   "metadata": {
    "code_folding": [
     0
    ],
    "collapsed": false
   },
   "outputs": [
    {
     "data": {
      "text/plain": [
       "get_optimal_score (generic function with 1 method)"
      ]
     },
     "execution_count": 9,
     "metadata": {},
     "output_type": "execute_result"
    }
   ],
   "source": [
    "function get_optimal_score(s::Array, list_players::Array)\n",
    "    team_host = []\n",
    "    list_players_rest = []\n",
    "    for i in 1:length(s)\n",
    "        if s[i] == 1\n",
    "            push!(team_host, list_players[i])\n",
    "        else\n",
    "            push!(list_players_rest, list_players[i])\n",
    "        end\n",
    "    end\n",
    "    coms_rest = get_combinations(list_players_rest, k_chosen)\n",
    "    list_host = get_permutations(team_host)\n",
    "    list_guest = Array[]\n",
    "    for team_guest in coms_rest\n",
    "        perms = get_permutations(team_guest)\n",
    "        append!(list_guest, perms)\n",
    "    end\n",
    "    scores_matrix = get_score_matrix(list_host, list_guest)\n",
    "    return get_nash_primal(scores_matrix)\n",
    "end"
   ]
  },
  {
   "cell_type": "code",
   "execution_count": 40,
   "metadata": {
    "code_folding": [],
    "collapsed": false
   },
   "outputs": [
    {
     "name": "stderr",
     "output_type": "stream",
     "text": [
      "WARNING: Method definition get_budget(Any, Array) in module Main at In[38]:2 overwritten at In[40]:2.\n"
     ]
    },
    {
     "data": {
      "text/plain": [
       "get_budget (generic function with 1 method)"
      ]
     },
     "execution_count": 40,
     "metadata": {},
     "output_type": "execute_result"
    }
   ],
   "source": [
    "function get_budget(team, price::Array)\n",
    "    total = 0\n",
    "    for i in 1:length(team)\n",
    "        total = total + price[team[i]]\n",
    "    end\n",
    "    return total\n",
    "end"
   ]
  },
  {
   "cell_type": "code",
   "execution_count": 1,
   "metadata": {
    "collapsed": false
   },
   "outputs": [],
   "source": [
    "# price = [1000, 900, 850, 700, 690, 650, 600, 580, 570, 560]\n",
    "# elo = [2838, 2822, 2817, 2772, 2771, 2761, 2750, 2747, 2745]\n",
    "price = [1000, 900, 580, 570, 560] \n",
    "possible_budget = []\n",
    "elo = [2838, 2822, 2750, 2747, 2745]\n",
    "nplayers = 5\n",
    "k_chosen = 2\n",
    "list_players = [1:nplayers;]\n",
    ";"
   ]
  },
  {
   "cell_type": "markdown",
   "metadata": {},
   "source": [
    "### Score matrix"
   ]
  },
  {
   "cell_type": "code",
   "execution_count": 69,
   "metadata": {
    "collapsed": false
   },
   "outputs": [],
   "source": [
    "set_coms = get_combinations(list_players, k_chosen)\n",
    "superM = []\n",
    "for k in 1:length(set_coms)\n",
    "    team_host = set_coms[k]\n",
    "    team_guest = get_best_rest(list_players, team_host, k_chosen)\n",
    "    list_host = get_permutations(team_host)\n",
    "    list_guest = get_permutations(team_guest)\n",
    "    matrix_ij = get_score_matrix(list_host, list_guest, elo)\n",
    "    push!(superM, matrix_ij)\n",
    "end"
   ]
  },
  {
   "cell_type": "code",
   "execution_count": 70,
   "metadata": {
    "collapsed": false
   },
   "outputs": [],
   "source": [
    "budgets = []\n",
    "for k in 1:length(set_coms)\n",
    "    push!(budgets, get_budget(set_coms[k], price))\n",
    "end"
   ]
  },
  {
   "cell_type": "markdown",
   "metadata": {},
   "source": [
    "Brute force for discrete-state system  \n",
    "Complexity is O(n!k!/(n-k)!) = O(n^k * k!)   \n",
    "Typically, k is small (less than 20)   \n",
    "\n",
    "There are 2 cases: \n",
    "- Opponents are too rich, choose the best combination of the rest players  \n",
    "- Opponent cares about budget => add budget as a score in Nash equilibrium  \n",
    "\n",
    "Each team has a limited budget for buying.  "
   ]
  },
  {
   "cell_type": "code",
   "execution_count": 71,
   "metadata": {
    "collapsed": false
   },
   "outputs": [
    {
     "data": {
      "text/plain": [
       "2-element Array{Int64,1}:\n",
       " 1\n",
       " 2"
      ]
     },
     "execution_count": 71,
     "metadata": {},
     "output_type": "execute_result"
    }
   ],
   "source": [
    "# tradeoff\n",
    "alpha = 0.0005\n",
    "com_size = length(set_coms)\n",
    "nsize = factorial(k_chosen)\n",
    "\n",
    "lst = []\n",
    "for k in 1:com_size\n",
    "    team_host = set_coms[k]\n",
    "    team_guest = get_best_rest(list_players, team_host, k_chosen)\n",
    "    list_host = get_permutations(team_host)\n",
    "    list_guest = get_permutations(team_guest)\n",
    "    matrix_ij = get_score_matrix(list_host, list_guest, elo)\n",
    "    \n",
    "    fighting_score = get_nash_primal(matrix_ij)\n",
    "    score = fighting_score - alpha * budgets[k]\n",
    "    push!(lst, score)\n",
    "end\n",
    "set_coms[findmax(lst)[2]]"
   ]
  },
  {
   "cell_type": "code",
   "execution_count": null,
   "metadata": {
    "collapsed": true
   },
   "outputs": [],
   "source": []
  }
 ],
 "metadata": {
  "kernelspec": {
   "display_name": "Julia 0.5.0",
   "language": "julia",
   "name": "julia-0.5"
  },
  "language_info": {
   "file_extension": ".jl",
   "mimetype": "application/julia",
   "name": "julia",
   "version": "0.5.0"
  }
 },
 "nbformat": 4,
 "nbformat_minor": 2
}
