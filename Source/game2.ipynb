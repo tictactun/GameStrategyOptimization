{
 "cells": [
  {
   "cell_type": "markdown",
   "metadata": {},
   "source": [
    "$$\n",
    "\\begin{aligned}\n",
    "\\underset{\\Large{\\text{L.Lessard, Spring 2017}}}{\\large{\\text{Introduction to Optimization CS 524}}} \\\\\n",
    "\\end{aligned}\n",
    "$$\n",
    "\n",
    "$$\n",
    "\\begin{aligned}\n",
    "\\underset{\\Large{\\text{Due date: 11:00pm on Monday April 17, 2017}}}{\\Large{\\text{Determining Winning Strategies Using Game Theoretic Optimization}}} \\\\\n",
    "\\end{aligned}\n",
    "$$\n",
    "\n",
    "$$\n",
    "\\begin{aligned}\n",
    "\\underset{\\large{\\text{tuandinh@cs.wisc.edu}}}{\\large{\\text{Tuan Dinh}}} && \\underset{\\large{\\text{varun@cs.wisc.edu}}}{\\large{\\text{Varun Sah}}} \\\\\n",
    "\\end{aligned}\n",
    "$$\n",
    "\n",
    "*****\n",
    "\n",
    "<center> <h3>CS/ECE/ISyE 524 &mdash; Introduction to Optimization &mdash; Spring 2017 </h3> </center>\n",
    "\n",
    "<center> <h1>Determining Winning Strategies Using Game Theoretic Optimization</h1> </center>\n",
    "\n",
    "<center> <h4>Tuan Dinh (tuandinh@cs.wisc.edu) &mdash; Varun Sah (varun@cs.wisc.edu)</h4> </center>\n",
    "\n",
    "*****"
   ]
  },
  {
   "cell_type": "markdown",
   "metadata": {
    "toc": "true"
   },
   "source": [
    "### Table of Contents\n",
    "<p><div class=\"lev1 toc-item\"><a href=\"#Data-and-support-functions\" data-toc-modified-id=\"Data-and-support-functions-1\"><span class=\"toc-item-num\">1&nbsp;&nbsp;</span>Data and support functions</a></div><div class=\"lev2 toc-item\"><a href=\"#Demo-data\" data-toc-modified-id=\"Demo-data-11\"><span class=\"toc-item-num\">1.1&nbsp;&nbsp;</span>Demo data</a></div><div class=\"lev2 toc-item\"><a href=\"#Support-functions\" data-toc-modified-id=\"Support-functions-12\"><span class=\"toc-item-num\">1.2&nbsp;&nbsp;</span>Support functions</a></div><div class=\"lev3 toc-item\"><a href=\"#Score-function\" data-toc-modified-id=\"Score-function-121\"><span class=\"toc-item-num\">1.2.1&nbsp;&nbsp;</span>Score function</a></div><div class=\"lev3 toc-item\"><a href=\"#Match-score-function\" data-toc-modified-id=\"Match-score-function-122\"><span class=\"toc-item-num\">1.2.2&nbsp;&nbsp;</span>Match score function</a></div><div class=\"lev1 toc-item\"><a href=\"#Selecting-team's-strategy\" data-toc-modified-id=\"Selecting-team's-strategy-2\"><span class=\"toc-item-num\">2&nbsp;&nbsp;</span>Selecting team's strategy</a></div><div class=\"lev2 toc-item\"><a href=\"#Fixed-opponent's-strategy\" data-toc-modified-id=\"Fixed-opponent's-strategy-21\"><span class=\"toc-item-num\">2.1&nbsp;&nbsp;</span>Fixed opponent's strategy</a></div><div class=\"lev3 toc-item\"><a href=\"#Model-1:-Simple-score-function\" data-toc-modified-id=\"Model-1:-Simple-score-function-211\"><span class=\"toc-item-num\">2.1.1&nbsp;&nbsp;</span>Model 1: Simple score function</a></div><div class=\"lev3 toc-item\"><a href=\"#Model-2:-Probabilistic-score-function\" data-toc-modified-id=\"Model-2:-Probabilistic-score-function-212\"><span class=\"toc-item-num\">2.1.2&nbsp;&nbsp;</span>Model 2: Probabilistic score function</a></div><div class=\"lev2 toc-item\"><a href=\"#Maxmin-solution---pure-strategy\" data-toc-modified-id=\"Maxmin-solution---pure-strategy-22\"><span class=\"toc-item-num\">2.2&nbsp;&nbsp;</span>Maxmin solution - pure strategy</a></div><div class=\"lev2 toc-item\"><a href=\"#Nash-equilibrium---Mixed-strategy\" data-toc-modified-id=\"Nash-equilibrium---Mixed-strategy-23\"><span class=\"toc-item-num\">2.3&nbsp;&nbsp;</span>Nash equilibrium - Mixed strategy</a></div><div class=\"lev3 toc-item\"><a href=\"#Nash-equilibrium---primal\" data-toc-modified-id=\"Nash-equilibrium---primal-231\"><span class=\"toc-item-num\">2.3.1&nbsp;&nbsp;</span>Nash equilibrium - primal</a></div><div class=\"lev3 toc-item\"><a href=\"#Nash-equilibrium---dual\" data-toc-modified-id=\"Nash-equilibrium---dual-232\"><span class=\"toc-item-num\">2.3.2&nbsp;&nbsp;</span>Nash equilibrium - dual</a></div><div class=\"lev3 toc-item\"><a href=\"#Enumeration\" data-toc-modified-id=\"Enumeration-233\"><span class=\"toc-item-num\">2.3.3&nbsp;&nbsp;</span>Enumeration</a></div><div class=\"lev1 toc-item\"><a href=\"#Team-Selection-and-Trade-off\" data-toc-modified-id=\"Team-Selection-and-Trade-off-3\"><span class=\"toc-item-num\">3&nbsp;&nbsp;</span>Team Selection and Trade off</a></div><div class=\"lev2 toc-item\"><a href=\"#Model-1:-Selecting-from-a-pool\" data-toc-modified-id=\"Model-1:-Selecting-from-a-pool-31\"><span class=\"toc-item-num\">3.1&nbsp;&nbsp;</span>Model 1: Selecting from a pool</a></div><div class=\"lev3 toc-item\"><a href=\"#Optimize-our-strategy\" data-toc-modified-id=\"Optimize-our-strategy-311\"><span class=\"toc-item-num\">3.1.1&nbsp;&nbsp;</span>Optimize our strategy</a></div><div class=\"lev3 toc-item\"><a href=\"#Get-opponent's-best-strategy\" data-toc-modified-id=\"Get-opponent's-best-strategy-312\"><span class=\"toc-item-num\">3.1.2&nbsp;&nbsp;</span>Get opponent's best strategy</a></div><div class=\"lev2 toc-item\"><a href=\"#Model-2---Selecting-with-a-small-budget\" data-toc-modified-id=\"Model-2---Selecting-with-a-small-budget-32\"><span class=\"toc-item-num\">3.2&nbsp;&nbsp;</span>Model 2 - Selecting with a small budget</a></div><div class=\"lev3 toc-item\"><a href=\"#Optimize-our-strategy\" data-toc-modified-id=\"Optimize-our-strategy-321\"><span class=\"toc-item-num\">3.2.1&nbsp;&nbsp;</span>Optimize our strategy</a></div><div class=\"lev3 toc-item\"><a href=\"#Get-opponent's-best-strategy\" data-toc-modified-id=\"Get-opponent's-best-strategy-322\"><span class=\"toc-item-num\">3.2.2&nbsp;&nbsp;</span>Get opponent's best strategy</a></div>"
   ]
  },
  {
   "cell_type": "markdown",
   "metadata": {},
   "source": [
    "<strong>Motivated story</strong>  Horse racing of Chinese General Tian Ji   \n",
    "\n",
    "<strong> Questions for this project:   </strong>\n",
    "1. How to choose a team's strategy  \n",
    "a. Knowing opponent's strategy  \n",
    "b. Nash equilibrium: optimize for both 2 teams  \n",
    "\n",
    "\n",
    "2. Players selection: how to buy some qualified players with a small budget   \n",
    "a. Establish teams from scratch  \n",
    "b. Pre-season transfer  "
   ]
  },
  {
   "cell_type": "code",
   "execution_count": 1,
   "metadata": {
    "collapsed": false
   },
   "outputs": [],
   "source": [
    "using JuMP\n",
    "using NamedArrays"
   ]
  },
  {
   "cell_type": "markdown",
   "metadata": {},
   "source": [
    "# Data and support functions"
   ]
  },
  {
   "cell_type": "markdown",
   "metadata": {},
   "source": [
    "## Demo data"
   ]
  },
  {
   "cell_type": "code",
   "execution_count": 2,
   "metadata": {
    "collapsed": false
   },
   "outputs": [],
   "source": [
    "# one is enough!! No of games - 1's score = 2's score\n",
    "elo = [2838, 2822, 2817, 2772, 2771, 2761, \n",
    "    2750, 2747, 2745, 2741, 2720, 2700, 2680]\n",
    "price = [1000, 950, 930, 900, 850, 700, 690, \n",
    "    650, 630, 600, 580, 570, 560] * 0.001 \n",
    "\n",
    "team_host = [2 4 7 8 11 12]\n",
    "team_guest = [1 3 5 6 9 10]\n",
    "\n",
    "plan_guest = [2 1 4 6 3 5] # fixed plan\n",
    "\n",
    "N_PLAYERS = 6\n",
    "N_CHOSEN = 4\n",
    "N_POOL = 10\n",
    ";"
   ]
  },
  {
   "cell_type": "markdown",
   "metadata": {},
   "source": [
    "## Support functions"
   ]
  },
  {
   "cell_type": "markdown",
   "metadata": {},
   "source": [
    "### Score function"
   ]
  },
  {
   "cell_type": "markdown",
   "metadata": {},
   "source": [
    "\n",
    "Elo-Rating & Win-Probability: https://chessprogramming.wikispaces.com/Match+Statistics   \n",
    "$score = \\frac{1}{1 + 10^{-\\frac{\\Delta}{400}}}$    \n",
    "\n",
    "First-move advantage in chess: https://en.wikipedia.org/wiki/First-move_advantage_in_chess   \n",
    "white = black + 35   (elo)   \n",
    "\n",
    "Plus: weighted round: score of round k: $1 + \\frac{1}{100}(1 - \\frac{k}{N})$"
   ]
  },
  {
   "cell_type": "code",
   "execution_count": 3,
   "metadata": {
    "collapsed": false
   },
   "outputs": [],
   "source": [
    "function get_simple_score(player, opponent, order, round, elo)\n",
    "    x = elo[player] - elo[opponent] + 0.75 * (-1)^(order + 1)\n",
    "    if x > 0 \n",
    "        return 1\n",
    "    elseif x < 0\n",
    "        return 0\n",
    "    else \n",
    "        return 0.5\n",
    "    end  \n",
    "end\n",
    ";"
   ]
  },
  {
   "cell_type": "code",
   "execution_count": 4,
   "metadata": {
    "collapsed": false
   },
   "outputs": [],
   "source": [
    "# the positional advantage and the ratings difference\n",
    "# higher elo, first move better\n",
    "# order: 1 or 0 with 1 being first\n",
    "function get_chess_score(player, opponent, order, round, elo)\n",
    "    x = elo[player] - elo[opponent] + 35*(-1)^(order + 1)\n",
    "    return 1/(1 + 10^(-x/400)) \n",
    "end\n",
    ";"
   ]
  },
  {
   "cell_type": "code",
   "execution_count": 5,
   "metadata": {
    "collapsed": false
   },
   "outputs": [],
   "source": [
    "# order matters\n",
    "function get_chess_score2(player, opponent, order, round, elo)\n",
    "    x = elo[player] - elo[opponent] + 35*(-1)^(order % 2 + 1)      \n",
    "    return 1/(1 + 10^(-x/400)) * (1.01 - 0.01round/N_PLAYERS)\n",
    "end\n",
    ";"
   ]
  },
  {
   "cell_type": "code",
   "execution_count": 6,
   "metadata": {
    "collapsed": false
   },
   "outputs": [],
   "source": [
    "# order matters\n",
    "function get_chess_score3(player, opponent, order, round, elo)\n",
    "    x = elo[player] - elo[opponent] + 35*(-1)^(order % 2 + 1)      \n",
    "    return 1/(1 + 10^(-x/400)) * (1.01 - 0.01round/N_POOL)\n",
    "end\n",
    ";"
   ]
  },
  {
   "cell_type": "markdown",
   "metadata": {},
   "source": [
    "### Match score function"
   ]
  },
  {
   "cell_type": "code",
   "execution_count": 7,
   "metadata": {
    "collapsed": false
   },
   "outputs": [],
   "source": [
    "function get_match_score(team_player, team_opponent, order, elo)\n",
    "    sum(get_score_chess_game(team_player[i], team_opponent[i], \n",
    "            i + order + 1, elo) for i=1:length(team_player))\n",
    "end\n",
    ";"
   ]
  },
  {
   "cell_type": "code",
   "execution_count": 8,
   "metadata": {
    "collapsed": false
   },
   "outputs": [],
   "source": [
    "function get_match_score2(team_player, team_opponent, order, elo)\n",
    "    sum(get_chess_score2(team_player[i], team_opponent[i], \n",
    "            i + order + 1, i, elo) for i=1:length(team_player))\n",
    "end\n",
    ";"
   ]
  },
  {
   "cell_type": "markdown",
   "metadata": {},
   "source": [
    "# Selecting team's strategy"
   ]
  },
  {
   "cell_type": "markdown",
   "metadata": {},
   "source": [
    "## Fixed opponent's strategy"
   ]
  },
  {
   "cell_type": "markdown",
   "metadata": {},
   "source": [
    "This is a simple assignment problem  \n",
    "$Max \\sum_{i=1}^N\\sum_{j=1}^N x_{i,j} * score(a_i, b_j, j)$  \n",
    "s.t. \n",
    "- x: binary\n",
    "- $\\sum_{i=1}^{N}x_{i,k} = 1$  \n",
    "- $\\sum_{k=1}^{N}x_{i,k} = 1$    "
   ]
  },
  {
   "cell_type": "code",
   "execution_count": 9,
   "metadata": {
    "collapsed": false
   },
   "outputs": [
    {
     "data": {
      "text/plain": [
       "get_fixed_strategy (generic function with 1 method)"
      ]
     },
     "execution_count": 9,
     "metadata": {},
     "output_type": "execute_result"
    }
   ],
   "source": [
    "function get_fixed_strategy(N_PLAYERS, team_host, team_guest, get_score, elo)\n",
    "    simpleModel = Model()\n",
    "\n",
    "    @variable(simpleModel, x[1:N_PLAYERS, 1:N_PLAYERS], Bin)\n",
    "\n",
    "    @constraint(simpleModel, supply[k in 1:N_PLAYERS], \n",
    "                    sum(x[k, j] for j=1:N_PLAYERS) == 1)\n",
    "    @constraint(simpleModel, demand[k in 1:N_PLAYERS], \n",
    "                    sum(x[i, k] for i=1:N_PLAYERS) == 1)\n",
    "\n",
    "    @objective(simpleModel, Max, sum(x[i, k] * get_score(\n",
    "                team_host[i], team_guest[plan_guest[k]], k, k, elo) \n",
    "                for i=1:N_PLAYERS, k=1:N_PLAYERS))\n",
    "\n",
    "    solve(simpleModel)\n",
    "\n",
    "    xopt = getvalue(x)\n",
    "    println(\"Strategy: \")\n",
    "    for k in 1:N_PLAYERS\n",
    "        for i in 1:N_PLAYERS\n",
    "            if xopt[i, k] != 0\n",
    "                println(team_host[i], \" - \", team_guest[plan_guest[k]])\n",
    "            end\n",
    "        end\n",
    "    end\n",
    "    println(\"Score: \", getobjectivevalue(simpleModel))\n",
    "end"
   ]
  },
  {
   "cell_type": "markdown",
   "metadata": {},
   "source": [
    "### Model 1: Simple score function"
   ]
  },
  {
   "cell_type": "code",
   "execution_count": 10,
   "metadata": {
    "collapsed": false
   },
   "outputs": [
    {
     "ename": "LoadError",
     "evalue": "No solver was provided. JuMP has classified this model as MIP. Julia packages which provide solvers for this class of problems include Cbc, GLPKMathProgInterface, Gurobi, CPLEX, Mosek, and Xpress. The solver must be specified by using either the \"solver=\" keyword argument to \"Model()\" or the \"setsolver()\" method.",
     "output_type": "error",
     "traceback": [
      "No solver was provided. JuMP has classified this model as MIP. Julia packages which provide solvers for this class of problems include Cbc, GLPKMathProgInterface, Gurobi, CPLEX, Mosek, and Xpress. The solver must be specified by using either the \"solver=\" keyword argument to \"Model()\" or the \"setsolver()\" method.",
      "",
      " in no_solver_error(::JuMP.ProblemTraits) at C:\\Users\\Varun\\.julia\\v0.5\\JuMP\\src\\solvers.jl:84",
      " in #build#114(::Bool, ::Bool, ::JuMP.ProblemTraits, ::Function, ::JuMP.Model) at C:\\Users\\Varun\\.julia\\v0.5\\JuMP\\src\\solvers.jl:343",
      " in (::JuMP.#kw##build)(::Array{Any,1}, ::JuMP.#build, ::JuMP.Model) at .\\<missing>:0",
      " in #solve#109(::Bool, ::Bool, ::Bool, ::Array{Any,1}, ::Function, ::JuMP.Model) at C:\\Users\\Varun\\.julia\\v0.5\\JuMP\\src\\solvers.jl:166",
      " in get_fixed_strategy(::Int64, ::Array{Int64,2}, ::Array{Int64,2}, ::#get_simple_score, ::Array{Int64,1}) at .\\In[9]:15"
     ]
    }
   ],
   "source": [
    "get_fixed_strategy(N_PLAYERS, team_host, team_guest, get_simple_score, elo)"
   ]
  },
  {
   "cell_type": "markdown",
   "metadata": {},
   "source": [
    "### Model 2: Probabilistic score function"
   ]
  },
  {
   "cell_type": "code",
   "execution_count": 11,
   "metadata": {
    "collapsed": false
   },
   "outputs": [
    {
     "ename": "LoadError",
     "evalue": "No solver was provided. JuMP has classified this model as MIP. Julia packages which provide solvers for this class of problems include Cbc, GLPKMathProgInterface, Gurobi, CPLEX, Mosek, and Xpress. The solver must be specified by using either the \"solver=\" keyword argument to \"Model()\" or the \"setsolver()\" method.",
     "output_type": "error",
     "traceback": [
      "No solver was provided. JuMP has classified this model as MIP. Julia packages which provide solvers for this class of problems include Cbc, GLPKMathProgInterface, Gurobi, CPLEX, Mosek, and Xpress. The solver must be specified by using either the \"solver=\" keyword argument to \"Model()\" or the \"setsolver()\" method.",
      "",
      " in no_solver_error(::JuMP.ProblemTraits) at C:\\Users\\Varun\\.julia\\v0.5\\JuMP\\src\\solvers.jl:84",
      " in #build#114(::Bool, ::Bool, ::JuMP.ProblemTraits, ::Function, ::JuMP.Model) at C:\\Users\\Varun\\.julia\\v0.5\\JuMP\\src\\solvers.jl:343",
      " in (::JuMP.#kw##build)(::Array{Any,1}, ::JuMP.#build, ::JuMP.Model) at .\\<missing>:0",
      " in #solve#109(::Bool, ::Bool, ::Bool, ::Array{Any,1}, ::Function, ::JuMP.Model) at C:\\Users\\Varun\\.julia\\v0.5\\JuMP\\src\\solvers.jl:166",
      " in get_fixed_strategy(::Int64, ::Array{Int64,2}, ::Array{Int64,2}, ::#get_chess_score, ::Array{Int64,1}) at .\\In[9]:15"
     ]
    }
   ],
   "source": [
    "get_fixed_strategy(N_PLAYERS, team_host, team_guest, get_chess_score, elo)"
   ]
  },
  {
   "cell_type": "code",
   "execution_count": 12,
   "metadata": {
    "collapsed": false
   },
   "outputs": [
    {
     "ename": "LoadError",
     "evalue": "No solver was provided. JuMP has classified this model as MIP. Julia packages which provide solvers for this class of problems include Cbc, GLPKMathProgInterface, Gurobi, CPLEX, Mosek, and Xpress. The solver must be specified by using either the \"solver=\" keyword argument to \"Model()\" or the \"setsolver()\" method.",
     "output_type": "error",
     "traceback": [
      "No solver was provided. JuMP has classified this model as MIP. Julia packages which provide solvers for this class of problems include Cbc, GLPKMathProgInterface, Gurobi, CPLEX, Mosek, and Xpress. The solver must be specified by using either the \"solver=\" keyword argument to \"Model()\" or the \"setsolver()\" method.",
      "",
      " in no_solver_error(::JuMP.ProblemTraits) at C:\\Users\\Varun\\.julia\\v0.5\\JuMP\\src\\solvers.jl:84",
      " in #build#114(::Bool, ::Bool, ::JuMP.ProblemTraits, ::Function, ::JuMP.Model) at C:\\Users\\Varun\\.julia\\v0.5\\JuMP\\src\\solvers.jl:343",
      " in (::JuMP.#kw##build)(::Array{Any,1}, ::JuMP.#build, ::JuMP.Model) at .\\<missing>:0",
      " in #solve#109(::Bool, ::Bool, ::Bool, ::Array{Any,1}, ::Function, ::JuMP.Model) at C:\\Users\\Varun\\.julia\\v0.5\\JuMP\\src\\solvers.jl:166",
      " in get_fixed_strategy(::Int64, ::Array{Int64,2}, ::Array{Int64,2}, ::#get_chess_score2, ::Array{Int64,1}) at .\\In[9]:15"
     ]
    }
   ],
   "source": [
    "get_fixed_strategy(N_PLAYERS, team_host, team_guest, get_chess_score2, elo)"
   ]
  },
  {
   "cell_type": "markdown",
   "metadata": {},
   "source": [
    "## Maxmin solution - pure strategy"
   ]
  },
  {
   "cell_type": "markdown",
   "metadata": {},
   "source": [
    "Explaining the methods (pitoff matrix - game) and pure strategy ??? \n",
    "\n",
    "\n",
    "\n",
    "This is a 2-layer assignment problem: \n",
    "\n",
    "X site: $\\sum_{i=1}^{N}x_{i,k} = 1$ , $\\sum_{k=1}^{N}x_{i,k} = 1$    \n",
    "Y site: $\\sum_{j=1}^{N}y_{j,k} = 1$ , $\\sum_{k=1}^{N}y_{j,k} = 1$  \n",
    "\n",
    "$Max_x min_y f(x,y) = \\sum_{i=1}^N\\sum_{j=1}^N\\sum_{k=1}^N \n",
    "score(a_i, b_j, k) * x_{ik} * y_{jk}$   \n",
    "\n",
    "Solution:   \n",
    "(1) Consider an assignment of X as parameters of the function of y, f becomes:  \n",
    "$f(x) = min_y \\sum_{j=1}^N\\sum_{k=1}^N (\\sum_{i=1}^N \n",
    "score(a_i, b_j, k) * x_{ik}) * y_{jk}$  \n",
    "- $\\sum_{j=1}^{N}y_{j,k} = 1$ , $\\sum_{k=1}^{N}y_{j,k} = 1$ \n",
    "- $0 \\leq y \\leq 1$  \n",
    "\n",
    "The dual form of this is:  \n",
    "$Max_{p, q,r} \\sum_{j=1}^{N}{p_j} + \\sum_{k=1}^{N}{q_k} \n",
    "+ \\sum_{j=1}^{N}\\sum_{k=1}^{N}r_{jk}$  \n",
    "s.t.  \n",
    "- p, q: free  \n",
    "- $r_{jk} \\leq 0$  \n",
    "- $p_j + q_k + r_{jk} \\leq \\sum_{i=1}^N \n",
    "score(a_i, b_j, k) * x_{ik}$ for every j, k   \n",
    "\n",
    "Since this is a linear programing problem so that a strong duality always hold.    \n",
    "\n",
    "(2) Replace min function of y in f(x,y) with this dual form, we have the final model:  \n",
    "\n",
    "$Max_{x, p, q,r} \\sum_{j=1}^{N}{p_j} + \\sum_{k=1}^{N}{q_k} \n",
    "+ \\sum_{j=1}^{N}\\sum_{k=1}^{N}r_{jk}$   \n",
    "s.t.\n",
    "- $x_{ik}$: binary  for every i, k   \n",
    "- p, q: free  \n",
    "- $r_{jk} \\leq 0$ for every i, k   \n",
    "- $\\sum_{i=1}^{N}x_{i,k} = 1$ , $\\sum_{k=1}^{N}x_{i,k} = 1$  \n",
    "- $p_j + q_k + r_{jk} \\leq \\sum_{i=1}^N \n",
    "score(a_i, b_j, k) * x_{ik}$ for every j, k    \n",
    "\n"
   ]
  },
  {
   "cell_type": "code",
   "execution_count": 13,
   "metadata": {
    "collapsed": false
   },
   "outputs": [
    {
     "data": {
      "text/plain": [
       "get_pure_strategy (generic function with 1 method)"
      ]
     },
     "execution_count": 13,
     "metadata": {},
     "output_type": "execute_result"
    }
   ],
   "source": [
    "function get_pure_strategy(N_PLAYERS, team_host, team_guest, get_score, elo)\n",
    "    nashModel = Model()\n",
    "\n",
    "    @variable(nashModel, x[1:N_PLAYERS, 1:N_PLAYERS], Bin)\n",
    "    @variable(nashModel, p[1:N_PLAYERS])\n",
    "    @variable(nashModel, q[1:N_PLAYERS])\n",
    "    @variable(nashModel, r[1:N_PLAYERS, 1:N_PLAYERS] <= 0)\n",
    "\n",
    "    @constraint(nashModel, supply[k in 1:N_PLAYERS], \n",
    "                    sum(x[k, j] for j=1:N_PLAYERS) == 1)\n",
    "    @constraint(nashModel, demand[k in 1:N_PLAYERS], \n",
    "                    sum(x[i, k] for i=1:N_PLAYERS) == 1)\n",
    "\n",
    "    @constraint(nashModel, mincons[j in 1:N_PLAYERS, k in 1:N_PLAYERS], \n",
    "        p[j] + q[k] + r[j, k] <= \n",
    "            sum(get_score(team_host[i], team_guest[j], k, k, elo) * x[i, k] \n",
    "                                    for i=1:N_PLAYERS))\n",
    "\n",
    "    @objective(nashModel, Max, sum(p) + sum(q) + sum(r))        \n",
    "\n",
    "    solve(nashModel)\n",
    "\n",
    "    println(getobjectivevalue(nashModel))\n",
    "    xopt = getvalue(x)\n",
    "    solution_x = NamedArray(Int[xopt[i, k] for i=1:N_PLAYERS, k=1:N_PLAYERS])\n",
    "    println(solution_x)\n",
    "end"
   ]
  },
  {
   "cell_type": "code",
   "execution_count": 14,
   "metadata": {
    "collapsed": false
   },
   "outputs": [
    {
     "ename": "LoadError",
     "evalue": "No solver was provided. JuMP has classified this model as MIP. Julia packages which provide solvers for this class of problems include Cbc, GLPKMathProgInterface, Gurobi, CPLEX, Mosek, and Xpress. The solver must be specified by using either the \"solver=\" keyword argument to \"Model()\" or the \"setsolver()\" method.",
     "output_type": "error",
     "traceback": [
      "No solver was provided. JuMP has classified this model as MIP. Julia packages which provide solvers for this class of problems include Cbc, GLPKMathProgInterface, Gurobi, CPLEX, Mosek, and Xpress. The solver must be specified by using either the \"solver=\" keyword argument to \"Model()\" or the \"setsolver()\" method.",
      "",
      " in no_solver_error(::JuMP.ProblemTraits) at C:\\Users\\Varun\\.julia\\v0.5\\JuMP\\src\\solvers.jl:84",
      " in #build#114(::Bool, ::Bool, ::JuMP.ProblemTraits, ::Function, ::JuMP.Model) at C:\\Users\\Varun\\.julia\\v0.5\\JuMP\\src\\solvers.jl:343",
      " in (::JuMP.#kw##build)(::Array{Any,1}, ::JuMP.#build, ::JuMP.Model) at .\\<missing>:0",
      " in #solve#109(::Bool, ::Bool, ::Bool, ::Array{Any,1}, ::Function, ::JuMP.Model) at C:\\Users\\Varun\\.julia\\v0.5\\JuMP\\src\\solvers.jl:166",
      " in get_pure_strategy(::Int64, ::Array{Int64,2}, ::Array{Int64,2}, ::#get_chess_score, ::Array{Int64,1}) at .\\In[13]:21"
     ]
    }
   ],
   "source": [
    "get_pure_strategy(N_PLAYERS, team_host, team_guest, get_chess_score, elo)"
   ]
  },
  {
   "cell_type": "markdown",
   "metadata": {},
   "source": [
    "## Nash equilibrium - Mixed strategy"
   ]
  },
  {
   "cell_type": "markdown",
   "metadata": {},
   "source": [
    "Nash equilibrium????   \n",
    "\n",
    "$Max_p min_j {g_j}$  \n",
    "s.t. \n",
    "- $p_i \\geq 0$ with i=1,..,N!\n",
    "- $\\sum_{i=1}^{N!} p_i = 1$  \n",
    "- $g_j = \\sum_{i=1}^{N!} p_i * score(s_{i}^A, s_j^B)$ for j=1,..,M   \n",
    "\n",
    "Suppose the probability of $a_i$ playing at position k is $x_{ik}$ \n",
    "- they are independent with strategies of b\n",
    "- $\\sum_{i=1}^{N}x_{i,k} = 1$ , $\\sum_{k=1}^{N}x_{i,k} = 1$    \n",
    "\n",
    "Consider a strategy of B: $s_j^B = [b_{j1}, b_{j2}, ..., b_{jM}]$, we have:  \n",
    "- Total score that $b_{jk}$ contributes to $g_j$ is: \n",
    "$\\sum_{i=1}^N score(a_i, b_j, k) * x_{ik}$       \n",
    "\n",
    "This can be modeled as a relaxed assignment problem.  \n",
    "Similar to solution of pure strategy using dual form, we can model this as:    \n",
    "$Max_{x, p, q,r} \\sum_{j=1}^{N}{p_j} + \\sum_{k=1}^{N}{q_k} \n",
    "+ \\sum_{j=1}^{N}\\sum_{k=1}^{N}r_{jk}$   \n",
    "s.t.\n",
    "- $0 \\leq x_{ik} \\leq 1$ for every i, k   \n",
    "- p, q: free  \n",
    "- $r_{jk} \\leq 0$ for every j, k   \n",
    "- $\\sum_{i=1}^{N}x_{i,k} = 1$ , $\\sum_{k=1}^{N}x_{i,k} = 1$  \n",
    "- $p_j + q_k + r_{jk} \\leq \\sum_{i=1}^N \n",
    "score(a_i, b_j, k) * x_{ik}$ for every j, k    \n"
   ]
  },
  {
   "cell_type": "markdown",
   "metadata": {},
   "source": [
    "### Nash equilibrium - primal"
   ]
  },
  {
   "cell_type": "code",
   "execution_count": 15,
   "metadata": {
    "collapsed": false
   },
   "outputs": [
    {
     "data": {
      "text/plain": [
       "get_MSNE (generic function with 1 method)"
      ]
     },
     "execution_count": 15,
     "metadata": {},
     "output_type": "execute_result"
    }
   ],
   "source": [
    "function get_MSNE(N_PLAYERS, team_host, team_guest, get_score, elo)\n",
    "    nashModel = Model()\n",
    "\n",
    "    @variable(nashModel, 1 >= x[1:N_PLAYERS, 1:N_PLAYERS] >= 0)\n",
    "    @variable(nashModel, p[1:N_PLAYERS])\n",
    "    @variable(nashModel, q[1:N_PLAYERS])\n",
    "    @variable(nashModel, r[1:N_PLAYERS, 1:N_PLAYERS] <= 0)\n",
    "\n",
    "    @constraint(nashModel, supply[k in 1:N_PLAYERS], \n",
    "                    sum(x[k, j] for j=1:N_PLAYERS) == 1)\n",
    "    @constraint(nashModel, demand[k in 1:N_PLAYERS], \n",
    "                    sum(x[i, k] for i=1:N_PLAYERS) == 1)\n",
    "\n",
    "    @constraint(nashModel, mincons[j in 1:N_PLAYERS, k in 1:N_PLAYERS], \n",
    "        p[j] + q[k] + r[j, k] <= \n",
    "            sum(get_score(team_host[i], team_guest[j], k, k, elo) \n",
    "                                    * x[i, k] for i=1:N_PLAYERS))\n",
    "\n",
    "    @objective(nashModel, Max, sum(p) + sum(q) + sum(r))        \n",
    "\n",
    "    solve(nashModel)\n",
    "\n",
    "    println(getobjectivevalue(nashModel))\n",
    "    xopt = getvalue(x)\n",
    "    solution_x = NamedArray([xopt[i, k] for i=1:N_PLAYERS, k=1:N_PLAYERS])\n",
    "    println(solution_x)\n",
    "end"
   ]
  },
  {
   "cell_type": "markdown",
   "metadata": {},
   "source": [
    "Find the best strategy from the optimal xopt  "
   ]
  },
  {
   "cell_type": "code",
   "execution_count": 16,
   "metadata": {
    "collapsed": false
   },
   "outputs": [
    {
     "data": {
      "text/plain": [
       "get_max_strategy (generic function with 1 method)"
      ]
     },
     "execution_count": 16,
     "metadata": {},
     "output_type": "execute_result"
    }
   ],
   "source": [
    "function get_max_strategy(N_PLAYERS, xopt)\n",
    "    nashModel = Model()\n",
    "\n",
    "    @variable(nashModel, z[1:N_PLAYERS, 1:N_PLAYERS], Bin)\n",
    "\n",
    "    @constraint(nashModel, supply[k in 1:N_PLAYERS], \n",
    "                    sum(z[k, j] for j=1:N_PLAYERS) == 1)\n",
    "    @constraint(nashModel, demand[k in 1:N_PLAYERS], \n",
    "                    sum(z[i, k] for i=1:N_PLAYERS) == 1)\n",
    "\n",
    "    @objective(nashModel, Max, sum(z[i,k] * log(xopt[i,k] + e^-100) \n",
    "                                    for i=1:N_PLAYERS, k =1:N_PLAYERS))        \n",
    "\n",
    "    solve(nashModel)\n",
    "\n",
    "    println(e^getobjectivevalue(nashModel))\n",
    "    zopt = getvalue(z)\n",
    "    solution_x = NamedArray(Int[zopt[i, k] for i=1:N_PLAYERS, k=1:N_PLAYERS])\n",
    "    println(solution_x)\n",
    "end"
   ]
  },
  {
   "cell_type": "code",
   "execution_count": 17,
   "metadata": {
    "collapsed": false
   },
   "outputs": [
    {
     "data": {
      "text/plain": [
       "get_max_strategy_by_enumeration (generic function with 1 method)"
      ]
     },
     "execution_count": 17,
     "metadata": {},
     "output_type": "execute_result"
    }
   ],
   "source": [
    "function get_max_strategy_by_enumeration(N_PLAYERS, xopt)\n",
    "    plst = get_permutations([1:N_PLAYERS;])\n",
    "    maxv = -1\n",
    "    idx = 0\n",
    "    for k in 1:length(plst)\n",
    "        s = 1\n",
    "        for i in 1:N_PLAYERS\n",
    "            s = s * xopt[plst[k][i], i]\n",
    "        end\n",
    "        if s > maxv\n",
    "            maxv = s\n",
    "            idx = k\n",
    "        end\n",
    "    end\n",
    "    ;\n",
    "    println(maxv)\n",
    "    plst[idx]\n",
    "end"
   ]
  },
  {
   "cell_type": "markdown",
   "metadata": {},
   "source": [
    "### Nash equilibrium - dual"
   ]
  },
  {
   "cell_type": "code",
   "execution_count": 18,
   "metadata": {
    "collapsed": false
   },
   "outputs": [
    {
     "data": {
      "text/plain": [
       "get_MSNE_dual (generic function with 1 method)"
      ]
     },
     "execution_count": 18,
     "metadata": {},
     "output_type": "execute_result"
    }
   ],
   "source": [
    "function get_MSNE_dual(N_PLAYERS, team_host, team_guest, get_score, elo)\n",
    "    nashModel = Model()\n",
    "\n",
    "    @variable(nashModel, 0 <= y[1:N_PLAYERS, 1:N_PLAYERS] <= 1)\n",
    "    @variable(nashModel, p[1:N_PLAYERS])\n",
    "    @variable(nashModel, q[1:N_PLAYERS])\n",
    "    @variable(nashModel, r[1:N_PLAYERS, 1:N_PLAYERS] >= 0) # change\n",
    "\n",
    "    @constraint(nashModel, supply[k in 1:N_PLAYERS], \n",
    "                    sum(y[k, j] for j=1:N_PLAYERS) == 1)\n",
    "    @constraint(nashModel, demand[k in 1:N_PLAYERS], \n",
    "                    sum(y[i, k] for i=1:N_PLAYERS) == 1)\n",
    "\n",
    "    @constraint(nashModel, maxcons[i in 1:N_PLAYERS, k in 1:N_PLAYERS],\n",
    "        p[i] + q[k] + r[i, k] >= \n",
    "            sum(get_score(team_host[i], team_guest[j], k%2, k, elo) \n",
    "                                    * y[j, k] for j=1:N_PLAYERS))\n",
    "\n",
    "    @objective(nashModel, Min, sum(p) + sum(q) + sum(r))        \n",
    "\n",
    "    solve(nashModel)\n",
    "\n",
    "    println(getobjectivevalue(nashModel))\n",
    "    yopt = getvalue(y)\n",
    "    solution_y = NamedArray([yopt[j, k] for j=1:N_PLAYERS, k=1:N_PLAYERS])\n",
    "    println(solution_y)\n",
    "end"
   ]
  },
  {
   "cell_type": "markdown",
   "metadata": {},
   "source": [
    "### Enumeration"
   ]
  },
  {
   "cell_type": "code",
   "execution_count": 19,
   "metadata": {
    "collapsed": true
   },
   "outputs": [],
   "source": [
    "import Combinatorics"
   ]
  },
  {
   "cell_type": "code",
   "execution_count": 20,
   "metadata": {
    "collapsed": false
   },
   "outputs": [
    {
     "data": {
      "text/plain": [
       "get_MSNE_by_enumeration (generic function with 1 method)"
      ]
     },
     "execution_count": 20,
     "metadata": {},
     "output_type": "execute_result"
    }
   ],
   "source": [
    "function get_MSNE_by_enumeration(score_matrix::Array)\n",
    "    n = size(scores_matrix)[1]\n",
    "    # for primal - P person\n",
    "    m = Model()\n",
    "\n",
    "    @variable(m, 1>= p[1:n] >=0)\n",
    "    @variable(m, t)\n",
    "\n",
    "    @constraint(m, sum(p) == 1)\n",
    "    @constraint(m, min_const[k in 1:n], \n",
    "        sum(p[i] * score_matrix[i, k] for i=1:n) >= t)\n",
    "    # Max min (g1, g2, ..., gn)\n",
    "    @objective(m, Max, t)\n",
    "    solve(m)\n",
    "                \n",
    "    popt = getvalue(p)\n",
    "#     println(popt)\n",
    "    println(\"Optimal Score: \", getobjectivevalue(m))\n",
    "    return popt\n",
    "end"
   ]
  },
  {
   "cell_type": "code",
   "execution_count": 21,
   "metadata": {
    "collapsed": true
   },
   "outputs": [],
   "source": [
    "function get_MSNE_dual_by_enumeration(score_matrix::Array)\n",
    "    n = size(scores_matrix)[2]\n",
    "    # for primal - P person\n",
    "    m = Model()\n",
    "\n",
    "    @variable(m, 1>= q[1:n] >=0)\n",
    "    @variable(m, t)\n",
    "\n",
    "    @constraint(m, sum(q) == 1)\n",
    "    @constraint(m, max_const[k in 1:n], \n",
    "        sum(q[i] * score_matrix[k, i] for i=1:n) <= t)\n",
    "    # Max min (g1, g2, ..., gn)\n",
    "    @objective(m, Min, t)\n",
    "    solve(m)\n",
    "                \n",
    "    qopt = getvalue(q)\n",
    "#     println(popt)\n",
    "    println(\"Optimal Score: \", getobjectivevalue(m))\n",
    "    return qopt\n",
    "end\n",
    ";"
   ]
  },
  {
   "cell_type": "code",
   "execution_count": 22,
   "metadata": {
    "collapsed": false
   },
   "outputs": [
    {
     "data": {
      "text/plain": [
       "get_permutations (generic function with 1 method)"
      ]
     },
     "execution_count": 22,
     "metadata": {},
     "output_type": "execute_result"
    }
   ],
   "source": [
    "# score_matrix function from 2 lists\n",
    "function get_score_matrix(list1::Array, list2::Array, players_dict::Array, \n",
    "        get_match)\n",
    "    # assume that team 1 plays firstly\n",
    "    dim1 = length(list1)\n",
    "    dim2 = length(list2)\n",
    "    scores = Matrix(dim1, dim2)\n",
    "    for i in 1:dim1\n",
    "        for j in 1:dim2\n",
    "            scores[i, j] = get_match(list1[i], list2[j], 1, players_dict)\n",
    "        end\n",
    "    end\n",
    "    return scores\n",
    "end\n",
    "# ordered combination: return a list of nplayers obtained from a pool\n",
    "function get_combinations(list_players::Array, nchosen::Int)\n",
    "    return collect(combinations(list_players, nchosen))\n",
    "end\n",
    "\n",
    "function get_permutations(list_players::Array)\n",
    "    return collect(permutations(list_players))\n",
    "end"
   ]
  },
  {
   "cell_type": "code",
   "execution_count": 23,
   "metadata": {
    "collapsed": false
   },
   "outputs": [],
   "source": [
    "list_host = get_permutations(team_host)\n",
    "list_guest = get_permutations(team_guest)\n",
    "## Map to ELO\n",
    "scores_matrix = get_score_matrix(list_host, list_guest, elo, get_match_score2)\n",
    ";"
   ]
  },
  {
   "cell_type": "code",
   "execution_count": 24,
   "metadata": {
    "collapsed": false
   },
   "outputs": [
    {
     "ename": "LoadError",
     "evalue": "No solver was provided. JuMP has classified this model as LP. Julia packages which provide solvers for this class of problems include Clp, GLPKMathProgInterface, Gurobi, CPLEX, Mosek, and Xpress. The solver must be specified by using either the \"solver=\" keyword argument to \"Model()\" or the \"setsolver()\" method.",
     "output_type": "error",
     "traceback": [
      "No solver was provided. JuMP has classified this model as LP. Julia packages which provide solvers for this class of problems include Clp, GLPKMathProgInterface, Gurobi, CPLEX, Mosek, and Xpress. The solver must be specified by using either the \"solver=\" keyword argument to \"Model()\" or the \"setsolver()\" method.",
      "",
      " in no_solver_error(::JuMP.ProblemTraits) at C:\\Users\\Varun\\.julia\\v0.5\\JuMP\\src\\solvers.jl:84",
      " in #build#114(::Bool, ::Bool, ::JuMP.ProblemTraits, ::Function, ::JuMP.Model) at C:\\Users\\Varun\\.julia\\v0.5\\JuMP\\src\\solvers.jl:343",
      " in (::JuMP.#kw##build)(::Array{Any,1}, ::JuMP.#build, ::JuMP.Model) at .\\<missing>:0",
      " in #solve#109(::Bool, ::Bool, ::Bool, ::Array{Any,1}, ::Function, ::JuMP.Model) at C:\\Users\\Varun\\.julia\\v0.5\\JuMP\\src\\solvers.jl:166",
      " in get_MSNE_by_enumeration(::Array{Any,2}) at .\\In[20]:14"
     ]
    }
   ],
   "source": [
    "popt = get_MSNE_by_enumeration(scores_matrix)\n",
    ";\n",
    "#list_host[findmax(popt)[2]]"
   ]
  },
  {
   "cell_type": "code",
   "execution_count": 25,
   "metadata": {
    "collapsed": false
   },
   "outputs": [
    {
     "ename": "LoadError",
     "evalue": "No solver was provided. JuMP has classified this model as LP. Julia packages which provide solvers for this class of problems include Clp, GLPKMathProgInterface, Gurobi, CPLEX, Mosek, and Xpress. The solver must be specified by using either the \"solver=\" keyword argument to \"Model()\" or the \"setsolver()\" method.",
     "output_type": "error",
     "traceback": [
      "No solver was provided. JuMP has classified this model as LP. Julia packages which provide solvers for this class of problems include Clp, GLPKMathProgInterface, Gurobi, CPLEX, Mosek, and Xpress. The solver must be specified by using either the \"solver=\" keyword argument to \"Model()\" or the \"setsolver()\" method.",
      "",
      " in no_solver_error(::JuMP.ProblemTraits) at C:\\Users\\Varun\\.julia\\v0.5\\JuMP\\src\\solvers.jl:84",
      " in #build#114(::Bool, ::Bool, ::JuMP.ProblemTraits, ::Function, ::JuMP.Model) at C:\\Users\\Varun\\.julia\\v0.5\\JuMP\\src\\solvers.jl:343",
      " in (::JuMP.#kw##build)(::Array{Any,1}, ::JuMP.#build, ::JuMP.Model) at .\\<missing>:0",
      " in #solve#109(::Bool, ::Bool, ::Bool, ::Array{Any,1}, ::Function, ::JuMP.Model) at C:\\Users\\Varun\\.julia\\v0.5\\JuMP\\src\\solvers.jl:166",
      " in get_MSNE(::Int64, ::Array{Int64,2}, ::Array{Int64,2}, ::#get_chess_score2, ::Array{Int64,1}) at .\\In[15]:21"
     ]
    }
   ],
   "source": [
    "get_MSNE(N_PLAYERS, team_host, team_guest, get_chess_score2, elo)"
   ]
  },
  {
   "cell_type": "markdown",
   "metadata": {},
   "source": [
    "# Team Selection and Trade off\n",
    "\n",
    "We don't know other's strategy, hence, we use the general solution (Nash)   \n",
    "Oppenents select their teams from the rest players"
   ]
  },
  {
   "cell_type": "markdown",
   "metadata": {},
   "source": [
    "## Model 1: Selecting from a pool"
   ]
  },
  {
   "cell_type": "markdown",
   "metadata": {},
   "source": [
    "We have nPool players, selecting nchosen players.   \n",
    "\n",
    "Since x is probability, we use a binary variable z to represent connections. \n",
    "\n",
    "- $z_i = 0 \\implies x_i = 0: \\sum_{k=1}^{N}y_{i,k} \\leq 1 - \\sum_{k=1}^{N}z_{i,k}$    \n",
    "- $z_i = 1 \\implies y_i = 0: \\sum_{k=1}^{N}x_{i,k} \\leq \\sum_{k=1}^{N}z_{i,k}$   \n",
    "\n",
    "The model becomes:   \n",
    "$Max_{x, z, p, q, r} \\sum_{j=1}^{N}{p_j} (1 - \\sum_{k=1}^{N}z_{j,k}) \n",
    "+ \\sum_{k=1}^{N}{q_k} \n",
    "+ \\sum_{j=1}^{N}\\sum_{k=1}^{N}r_{jk}$   \n",
    "s.t.\n",
    "- $0 \\leq x_{ik} \\leq 1$ for every i, k   \n",
    "- z: binary\n",
    "- q: free  \n",
    "- $p_{j} \\leq 0$ for every j    \n",
    "- $r_{jk} \\leq 0$ for every i, k \n",
    "- $\\sum_{i=1}^{N}x_{i,k} = 1$ , $\\sum_{k=1}^{N}x_{i,k} \\leq 1$ (loose => 0)    \n",
    "- $\\sum_{i=1}^{N}z_{i,k} = 1$ , $\\sum_{k=1}^{N}z_{i,k} \\leq 1$  \n",
    "- $\\sum_{k=1}^{N}x_{i,k} \\leq \\sum_{k=1}^{N}z_{i,k}$   \n",
    "- $p_j + q_k + r_{jk} \\leq \\sum_{i=1}^N \n",
    "score(a_i, b_j, k) * x_{ik}$ for every j, k    \n",
    "\n",
    "Using epigraph, we can convert quadratic objective into linear:   \n",
    "$Max \\sum_{j=1}^{N}{p_j} (1 - \\sum_{k=1}^{N}z_{j,k}) = Max \\sum_{j=1}^{N}{t_j}$\n",
    "- $t_j \\leq 0$   \n",
    "- $t_j \\geq -\\infty * (1 - \\sum_{k=1}^{N}z_{j,k})$   \n",
    "- $t_j \\leq p_j + \\infty * \\sum_{k=1}^{N}z_{j,k}$\n",
    "\n",
    "\n",
    "\n"
   ]
  },
  {
   "cell_type": "markdown",
   "metadata": {},
   "source": [
    "### Optimize our strategy"
   ]
  },
  {
   "cell_type": "code",
   "execution_count": 26,
   "metadata": {
    "collapsed": false
   },
   "outputs": [
    {
     "data": {
      "text/plain": [
       "select_from_pool_pure (generic function with 1 method)"
      ]
     },
     "execution_count": 26,
     "metadata": {},
     "output_type": "execute_result"
    }
   ],
   "source": [
    "function select_from_pool_pure(N_POOL, N_CHOSEN, get_score, elo)\n",
    "    inf = -1000\n",
    "    sup = 1000 #dangerous\n",
    "\n",
    "    xm = Model()\n",
    "\n",
    "    @variable(xm, x[1:N_POOL, 1:N_CHOSEN], Bin)\n",
    "    @variable(xm, p[1:N_POOL] <= 0) #dual corresponding to <= 1\n",
    "    @variable(xm, q[1:N_CHOSEN])\n",
    "    @variable(xm, r[1:N_POOL, 1:N_CHOSEN] <= 0)\n",
    "    @variable(xm, t[1:N_POOL] <= 0)\n",
    "\n",
    "    @constraint(xm, supply[i in 1:N_POOL], sum(x[i, k] for k=1:N_CHOSEN) <= 1)\n",
    "    @constraint(xm, demand[k in 1:N_CHOSEN], sum(x[i, k] for i=1:N_POOL) == 1)\n",
    "\n",
    "    # This is not correct for mixed since x is prob\n",
    "    @constraint(xm, icons[j in 1:N_POOL], t[j] >= \n",
    "                                (1 - sum(x[j, k] for k=1:N_CHOSEN))*inf)\n",
    "        \n",
    "    @constraint(xm, ucons[j in 1:N_POOL], t[j] <= \n",
    "                                p[j] + sup*sum(x[j, k] for k=1:N_CHOSEN))\n",
    "\n",
    "    @constraint(xm, mincons[j in 1:N_POOL, k in 1:N_CHOSEN], \n",
    "        p[j] + q[k] + r[j, k]  <= sum(get_score(i, j, k, k, elo) \n",
    "                                                    * x[i, k] for i=1:N_POOL))\n",
    "\n",
    "    @objective(xm, Max, sum(t) + sum(q) + sum(r))        \n",
    "\n",
    "    solve(xm)\n",
    "    println(getobjectivevalue(xm))\n",
    "    xopt = getvalue(x)\n",
    "    solution_x = NamedArray([xopt[i, k] for i=1:N_POOL, k=1:N_CHOSEN])\n",
    "    println(solution_x)\n",
    "    println(\"p: \", getvalue(p))\n",
    "    println(\"q: \", getvalue(q))\n",
    "    println(\"r: \", getvalue(r))\n",
    "    return xopt\n",
    "end"
   ]
  },
  {
   "cell_type": "code",
   "execution_count": 27,
   "metadata": {
    "collapsed": false
   },
   "outputs": [
    {
     "data": {
      "text/plain": [
       "select_from_pool_mixed (generic function with 1 method)"
      ]
     },
     "execution_count": 27,
     "metadata": {},
     "output_type": "execute_result"
    }
   ],
   "source": [
    "function select_from_pool_mixed(N_POOL, N_CHOSEN, get_score, elo)\n",
    "    inf = -1000\n",
    "    sup = 1000 #dangerous\n",
    "\n",
    "    xm = Model()\n",
    "\n",
    "    @variable(xm, 0 <= x[1:N_POOL, 1:N_CHOSEN] <= 1)\n",
    "    @variable(xm, z[1:N_POOL, 1:N_CHOSEN], Bin)\n",
    "    @variable(xm, p[1:N_POOL] <= 0) #dual corresponding to <= 1\n",
    "    @variable(xm, q[1:N_CHOSEN])\n",
    "    @variable(xm, r[1:N_POOL, 1:N_CHOSEN] <= 0)\n",
    "    @variable(xm, t[1:N_POOL] <= 0)\n",
    "\n",
    "    @constraint(xm, supply[i in 1:N_POOL], sum(z[i, k] for k=1:N_CHOSEN) <= 1)\n",
    "    @constraint(xm, demand[k in 1:N_CHOSEN], sum(z[i, k] for i=1:N_POOL) == 1)\n",
    "                            \n",
    "    @constraint(xm, supplyProb[i in 1:N_POOL], sum(x[i, k] for k=1:N_CHOSEN) <= 1)\n",
    "    @constraint(xm, demandProb[k in 1:N_CHOSEN], sum(x[i, k] for i=1:N_POOL) == 1)\n",
    "\n",
    "    # This is not correct for mixed since x is prob\n",
    "    # z = 0 => x = 0\n",
    "    @constraint(xm, node[i in 1:N_POOL], \n",
    "            sum(x[i, k] for k=1:N_CHOSEN) <= sum(z[i, k] for k=1:N_CHOSEN))\n",
    "                                                                    \n",
    "    @constraint(xm, icons[j in 1:N_POOL], t[j] >= \n",
    "                                (1 - sum(z[j, k] for k=1:N_CHOSEN))*inf)\n",
    "        \n",
    "    @constraint(xm, ucons[j in 1:N_POOL], t[j] <= \n",
    "                                p[j] + sup*sum(z[j, k] for k=1:N_CHOSEN))\n",
    "\n",
    "    @constraint(xm, mincons[j in 1:N_POOL, k in 1:N_CHOSEN], \n",
    "        p[j] + q[k] + r[j, k]  <= sum(get_score(i, j, k, k, elo) \n",
    "                                                    * x[i, k] for i=1:N_POOL))\n",
    "\n",
    "    @objective(xm, Max, sum(t) + sum(q) + sum(r))        \n",
    "\n",
    "    solve(xm)\n",
    "    println(getobjectivevalue(xm))\n",
    "    xopt = getvalue(x)                                                                                                         \n",
    "    solution_x = NamedArray([xopt[i, k] for i=1:N_POOL, k=1:N_CHOSEN])\n",
    "    println(solution_x)\n",
    "#     println(\"p: \", getvalue(p))\n",
    "#     println(\"q: \", getvalue(q))\n",
    "#     println(\"r: \", getvalue(r))\n",
    "    return xopt\n",
    "end"
   ]
  },
  {
   "cell_type": "markdown",
   "metadata": {},
   "source": [
    "###  Get opponent's best strategy"
   ]
  },
  {
   "cell_type": "code",
   "execution_count": 28,
   "metadata": {
    "collapsed": false
   },
   "outputs": [
    {
     "data": {
      "text/plain": [
       "get_from_pool_pure_opponent (generic function with 1 method)"
      ]
     },
     "execution_count": 28,
     "metadata": {},
     "output_type": "execute_result"
    }
   ],
   "source": [
    "function get_from_pool_pure_opponent(xopt, N_POOL, N_CHOSEN, get_score, elo)\n",
    "    ym = Model()\n",
    "\n",
    "    @variable(ym, y[1:N_POOL, 1:N_CHOSEN], Bin)\n",
    "\n",
    "    @constraint(ym, supply[j in 1:N_POOL], sum(y[j, k] for k=1:N_CHOSEN) \n",
    "                <= 1 - sum(xopt[j, k] for k=1:N_CHOSEN))\n",
    "    @constraint(ym, demand[k in 1:N_CHOSEN], \n",
    "                            sum(y[i, k] for i=1:N_POOL) == 1)\n",
    "\n",
    "    @objective(ym, Min, sum(get_score(i, j, k, k, elo) \n",
    "                            * xopt[i, k] * y[j, k] \n",
    "                            for i=1:N_POOL, j=1:N_POOL, k=1:N_CHOSEN))        \n",
    "    solve(ym)\n",
    "\n",
    "    println(getobjectivevalue(ym))\n",
    "    yopt = getvalue(y)\n",
    "    solution_y = NamedArray([yopt[i, k] for i=1:N_POOL, k=1:N_CHOSEN])\n",
    "    println(solution_y)\n",
    "end"
   ]
  },
  {
   "cell_type": "code",
   "execution_count": 29,
   "metadata": {
    "collapsed": false
   },
   "outputs": [
    {
     "ename": "LoadError",
     "evalue": "No solver was provided. JuMP has classified this model as MIP. Julia packages which provide solvers for this class of problems include Cbc, GLPKMathProgInterface, Gurobi, CPLEX, Mosek, and Xpress. The solver must be specified by using either the \"solver=\" keyword argument to \"Model()\" or the \"setsolver()\" method.",
     "output_type": "error",
     "traceback": [
      "No solver was provided. JuMP has classified this model as MIP. Julia packages which provide solvers for this class of problems include Cbc, GLPKMathProgInterface, Gurobi, CPLEX, Mosek, and Xpress. The solver must be specified by using either the \"solver=\" keyword argument to \"Model()\" or the \"setsolver()\" method.",
      "",
      " in no_solver_error(::JuMP.ProblemTraits) at C:\\Users\\Varun\\.julia\\v0.5\\JuMP\\src\\solvers.jl:84",
      " in #build#114(::Bool, ::Bool, ::JuMP.ProblemTraits, ::Function, ::JuMP.Model) at C:\\Users\\Varun\\.julia\\v0.5\\JuMP\\src\\solvers.jl:343",
      " in (::JuMP.#kw##build)(::Array{Any,1}, ::JuMP.#build, ::JuMP.Model) at .\\<missing>:0",
      " in #solve#109(::Bool, ::Bool, ::Bool, ::Array{Any,1}, ::Function, ::JuMP.Model) at C:\\Users\\Varun\\.julia\\v0.5\\JuMP\\src\\solvers.jl:166",
      " in select_from_pool_mixed(::Int64, ::Int64, ::#get_chess_score3, ::Array{Int64,1}) at .\\In[27]:37"
     ]
    }
   ],
   "source": [
    "xopt = select_from_pool_mixed(N_POOL, N_CHOSEN, get_chess_score3, elo)"
   ]
  },
  {
   "cell_type": "code",
   "execution_count": 30,
   "metadata": {
    "collapsed": false
   },
   "outputs": [
    {
     "ename": "LoadError",
     "evalue": "UndefVarError: xopt not defined",
     "output_type": "error",
     "traceback": [
      "UndefVarError: xopt not defined",
      ""
     ]
    }
   ],
   "source": [
    "get_from_pool_pure_opponent(xopt, N_POOL, N_CHOSEN, get_chess_score3, elo)"
   ]
  },
  {
   "cell_type": "markdown",
   "metadata": {},
   "source": [
    "## Model 2 - Selecting with a small budget"
   ]
  },
  {
   "cell_type": "markdown",
   "metadata": {},
   "source": [
    "Problem:   \n",
    "- opponent doesn't care about our budget\n",
    "- assume that opponent is very rich   \n",
    "\n",
    "We just need adding a total cost of all selected players in the objective function"
   ]
  },
  {
   "cell_type": "markdown",
   "metadata": {},
   "source": [
    "### Optimize our strategy"
   ]
  },
  {
   "cell_type": "code",
   "execution_count": 31,
   "metadata": {
    "collapsed": false
   },
   "outputs": [
    {
     "data": {
      "text/plain": [
       "select_with_budget_pure (generic function with 1 method)"
      ]
     },
     "execution_count": 31,
     "metadata": {},
     "output_type": "execute_result"
    }
   ],
   "source": [
    "function select_with_budget_pure(lambda, N_POOL, N_CHOSEN, get_score, elo)\n",
    "    inf = -1000\n",
    "    sup = 1000\n",
    "\n",
    "    xm = Model()\n",
    "\n",
    "    @variable(xm, x[1:N_POOL, 1:N_CHOSEN], Bin)\n",
    "    @variable(xm, p[1:N_POOL] <= 0) #dual corresponding to <= 1\n",
    "    @variable(xm, q[1:N_CHOSEN])\n",
    "    @variable(xm, r[1:N_POOL, 1:N_CHOSEN] <= 0)\n",
    "    @variable(xm, t[1:N_POOL] <= 0)\n",
    "\n",
    "    @constraint(xm, supply[i in 1:N_POOL], sum(x[i, k] for k=1:N_CHOSEN) <= 1)\n",
    "    @constraint(xm, demand[k in 1:N_CHOSEN], sum(x[i, k] for i=1:N_POOL) == 1)\n",
    "\n",
    "    @constraint(xm, icons[j in 1:N_POOL], t[j] >= \n",
    "                                (1 - sum(x[j, k] for k=1:N_CHOSEN)) * inf)\n",
    "    @constraint(xm, ucons[j in 1:N_POOL], t[j] <= \n",
    "                                p[j] + sup * sum(x[j, k] for k=1:N_CHOSEN))\n",
    "\n",
    "    @constraint(xm, mincons[j in 1:N_POOL, k in 1:N_CHOSEN], \n",
    "        p[j] + q[k] + r[j, k]  <= sum((get_score_chess_game(i, j, k, elo) \n",
    "                             - lambda * price[i]) * x[i, k] for i=1:N_POOL))\n",
    "\n",
    "    @objective(xm, Max, sum(t) + sum(q) + sum(r))        \n",
    "\n",
    "    solve(xm)\n",
    "    println(getobjectivevalue(xm))\n",
    "    xopt = getvalue(x)\n",
    "    solution_x = NamedArray([xopt[i, k] for i=1:N_POOL, k=1:N_CHOSEN])\n",
    "    println(solution_x)\n",
    "    return xopt\n",
    "end"
   ]
  },
  {
   "cell_type": "code",
   "execution_count": 32,
   "metadata": {
    "collapsed": false
   },
   "outputs": [
    {
     "data": {
      "text/plain": [
       "select_with_budget_mixed (generic function with 1 method)"
      ]
     },
     "execution_count": 32,
     "metadata": {},
     "output_type": "execute_result"
    }
   ],
   "source": [
    "function select_with_budget_mixed(lambda, N_POOL, N_CHOSEN, get_score, elo)\n",
    "    inf = -1000\n",
    "    sup = 1000 #dangerous\n",
    "\n",
    "    xm = Model()\n",
    "\n",
    "    @variable(xm, 0 <= x[1:N_POOL, 1:N_CHOSEN] <= 1)\n",
    "    @variable(xm, z[1:N_POOL, 1:N_CHOSEN], Bin)\n",
    "    @variable(xm, p[1:N_POOL] <= 0) #dual corresponding to <= 1\n",
    "    @variable(xm, q[1:N_CHOSEN])\n",
    "    @variable(xm, r[1:N_POOL, 1:N_CHOSEN] <= 0)\n",
    "    @variable(xm, t[1:N_POOL] <= 0)\n",
    "\n",
    "    @constraint(xm, supply[i in 1:N_POOL], sum(z[i, k] for k=1:N_CHOSEN) <= 1)\n",
    "    @constraint(xm, demand[k in 1:N_CHOSEN], sum(z[i, k] for i=1:N_POOL) == 1)\n",
    "                            \n",
    "    @constraint(xm, supplyProb[i in 1:N_POOL], sum(x[i, k] for k=1:N_CHOSEN) <= 1)\n",
    "    @constraint(xm, demandProb[k in 1:N_CHOSEN], sum(x[i, k] for i=1:N_POOL) == 1)\n",
    "\n",
    "    # This is not correct for mixed since x is prob\n",
    "    # z = 0 => x = 0\n",
    "    @constraint(xm, node[i in 1:N_POOL], \n",
    "            sum(x[i, k] for k=1:N_CHOSEN) <= sum(z[i, k] for k=1:N_CHOSEN))\n",
    "                                                                    \n",
    "    @constraint(xm, icons[j in 1:N_POOL], t[j] >= \n",
    "                                (1 - sum(z[j, k] for k=1:N_CHOSEN))*inf)\n",
    "        \n",
    "    @constraint(xm, ucons[j in 1:N_POOL], t[j] <= \n",
    "                                p[j] + sup*sum(z[j, k] for k=1:N_CHOSEN))\n",
    "\n",
    "    @constraint(xm, mincons[j in 1:N_POOL, k in 1:N_CHOSEN], \n",
    "        p[j] + q[k] + r[j, k]  <= sum(get_score(i, j, k, k, elo) \n",
    "                                                    * x[i, k] for i=1:N_POOL))\n",
    "    @expression(xm, playercost,  lambda * \n",
    "                sum(sum(z[i, k] for k=1:N_CHOSEN)* price[i] for i=1:N_POOL))\n",
    "    @objective(xm, Max, sum(t) + sum(q) + sum(r) - playercost)        \n",
    "\n",
    "    solve(xm)\n",
    "    println(getobjectivevalue(xm))\n",
    "    xopt = getvalue(x)                                                                                                         \n",
    "    solution_x = NamedArray([xopt[i, k] for i=1:N_POOL, k=1:N_CHOSEN])\n",
    "    println(solution_x)\n",
    "    return xopt\n",
    "end"
   ]
  },
  {
   "cell_type": "markdown",
   "metadata": {},
   "source": [
    "###  Get opponent's best strategy"
   ]
  },
  {
   "cell_type": "code",
   "execution_count": 33,
   "metadata": {
    "collapsed": false
   },
   "outputs": [
    {
     "data": {
      "text/plain": [
       "get_with_budget_opponent (generic function with 1 method)"
      ]
     },
     "execution_count": 33,
     "metadata": {},
     "output_type": "execute_result"
    }
   ],
   "source": [
    "function get_with_budget_opponent(xopt, lambda, \n",
    "        N_POOL, N_CHOSEN, get_score, elo)\n",
    "    ym = Model()\n",
    "\n",
    "    @variable(ym, y[1:N_POOL, 1:N_CHOSEN], Bin)\n",
    "\n",
    "    @constraint(ym, supply[j in 1:N_POOL], sum(y[j, k] for k=1:N_CHOSEN) \n",
    "                <= 1 - sum(xopt[j, k] for k=1:N_CHOSEN))\n",
    "    @constraint(ym, demand[k in 1:N_CHOSEN], \n",
    "                            sum(y[i, k] for i=1:N_POOL) == 1)\n",
    "\n",
    "    # prices of x players are constant for y \n",
    "    @expression(ym, score, sum(get_score(i, j, k, k, elo) \n",
    "                                            * xopt[i, k] * y[j, k] \n",
    "                            for i=1:N_POOL, j=1:N_POOL, k=1:N_CHOSEN))\n",
    "\n",
    "    @objective(ym, Min, sum((get_score(i, j, k, k,  elo) \n",
    "                    - lambda * price[i]) * xopt[i, k] * y[j, k] \n",
    "                            for i=1:N_POOL, j=1:N_POOL, k=1:N_CHOSEN))        \n",
    "    solve(ym)\n",
    "\n",
    "    println(getobjectivevalue(ym))\n",
    "    println(\"Price: \", getvalue(score))\n",
    "    yopt = getvalue(y)\n",
    "    solution_y = NamedArray(Int[yopt[i, k] for i=1:N_POOL, k=1:N_CHOSEN])\n",
    "    println(solution_y)\n",
    "end"
   ]
  },
  {
   "cell_type": "code",
   "execution_count": 34,
   "metadata": {
    "collapsed": false
   },
   "outputs": [
    {
     "ename": "LoadError",
     "evalue": "No solver was provided. JuMP has classified this model as MIP. Julia packages which provide solvers for this class of problems include Cbc, GLPKMathProgInterface, Gurobi, CPLEX, Mosek, and Xpress. The solver must be specified by using either the \"solver=\" keyword argument to \"Model()\" or the \"setsolver()\" method.",
     "output_type": "error",
     "traceback": [
      "No solver was provided. JuMP has classified this model as MIP. Julia packages which provide solvers for this class of problems include Cbc, GLPKMathProgInterface, Gurobi, CPLEX, Mosek, and Xpress. The solver must be specified by using either the \"solver=\" keyword argument to \"Model()\" or the \"setsolver()\" method.",
      "",
      " in no_solver_error(::JuMP.ProblemTraits) at C:\\Users\\Varun\\.julia\\v0.5\\JuMP\\src\\solvers.jl:84",
      " in #build#114(::Bool, ::Bool, ::JuMP.ProblemTraits, ::Function, ::JuMP.Model) at C:\\Users\\Varun\\.julia\\v0.5\\JuMP\\src\\solvers.jl:343",
      " in (::JuMP.#kw##build)(::Array{Any,1}, ::JuMP.#build, ::JuMP.Model) at .\\<missing>:0",
      " in #solve#109(::Bool, ::Bool, ::Bool, ::Array{Any,1}, ::Function, ::JuMP.Model) at C:\\Users\\Varun\\.julia\\v0.5\\JuMP\\src\\solvers.jl:166",
      " in select_with_budget_mixed(::Float64, ::Int64, ::Int64, ::#get_chess_score3, ::Array{Int64,1}) at .\\In[32]:38"
     ]
    }
   ],
   "source": [
    "xopt = select_with_budget_mixed(0.5, N_POOL, N_CHOSEN, get_chess_score3, elo)"
   ]
  },
  {
   "cell_type": "code",
   "execution_count": 35,
   "metadata": {
    "collapsed": false
   },
   "outputs": [
    {
     "ename": "LoadError",
     "evalue": "UndefVarError: xopt not defined",
     "output_type": "error",
     "traceback": [
      "UndefVarError: xopt not defined",
      ""
     ]
    }
   ],
   "source": [
    "get_with_budget_opponent(xopt, 0.5, N_POOL, N_CHOSEN, get_chess_score3, elo)"
   ]
  }
 ],
 "metadata": {
  "kernelspec": {
   "display_name": "Julia 0.5.0",
   "language": "julia",
   "name": "julia-0.5"
  },
  "language_info": {
   "file_extension": ".jl",
   "mimetype": "application/julia",
   "name": "julia",
   "version": "0.5.0"
  },
  "toc": {
   "colors": {
    "hover_highlight": "#DAA520",
    "running_highlight": "#FF0000",
    "selected_highlight": "#FFD700"
   },
   "moveMenuLeft": true,
   "nav_menu": {
    "height": "354px",
    "width": "252px"
   },
   "navigate_menu": true,
   "number_sections": true,
   "sideBar": true,
   "threshold": 4,
   "toc_cell": true,
   "toc_position": {
    "height": "532px",
    "left": "0px",
    "right": "1068px",
    "top": "106px",
    "width": "212px"
   },
   "toc_section_display": "block",
   "toc_window_display": true,
   "widenNotebook": false
  }
 },
 "nbformat": 4,
 "nbformat_minor": 2
}
